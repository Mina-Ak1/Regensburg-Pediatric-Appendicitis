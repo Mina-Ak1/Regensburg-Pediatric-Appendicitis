{
 "cells": [
  {
   "cell_type": "code",
   "execution_count": 97,
   "id": "e7a11bc6-1586-4db1-8bf1-c6448f3f577f",
   "metadata": {},
   "outputs": [],
   "source": [
    "#load requiered libraries\n",
    "library(tidyverse)\n",
    "library(ggplot2)\n",
    "library(dplyr)\n",
    "library(caret)\n",
    "library(pROC)\n",
    "library(e1071)\n",
    "library(rpart)\n",
    "library(rpart.plot)\n",
    "library(randomForest)\n",
    "library(mlbench)\n",
    "library(xgboost)\n",
    "\n",
    "options(\n",
    "  digits = 2,\n",
    "  scipen = 999\n",
    ")"
   ]
  },
  {
   "cell_type": "markdown",
   "id": "d9a39de8-cae6-4f62-b911-4bd6998c3235",
   "metadata": {},
   "source": [
    "<font size = 6> From Step 1: Data Cleaning <font>"
   ]
  },
  {
   "cell_type": "markdown",
   "id": "6331be70-eb80-4fd1-98f7-52ba06ca2350",
   "metadata": {},
   "source": [
    "https://archive.ics.uci.edu/dataset/938/regensburg+pediatric+appendicitis\n",
    "\n",
    "This repository holds the data from a cohort of **pediatric patients with suspected appendicitis admitted with abdominal pain to Children’s Hospital St. Hedwig in Regensburg, Germany, between 2016 and 2021**. <br>\n",
    "\n",
    "Each patient has (potentially multiple) ultrasound (US) images, aka views, tabular data comprising laboratory, physical examination, scoring results and ultrasonographic findings extracted manually by the experts, and three target variables, namely, diagnosis, management and severity. <br>\n",
    "\n",
    "This data has 782 rows and 58 columns. There is a combination of binary, categorical, integer and continuous predictor columns. <br>\n",
    "\n",
    "From column 25 onwards there are multiple columns with na values majorly. These columns are also very specialized and we might not be able to interprete them as good as the other columns. Therefore we will make a selection of the features that are good candidates for our model based on the number of NA values and colinearity."
   ]
  },
  {
   "cell_type": "code",
   "execution_count": 2,
   "id": "fae30253-1c51-4ae0-8355-c481d394c3f7",
   "metadata": {},
   "outputs": [
    {
     "data": {
      "text/html": [
       "<table class=\"dataframe\">\n",
       "<caption>A data.frame: 6 × 58</caption>\n",
       "<thead>\n",
       "\t<tr><th></th><th scope=col>Age</th><th scope=col>BMI</th><th scope=col>Sex</th><th scope=col>Height</th><th scope=col>Weight</th><th scope=col>Length_of_Stay</th><th scope=col>Management</th><th scope=col>Severity</th><th scope=col>Diagnosis_Presumptive</th><th scope=col>Diagnosis</th><th scope=col>⋯</th><th scope=col>Abscess_Location</th><th scope=col>Pathological_Lymph_Nodes</th><th scope=col>Lymph_Nodes_Location</th><th scope=col>Bowel_Wall_Thickening</th><th scope=col>Conglomerate_of_Bowel_Loops</th><th scope=col>Ileus</th><th scope=col>Coprostasis</th><th scope=col>Meteorism</th><th scope=col>Enteritis</th><th scope=col>Gynecological_Findings</th></tr>\n",
       "\t<tr><th></th><th scope=col>&lt;dbl&gt;</th><th scope=col>&lt;chr&gt;</th><th scope=col>&lt;chr&gt;</th><th scope=col>&lt;dbl&gt;</th><th scope=col>&lt;dbl&gt;</th><th scope=col>&lt;dbl&gt;</th><th scope=col>&lt;chr&gt;</th><th scope=col>&lt;chr&gt;</th><th scope=col>&lt;chr&gt;</th><th scope=col>&lt;chr&gt;</th><th scope=col>⋯</th><th scope=col>&lt;chr&gt;</th><th scope=col>&lt;chr&gt;</th><th scope=col>&lt;chr&gt;</th><th scope=col>&lt;chr&gt;</th><th scope=col>&lt;chr&gt;</th><th scope=col>&lt;chr&gt;</th><th scope=col>&lt;chr&gt;</th><th scope=col>&lt;chr&gt;</th><th scope=col>&lt;chr&gt;</th><th scope=col>&lt;chr&gt;</th></tr>\n",
       "</thead>\n",
       "<tbody>\n",
       "\t<tr><th scope=row>1</th><td>13</td><td>16.899999999999999</td><td>female</td><td>148</td><td>37</td><td>3</td><td>conservative</td><td>uncomplicated</td><td>appendicitis</td><td>appendicitis   </td><td>⋯</td><td>NA</td><td>yes</td><td>reUB</td><td>NA</td><td>NA</td><td>NA</td><td>NA</td><td>NA </td><td>NA </td><td>NA</td></tr>\n",
       "\t<tr><th scope=row>2</th><td>14</td><td>31.9              </td><td>male  </td><td>147</td><td>70</td><td>2</td><td>conservative</td><td>uncomplicated</td><td>appendicitis</td><td>no appendicitis</td><td>⋯</td><td>NA</td><td>NA </td><td>NA  </td><td>NA</td><td>NA</td><td>NA</td><td>NA</td><td>yes</td><td>NA </td><td>NA</td></tr>\n",
       "\t<tr><th scope=row>3</th><td>14</td><td>23.3              </td><td>female</td><td>163</td><td>62</td><td>4</td><td>conservative</td><td>uncomplicated</td><td>appendicitis</td><td>no appendicitis</td><td>⋯</td><td>NA</td><td>NA </td><td>NA  </td><td>NA</td><td>NA</td><td>NA</td><td>NA</td><td>yes</td><td>yes</td><td>NA</td></tr>\n",
       "\t<tr><th scope=row>4</th><td>16</td><td>20.6              </td><td>female</td><td>165</td><td>56</td><td>3</td><td>conservative</td><td>uncomplicated</td><td>appendicitis</td><td>no appendicitis</td><td>⋯</td><td>NA</td><td>yes</td><td>reUB</td><td>NA</td><td>NA</td><td>NA</td><td>NA</td><td>NA </td><td>yes</td><td>NA</td></tr>\n",
       "\t<tr><th scope=row>5</th><td>11</td><td>16.899999999999999</td><td>female</td><td>163</td><td>45</td><td>3</td><td>conservative</td><td>uncomplicated</td><td>appendicitis</td><td>appendicitis   </td><td>⋯</td><td>NA</td><td>yes</td><td>reUB</td><td>NA</td><td>NA</td><td>NA</td><td>NA</td><td>NA </td><td>yes</td><td>NA</td></tr>\n",
       "\t<tr><th scope=row>6</th><td>11</td><td>30.7              </td><td>male  </td><td>121</td><td>45</td><td>3</td><td>conservative</td><td>uncomplicated</td><td>appendicitis</td><td>no appendicitis</td><td>⋯</td><td>NA</td><td>NA </td><td>NA  </td><td>NA</td><td>NA</td><td>NA</td><td>NA</td><td>NA </td><td>NA </td><td>NA</td></tr>\n",
       "</tbody>\n",
       "</table>\n"
      ],
      "text/latex": [
       "A data.frame: 6 × 58\n",
       "\\begin{tabular}{r|lllllllllllllllllllll}\n",
       "  & Age & BMI & Sex & Height & Weight & Length\\_of\\_Stay & Management & Severity & Diagnosis\\_Presumptive & Diagnosis & ⋯ & Abscess\\_Location & Pathological\\_Lymph\\_Nodes & Lymph\\_Nodes\\_Location & Bowel\\_Wall\\_Thickening & Conglomerate\\_of\\_Bowel\\_Loops & Ileus & Coprostasis & Meteorism & Enteritis & Gynecological\\_Findings\\\\\n",
       "  & <dbl> & <chr> & <chr> & <dbl> & <dbl> & <dbl> & <chr> & <chr> & <chr> & <chr> & ⋯ & <chr> & <chr> & <chr> & <chr> & <chr> & <chr> & <chr> & <chr> & <chr> & <chr>\\\\\n",
       "\\hline\n",
       "\t1 & 13 & 16.899999999999999 & female & 148 & 37 & 3 & conservative & uncomplicated & appendicitis & appendicitis    & ⋯ & NA & yes & reUB & NA & NA & NA & NA & NA  & NA  & NA\\\\\n",
       "\t2 & 14 & 31.9               & male   & 147 & 70 & 2 & conservative & uncomplicated & appendicitis & no appendicitis & ⋯ & NA & NA  & NA   & NA & NA & NA & NA & yes & NA  & NA\\\\\n",
       "\t3 & 14 & 23.3               & female & 163 & 62 & 4 & conservative & uncomplicated & appendicitis & no appendicitis & ⋯ & NA & NA  & NA   & NA & NA & NA & NA & yes & yes & NA\\\\\n",
       "\t4 & 16 & 20.6               & female & 165 & 56 & 3 & conservative & uncomplicated & appendicitis & no appendicitis & ⋯ & NA & yes & reUB & NA & NA & NA & NA & NA  & yes & NA\\\\\n",
       "\t5 & 11 & 16.899999999999999 & female & 163 & 45 & 3 & conservative & uncomplicated & appendicitis & appendicitis    & ⋯ & NA & yes & reUB & NA & NA & NA & NA & NA  & yes & NA\\\\\n",
       "\t6 & 11 & 30.7               & male   & 121 & 45 & 3 & conservative & uncomplicated & appendicitis & no appendicitis & ⋯ & NA & NA  & NA   & NA & NA & NA & NA & NA  & NA  & NA\\\\\n",
       "\\end{tabular}\n"
      ],
      "text/markdown": [
       "\n",
       "A data.frame: 6 × 58\n",
       "\n",
       "| <!--/--> | Age &lt;dbl&gt; | BMI &lt;chr&gt; | Sex &lt;chr&gt; | Height &lt;dbl&gt; | Weight &lt;dbl&gt; | Length_of_Stay &lt;dbl&gt; | Management &lt;chr&gt; | Severity &lt;chr&gt; | Diagnosis_Presumptive &lt;chr&gt; | Diagnosis &lt;chr&gt; | ⋯ ⋯ | Abscess_Location &lt;chr&gt; | Pathological_Lymph_Nodes &lt;chr&gt; | Lymph_Nodes_Location &lt;chr&gt; | Bowel_Wall_Thickening &lt;chr&gt; | Conglomerate_of_Bowel_Loops &lt;chr&gt; | Ileus &lt;chr&gt; | Coprostasis &lt;chr&gt; | Meteorism &lt;chr&gt; | Enteritis &lt;chr&gt; | Gynecological_Findings &lt;chr&gt; |\n",
       "|---|---|---|---|---|---|---|---|---|---|---|---|---|---|---|---|---|---|---|---|---|---|\n",
       "| 1 | 13 | 16.899999999999999 | female | 148 | 37 | 3 | conservative | uncomplicated | appendicitis | appendicitis    | ⋯ | NA | yes | reUB | NA | NA | NA | NA | NA  | NA  | NA |\n",
       "| 2 | 14 | 31.9               | male   | 147 | 70 | 2 | conservative | uncomplicated | appendicitis | no appendicitis | ⋯ | NA | NA  | NA   | NA | NA | NA | NA | yes | NA  | NA |\n",
       "| 3 | 14 | 23.3               | female | 163 | 62 | 4 | conservative | uncomplicated | appendicitis | no appendicitis | ⋯ | NA | NA  | NA   | NA | NA | NA | NA | yes | yes | NA |\n",
       "| 4 | 16 | 20.6               | female | 165 | 56 | 3 | conservative | uncomplicated | appendicitis | no appendicitis | ⋯ | NA | yes | reUB | NA | NA | NA | NA | NA  | yes | NA |\n",
       "| 5 | 11 | 16.899999999999999 | female | 163 | 45 | 3 | conservative | uncomplicated | appendicitis | appendicitis    | ⋯ | NA | yes | reUB | NA | NA | NA | NA | NA  | yes | NA |\n",
       "| 6 | 11 | 30.7               | male   | 121 | 45 | 3 | conservative | uncomplicated | appendicitis | no appendicitis | ⋯ | NA | NA  | NA   | NA | NA | NA | NA | NA  | NA  | NA |\n",
       "\n"
      ],
      "text/plain": [
       "  Age BMI                Sex    Height Weight Length_of_Stay Management  \n",
       "1 13  16.899999999999999 female 148    37     3              conservative\n",
       "2 14  31.9               male   147    70     2              conservative\n",
       "3 14  23.3               female 163    62     4              conservative\n",
       "4 16  20.6               female 165    56     3              conservative\n",
       "5 11  16.899999999999999 female 163    45     3              conservative\n",
       "6 11  30.7               male   121    45     3              conservative\n",
       "  Severity      Diagnosis_Presumptive Diagnosis       ⋯ Abscess_Location\n",
       "1 uncomplicated appendicitis          appendicitis    ⋯ NA              \n",
       "2 uncomplicated appendicitis          no appendicitis ⋯ NA              \n",
       "3 uncomplicated appendicitis          no appendicitis ⋯ NA              \n",
       "4 uncomplicated appendicitis          no appendicitis ⋯ NA              \n",
       "5 uncomplicated appendicitis          appendicitis    ⋯ NA              \n",
       "6 uncomplicated appendicitis          no appendicitis ⋯ NA              \n",
       "  Pathological_Lymph_Nodes Lymph_Nodes_Location Bowel_Wall_Thickening\n",
       "1 yes                      reUB                 NA                   \n",
       "2 NA                       NA                   NA                   \n",
       "3 NA                       NA                   NA                   \n",
       "4 yes                      reUB                 NA                   \n",
       "5 yes                      reUB                 NA                   \n",
       "6 NA                       NA                   NA                   \n",
       "  Conglomerate_of_Bowel_Loops Ileus Coprostasis Meteorism Enteritis\n",
       "1 NA                          NA    NA          NA        NA       \n",
       "2 NA                          NA    NA          yes       NA       \n",
       "3 NA                          NA    NA          yes       yes      \n",
       "4 NA                          NA    NA          NA        yes      \n",
       "5 NA                          NA    NA          NA        yes      \n",
       "6 NA                          NA    NA          NA        NA       \n",
       "  Gynecological_Findings\n",
       "1 NA                    \n",
       "2 NA                    \n",
       "3 NA                    \n",
       "4 NA                    \n",
       "5 NA                    \n",
       "6 NA                    "
      ]
     },
     "metadata": {},
     "output_type": "display_data"
    },
    {
     "data": {
      "text/html": [
       "<style>\n",
       ".list-inline {list-style: none; margin:0; padding: 0}\n",
       ".list-inline>li {display: inline-block}\n",
       ".list-inline>li:not(:last-child)::after {content: \"\\00b7\"; padding: 0 .5ex}\n",
       "</style>\n",
       "<ol class=list-inline><li>782</li><li>58</li></ol>\n"
      ],
      "text/latex": [
       "\\begin{enumerate*}\n",
       "\\item 782\n",
       "\\item 58\n",
       "\\end{enumerate*}\n"
      ],
      "text/markdown": [
       "1. 782\n",
       "2. 58\n",
       "\n",
       "\n"
      ],
      "text/plain": [
       "[1] 782  58"
      ]
     },
     "metadata": {},
     "output_type": "display_data"
    }
   ],
   "source": [
    "#Load raw data\n",
    "df <-  readxl::read_excel(\"C:\\\\Users\\\\minaa\\\\Desktop\\\\Statistics\\\\Spring 2024\\\\STA 6714\\\\Term Project\\\\app_data.xlsx\") %>% data.frame()\n",
    "head(df)\n",
    "dim(df)"
   ]
  },
  {
   "cell_type": "markdown",
   "id": "fe37b776-8d77-4ba6-8a2b-953ae62afae6",
   "metadata": {},
   "source": [
    "<font size = 6> From Step 2: Data Partition and Forward Backward model <font>"
   ]
  },
  {
   "cell_type": "code",
   "execution_count": 3,
   "id": "2a21eac4-9b3f-4f0d-81f9-6a20bfb855ac",
   "metadata": {},
   "outputs": [
    {
     "data": {
      "text/html": [
       "<table class=\"dataframe\">\n",
       "<caption>A data.frame: 6 × 26</caption>\n",
       "<thead>\n",
       "\t<tr><th></th><th scope=col>Age</th><th scope=col>BMI</th><th scope=col>Sex</th><th scope=col>Weight</th><th scope=col>Length_of_Stay</th><th scope=col>Migratory_Pain</th><th scope=col>Lower_Right_Abd_Pain</th><th scope=col>Contralateral_Rebound_Tenderness</th><th scope=col>Coughing_Pain</th><th scope=col>Nausea</th><th scope=col>⋯</th><th scope=col>Hemoglobin</th><th scope=col>RDW</th><th scope=col>Thrombocyte_Count</th><th scope=col>CRP</th><th scope=col>Dysuria</th><th scope=col>Stool</th><th scope=col>Peritonitis</th><th scope=col>Psoas_Sign</th><th scope=col>Free_Fluids</th><th scope=col>Diagnosis</th></tr>\n",
       "\t<tr><th></th><th scope=col>&lt;dbl&gt;</th><th scope=col>&lt;dbl&gt;</th><th scope=col>&lt;fct&gt;</th><th scope=col>&lt;dbl&gt;</th><th scope=col>&lt;int&gt;</th><th scope=col>&lt;fct&gt;</th><th scope=col>&lt;fct&gt;</th><th scope=col>&lt;fct&gt;</th><th scope=col>&lt;fct&gt;</th><th scope=col>&lt;fct&gt;</th><th scope=col>⋯</th><th scope=col>&lt;dbl&gt;</th><th scope=col>&lt;dbl&gt;</th><th scope=col>&lt;int&gt;</th><th scope=col>&lt;dbl&gt;</th><th scope=col>&lt;fct&gt;</th><th scope=col>&lt;fct&gt;</th><th scope=col>&lt;fct&gt;</th><th scope=col>&lt;fct&gt;</th><th scope=col>&lt;fct&gt;</th><th scope=col>&lt;fct&gt;</th></tr>\n",
       "</thead>\n",
       "<tbody>\n",
       "\t<tr><th scope=row>1</th><td>13</td><td>17</td><td>female</td><td>37</td><td>3</td><td>no </td><td>yes</td><td>yes</td><td>no </td><td>no </td><td>⋯</td><td>15</td><td>12</td><td>254</td><td> 0</td><td>no </td><td>normal    </td><td>no</td><td>yes</td><td>no</td><td>1</td></tr>\n",
       "\t<tr><th scope=row>2</th><td>14</td><td>32</td><td>male  </td><td>70</td><td>2</td><td>yes</td><td>yes</td><td>yes</td><td>no </td><td>no </td><td>⋯</td><td>16</td><td>13</td><td>151</td><td> 3</td><td>yes</td><td>normal    </td><td>no</td><td>yes</td><td>no</td><td>0</td></tr>\n",
       "\t<tr><th scope=row>3</th><td>14</td><td>23</td><td>female</td><td>62</td><td>4</td><td>no </td><td>yes</td><td>yes</td><td>no </td><td>no </td><td>⋯</td><td>11</td><td>12</td><td>300</td><td> 3</td><td>no </td><td>not_normal</td><td>no</td><td>yes</td><td>no</td><td>0</td></tr>\n",
       "\t<tr><th scope=row>4</th><td>16</td><td>21</td><td>female</td><td>56</td><td>3</td><td>yes</td><td>yes</td><td>no </td><td>no </td><td>yes</td><td>⋯</td><td>14</td><td>13</td><td>258</td><td> 0</td><td>yes</td><td>normal    </td><td>no</td><td>yes</td><td>no</td><td>0</td></tr>\n",
       "\t<tr><th scope=row>5</th><td>11</td><td>17</td><td>female</td><td>45</td><td>3</td><td>no </td><td>yes</td><td>yes</td><td>yes</td><td>yes</td><td>⋯</td><td>13</td><td>14</td><td>311</td><td> 0</td><td>no </td><td>not_normal</td><td>no</td><td>yes</td><td>no</td><td>1</td></tr>\n",
       "\t<tr><th scope=row>6</th><td>11</td><td>31</td><td>male  </td><td>45</td><td>3</td><td>yes</td><td>yes</td><td>yes</td><td>yes</td><td>yes</td><td>⋯</td><td>12</td><td>13</td><td>249</td><td>63</td><td>no </td><td>not_normal</td><td>no</td><td>yes</td><td>no</td><td>0</td></tr>\n",
       "</tbody>\n",
       "</table>\n"
      ],
      "text/latex": [
       "A data.frame: 6 × 26\n",
       "\\begin{tabular}{r|lllllllllllllllllllll}\n",
       "  & Age & BMI & Sex & Weight & Length\\_of\\_Stay & Migratory\\_Pain & Lower\\_Right\\_Abd\\_Pain & Contralateral\\_Rebound\\_Tenderness & Coughing\\_Pain & Nausea & ⋯ & Hemoglobin & RDW & Thrombocyte\\_Count & CRP & Dysuria & Stool & Peritonitis & Psoas\\_Sign & Free\\_Fluids & Diagnosis\\\\\n",
       "  & <dbl> & <dbl> & <fct> & <dbl> & <int> & <fct> & <fct> & <fct> & <fct> & <fct> & ⋯ & <dbl> & <dbl> & <int> & <dbl> & <fct> & <fct> & <fct> & <fct> & <fct> & <fct>\\\\\n",
       "\\hline\n",
       "\t1 & 13 & 17 & female & 37 & 3 & no  & yes & yes & no  & no  & ⋯ & 15 & 12 & 254 &  0 & no  & normal     & no & yes & no & 1\\\\\n",
       "\t2 & 14 & 32 & male   & 70 & 2 & yes & yes & yes & no  & no  & ⋯ & 16 & 13 & 151 &  3 & yes & normal     & no & yes & no & 0\\\\\n",
       "\t3 & 14 & 23 & female & 62 & 4 & no  & yes & yes & no  & no  & ⋯ & 11 & 12 & 300 &  3 & no  & not\\_normal & no & yes & no & 0\\\\\n",
       "\t4 & 16 & 21 & female & 56 & 3 & yes & yes & no  & no  & yes & ⋯ & 14 & 13 & 258 &  0 & yes & normal     & no & yes & no & 0\\\\\n",
       "\t5 & 11 & 17 & female & 45 & 3 & no  & yes & yes & yes & yes & ⋯ & 13 & 14 & 311 &  0 & no  & not\\_normal & no & yes & no & 1\\\\\n",
       "\t6 & 11 & 31 & male   & 45 & 3 & yes & yes & yes & yes & yes & ⋯ & 12 & 13 & 249 & 63 & no  & not\\_normal & no & yes & no & 0\\\\\n",
       "\\end{tabular}\n"
      ],
      "text/markdown": [
       "\n",
       "A data.frame: 6 × 26\n",
       "\n",
       "| <!--/--> | Age &lt;dbl&gt; | BMI &lt;dbl&gt; | Sex &lt;fct&gt; | Weight &lt;dbl&gt; | Length_of_Stay &lt;int&gt; | Migratory_Pain &lt;fct&gt; | Lower_Right_Abd_Pain &lt;fct&gt; | Contralateral_Rebound_Tenderness &lt;fct&gt; | Coughing_Pain &lt;fct&gt; | Nausea &lt;fct&gt; | ⋯ ⋯ | Hemoglobin &lt;dbl&gt; | RDW &lt;dbl&gt; | Thrombocyte_Count &lt;int&gt; | CRP &lt;dbl&gt; | Dysuria &lt;fct&gt; | Stool &lt;fct&gt; | Peritonitis &lt;fct&gt; | Psoas_Sign &lt;fct&gt; | Free_Fluids &lt;fct&gt; | Diagnosis &lt;fct&gt; |\n",
       "|---|---|---|---|---|---|---|---|---|---|---|---|---|---|---|---|---|---|---|---|---|---|\n",
       "| 1 | 13 | 17 | female | 37 | 3 | no  | yes | yes | no  | no  | ⋯ | 15 | 12 | 254 |  0 | no  | normal     | no | yes | no | 1 |\n",
       "| 2 | 14 | 32 | male   | 70 | 2 | yes | yes | yes | no  | no  | ⋯ | 16 | 13 | 151 |  3 | yes | normal     | no | yes | no | 0 |\n",
       "| 3 | 14 | 23 | female | 62 | 4 | no  | yes | yes | no  | no  | ⋯ | 11 | 12 | 300 |  3 | no  | not_normal | no | yes | no | 0 |\n",
       "| 4 | 16 | 21 | female | 56 | 3 | yes | yes | no  | no  | yes | ⋯ | 14 | 13 | 258 |  0 | yes | normal     | no | yes | no | 0 |\n",
       "| 5 | 11 | 17 | female | 45 | 3 | no  | yes | yes | yes | yes | ⋯ | 13 | 14 | 311 |  0 | no  | not_normal | no | yes | no | 1 |\n",
       "| 6 | 11 | 31 | male   | 45 | 3 | yes | yes | yes | yes | yes | ⋯ | 12 | 13 | 249 | 63 | no  | not_normal | no | yes | no | 0 |\n",
       "\n"
      ],
      "text/plain": [
       "  Age BMI Sex    Weight Length_of_Stay Migratory_Pain Lower_Right_Abd_Pain\n",
       "1 13  17  female 37     3              no             yes                 \n",
       "2 14  32  male   70     2              yes            yes                 \n",
       "3 14  23  female 62     4              no             yes                 \n",
       "4 16  21  female 56     3              yes            yes                 \n",
       "5 11  17  female 45     3              no             yes                 \n",
       "6 11  31  male   45     3              yes            yes                 \n",
       "  Contralateral_Rebound_Tenderness Coughing_Pain Nausea ⋯ Hemoglobin RDW\n",
       "1 yes                              no            no     ⋯ 15         12 \n",
       "2 yes                              no            no     ⋯ 16         13 \n",
       "3 yes                              no            no     ⋯ 11         12 \n",
       "4 no                               no            yes    ⋯ 14         13 \n",
       "5 yes                              yes           yes    ⋯ 13         14 \n",
       "6 yes                              yes           yes    ⋯ 12         13 \n",
       "  Thrombocyte_Count CRP Dysuria Stool      Peritonitis Psoas_Sign Free_Fluids\n",
       "1 254                0  no      normal     no          yes        no         \n",
       "2 151                3  yes     normal     no          yes        no         \n",
       "3 300                3  no      not_normal no          yes        no         \n",
       "4 258                0  yes     normal     no          yes        no         \n",
       "5 311                0  no      not_normal no          yes        no         \n",
       "6 249               63  no      not_normal no          yes        no         \n",
       "  Diagnosis\n",
       "1 1        \n",
       "2 0        \n",
       "3 0        \n",
       "4 0        \n",
       "5 1        \n",
       "6 0        "
      ]
     },
     "metadata": {},
     "output_type": "display_data"
    }
   ],
   "source": [
    "#Load the clean data\n",
    "df <- read.csv(\"clean_data.csv\", \n",
    "               stringsAsFactor = TRUE, \n",
    "               row.names = 1)\n",
    "df <- df %>% mutate(Diagnosis = as.factor(Diagnosis))\n",
    "head(df)"
   ]
  },
  {
   "cell_type": "markdown",
   "id": "ca8029cb-f4f1-4aca-b6df-68ac0dfb341f",
   "metadata": {},
   "source": [
    "<font size = 4> Partition data into train and test: <font>"
   ]
  },
  {
   "cell_type": "code",
   "execution_count": 4,
   "id": "ce55e350-95be-4319-964d-7d21546bd309",
   "metadata": {},
   "outputs": [],
   "source": [
    "set.seed(20)\n",
    "idx <- createDataPartition(df$Diagnosis, p = 0.6, list = FALSE)\n",
    "df_train <- df[idx, ]\n",
    "df_test <- df[-idx, ]"
   ]
  },
  {
   "cell_type": "markdown",
   "id": "1e799286-cf98-49f9-8c99-357a7c8e1eb4",
   "metadata": {},
   "source": [
    "<font size = 4> Selected features by the best performing model <font> <br>\n",
    "<font size = 3> Forward-Backward method model from step 2 for our reference: <font>"
   ]
  },
  {
   "cell_type": "code",
   "execution_count": 5,
   "id": "325143a9-b312-4c3f-801c-7ccd8a0a8752",
   "metadata": {},
   "outputs": [],
   "source": [
    "#fit the full model\n",
    "full_model <- glm(Diagnosis ~ .,\n",
    "                  data = df_train,\n",
    "                  family = binomial()\n",
    "                  )\n",
    "\n",
    "#forward_backward selection\n",
    "step_both <- MASS::stepAIC(\n",
    "                          object = full_model,\n",
    "                          direction = \"both\",\n",
    "                          trace = 0\n",
    "                          )"
   ]
  },
  {
   "cell_type": "markdown",
   "id": "59ef4164-0dd1-4f7a-8552-717f1ef5202d",
   "metadata": {},
   "source": [
    "<font size = 4> Prediction of train set and confusion matrix for Forward-Backward model: <font>"
   ]
  },
  {
   "cell_type": "code",
   "execution_count": 6,
   "id": "3407f191-c1fb-4b20-8827-20ecf6b3aa25",
   "metadata": {},
   "outputs": [
    {
     "data": {
      "text/plain": [
       "Confusion Matrix and Statistics\n",
       "\n",
       "          Reference\n",
       "Prediction  0  1\n",
       "         0 69 37\n",
       "         1 25 89\n",
       "                                        \n",
       "               Accuracy : 0.718         \n",
       "                 95% CI : (0.654, 0.777)\n",
       "    No Information Rate : 0.573         \n",
       "    P-Value [Acc > NIR] : 0.0000058     \n",
       "                                        \n",
       "                  Kappa : 0.433         \n",
       "                                        \n",
       " Mcnemar's Test P-Value : 0.162         \n",
       "                                        \n",
       "            Sensitivity : 0.706         \n",
       "            Specificity : 0.734         \n",
       "         Pos Pred Value : 0.781         \n",
       "         Neg Pred Value : 0.651         \n",
       "             Prevalence : 0.573         \n",
       "         Detection Rate : 0.405         \n",
       "   Detection Prevalence : 0.518         \n",
       "      Balanced Accuracy : 0.720         \n",
       "                                        \n",
       "       'Positive' Class : 1             \n",
       "                                        "
      ]
     },
     "metadata": {},
     "output_type": "display_data"
    }
   ],
   "source": [
    "pred_prob_step <-   predict(object = step_both, \n",
    "                            newdata = df_test,\n",
    "                            type = \"response\") %>% as.vector()\n",
    "\n",
    "threshold <- 0.5\n",
    "pred_class_step <- if_else(pred_prob_step > threshold, 1, 0) %>% as.factor()\n",
    "\n",
    "#store accuracy for comparison at the end\n",
    "cm_step <- confusionMatrix(pred_class_step, reference = df_test$Diagnosis, positive = \"1\")$overall[\"Accuracy\"][[1]] %>% round(2)\n",
    "\n",
    "confusionMatrix(pred_class_step, reference = df_test$Diagnosis, positive = \"1\")"
   ]
  },
  {
   "cell_type": "code",
   "execution_count": 7,
   "id": "74620904-aa61-4dba-91ba-538430cce206",
   "metadata": {},
   "outputs": [
    {
     "data": {
      "text/html": [
       "<style>\n",
       ".list-inline {list-style: none; margin:0; padding: 0}\n",
       ".list-inline>li {display: inline-block}\n",
       ".list-inline>li:not(:last-child)::after {content: \"\\00b7\"; padding: 0 .5ex}\n",
       "</style>\n",
       "<ol class=list-inline><li>'Age'</li><li>'BMI'</li><li>'Length_of_Stay'</li><li>'Migratory_Pain'</li><li>'Coughing_Pain'</li><li>'Body_Temperature'</li><li>'WBC_Count'</li><li>'Neutrophil_Percentage'</li><li>'RDW'</li><li>'Thrombocyte_Count'</li><li>'Stoolnot_normal'</li><li>'Peritonitis'</li><li>'Psoas_Sign'</li></ol>\n"
      ],
      "text/latex": [
       "\\begin{enumerate*}\n",
       "\\item 'Age'\n",
       "\\item 'BMI'\n",
       "\\item 'Length\\_of\\_Stay'\n",
       "\\item 'Migratory\\_Pain'\n",
       "\\item 'Coughing\\_Pain'\n",
       "\\item 'Body\\_Temperature'\n",
       "\\item 'WBC\\_Count'\n",
       "\\item 'Neutrophil\\_Percentage'\n",
       "\\item 'RDW'\n",
       "\\item 'Thrombocyte\\_Count'\n",
       "\\item 'Stoolnot\\_normal'\n",
       "\\item 'Peritonitis'\n",
       "\\item 'Psoas\\_Sign'\n",
       "\\end{enumerate*}\n"
      ],
      "text/markdown": [
       "1. 'Age'\n",
       "2. 'BMI'\n",
       "3. 'Length_of_Stay'\n",
       "4. 'Migratory_Pain'\n",
       "5. 'Coughing_Pain'\n",
       "6. 'Body_Temperature'\n",
       "7. 'WBC_Count'\n",
       "8. 'Neutrophil_Percentage'\n",
       "9. 'RDW'\n",
       "10. 'Thrombocyte_Count'\n",
       "11. 'Stoolnot_normal'\n",
       "12. 'Peritonitis'\n",
       "13. 'Psoas_Sign'\n",
       "\n",
       "\n"
      ],
      "text/plain": [
       " [1] \"Age\"                   \"BMI\"                   \"Length_of_Stay\"       \n",
       " [4] \"Migratory_Pain\"        \"Coughing_Pain\"         \"Body_Temperature\"     \n",
       " [7] \"WBC_Count\"             \"Neutrophil_Percentage\" \"RDW\"                  \n",
       "[10] \"Thrombocyte_Count\"     \"Stoolnot_normal\"       \"Peritonitis\"          \n",
       "[13] \"Psoas_Sign\"           "
      ]
     },
     "metadata": {},
     "output_type": "display_data"
    }
   ],
   "source": [
    "selected_features_step2 <-  names(coefficients(step_both))[-1] \n",
    "selected_features_step2  <- gsub(\"yes$\", \"\", selected_features_step2)\n",
    "selected_features_step2"
   ]
  },
  {
   "cell_type": "markdown",
   "id": "362522f3-8bc4-4067-a9b4-b968fb20fdf9",
   "metadata": {},
   "source": [
    "<font size = 6> Naive Bayes Model:<font>"
   ]
  },
  {
   "cell_type": "markdown",
   "id": "e9ef8fba-2f9c-428c-99a4-8074053100e2",
   "metadata": {},
   "source": [
    "For Naive Bayes model we need to pay attention to the numeircal columns. Since we have 12 numerical columns, we need to check their distributions and whether they can be transformed to normal or they can be transformed to categorical by binning method."
   ]
  },
  {
   "cell_type": "code",
   "execution_count": 8,
   "id": "47dbc607-9b6c-4571-b632-3c56d89770a6",
   "metadata": {},
   "outputs": [
    {
     "data": {
      "text/html": [
       "<table class=\"dataframe\">\n",
       "<caption>A data.frame: 6 × 12</caption>\n",
       "<thead>\n",
       "\t<tr><th></th><th scope=col>Age</th><th scope=col>BMI</th><th scope=col>Weight</th><th scope=col>Length_of_Stay</th><th scope=col>Body_Temperature</th><th scope=col>WBC_Count</th><th scope=col>Neutrophil_Percentage</th><th scope=col>RBC_Count</th><th scope=col>Hemoglobin</th><th scope=col>RDW</th><th scope=col>Thrombocyte_Count</th><th scope=col>CRP</th></tr>\n",
       "\t<tr><th></th><th scope=col>&lt;dbl&gt;</th><th scope=col>&lt;dbl&gt;</th><th scope=col>&lt;dbl&gt;</th><th scope=col>&lt;int&gt;</th><th scope=col>&lt;dbl&gt;</th><th scope=col>&lt;dbl&gt;</th><th scope=col>&lt;dbl&gt;</th><th scope=col>&lt;dbl&gt;</th><th scope=col>&lt;dbl&gt;</th><th scope=col>&lt;dbl&gt;</th><th scope=col>&lt;int&gt;</th><th scope=col>&lt;dbl&gt;</th></tr>\n",
       "</thead>\n",
       "<tbody>\n",
       "\t<tr><th scope=row>3</th><td>14.1</td><td>23</td><td>62</td><td>4</td><td>37</td><td>13.2</td><td>75</td><td>4.0</td><td>11</td><td>12</td><td>300</td><td> 3</td></tr>\n",
       "\t<tr><th scope=row>4</th><td>16.4</td><td>21</td><td>56</td><td>3</td><td>36</td><td>11.4</td><td>63</td><td>4.6</td><td>14</td><td>13</td><td>258</td><td> 0</td></tr>\n",
       "\t<tr><th scope=row>5</th><td>11.1</td><td>17</td><td>45</td><td>3</td><td>37</td><td> 8.1</td><td>44</td><td>4.4</td><td>13</td><td>14</td><td>311</td><td> 0</td></tr>\n",
       "\t<tr><th scope=row>7</th><td> 9.0</td><td>19</td><td>38</td><td>3</td><td>37</td><td>10.0</td><td>69</td><td>4.8</td><td>13</td><td>13</td><td>337</td><td> 9</td></tr>\n",
       "\t<tr><th scope=row>8</th><td> 7.9</td><td>16</td><td>27</td><td>3</td><td>37</td><td>20.9</td><td>76</td><td>4.6</td><td>13</td><td>12</td><td>350</td><td>20</td></tr>\n",
       "\t<tr><th scope=row>9</th><td>14.3</td><td>15</td><td>46</td><td>3</td><td>37</td><td> 5.8</td><td>47</td><td>4.8</td><td>13</td><td>13</td><td>220</td><td> 0</td></tr>\n",
       "</tbody>\n",
       "</table>\n"
      ],
      "text/latex": [
       "A data.frame: 6 × 12\n",
       "\\begin{tabular}{r|llllllllllll}\n",
       "  & Age & BMI & Weight & Length\\_of\\_Stay & Body\\_Temperature & WBC\\_Count & Neutrophil\\_Percentage & RBC\\_Count & Hemoglobin & RDW & Thrombocyte\\_Count & CRP\\\\\n",
       "  & <dbl> & <dbl> & <dbl> & <int> & <dbl> & <dbl> & <dbl> & <dbl> & <dbl> & <dbl> & <int> & <dbl>\\\\\n",
       "\\hline\n",
       "\t3 & 14.1 & 23 & 62 & 4 & 37 & 13.2 & 75 & 4.0 & 11 & 12 & 300 &  3\\\\\n",
       "\t4 & 16.4 & 21 & 56 & 3 & 36 & 11.4 & 63 & 4.6 & 14 & 13 & 258 &  0\\\\\n",
       "\t5 & 11.1 & 17 & 45 & 3 & 37 &  8.1 & 44 & 4.4 & 13 & 14 & 311 &  0\\\\\n",
       "\t7 &  9.0 & 19 & 38 & 3 & 37 & 10.0 & 69 & 4.8 & 13 & 13 & 337 &  9\\\\\n",
       "\t8 &  7.9 & 16 & 27 & 3 & 37 & 20.9 & 76 & 4.6 & 13 & 12 & 350 & 20\\\\\n",
       "\t9 & 14.3 & 15 & 46 & 3 & 37 &  5.8 & 47 & 4.8 & 13 & 13 & 220 &  0\\\\\n",
       "\\end{tabular}\n"
      ],
      "text/markdown": [
       "\n",
       "A data.frame: 6 × 12\n",
       "\n",
       "| <!--/--> | Age &lt;dbl&gt; | BMI &lt;dbl&gt; | Weight &lt;dbl&gt; | Length_of_Stay &lt;int&gt; | Body_Temperature &lt;dbl&gt; | WBC_Count &lt;dbl&gt; | Neutrophil_Percentage &lt;dbl&gt; | RBC_Count &lt;dbl&gt; | Hemoglobin &lt;dbl&gt; | RDW &lt;dbl&gt; | Thrombocyte_Count &lt;int&gt; | CRP &lt;dbl&gt; |\n",
       "|---|---|---|---|---|---|---|---|---|---|---|---|---|\n",
       "| 3 | 14.1 | 23 | 62 | 4 | 37 | 13.2 | 75 | 4.0 | 11 | 12 | 300 |  3 |\n",
       "| 4 | 16.4 | 21 | 56 | 3 | 36 | 11.4 | 63 | 4.6 | 14 | 13 | 258 |  0 |\n",
       "| 5 | 11.1 | 17 | 45 | 3 | 37 |  8.1 | 44 | 4.4 | 13 | 14 | 311 |  0 |\n",
       "| 7 |  9.0 | 19 | 38 | 3 | 37 | 10.0 | 69 | 4.8 | 13 | 13 | 337 |  9 |\n",
       "| 8 |  7.9 | 16 | 27 | 3 | 37 | 20.9 | 76 | 4.6 | 13 | 12 | 350 | 20 |\n",
       "| 9 | 14.3 | 15 | 46 | 3 | 37 |  5.8 | 47 | 4.8 | 13 | 13 | 220 |  0 |\n",
       "\n"
      ],
      "text/plain": [
       "  Age  BMI Weight Length_of_Stay Body_Temperature WBC_Count\n",
       "3 14.1 23  62     4              37               13.2     \n",
       "4 16.4 21  56     3              36               11.4     \n",
       "5 11.1 17  45     3              37                8.1     \n",
       "7  9.0 19  38     3              37               10.0     \n",
       "8  7.9 16  27     3              37               20.9     \n",
       "9 14.3 15  46     3              37                5.8     \n",
       "  Neutrophil_Percentage RBC_Count Hemoglobin RDW Thrombocyte_Count CRP\n",
       "3 75                    4.0       11         12  300                3 \n",
       "4 63                    4.6       14         13  258                0 \n",
       "5 44                    4.4       13         14  311                0 \n",
       "7 69                    4.8       13         13  337                9 \n",
       "8 76                    4.6       13         12  350               20 \n",
       "9 47                    4.8       13         13  220                0 "
      ]
     },
     "metadata": {},
     "output_type": "display_data"
    }
   ],
   "source": [
    "df_train %>% select(where(is.numeric)) %>% head()"
   ]
  },
  {
   "cell_type": "markdown",
   "id": "9a2a59a3-2518-4c3a-aef5-48096ee5c5d2",
   "metadata": {},
   "source": [
    "<font size = 4> **Check the normality of the numerical predictors:** <font>"
   ]
  },
  {
   "cell_type": "markdown",
   "id": "afb73133-a6e9-4b20-9ffd-d3863b6fb6a9",
   "metadata": {},
   "source": [
    "<font size = 4> Visualizing the numerical columns distributions and their transforms: <font> <br>\n",
    "<font size = 3> Original, squared root, log, inverse <font>"
   ]
  },
  {
   "cell_type": "markdown",
   "id": "8bcda0e7-9756-42af-90e8-6bc975ad3baa",
   "metadata": {},
   "source": [
    "Experiment with square root, logarithmic, and inverse transformations on each of the numerical columns to identify the transformation that yields a distribution closest to normal."
   ]
  },
  {
   "cell_type": "code",
   "execution_count": 9,
   "id": "6db80821-e42f-4f63-8be9-c8048e9e65b2",
   "metadata": {},
   "outputs": [
    {
     "data": {
      "image/png": "[encoded data removed]",
      "text/plain": [
       "Plot with title \"Histogram of 1/(df_train$Weight[which(df_train$Diagnosis == 0)])\""
      ]
     },
     "metadata": {
      "image/png": {
       "height": 600,
       "width": 300
      }
     },
     "output_type": "display_data"
    }
   ],
   "source": [
    "#Experimenting with transformations of Weight column\n",
    "options(repr.plot.width = 5, repr.plot.height = 10)\n",
    "par(mfrow = c(4, 2))\n",
    "\n",
    "#original skewed data\n",
    "hist(   df_train$Weight[which(df_train$Diagnosis == 1)], breaks = 5, main = \"SS\")\n",
    "hist(   df_train$Weight[which(df_train$Diagnosis == 0)], breaks = 5)\n",
    "\n",
    "#square root transformation \n",
    "hist(   sqrt(df_train$Weight[which(df_train$Diagnosis == 1)]), breaks = 5)\n",
    "hist(   sqrt(df_train$Weight[which(df_train$Diagnosis == 0)]), breaks = 5)\n",
    "\n",
    "#log transformation\n",
    "hist(   log(df_train$Weight[which(df_train$Diagnosis == 1)]), breaks = 5)\n",
    "hist(   log(df_train$Weight[which(df_train$Diagnosis == 0)]), breaks = 5)\n",
    "\n",
    "#inverse transformation\n",
    "hist(   1/(df_train$Weight[which(df_train$Diagnosis == 1)]), breaks = 5)\n",
    "hist(   1/(df_train$Weight[which(df_train$Diagnosis == 0)]), breaks = 5)"
   ]
  },
  {
   "cell_type": "code",
   "execution_count": 10,
   "id": "797b416e-698e-4f9c-bd6e-1fbb3b0afce2",
   "metadata": {},
   "outputs": [
    {
     "data": {
      "image/png": "[encoded data removed]",
      "text/plain": [
       "Plot with title \"inverse transformation\""
      ]
     },
     "metadata": {
      "image/png": {
       "height": 600,
       "width": 300
      }
     },
     "output_type": "display_data"
    }
   ],
   "source": [
    "#Experimenting with transformations of Body_Temperature column\n",
    "\n",
    "options(repr.plot.width = 5, repr.plot.height = 10)\n",
    "par(mfrow = c(4, 2))\n",
    "\n",
    "#original skewed data\n",
    "hist(   df_train$Body_Temperature[which(df_train$Diagnosis == 1)], breaks = 5, main = \"original distribution\", xlab=\"Body_Temperature\")\n",
    "hist(   df_train$Body_Temperature[which(df_train$Diagnosis == 0)], breaks = 5, , main = \"original distribution\", xlab=\"Body_Temperature\")\n",
    "\n",
    "#square root transformation \n",
    "hist(   sqrt(df_train$Body_Temperature[which(df_train$Diagnosis == 1)]), breaks = 5, main = \"square root transformation\", xlab=\"Body_Temperature\")\n",
    "hist(   sqrt(df_train$Body_Temperature[which(df_train$Diagnosis == 0)]), breaks = 5, main = \"square root transformation\", xlab=\"Body_Temperature\")\n",
    "\n",
    "#log transformation\n",
    "hist(   log(df_train$Body_Temperature[which(df_train$Diagnosis == 1)]), breaks = 5, main = \"log transformation\", xlab=\"Body_Temperature\")\n",
    "hist(   log(df_train$Body_Temperature[which(df_train$Diagnosis == 0)]), breaks = 5, main = \"log transformation\", xlab=\"Body_Temperature\")\n",
    "\n",
    "#inverse transformation\n",
    "hist(   1/(df_train$Body_Temperature[which(df_train$Diagnosis == 1)]), breaks = 5, main = \"inverse transformation\", xlab=\"Body_Temperature\")\n",
    "hist(   1/(df_train$Body_Temperature[which(df_train$Diagnosis == 0)]), breaks = 5, main = \"inverse transformation\", xlab=\"Body_Temperature\")"
   ]
  },
  {
   "cell_type": "markdown",
   "id": "541e8be8-d979-435b-adc8-faf54516b42f",
   "metadata": {},
   "source": [
    "After visualizing the effect of transformation on the numerical columns, transformations below would be the best options for each column: <br>\n",
    "**square root transformation:** \"Weight\" <br>\n",
    "**inverse transformation:** \"BMI\" <br>\n",
    "**log:** \"Body_Temperature\", \"Thrombocyte_Count\", \"WBC_Count\" "
   ]
  },
  {
   "cell_type": "markdown",
   "id": "63baf42e-795c-48fb-bc38-782ac5b69a1f",
   "metadata": {},
   "source": [
    "<font size = 4> Visualizing the transformations for the presentation: <font>"
   ]
  },
  {
   "cell_type": "code",
   "execution_count": 11,
   "id": "6368d474-f4ef-46f1-b91f-5f27eb842513",
   "metadata": {},
   "outputs": [
    {
     "data": {
      "image/png": "[encoded data removed]",
      "text/plain": [
       "Plot with title \"sqrt(Weight) Histogram\""
      ]
     },
     "metadata": {
      "image/png": {
       "height": 300,
       "width": 480
      }
     },
     "output_type": "display_data"
    }
   ],
   "source": [
    "#sqrt Transformation\n",
    "options(repr.plot.width = 8, repr.plot.height = 5)\n",
    "par(mfrow = c(1, 2))\n",
    "hist(df_train$Weight, breaks = 5, main = \"Weight Histogram\", xlab = \"\")\n",
    "hist(sqrt(df_train$Weight), breaks = 5,  main = \"sqrt(Weight) Histogram\", xlab = \"\")"
   ]
  },
  {
   "cell_type": "code",
   "execution_count": 12,
   "id": "af9b2cd9-6907-4772-8b83-e378c15d69cb",
   "metadata": {},
   "outputs": [
    {
     "data": {
      "image/png": "[encoded data removed]",
      "text/plain": [
       "Plot with title \"1/BMI Histogram\""
      ]
     },
     "metadata": {
      "image/png": {
       "height": 300,
       "width": 480
      }
     },
     "output_type": "display_data"
    }
   ],
   "source": [
    "#inverse Transformation\n",
    "options(repr.plot.width = 8, repr.plot.height = 5)\n",
    "par(mfrow = c(1, 2))\n",
    "hist(df_train$BMI, breaks = 5, main = \"BMI Histogram\", xlab = \"\")\n",
    "hist(1/(df_train$BMI), breaks = 5,  main = \"1/BMI Histogram\", xlab = \"\")"
   ]
  },
  {
   "cell_type": "code",
   "execution_count": 13,
   "id": "c98c1460-82a5-4654-a7e9-176d1341c2dd",
   "metadata": {},
   "outputs": [
    {
     "data": {
      "image/png": "[encoded data removed]",
      "text/plain": [
       "Plot with title \"log(Body_Temperature) Histogram\""
      ]
     },
     "metadata": {
      "image/png": {
       "height": 300,
       "width": 480
      }
     },
     "output_type": "display_data"
    }
   ],
   "source": [
    "#log Transformation\n",
    "options(repr.plot.width = 8, repr.plot.height = 5)\n",
    "par(mfrow = c(1, 2))\n",
    "hist(df_train$Body_Temperature, breaks = 5, main = \"Body_Temperature Histogram\", xlab = \"\")\n",
    "hist(log(df_train$Body_Temperature), breaks = 5,  main = \"log(Body_Temperature) Histogram\", xlab = \"\")"
   ]
  },
  {
   "cell_type": "markdown",
   "id": "0204359a-d7c4-4da5-b46c-d205b9ebd4bf",
   "metadata": {},
   "source": [
    "After deciding on each numerical column transformation, we need to transform both train and test set."
   ]
  },
  {
   "cell_type": "code",
   "execution_count": 14,
   "id": "8709e0e2-d9cc-4e16-a0d4-630ad98170cb",
   "metadata": {},
   "outputs": [],
   "source": [
    "#transform train set\n",
    "df_train_transformed <-  df_train %>% \n",
    "                                    mutate(Weight = sqrt(Weight),\n",
    "                                           BMI = (1/BMI),\n",
    "                                           Body_Temperature = log(Body_Temperature),\n",
    "                                           Thrombocyte_Count = log(Thrombocyte_Count),\n",
    "                                           WBC_Count = log(WBC_Count))\n",
    "\n",
    "#transform test set\n",
    "df_test_transformed <-  df_test %>% \n",
    "                                    mutate(Weight = sqrt(Weight),\n",
    "                                           BMI = (1/BMI),\n",
    "                                           Body_Temperature = log(Body_Temperature),\n",
    "                                           Thrombocyte_Count = log(Thrombocyte_Count),\n",
    "                                           WBC_Count = log(WBC_Count))"
   ]
  },
  {
   "cell_type": "markdown",
   "id": "53bb6187-ad0f-4c6b-a3fd-a8b5f764be2b",
   "metadata": {},
   "source": [
    "<font size = 4> Shapiro-Wilk Normality Test: <font>"
   ]
  },
  {
   "cell_type": "markdown",
   "id": "49b1c669-0993-4dd3-b212-fc8fda41aa7b",
   "metadata": {},
   "source": [
    "Transformation did not help the normality of rest of the numerical columns. Therefore we will run the Shapiro normality test on them to check them out."
   ]
  },
  {
   "cell_type": "code",
   "execution_count": 15,
   "id": "7a957204-099a-4e7a-a73b-700a53ea901d",
   "metadata": {},
   "outputs": [
    {
     "name": "stdout",
     "output_type": "stream",
     "text": [
      "[1] \"Age\"\n",
      "\n",
      "\tShapiro-Wilk normality test\n",
      "\n",
      "data:  a[, i][a$Diagnosis == 1]\n",
      "W = 1, p-value = 0.005\n",
      "\n",
      "\n",
      "\tShapiro-Wilk normality test\n",
      "\n",
      "data:  a[, i][a$Diagnosis == 0]\n",
      "W = 1, p-value = 0.03\n",
      "\n",
      "[1] \"RBC_Count\"\n",
      "\n",
      "\tShapiro-Wilk normality test\n",
      "\n",
      "data:  a[, i][a$Diagnosis == 1]\n",
      "W = 1, p-value = 0.3\n",
      "\n",
      "\n",
      "\tShapiro-Wilk normality test\n",
      "\n",
      "data:  a[, i][a$Diagnosis == 0]\n",
      "W = 1, p-value = 0.02\n",
      "\n",
      "[1] \"Length_of_Stay\"\n",
      "\n",
      "\tShapiro-Wilk normality test\n",
      "\n",
      "data:  a[, i][a$Diagnosis == 1]\n",
      "W = 0.8, p-value = 0.000000000000009\n",
      "\n",
      "\n",
      "\tShapiro-Wilk normality test\n",
      "\n",
      "data:  a[, i][a$Diagnosis == 0]\n",
      "W = 0.6, p-value <0.0000000000000002\n",
      "\n",
      "[1] \"Hemoglobin\"\n",
      "\n",
      "\tShapiro-Wilk normality test\n",
      "\n",
      "data:  a[, i][a$Diagnosis == 1]\n",
      "W = 1, p-value = 0.2\n",
      "\n",
      "\n",
      "\tShapiro-Wilk normality test\n",
      "\n",
      "data:  a[, i][a$Diagnosis == 0]\n",
      "W = 1, p-value = 0.5\n",
      "\n",
      "[1] \"Neutrophil_Percentage\"\n",
      "\n",
      "\tShapiro-Wilk normality test\n",
      "\n",
      "data:  a[, i][a$Diagnosis == 1]\n",
      "W = 0.9, p-value = 0.0000000004\n",
      "\n",
      "\n",
      "\tShapiro-Wilk normality test\n",
      "\n",
      "data:  a[, i][a$Diagnosis == 0]\n",
      "W = 1, p-value = 0.005\n",
      "\n",
      "[1] \"RDW\"\n",
      "\n",
      "\tShapiro-Wilk normality test\n",
      "\n",
      "data:  a[, i][a$Diagnosis == 1]\n",
      "W = 0.9, p-value = 0.0000004\n",
      "\n",
      "\n",
      "\tShapiro-Wilk normality test\n",
      "\n",
      "data:  a[, i][a$Diagnosis == 0]\n",
      "W = 1, p-value = 0.00009\n",
      "\n",
      "[1] \"CRP\"\n",
      "\n",
      "\tShapiro-Wilk normality test\n",
      "\n",
      "data:  a[, i][a$Diagnosis == 1]\n",
      "W = 0.7, p-value <0.0000000000000002\n",
      "\n",
      "\n",
      "\tShapiro-Wilk normality test\n",
      "\n",
      "data:  a[, i][a$Diagnosis == 0]\n",
      "W = 0.7, p-value <0.0000000000000002\n",
      "\n"
     ]
    }
   ],
   "source": [
    "selected_cols <- c(\"Age\", \"RBC_Count\", \"Length_of_Stay\", \"Hemoglobin\", \"Neutrophil_Percentage\", \"RDW\", \"CRP\", \"Diagnosis\")\n",
    "a <- df_train[, selected_cols]\n",
    "\n",
    "#number of numerical predictors\n",
    "n <- length(a) - 1\n",
    "\n",
    "#print out the Shapiro normality test for the numerical columns based on their classes\n",
    "for (i in 1:n){\n",
    "    print(names(a)[i])\n",
    "    print(shapiro.test(a[,i][a$Diagnosis == 1]))\n",
    "    print(shapiro.test(a[,i][a$Diagnosis == 0]))\n",
    "}\n"
   ]
  },
  {
   "cell_type": "markdown",
   "id": "dfcd9672-c223-434a-b2a7-34d20bad05f7",
   "metadata": {},
   "source": [
    "As we expected most of them do not have a normal distribution in at least one of the classes."
   ]
  },
  {
   "cell_type": "markdown",
   "id": "93c2ff59-eb09-4a4b-9502-1a67e3e49123",
   "metadata": {},
   "source": [
    "<font size = 4> Bin the remaining numerical columns in train and test set: <font>"
   ]
  },
  {
   "cell_type": "markdown",
   "id": "a34227bc-3847-40f7-a6ed-5a752a4df0c0",
   "metadata": {},
   "source": [
    "Predictors above have the majority of their values around one point, therefore we will bin each column into 4 bins so they will fall into 4 categories in each column."
   ]
  },
  {
   "cell_type": "code",
   "execution_count": 16,
   "id": "930fcb0d-d389-4ce6-a1d8-ad2f121c62c5",
   "metadata": {},
   "outputs": [],
   "source": [
    "label <- c(\"1\", \"2\", \"3\", \"4\")\n",
    "\n",
    "#Binning train set\n",
    "df_train_transformed  <-     df_train_transformed%>% \n",
    "                                        mutate(Age = cut(Age, b = 4, label = label),\n",
    "                                               RBC_Count = cut(RBC_Count, b = 4, label = label),\n",
    "                                               Hemoglobin = cut(Hemoglobin, b = 4, label = label),\n",
    "                                               Length_of_Stay = cut(Length_of_Stay, b = 4, label = label),\n",
    "                                               Neutrophil_Percentage = cut(Neutrophil_Percentage, b = 4, label = label),\n",
    "                                               RDW = cut(RDW, b = 4, label = label),\n",
    "                                               CRP = cut(CRP, b = 4, label = label)\n",
    "                                               )\n",
    "\n",
    "#Binning test set\n",
    "df_test_transformed  <-     df_test_transformed%>% \n",
    "                                        mutate(Age = cut(Age, b = 4, label = label),\n",
    "                                               RBC_Count = cut(RBC_Count, b = 4, label = label),\n",
    "                                               Hemoglobin = cut(Hemoglobin, b = 4, label = label),\n",
    "                                               Length_of_Stay = cut(Length_of_Stay, b = 4, label = label),\n",
    "                                               Neutrophil_Percentage = cut(Neutrophil_Percentage, b = 4, label = label),\n",
    "                                               RDW = cut(RDW, b = 4, label = label),\n",
    "                                               CRP = cut(CRP, b = 4, label = label)\n",
    "                                               )"
   ]
  },
  {
   "cell_type": "markdown",
   "id": "03da698b-0b85-4ef0-ab2d-692c11ca0e2d",
   "metadata": {},
   "source": [
    "<font size = 4> Visualizing the binning for the presentation: <font>"
   ]
  },
  {
   "cell_type": "code",
   "execution_count": 17,
   "id": "91000a46-d2a6-4408-8111-295e44aa34cf",
   "metadata": {},
   "outputs": [
    {
     "data": {
      "image/png": "[encoded data removed]",
      "text/plain": [
       "Plot with title \"RBC_Count Bins\""
      ]
     },
     "metadata": {
      "image/png": {
       "height": 300,
       "width": 480
      }
     },
     "output_type": "display_data"
    }
   ],
   "source": [
    "options(repr.plot.width = 8, repr.plot.height = 5)\n",
    "par(mfrow = c(1, 2))\n",
    "hist(df_train$RBC_Count, main = \"RBC_Count\", xlab = \"\")\n",
    "barplot(table(df_train_transformed$RBC_Count), main = \"RBC_Count Bins\")"
   ]
  },
  {
   "cell_type": "code",
   "execution_count": 18,
   "id": "30f9a866-b5ca-4209-a5a8-9bb9fcfb9b12",
   "metadata": {},
   "outputs": [
    {
     "data": {
      "image/png": "[encoded data removed]",
      "text/plain": [
       "Plot with title \"Neutrophil_Percentage Bins\""
      ]
     },
     "metadata": {
      "image/png": {
       "height": 300,
       "width": 480
      }
     },
     "output_type": "display_data"
    }
   ],
   "source": [
    "options(repr.plot.width = 8, repr.plot.height = 5)\n",
    "par(mfrow = c(1, 2))\n",
    "hist(df_train$Neutrophil_Percentage, main = \"Neutrophil_Percentage\", xlab = \"\", breaks = 6)\n",
    "barplot(table(df_train_transformed$Neutrophil_Percentage), main = \"Neutrophil_Percentage Bins\")"
   ]
  },
  {
   "cell_type": "code",
   "execution_count": 19,
   "id": "6a36d812-e07b-4c33-9dfd-45958070fae1",
   "metadata": {},
   "outputs": [
    {
     "data": {
      "image/png": "[encoded data removed]",
      "text/plain": [
       "Plot with title \"Length_of_Stay Bins\""
      ]
     },
     "metadata": {
      "image/png": {
       "height": 300,
       "width": 480
      }
     },
     "output_type": "display_data"
    }
   ],
   "source": [
    "options(repr.plot.width = 8, repr.plot.height = 5)\n",
    "par(mfrow = c(1, 2))\n",
    "hist(df_train$Length_of_Stay, main = \"Length_of_Stay\", xlab = \"\")\n",
    "barplot(table(df_train_transformed$Length_of_Stay), main = \"Length_of_Stay Bins\")"
   ]
  },
  {
   "cell_type": "markdown",
   "id": "db73337a-839c-4cff-bbc9-15534077d06d",
   "metadata": {},
   "source": [
    "<font size = 4> Fit Naive Bayes Model: <font>"
   ]
  },
  {
   "cell_type": "code",
   "execution_count": 20,
   "id": "89bfd3f4-bc41-45e4-a90a-27d61dd35a3d",
   "metadata": {},
   "outputs": [
    {
     "data": {
      "text/plain": [
       "\n",
       "Naive Bayes Classifier for Discrete Predictors\n",
       "\n",
       "Call:\n",
       "naiveBayes.default(x = X, y = Y, laplace = laplace)\n",
       "\n",
       "A-priori probabilities:\n",
       "Y\n",
       "   0    1 \n",
       "0.43 0.57 \n",
       "\n",
       "Conditional probabilities:\n",
       "   Age\n",
       "Y       1     2     3     4\n",
       "  0 0.042 0.210 0.448 0.301\n",
       "  1 0.047 0.178 0.497 0.277\n",
       "\n",
       "   BMI\n",
       "Y    [,1]  [,2]\n",
       "  0 0.054 0.012\n",
       "  1 0.057 0.010\n",
       "\n",
       "   Sex\n",
       "Y   female male\n",
       "  0    0.5  0.5\n",
       "  1    0.4  0.6\n",
       "\n",
       "   Weight\n",
       "Y   [,1] [,2]\n",
       "  0  6.6  1.4\n",
       "  1  6.4  1.3\n",
       "\n",
       "   Length_of_Stay\n",
       "Y        1      2      3      4\n",
       "  0 0.9860 0.0140 0.0000 0.0000\n",
       "  1 0.7120 0.2513 0.0314 0.0052\n",
       "\n",
       "   Migratory_Pain\n",
       "Y     no  yes\n",
       "  0 0.78 0.22\n",
       "  1 0.68 0.32\n",
       "\n",
       "   Lower_Right_Abd_Pain\n",
       "Y      no   yes\n",
       "  0 0.042 0.958\n",
       "  1 0.037 0.963\n",
       "\n",
       "   Contralateral_Rebound_Tenderness\n",
       "Y     no  yes\n",
       "  0 0.72 0.28\n",
       "  1 0.55 0.45\n",
       "\n",
       "   Coughing_Pain\n",
       "Y     no  yes\n",
       "  0 0.80 0.20\n",
       "  1 0.68 0.32\n",
       "\n",
       "   Nausea\n",
       "Y     no  yes\n",
       "  0 0.53 0.47\n",
       "  1 0.34 0.66\n",
       "\n",
       "   Loss_of_Appetite\n",
       "Y     no  yes\n",
       "  0 0.55 0.45\n",
       "  1 0.43 0.57\n",
       "\n",
       "   Body_Temperature\n",
       "Y   [,1]  [,2]\n",
       "  0  3.6 0.023\n",
       "  1  3.6 0.021\n",
       "\n",
       "   WBC_Count\n",
       "Y   [,1] [,2]\n",
       "  0  2.3 0.40\n",
       "  1  2.6 0.41\n",
       "\n",
       "   Neutrophil_Percentage\n",
       "Y       1     2     3     4\n",
       "  0 0.070 0.336 0.308 0.287\n",
       "  1 0.026 0.094 0.304 0.576\n",
       "\n",
       "   Neutrophilia\n",
       "Y     no  yes\n",
       "  0 0.67 0.33\n",
       "  1 0.36 0.64\n",
       "\n",
       "   RBC_Count\n",
       "Y        1      2      3      4\n",
       "  0 0.2867 0.5734 0.1329 0.0070\n",
       "  1 0.2932 0.6126 0.0890 0.0052\n",
       "\n",
       "   Hemoglobin\n",
       "Y       1     2     3     4\n",
       "  0 0.028 0.406 0.469 0.098\n",
       "  1 0.026 0.387 0.482 0.105\n",
       "\n",
       "   RDW\n",
       "Y       1     2     3     4\n",
       "  0 0.322 0.490 0.161 0.028\n",
       "  1 0.304 0.555 0.126 0.016\n",
       "\n",
       "   Thrombocyte_Count\n",
       "Y   [,1] [,2]\n",
       "  0  5.6 0.25\n",
       "  1  5.6 0.22\n",
       "\n",
       "   CRP\n",
       "Y       1     2     3     4\n",
       "  0 0.986 0.014 0.000 0.000\n",
       "  1 0.848 0.089 0.042 0.021\n",
       "\n",
       "   Dysuria\n",
       "Y      no   yes\n",
       "  0 0.923 0.077\n",
       "  1 0.937 0.063\n",
       "\n",
       "   Stool\n",
       "Y   normal not_normal\n",
       "  0   0.77       0.23\n",
       "  1   0.70       0.30\n",
       "\n",
       "   Peritonitis\n",
       "Y     no  yes\n",
       "  0 0.89 0.11\n",
       "  1 0.56 0.44\n",
       "\n",
       "   Psoas_Sign\n",
       "Y     no  yes\n",
       "  0 0.63 0.37\n",
       "  1 0.75 0.25\n",
       "\n",
       "   Free_Fluids\n",
       "Y     no  yes\n",
       "  0 0.69 0.31\n",
       "  1 0.54 0.46\n"
      ]
     },
     "metadata": {},
     "output_type": "display_data"
    }
   ],
   "source": [
    "#fit the naive Bayes model on the train set\n",
    "naive_model <-    naiveBayes(Diagnosis ~ .,\n",
    "                             data = df_train_transformed)\n",
    "naive_model"
   ]
  },
  {
   "cell_type": "markdown",
   "id": "541284f2-959a-4954-8e30-a88281901fce",
   "metadata": {},
   "source": [
    "<font size = 4> Prediction of train set and confusion matrix for Naive Bayes: <font>"
   ]
  },
  {
   "cell_type": "code",
   "execution_count": 21,
   "id": "0a377ad6-f9c4-4882-b6e2-b0786a209614",
   "metadata": {},
   "outputs": [
    {
     "data": {
      "text/plain": [
       "Confusion Matrix and Statistics\n",
       "\n",
       "          Reference\n",
       "Prediction   0   1\n",
       "         0 101  52\n",
       "         1  42 139\n",
       "                                        \n",
       "               Accuracy : 0.719         \n",
       "                 95% CI : (0.667, 0.766)\n",
       "    No Information Rate : 0.572         \n",
       "    P-Value [Acc > NIR] : 0.000000021   \n",
       "                                        \n",
       "                  Kappa : 0.43          \n",
       "                                        \n",
       " Mcnemar's Test P-Value : 0.353         \n",
       "                                        \n",
       "            Sensitivity : 0.728         \n",
       "            Specificity : 0.706         \n",
       "         Pos Pred Value : 0.768         \n",
       "         Neg Pred Value : 0.660         \n",
       "             Prevalence : 0.572         \n",
       "         Detection Rate : 0.416         \n",
       "   Detection Prevalence : 0.542         \n",
       "      Balanced Accuracy : 0.717         \n",
       "                                        \n",
       "       'Positive' Class : 1             \n",
       "                                        "
      ]
     },
     "metadata": {},
     "output_type": "display_data"
    }
   ],
   "source": [
    "pred_prob_naive_tr <-   predict(object = naive_model,\n",
    "                              newdata = df_train_transformed,\n",
    "                              type = \"raw\")[, 2]\n",
    "\n",
    "pred_class_naive_tr <- if_else(pred_prob_naive_tr > threshold, 1, 0) %>% as.factor()\n",
    "\n",
    "\n",
    "confusionMatrix(pred_class_naive_tr, reference = df_train_transformed$Diagnosis, positive = \"1\")"
   ]
  },
  {
   "cell_type": "markdown",
   "id": "22af9ba3-c01f-4530-8414-ac0dd849d75c",
   "metadata": {},
   "source": [
    "<font size = 4> Prediction of test set and confusion matrix for Naive Bayes: <font>"
   ]
  },
  {
   "cell_type": "code",
   "execution_count": 22,
   "id": "33bcd18c-c6ee-41e0-8605-544b21586d7f",
   "metadata": {},
   "outputs": [
    {
     "data": {
      "text/plain": [
       "Confusion Matrix and Statistics\n",
       "\n",
       "          Reference\n",
       "Prediction  0  1\n",
       "         0 75 51\n",
       "         1 19 75\n",
       "                                        \n",
       "               Accuracy : 0.682         \n",
       "                 95% CI : (0.616, 0.743)\n",
       "    No Information Rate : 0.573         \n",
       "    P-Value [Acc > NIR] : 0.000584      \n",
       "                                        \n",
       "                  Kappa : 0.377         \n",
       "                                        \n",
       " Mcnemar's Test P-Value : 0.000211      \n",
       "                                        \n",
       "            Sensitivity : 0.595         \n",
       "            Specificity : 0.798         \n",
       "         Pos Pred Value : 0.798         \n",
       "         Neg Pred Value : 0.595         \n",
       "             Prevalence : 0.573         \n",
       "         Detection Rate : 0.341         \n",
       "   Detection Prevalence : 0.427         \n",
       "      Balanced Accuracy : 0.697         \n",
       "                                        \n",
       "       'Positive' Class : 1             \n",
       "                                        "
      ]
     },
     "metadata": {},
     "output_type": "display_data"
    }
   ],
   "source": [
    "pred_prob_naive <-   predict(object = naive_model,\n",
    "                              newdata = df_test_transformed,\n",
    "                              type = \"raw\")[, 2]\n",
    "\n",
    "pred_class_naive <- if_else(pred_prob_naive > 0.5, 1, 0) %>% as.factor()\n",
    "\n",
    "#store accuracy for comparison at the end\n",
    "cm_naive <- confusionMatrix(pred_class_naive, reference = df_test_transformed$Diagnosis, positive = \"1\")$overall[\"Accuracy\"][[1]] %>% round(2)\n",
    "\n",
    "confusionMatrix(pred_class_naive, reference = df_test_transformed$Diagnosis, positive = \"1\")"
   ]
  },
  {
   "cell_type": "markdown",
   "id": "e24590ee-c2a6-4361-bce7-1dc32ef3f2bd",
   "metadata": {},
   "source": [
    "The accuracy of the prediction on the train set is slightly higher. "
   ]
  },
  {
   "cell_type": "markdown",
   "id": "2315a579-30b8-472c-83d2-8eb5ffe2fa04",
   "metadata": {},
   "source": [
    "<font size = 6> Decision Tree Model: <font>"
   ]
  },
  {
   "cell_type": "markdown",
   "id": "71b1609c-d004-447a-9a17-ec4d2ac989dc",
   "metadata": {},
   "source": [
    "We will set the maximum depth to 4 to avoid overfitting. Also will include all the features, because decision tree model does the feature selection by itself."
   ]
  },
  {
   "cell_type": "code",
   "execution_count": 23,
   "id": "e68f9c00-eaf3-44df-8518-e40369f738df",
   "metadata": {},
   "outputs": [
    {
     "name": "stdout",
     "output_type": "stream",
     "text": [
      "Call:\n",
      "rpart(formula = Diagnosis ~ ., data = df_train, method = \"class\", \n",
      "    maxdepth = 4)\n",
      "  n= 334 \n",
      "\n",
      "     CP nsplit rel error xerror  xstd\n",
      "1 0.336      0      1.00   1.00 0.063\n",
      "2 0.056      1      0.66   0.66 0.058\n",
      "3 0.042      2      0.61   0.69 0.058\n",
      "4 0.010      5      0.48   0.65 0.057\n",
      "\n",
      "Variable importance\n",
      "       Length_of_Stay Neutrophil_Percentage             WBC_Count \n",
      "                   29                    16                    13 \n",
      "          Peritonitis                   CRP      Body_Temperature \n",
      "                   11                    10                     8 \n",
      "    Thrombocyte_Count                   Age                Weight \n",
      "                    5                     3                     2 \n",
      "            RBC_Count          Neutrophilia                   BMI \n",
      "                    1                     1                     1 \n",
      "\n",
      "Node number 1: 334 observations,    complexity param=0.34\n",
      "  predicted class=1  expected loss=0.43  P(node) =1\n",
      "    class counts:   143   191\n",
      "   probabilities: 0.428 0.572 \n",
      "  left son=2 (200 obs) right son=3 (134 obs)\n",
      "  Primary splits:\n",
      "      Length_of_Stay        < 3.5 to the left,  improve=37, (0 missing)\n",
      "      Neutrophil_Percentage < 65  to the left,  improve=22, (0 missing)\n",
      "      WBC_Count             < 12  to the left,  improve=22, (0 missing)\n",
      "      Peritonitis           splits as  LR,      improve=21, (0 missing)\n",
      "      Neutrophilia          splits as  LR,      improve=16, (0 missing)\n",
      "  Surrogate splits:\n",
      "      Peritonitis           splits as  LR,      agree=0.75, adj=0.37, (0 split)\n",
      "      CRP                   < 44  to the left,  agree=0.71, adj=0.27, (0 split)\n",
      "      WBC_Count             < 13  to the left,  agree=0.67, adj=0.19, (0 split)\n",
      "      Neutrophil_Percentage < 78  to the left,  agree=0.65, adj=0.13, (0 split)\n",
      "      Body_Temperature      < 38  to the left,  agree=0.64, adj=0.11, (0 split)\n",
      "\n",
      "Node number 2: 200 observations,    complexity param=0.042\n",
      "  predicted class=0  expected loss=0.38  P(node) =0.6\n",
      "    class counts:   124    76\n",
      "   probabilities: 0.620 0.380 \n",
      "  left son=4 (21 obs) right son=5 (179 obs)\n",
      "  Primary splits:\n",
      "      Thrombocyte_Count     < 370 to the right, improve=3.8, (0 missing)\n",
      "      Body_Temperature      < 38  to the right, improve=3.7, (0 missing)\n",
      "      WBC_Count             < 12  to the left,  improve=3.2, (0 missing)\n",
      "      Neutrophil_Percentage < 65  to the left,  improve=3.1, (0 missing)\n",
      "      Age                   < 10  to the left,  improve=3.0, (0 missing)\n",
      "  Surrogate splits:\n",
      "      WBC_Count        < 27  to the right, agree=0.90, adj=0.095, (0 split)\n",
      "      Body_Temperature < 40  to the right, agree=0.90, adj=0.048, (0 split)\n",
      "\n",
      "Node number 3: 134 observations,    complexity param=0.056\n",
      "  predicted class=1  expected loss=0.14  P(node) =0.4\n",
      "    class counts:    19   115\n",
      "   probabilities: 0.142 0.858 \n",
      "  left son=6 (18 obs) right son=7 (116 obs)\n",
      "  Primary splits:\n",
      "      Neutrophil_Percentage < 61  to the left,  improve=14.0, (0 missing)\n",
      "      WBC_Count             < 9.1 to the left,  improve= 9.1, (0 missing)\n",
      "      Neutrophilia          splits as  LR,      improve= 7.5, (0 missing)\n",
      "      CRP                   < 0.5 to the left,  improve= 5.8, (0 missing)\n",
      "      Peritonitis           splits as  LR,      improve= 5.6, (0 missing)\n",
      "  Surrogate splits:\n",
      "      WBC_Count < 7.1 to the left,  agree=0.9, adj=0.22, (0 split)\n",
      "      CRP       < 0.5 to the left,  agree=0.9, adj=0.22, (0 split)\n",
      "\n",
      "Node number 4: 21 observations\n",
      "  predicted class=0  expected loss=0.095  P(node) =0.063\n",
      "    class counts:    19     2\n",
      "   probabilities: 0.905 0.095 \n",
      "\n",
      "Node number 5: 179 observations,    complexity param=0.042\n",
      "  predicted class=0  expected loss=0.41  P(node) =0.54\n",
      "    class counts:   105    74\n",
      "   probabilities: 0.587 0.413 \n",
      "  left son=10 (124 obs) right son=11 (55 obs)\n",
      "  Primary splits:\n",
      "      WBC_Count             < 12  to the left,  improve=4.5, (0 missing)\n",
      "      Neutrophil_Percentage < 65  to the left,  improve=3.3, (0 missing)\n",
      "      Weight                < 68  to the right, improve=2.9, (0 missing)\n",
      "      Age                   < 14  to the right, improve=2.9, (0 missing)\n",
      "      BMI                   < 19  to the right, improve=2.4, (0 missing)\n",
      "  Surrogate splits:\n",
      "      Neutrophil_Percentage < 81  to the left,  agree=0.79, adj=0.33, (0 split)\n",
      "      Neutrophilia          splits as  LR,      agree=0.77, adj=0.26, (0 split)\n",
      "      Thrombocyte_Count     < 330 to the left,  agree=0.74, adj=0.16, (0 split)\n",
      "      Age                   < 6.8 to the right, agree=0.74, adj=0.14, (0 split)\n",
      "      BMI                   < 16  to the right, agree=0.74, adj=0.14, (0 split)\n",
      "\n",
      "Node number 6: 18 observations\n",
      "  predicted class=0  expected loss=0.28  P(node) =0.054\n",
      "    class counts:    13     5\n",
      "   probabilities: 0.722 0.278 \n",
      "\n",
      "Node number 7: 116 observations\n",
      "  predicted class=1  expected loss=0.052  P(node) =0.35\n",
      "    class counts:     6   110\n",
      "   probabilities: 0.052 0.948 \n",
      "\n",
      "Node number 10: 124 observations\n",
      "  predicted class=0  expected loss=0.34  P(node) =0.37\n",
      "    class counts:    82    42\n",
      "   probabilities: 0.661 0.339 \n",
      "\n",
      "Node number 11: 55 observations,    complexity param=0.042\n",
      "  predicted class=1  expected loss=0.42  P(node) =0.16\n",
      "    class counts:    23    32\n",
      "   probabilities: 0.418 0.582 \n",
      "  left son=22 (25 obs) right son=23 (30 obs)\n",
      "  Primary splits:\n",
      "      Body_Temperature < 37  to the right, improve=6.3, (0 missing)\n",
      "      Weight           < 25  to the left,  improve=5.3, (0 missing)\n",
      "      Age              < 8.7 to the left,  improve=5.0, (0 missing)\n",
      "      WBC_Count        < 16  to the right, improve=4.5, (0 missing)\n",
      "      Hemoglobin       < 14  to the left,  improve=4.1, (0 missing)\n",
      "  Surrogate splits:\n",
      "      Age               < 8.2 to the left,  agree=0.78, adj=0.52, (0 split)\n",
      "      Weight            < 25  to the left,  agree=0.73, adj=0.40, (0 split)\n",
      "      WBC_Count         < 16  to the right, agree=0.71, adj=0.36, (0 split)\n",
      "      Thrombocyte_Count < 320 to the right, agree=0.67, adj=0.28, (0 split)\n",
      "      RBC_Count         < 4.5 to the left,  agree=0.64, adj=0.20, (0 split)\n",
      "\n",
      "Node number 22: 25 observations\n",
      "  predicted class=0  expected loss=0.32  P(node) =0.075\n",
      "    class counts:    17     8\n",
      "   probabilities: 0.680 0.320 \n",
      "\n",
      "Node number 23: 30 observations\n",
      "  predicted class=1  expected loss=0.2  P(node) =0.09\n",
      "    class counts:     6    24\n",
      "   probabilities: 0.200 0.800 \n",
      "\n"
     ]
    }
   ],
   "source": [
    "#fit the decision tree model on train set\n",
    "tree_model <- rpart(Diagnosis ~ .,\n",
    "                    data = df_train,\n",
    "                    method = \"class\",\n",
    "                    maxdepth = 4)\n",
    "summary(tree_model)"
   ]
  },
  {
   "cell_type": "code",
   "execution_count": 24,
   "id": "fcafaea1-dd1d-4707-9da2-a6c40e293acc",
   "metadata": {},
   "outputs": [
    {
     "data": {
      "image/png": "[encoded data removed]",
      "text/plain": [
       "plot without title"
      ]
     },
     "metadata": {
      "image/png": {
       "height": 360,
       "width": 360
      }
     },
     "output_type": "display_data"
    }
   ],
   "source": [
    "options(repr.plot.width = 6, repr.plot.height = 6)\n",
    "rpart.plot(tree_model)"
   ]
  },
  {
   "cell_type": "markdown",
   "id": "834422f8-1dc0-45b5-be29-ff2478a174d6",
   "metadata": {},
   "source": [
    "While the tree classifies some of the data very well, it does perform poorly on some other observations. For example we see that 35% of the data fell into a bucket with 0.95 accurate label. However, 37% of the data ended up in a bucket which only has a 0.66 accurate label.\n"
   ]
  },
  {
   "cell_type": "code",
   "execution_count": 25,
   "id": "d86ec3ad-cfa4-4403-87e7-a140600cd3fb",
   "metadata": {},
   "outputs": [
    {
     "data": {
      "image/png": "[encoded data removed]",
      "text/plain": [
       "plot without title"
      ]
     },
     "metadata": {
      "image/png": {
       "height": 300,
       "width": 900
      }
     },
     "output_type": "display_data"
    }
   ],
   "source": [
    "options(repr.plot.width = 15, repr.plot.height = 5)\n",
    "\n",
    "#Check Length_of_Stay distribution in regards to our target classes\n",
    "plot1 <-   ggplot(df_train) +\n",
    "                aes(y = Length_of_Stay, fill = Diagnosis)+\n",
    "                geom_boxplot() +\n",
    "                theme_bw() +\n",
    "                scale_fill_manual(values = c(\"green\", \"red\")) +\n",
    "                labs(title = \"Box plot of Length_of_Stay\")\n",
    "\n",
    "#Check Thrombocyte_Count distribution in regards to our target classes\n",
    "plot2 <-    ggplot(df_train) +\n",
    "                aes(y = Thrombocyte_Count, fill = Diagnosis)+\n",
    "                geom_boxplot() +\n",
    "                theme_bw() +\n",
    "                scale_fill_manual(values = c(\"green\", \"red\")) +\n",
    "                labs(title = \"Box plot of Thrombocyte_Count\")\n",
    "\n",
    "#Check Neutrophil_Percentage distribution in regards to our target classes\n",
    "plot3 <-     ggplot(df_train) +\n",
    "                aes(y = Neutrophil_Percentage, fill = Diagnosis)+\n",
    "                geom_boxplot() +\n",
    "                theme_bw() +\n",
    "                scale_fill_manual(values = c(\"green\", \"red\")) +\n",
    "                labs(title = \"Box plot of Neutrophil_Percentage\")\n",
    "\n",
    "gridExtra::grid.arrange(plot1, plot2, plot3, ncol = 3)"
   ]
  },
  {
   "cell_type": "markdown",
   "id": "adf29bc6-586c-490e-85de-15d459eb0696",
   "metadata": {},
   "source": [
    "**Length_of_Stay** and **Neutrophil_Percentage** which are the first choices for splitting the tree, each have two different distributions for Diagnosis = 1 and Diagnosis = 0. We already knew that and saw that the forward-backward method selected these predictors too. <br>\n",
    "\n",
    "However, **Thrombocyte_Count** have not been picked as a good predictor so far and also we see in the plot that label 0 and 1 s do not have two distinct distributions. <br>\n",
    "subsequently, we will see that the Decision Tree's performance is lower than other models, potentialy attributes to this particular split."
   ]
  },
  {
   "cell_type": "markdown",
   "id": "c933b021-500a-4b67-bee9-ffac67bbe184",
   "metadata": {},
   "source": [
    "<font size = 4> Prediction of train set and confusion matrix for Decision Tree: <font>"
   ]
  },
  {
   "cell_type": "code",
   "execution_count": 26,
   "id": "e0ec70f3-1f5f-4302-97ae-879372578317",
   "metadata": {},
   "outputs": [
    {
     "data": {
      "text/plain": [
       "Confusion Matrix and Statistics\n",
       "\n",
       "          Reference\n",
       "Prediction   0   1\n",
       "         0 131  57\n",
       "         1  12 134\n",
       "                                              \n",
       "               Accuracy : 0.793               \n",
       "                 95% CI : (0.746, 0.836)      \n",
       "    No Information Rate : 0.572               \n",
       "    P-Value [Acc > NIR] : < 0.0000000000000002\n",
       "                                              \n",
       "                  Kappa : 0.594               \n",
       "                                              \n",
       " Mcnemar's Test P-Value : 0.000000118         \n",
       "                                              \n",
       "            Sensitivity : 0.702               \n",
       "            Specificity : 0.916               \n",
       "         Pos Pred Value : 0.918               \n",
       "         Neg Pred Value : 0.697               \n",
       "             Prevalence : 0.572               \n",
       "         Detection Rate : 0.401               \n",
       "   Detection Prevalence : 0.437               \n",
       "      Balanced Accuracy : 0.809               \n",
       "                                              \n",
       "       'Positive' Class : 1                   \n",
       "                                              "
      ]
     },
     "metadata": {},
     "output_type": "display_data"
    }
   ],
   "source": [
    "pred_prob_tree_tr <-     predict(object = tree_model,\n",
    "                              newdata = df_train,\n",
    "                              type = \"prob\")[, 2] %>% as.vector()\n",
    "\n",
    "pred_class_tree_tr <- if_else(pred_prob_tree_tr > threshold, 1, 0) %>% as.factor()\n",
    "\n",
    "confusionMatrix(pred_class_tree_tr, reference = df_train$Diagnosis, positive = \"1\")"
   ]
  },
  {
   "cell_type": "markdown",
   "id": "b57146ae-30ac-45be-8c29-594897ca2b62",
   "metadata": {},
   "source": [
    "<font size = 4> Prediction of test set and confusion matrix for Decision Tree: <font>"
   ]
  },
  {
   "cell_type": "code",
   "execution_count": 27,
   "id": "87daad9c-fa10-4c28-b06e-c909784c6ee1",
   "metadata": {},
   "outputs": [
    {
     "data": {
      "text/plain": [
       "Confusion Matrix and Statistics\n",
       "\n",
       "          Reference\n",
       "Prediction  0  1\n",
       "         0 77 53\n",
       "         1 17 73\n",
       "                                        \n",
       "               Accuracy : 0.682         \n",
       "                 95% CI : (0.616, 0.743)\n",
       "    No Information Rate : 0.573         \n",
       "    P-Value [Acc > NIR] : 0.000584      \n",
       "                                        \n",
       "                  Kappa : 0.38          \n",
       "                                        \n",
       " Mcnemar's Test P-Value : 0.0000287     \n",
       "                                        \n",
       "            Sensitivity : 0.579         \n",
       "            Specificity : 0.819         \n",
       "         Pos Pred Value : 0.811         \n",
       "         Neg Pred Value : 0.592         \n",
       "             Prevalence : 0.573         \n",
       "         Detection Rate : 0.332         \n",
       "   Detection Prevalence : 0.409         \n",
       "      Balanced Accuracy : 0.699         \n",
       "                                        \n",
       "       'Positive' Class : 1             \n",
       "                                        "
      ]
     },
     "metadata": {},
     "output_type": "display_data"
    }
   ],
   "source": [
    "pred_prob_tree <-     predict(object = tree_model,\n",
    "                              newdata = df_test,\n",
    "                              type = \"prob\")[, 2] %>% as.vector()\n",
    "\n",
    "pred_class_tree <- if_else(pred_prob_tree > threshold, 1, 0) %>% as.factor()\n",
    "\n",
    "#store accuracy for comparison at the end\n",
    "cm_tree <- confusionMatrix(pred_class_tree, reference = df_test$Diagnosis, positive = \"1\")$overall[\"Accuracy\"][[1]] %>% round(2)\n",
    "\n",
    "confusionMatrix(pred_class_tree, reference = df_test$Diagnosis, positive = \"1\")"
   ]
  },
  {
   "cell_type": "markdown",
   "id": "d4b25d9d-8f92-4ec4-ab00-71b39d50389a",
   "metadata": {},
   "source": [
    "<font size = 6> Random Forest: <font>"
   ]
  },
  {
   "cell_type": "code",
   "execution_count": 28,
   "id": "457e1a4c-8565-4464-bc81-d696304fc627",
   "metadata": {},
   "outputs": [],
   "source": [
    "#fit the random forest model on train set\n",
    "set.seed(22)\n",
    "\n",
    "rf_model <- randomForest(Diagnosis ~ .,\n",
    "                         data = df_train,\n",
    "                         ntree = 100,\n",
    "                         mtry = 5,\n",
    "                         maxnodes = 5,\n",
    "                         importance = TRUE)\n"
   ]
  },
  {
   "cell_type": "markdown",
   "id": "359c8aa8-a2f7-4cc6-8736-fdadd9044ef1",
   "metadata": {},
   "source": [
    "<font size = 4 > Variable Importance: <font>"
   ]
  },
  {
   "cell_type": "code",
   "execution_count": 29,
   "id": "5b95efc7-1a6d-4775-b4b8-b0fb7161dd36",
   "metadata": {},
   "outputs": [
    {
     "data": {
      "image/png": "[encoded data removed]",
      "text/plain": [
       "Plot with title \"rf_model\""
      ]
     },
     "metadata": {
      "image/png": {
       "height": 420,
       "width": 420
      }
     },
     "output_type": "display_data"
    }
   ],
   "source": [
    "options(repr.plot.width = 7, repr.plot.height = 7)\n",
    "\n",
    "varImpPlot(rf_model, type = 1)"
   ]
  },
  {
   "cell_type": "markdown",
   "id": "dd313085-e562-4fdd-9f5e-9bef60ffdd4d",
   "metadata": {},
   "source": [
    "<font size = 4> Prediction of train set and confusion matrix for Random Forest: <font>"
   ]
  },
  {
   "cell_type": "code",
   "execution_count": 30,
   "id": "6ab49ab5-74b2-40f5-b356-918074c49f98",
   "metadata": {},
   "outputs": [
    {
     "data": {
      "text/plain": [
       "Confusion Matrix and Statistics\n",
       "\n",
       "          Reference\n",
       "Prediction   0   1\n",
       "         0  98  33\n",
       "         1  45 158\n",
       "                                            \n",
       "               Accuracy : 0.766             \n",
       "                 95% CI : (0.717, 0.811)    \n",
       "    No Information Rate : 0.572             \n",
       "    P-Value [Acc > NIR] : 0.0000000000000799\n",
       "                                            \n",
       "                  Kappa : 0.518             \n",
       "                                            \n",
       " Mcnemar's Test P-Value : 0.213             \n",
       "                                            \n",
       "            Sensitivity : 0.827             \n",
       "            Specificity : 0.685             \n",
       "         Pos Pred Value : 0.778             \n",
       "         Neg Pred Value : 0.748             \n",
       "             Prevalence : 0.572             \n",
       "         Detection Rate : 0.473             \n",
       "   Detection Prevalence : 0.608             \n",
       "      Balanced Accuracy : 0.756             \n",
       "                                            \n",
       "       'Positive' Class : 1                 \n",
       "                                            "
      ]
     },
     "metadata": {},
     "output_type": "display_data"
    }
   ],
   "source": [
    "pred_prob_rf_tr <-   predict(object = rf_model,\n",
    "                           newdata = df_train,\n",
    "                           type = \"prob\")[, 2] %>% as.vector()\n",
    "\n",
    "pred_class_rf_tr <- if_else(pred_prob_rf_tr > threshold, 1, 0) %>% as.factor()\n",
    "\n",
    "confusionMatrix(pred_class_rf_tr, reference = df_train$Diagnosis, positive = \"1\")"
   ]
  },
  {
   "cell_type": "markdown",
   "id": "09260e06-541a-4640-b795-1abd06fab473",
   "metadata": {},
   "source": [
    "<font size = 4> Prediction of test set and confusion matrix for Random Forest: <font>"
   ]
  },
  {
   "cell_type": "code",
   "execution_count": 31,
   "id": "41293cb1-cfce-4fa5-a5d6-9fab26cd57ef",
   "metadata": {},
   "outputs": [
    {
     "data": {
      "text/plain": [
       "Confusion Matrix and Statistics\n",
       "\n",
       "          Reference\n",
       "Prediction  0  1\n",
       "         0 63 29\n",
       "         1 31 97\n",
       "                                        \n",
       "               Accuracy : 0.727         \n",
       "                 95% CI : (0.663, 0.785)\n",
       "    No Information Rate : 0.573         \n",
       "    P-Value [Acc > NIR] : 0.00000148    \n",
       "                                        \n",
       "                  Kappa : 0.441         \n",
       "                                        \n",
       " Mcnemar's Test P-Value : 0.897         \n",
       "                                        \n",
       "            Sensitivity : 0.770         \n",
       "            Specificity : 0.670         \n",
       "         Pos Pred Value : 0.758         \n",
       "         Neg Pred Value : 0.685         \n",
       "             Prevalence : 0.573         \n",
       "         Detection Rate : 0.441         \n",
       "   Detection Prevalence : 0.582         \n",
       "      Balanced Accuracy : 0.720         \n",
       "                                        \n",
       "       'Positive' Class : 1             \n",
       "                                        "
      ]
     },
     "metadata": {},
     "output_type": "display_data"
    }
   ],
   "source": [
    "pred_prob_rf <-   predict(object = rf_model,\n",
    "                           newdata = df_test,\n",
    "                           type = \"prob\")[, 2] %>% as.vector()\n",
    "\n",
    "pred_class_rf <- if_else(pred_prob_rf > threshold, 1, 0) %>% as.factor()\n",
    "\n",
    "#store accuracy for comparison at the end\n",
    "cm_rf <- confusionMatrix(pred_class_rf, reference = df_test$Diagnosis, positive = \"1\")$overall[\"Accuracy\"][[1]] %>% round(2)\n",
    "\n",
    "confusionMatrix(pred_class_rf, reference = df_test$Diagnosis, positive = \"1\")"
   ]
  },
  {
   "cell_type": "markdown",
   "id": "9ace5025-2057-4404-b095-d0b81f2c6d68",
   "metadata": {},
   "source": [
    "<font size = 4> **Discussion about Random Forest model:** <font>"
   ]
  },
  {
   "cell_type": "markdown",
   "id": "9f8ddebb-3473-4a69-95c8-33ded85daed3",
   "metadata": {},
   "source": [
    "**Accuracy:**<br>\n",
    "As we see the random forest performance is good on both predicting the train and test set. <br>\n",
    "\n",
    "\n",
    "**Variable Importance:**<br>\n",
    "Also, based on the variable importance plot, **Length_of_Stay** decreases the impurity much better than the other predictors, and after that **CRP**, **Peritonitis**, **WBC_Count** and **Neutrophil_Percentage** are the best predictors in decreasing the impurity of the splits. <br>\n",
    "\n",
    "Comparing variable importance with the features selected by forward-backward method in step 2, we would see that there are a lot of similarities and both models have picked out the features which are most informative about the target variable."
   ]
  },
  {
   "cell_type": "markdown",
   "id": "90f16ec6-a179-4a1f-8b1b-6b7de89d49b9",
   "metadata": {},
   "source": [
    "<font size = 6> Boosting: <font>"
   ]
  },
  {
   "cell_type": "markdown",
   "id": "cb2a2844-4c72-4147-b073-773f01e70de7",
   "metadata": {},
   "source": [
    "We expect to see a better performance from boosting models because they optimize the error by sequentially training weaklearners."
   ]
  },
  {
   "cell_type": "code",
   "execution_count": 32,
   "id": "d3ed3372-f021-4fa7-b1cc-34bae8ed8f35",
   "metadata": {},
   "outputs": [],
   "source": [
    "#fit the xgboost model on the train set\n",
    "set.seed(22)\n",
    "\n",
    "xgb_model <-   train(Diagnosis ~., \n",
    "                       data = df_train,\n",
    "                       method = \"xgbTree\",\n",
    "                       verbosity = 0)\n"
   ]
  },
  {
   "cell_type": "markdown",
   "id": "26872a25-768f-46e7-86e1-3eabecbb2c4b",
   "metadata": {},
   "source": [
    "<font size = 4> Prediction of train set and confusion matrix for Boosting: <font>"
   ]
  },
  {
   "cell_type": "code",
   "execution_count": 33,
   "id": "7bdf8d72-d54b-438f-b0d1-aacbb93e35c2",
   "metadata": {},
   "outputs": [
    {
     "data": {
      "text/plain": [
       "Confusion Matrix and Statistics\n",
       "\n",
       "          Reference\n",
       "Prediction   0   1\n",
       "         0 114  29\n",
       "         1  29 162\n",
       "                                             \n",
       "               Accuracy : 0.826              \n",
       "                 95% CI : (0.781, 0.865)     \n",
       "    No Information Rate : 0.572              \n",
       "    P-Value [Acc > NIR] : <0.0000000000000002\n",
       "                                             \n",
       "                  Kappa : 0.645              \n",
       "                                             \n",
       " Mcnemar's Test P-Value : 1                  \n",
       "                                             \n",
       "            Sensitivity : 0.848              \n",
       "            Specificity : 0.797              \n",
       "         Pos Pred Value : 0.848              \n",
       "         Neg Pred Value : 0.797              \n",
       "             Prevalence : 0.572              \n",
       "         Detection Rate : 0.485              \n",
       "   Detection Prevalence : 0.572              \n",
       "      Balanced Accuracy : 0.823              \n",
       "                                             \n",
       "       'Positive' Class : 1                  \n",
       "                                             "
      ]
     },
     "metadata": {},
     "output_type": "display_data"
    }
   ],
   "source": [
    "pred_prob_xgb_tr <-   predict(xgb_model,\n",
    "                           newdata = df_train,\n",
    "                           type = \"prob\")[[2]]\n",
    "\n",
    "pred_class_xgb_tr <- if_else(pred_prob_xgb_tr > threshold, 1, 0) %>% as.factor()\n",
    "\n",
    "confusionMatrix(pred_class_xgb_tr, reference = df_train$Diagnosis, positive = \"1\")"
   ]
  },
  {
   "cell_type": "markdown",
   "id": "45ec9361-048d-4b43-9407-b19899a6e44e",
   "metadata": {},
   "source": [
    "<font size = 4> Prediction of test set and confusion matrix for Boosting: <font>"
   ]
  },
  {
   "cell_type": "code",
   "execution_count": 34,
   "id": "015e79be-df71-46ce-bd26-a8ed3a0d1055",
   "metadata": {},
   "outputs": [
    {
     "data": {
      "text/plain": [
       "Confusion Matrix and Statistics\n",
       "\n",
       "          Reference\n",
       "Prediction   0   1\n",
       "         0  61  25\n",
       "         1  33 101\n",
       "                                        \n",
       "               Accuracy : 0.736         \n",
       "                 95% CI : (0.673, 0.793)\n",
       "    No Information Rate : 0.573         \n",
       "    P-Value [Acc > NIR] : 0.000000347   \n",
       "                                        \n",
       "                  Kappa : 0.455         \n",
       "                                        \n",
       " Mcnemar's Test P-Value : 0.358         \n",
       "                                        \n",
       "            Sensitivity : 0.802         \n",
       "            Specificity : 0.649         \n",
       "         Pos Pred Value : 0.754         \n",
       "         Neg Pred Value : 0.709         \n",
       "             Prevalence : 0.573         \n",
       "         Detection Rate : 0.459         \n",
       "   Detection Prevalence : 0.609         \n",
       "      Balanced Accuracy : 0.725         \n",
       "                                        \n",
       "       'Positive' Class : 1             \n",
       "                                        "
      ]
     },
     "metadata": {},
     "output_type": "display_data"
    }
   ],
   "source": [
    "pred_prob_xgb <-   predict(xgb_model,\n",
    "                           newdata = df_test,\n",
    "                           type = \"prob\")[[2]]\n",
    "\n",
    "pred_class_xgb <- if_else(pred_prob_xgb > threshold, 1, 0) %>% as.factor()\n",
    "\n",
    "#store accuracy for comparison at the end\n",
    "cm_xgb <- confusionMatrix(pred_class_xgb, reference = df_test$Diagnosis, positive = \"1\")$overall[\"Accuracy\"][[1]] %>% round(2)\n",
    "\n",
    "confusionMatrix(pred_class_xgb, reference = df_test$Diagnosis, positive = \"1\")"
   ]
  },
  {
   "cell_type": "markdown",
   "id": "917ddc8e-cde1-451e-86da-7d6a7e9e37bd",
   "metadata": {},
   "source": [
    "<font size = 4> **Discussion about Boosting model:** <font>"
   ]
  },
  {
   "cell_type": "markdown",
   "id": "bea47db7-a608-4e0c-8c75-730622f5ae32",
   "metadata": {},
   "source": [
    "**Accuracy:** <br>\n",
    "The accuracy of the train set is higher. However still the accuracy of the test set is the highest among all the models. We need to look at the ROC curve to analyze it better."
   ]
  },
  {
   "cell_type": "markdown",
   "id": "105c9b68-0ea9-4e78-863d-83871e82534b",
   "metadata": {},
   "source": [
    "<font size=6> Final Comparison of the models predicting the test set <font>"
   ]
  },
  {
   "cell_type": "code",
   "execution_count": 35,
   "id": "bed2b092-98f5-49fc-8a87-d09f3396c9be",
   "metadata": {},
   "outputs": [
    {
     "data": {
      "text/html": [
       "<table class=\"dataframe\">\n",
       "<caption>A data.frame: 4 × 2</caption>\n",
       "<thead>\n",
       "\t<tr><th scope=col>model</th><th scope=col>accuracy</th></tr>\n",
       "\t<tr><th scope=col>&lt;chr&gt;</th><th scope=col>&lt;dbl&gt;</th></tr>\n",
       "</thead>\n",
       "<tbody>\n",
       "\t<tr><td>xgboost      </td><td>0.74</td></tr>\n",
       "\t<tr><td>Random Forest</td><td>0.73</td></tr>\n",
       "\t<tr><td>Naive Bayes  </td><td>0.68</td></tr>\n",
       "\t<tr><td>Decision Tree</td><td>0.68</td></tr>\n",
       "</tbody>\n",
       "</table>\n"
      ],
      "text/latex": [
       "A data.frame: 4 × 2\n",
       "\\begin{tabular}{ll}\n",
       " model & accuracy\\\\\n",
       " <chr> & <dbl>\\\\\n",
       "\\hline\n",
       "\t xgboost       & 0.74\\\\\n",
       "\t Random Forest & 0.73\\\\\n",
       "\t Naive Bayes   & 0.68\\\\\n",
       "\t Decision Tree & 0.68\\\\\n",
       "\\end{tabular}\n"
      ],
      "text/markdown": [
       "\n",
       "A data.frame: 4 × 2\n",
       "\n",
       "| model &lt;chr&gt; | accuracy &lt;dbl&gt; |\n",
       "|---|---|\n",
       "| xgboost       | 0.74 |\n",
       "| Random Forest | 0.73 |\n",
       "| Naive Bayes   | 0.68 |\n",
       "| Decision Tree | 0.68 |\n",
       "\n"
      ],
      "text/plain": [
       "  model         accuracy\n",
       "1 xgboost       0.74    \n",
       "2 Random Forest 0.73    \n",
       "3 Naive Bayes   0.68    \n",
       "4 Decision Tree 0.68    "
      ]
     },
     "metadata": {},
     "output_type": "display_data"
    }
   ],
   "source": [
    "#Decision Tree, Random Forest, XGBoost\n",
    "final_comparison <-    data.frame(model = c(\"Naive Bayes\", \"Decision Tree\", \"Random Forest\", \"xgboost\"),\n",
    "                                  accuracy = c(cm_naive, cm_tree, cm_rf, cm_xgb)) %>% arrange(desc(accuracy))\n",
    "final_comparison"
   ]
  },
  {
   "cell_type": "markdown",
   "id": "b738f9cb-7bf7-4dfe-8f12-3591fbf4613c",
   "metadata": {},
   "source": [
    "Based on the results, boosting is the best-performing model in accuracy. <br>\n",
    "Given our prioritization of sensitivity over specificity, important for identifying positive cases of Appendicitis, we used a threshold of 0.5 for classifying predicted probabilities.<br>\n",
    "Random Forest is the 2nd performing model. <br>\n",
    "Considering the comparable performance of Naive Bayes and Decision tree models, all the data transformation and preparation before fitting the Naive Bayes model might not be worth it, compared to the minimal data preparation for fitting decision tree model."
   ]
  },
  {
   "cell_type": "markdown",
   "id": "c012ada9-1824-46c9-b1ad-585e4131f7b4",
   "metadata": {},
   "source": [
    "<font size = 6> ROC <font>"
   ]
  },
  {
   "cell_type": "markdown",
   "id": "312fe70a-11f1-4f57-beac-5af560a105b0",
   "metadata": {},
   "source": [
    "**Comparison of ROC curves for different models on train set**"
   ]
  },
  {
   "cell_type": "code",
   "execution_count": 36,
   "id": "0eec8f67-d68c-4fd3-a5bc-f742e4b91991",
   "metadata": {},
   "outputs": [
    {
     "name": "stderr",
     "output_type": "stream",
     "text": [
      "Setting levels: control = 0, case = 1\n",
      "\n",
      "Setting direction: controls < cases\n",
      "\n",
      "Setting levels: control = 0, case = 1\n",
      "\n",
      "Setting direction: controls < cases\n",
      "\n",
      "Setting levels: control = 0, case = 1\n",
      "\n",
      "Setting direction: controls < cases\n",
      "\n",
      "Setting levels: control = 0, case = 1\n",
      "\n",
      "Setting direction: controls < cases\n",
      "\n"
     ]
    },
    {
     "data": {
      "image/png": "[encoded data removed]",
      "text/plain": [
       "Plot with title \"ROC Curves for multiple models - train set\""
      ]
     },
     "metadata": {
      "image/png": {
       "height": 480,
       "width": 480
      }
     },
     "output_type": "display_data"
    }
   ],
   "source": [
    "options(repr.plot.width = 8, repr.plot.height = 8)\n",
    "\n",
    "plot(roc(df_train$Diagnosis, pred_prob_naive_tr), main = \"ROC Curves for multiple models - train set\", col = \"red\", lwd = 3)\n",
    "plot(roc(df_train$Diagnosis, pred_prob_tree_tr), col = \"purple\", lwd = 3, add=TRUE)\n",
    "plot(roc(df_train$Diagnosis, pred_prob_rf_tr), col = \"blue\", lwd = 3, add=TRUE)\n",
    "plot(roc(df_train$Diagnosis, pred_prob_xgb_tr), col = \"green\", lwd = 3, add=TRUE)\n",
    "\n",
    "legend(\"bottomright\", \n",
    "       legend = c(\"Naive Bayes\", \"Decision Tree\", \"Random Forest\", \"Boosting\"), \n",
    "       col = c(\"red\", \"purple\", \"blue\", \"green\"), \n",
    "       lty = 1, \n",
    "       cex = 1,\n",
    "      lwd = 6)"
   ]
  },
  {
   "cell_type": "markdown",
   "id": "eb8344b5-1291-4834-b441-ccf306f256a4",
   "metadata": {},
   "source": [
    "**Comparison of ROC curves for different models on test set**"
   ]
  },
  {
   "cell_type": "code",
   "execution_count": 37,
   "id": "0e8dd52d-21aa-46fc-aa35-aeec6047402f",
   "metadata": {},
   "outputs": [
    {
     "name": "stderr",
     "output_type": "stream",
     "text": [
      "Setting levels: control = 0, case = 1\n",
      "\n",
      "Setting direction: controls < cases\n",
      "\n",
      "Setting levels: control = 0, case = 1\n",
      "\n",
      "Setting direction: controls < cases\n",
      "\n",
      "Setting levels: control = 0, case = 1\n",
      "\n",
      "Setting direction: controls < cases\n",
      "\n",
      "Setting levels: control = 0, case = 1\n",
      "\n",
      "Setting direction: controls < cases\n",
      "\n",
      "Setting levels: control = 0, case = 1\n",
      "\n",
      "Setting direction: controls < cases\n",
      "\n"
     ]
    },
    {
     "data": {
      "image/png": "[encoded data removed]",
      "text/plain": [
       "Plot with title \"ROC Curves for multiple models-test set\""
      ]
     },
     "metadata": {
      "image/png": {
       "height": 480,
       "width": 480
      }
     },
     "output_type": "display_data"
    }
   ],
   "source": [
    "options(repr.plot.width = 8, repr.plot.height = 8)\n",
    "\n",
    "plot(roc(df_test$Diagnosis, pred_prob_naive), main = \"ROC Curves for multiple models-test set\", col = \"red\", lwd = 3)\n",
    "plot(roc(df_test$Diagnosis, pred_prob_tree), col = \"purple\", lwd = 3, add=TRUE)\n",
    "plot(roc(df_test$Diagnosis, pred_prob_rf), col = \"blue\", lwd = 3, add=TRUE)\n",
    "plot(roc(df_test$Diagnosis, pred_prob_xgb), col = \"green\", lwd = 3, add=TRUE)\n",
    "plot(roc(df_test$Diagnosis, pred_prob_step), col = \"yellow\", lwd = 3, add=TRUE)\n",
    "\n",
    "legend(\"bottomright\", \n",
    "       legend = c(\"Naive Bayes\", \"Decision Tree\", \"Random Forest\", \"Boosting\", \"Forward Backward\"), \n",
    "       col = c(\"red\", \"purple\", \"blue\", \"green\", \"yellow\"), \n",
    "       lty = 1, \n",
    "       cex = 1,\n",
    "       lwd = 6)"
   ]
  },
  {
   "cell_type": "markdown",
   "id": "fb5afb65-cc05-4885-9030-744a40474b61",
   "metadata": {},
   "source": [
    "Boosting and random forest models have the best ROC curves. <br>\n",
    "Naive Bayes curve is not as steep as the other ones, but it is still a reasonable roc curve. <br>\n",
    "Besides accuracy, since sensitivity is more important to us, boosting model has the highest sensitivity for the test set among all other models:"
   ]
  },
  {
   "cell_type": "markdown",
   "id": "73c77ec2-1353-4fd2-af0c-ae6a7dcfefd2",
   "metadata": {},
   "source": [
    "<font size = 6> Final Conclusion about the most important predictors: <font>"
   ]
  },
  {
   "cell_type": "markdown",
   "id": "a0d600d3-026c-4855-adaa-b2b421aaefff",
   "metadata": {},
   "source": [
    "\"Length_of_Stay\", \"Neutrophil_Percentage\", \"CRP\", \"WBC_Count\", and \"Peritonitis\" are the most informative variables in our dataset. <br>\n",
    "\n",
    "Given the limited number of observations for certain values, our decision to bin the data in the Naive Bayes model to increase the number of observations within each range was reasonable. We see that all the observations who stayed longer than 7 days were diagnosed with Appendicitis."
   ]
  },
  {
   "cell_type": "code",
   "execution_count": 98,
   "id": "2b56fe7a-42ad-4dfc-a466-5a68b0493a09",
   "metadata": {},
   "outputs": [
    {
     "data": {
      "text/plain": [
       "\n",
       "  1   2   3   4   5   6   7   8   9  10  11  12  13  14  19  21  28 \n",
       "  4  55 275  85  47  24  23  18   8   6   1   2   1   2   1   1   1 "
      ]
     },
     "metadata": {},
     "output_type": "display_data"
    }
   ],
   "source": [
    "table(df$Length_of_Stay)"
   ]
  },
  {
   "cell_type": "code",
   "execution_count": 99,
   "id": "2778eedf-86fc-486c-90d9-f2e48cc62239",
   "metadata": {},
   "outputs": [
    {
     "name": "stderr",
     "output_type": "stream",
     "text": [
      "\u001b[1m\u001b[22m`summarise()` has grouped output by 'Length_of_Stay'. You can override using the `.groups` argument.\n"
     ]
    },
    {
     "data": {
      "text/html": [
       "<table class=\"dataframe\">\n",
       "<caption>A grouped_df: 25 × 3</caption>\n",
       "<thead>\n",
       "\t<tr><th scope=col>Length_of_Stay</th><th scope=col>Diagnosis</th><th scope=col>count</th></tr>\n",
       "\t<tr><th scope=col>&lt;int&gt;</th><th scope=col>&lt;fct&gt;</th><th scope=col>&lt;int&gt;</th></tr>\n",
       "</thead>\n",
       "<tbody>\n",
       "\t<tr><td> 1</td><td>0</td><td>  1</td></tr>\n",
       "\t<tr><td> 1</td><td>1</td><td>  3</td></tr>\n",
       "\t<tr><td> 2</td><td>0</td><td> 38</td></tr>\n",
       "\t<tr><td> 2</td><td>1</td><td> 17</td></tr>\n",
       "\t<tr><td> 3</td><td>0</td><td>162</td></tr>\n",
       "\t<tr><td> 3</td><td>1</td><td>113</td></tr>\n",
       "\t<tr><td> 4</td><td>0</td><td> 24</td></tr>\n",
       "\t<tr><td> 4</td><td>1</td><td> 61</td></tr>\n",
       "\t<tr><td> 5</td><td>0</td><td>  8</td></tr>\n",
       "\t<tr><td> 5</td><td>1</td><td> 39</td></tr>\n",
       "\t<tr><td> 6</td><td>0</td><td>  2</td></tr>\n",
       "\t<tr><td> 6</td><td>1</td><td> 22</td></tr>\n",
       "\t<tr><td> 7</td><td>0</td><td>  1</td></tr>\n",
       "\t<tr><td> 7</td><td>1</td><td> 22</td></tr>\n",
       "\t<tr><td> 8</td><td>1</td><td> 18</td></tr>\n",
       "\t<tr><td> 9</td><td>0</td><td>  1</td></tr>\n",
       "\t<tr><td> 9</td><td>1</td><td>  7</td></tr>\n",
       "\t<tr><td>10</td><td>1</td><td>  6</td></tr>\n",
       "\t<tr><td>11</td><td>1</td><td>  1</td></tr>\n",
       "\t<tr><td>12</td><td>1</td><td>  2</td></tr>\n",
       "\t<tr><td>13</td><td>1</td><td>  1</td></tr>\n",
       "\t<tr><td>14</td><td>1</td><td>  2</td></tr>\n",
       "\t<tr><td>19</td><td>1</td><td>  1</td></tr>\n",
       "\t<tr><td>21</td><td>1</td><td>  1</td></tr>\n",
       "\t<tr><td>28</td><td>1</td><td>  1</td></tr>\n",
       "</tbody>\n",
       "</table>\n"
      ],
      "text/latex": [
       "A grouped\\_df: 25 × 3\n",
       "\\begin{tabular}{lll}\n",
       " Length\\_of\\_Stay & Diagnosis & count\\\\\n",
       " <int> & <fct> & <int>\\\\\n",
       "\\hline\n",
       "\t  1 & 0 &   1\\\\\n",
       "\t  1 & 1 &   3\\\\\n",
       "\t  2 & 0 &  38\\\\\n",
       "\t  2 & 1 &  17\\\\\n",
       "\t  3 & 0 & 162\\\\\n",
       "\t  3 & 1 & 113\\\\\n",
       "\t  4 & 0 &  24\\\\\n",
       "\t  4 & 1 &  61\\\\\n",
       "\t  5 & 0 &   8\\\\\n",
       "\t  5 & 1 &  39\\\\\n",
       "\t  6 & 0 &   2\\\\\n",
       "\t  6 & 1 &  22\\\\\n",
       "\t  7 & 0 &   1\\\\\n",
       "\t  7 & 1 &  22\\\\\n",
       "\t  8 & 1 &  18\\\\\n",
       "\t  9 & 0 &   1\\\\\n",
       "\t  9 & 1 &   7\\\\\n",
       "\t 10 & 1 &   6\\\\\n",
       "\t 11 & 1 &   1\\\\\n",
       "\t 12 & 1 &   2\\\\\n",
       "\t 13 & 1 &   1\\\\\n",
       "\t 14 & 1 &   2\\\\\n",
       "\t 19 & 1 &   1\\\\\n",
       "\t 21 & 1 &   1\\\\\n",
       "\t 28 & 1 &   1\\\\\n",
       "\\end{tabular}\n"
      ],
      "text/markdown": [
       "\n",
       "A grouped_df: 25 × 3\n",
       "\n",
       "| Length_of_Stay &lt;int&gt; | Diagnosis &lt;fct&gt; | count &lt;int&gt; |\n",
       "|---|---|---|\n",
       "|  1 | 0 |   1 |\n",
       "|  1 | 1 |   3 |\n",
       "|  2 | 0 |  38 |\n",
       "|  2 | 1 |  17 |\n",
       "|  3 | 0 | 162 |\n",
       "|  3 | 1 | 113 |\n",
       "|  4 | 0 |  24 |\n",
       "|  4 | 1 |  61 |\n",
       "|  5 | 0 |   8 |\n",
       "|  5 | 1 |  39 |\n",
       "|  6 | 0 |   2 |\n",
       "|  6 | 1 |  22 |\n",
       "|  7 | 0 |   1 |\n",
       "|  7 | 1 |  22 |\n",
       "|  8 | 1 |  18 |\n",
       "|  9 | 0 |   1 |\n",
       "|  9 | 1 |   7 |\n",
       "| 10 | 1 |   6 |\n",
       "| 11 | 1 |   1 |\n",
       "| 12 | 1 |   2 |\n",
       "| 13 | 1 |   1 |\n",
       "| 14 | 1 |   2 |\n",
       "| 19 | 1 |   1 |\n",
       "| 21 | 1 |   1 |\n",
       "| 28 | 1 |   1 |\n",
       "\n"
      ],
      "text/plain": [
       "   Length_of_Stay Diagnosis count\n",
       "1   1             0           1  \n",
       "2   1             1           3  \n",
       "3   2             0          38  \n",
       "4   2             1          17  \n",
       "5   3             0         162  \n",
       "6   3             1         113  \n",
       "7   4             0          24  \n",
       "8   4             1          61  \n",
       "9   5             0           8  \n",
       "10  5             1          39  \n",
       "11  6             0           2  \n",
       "12  6             1          22  \n",
       "13  7             0           1  \n",
       "14  7             1          22  \n",
       "15  8             1          18  \n",
       "16  9             0           1  \n",
       "17  9             1           7  \n",
       "18 10             1           6  \n",
       "19 11             1           1  \n",
       "20 12             1           2  \n",
       "21 13             1           1  \n",
       "22 14             1           2  \n",
       "23 19             1           1  \n",
       "24 21             1           1  \n",
       "25 28             1           1  "
      ]
     },
     "metadata": {},
     "output_type": "display_data"
    }
   ],
   "source": [
    "df %>% group_by(Length_of_Stay, Diagnosis) %>% summarize(count = n())"
   ]
  },
  {
   "cell_type": "code",
   "execution_count": 100,
   "id": "2d93fa84-278e-4936-90e6-3c8d2359cd60",
   "metadata": {},
   "outputs": [
    {
     "data": {
      "text/html": [
       "<table class=\"dataframe\">\n",
       "<caption>A tibble: 2 × 2</caption>\n",
       "<thead>\n",
       "\t<tr><th scope=col>Diagnosis</th><th scope=col>mean(Neutrophil_Percentage)</th></tr>\n",
       "\t<tr><th scope=col>&lt;fct&gt;</th><th scope=col>&lt;dbl&gt;</th></tr>\n",
       "</thead>\n",
       "<tbody>\n",
       "\t<tr><td>0</td><td>65</td></tr>\n",
       "\t<tr><td>1</td><td>76</td></tr>\n",
       "</tbody>\n",
       "</table>\n"
      ],
      "text/latex": [
       "A tibble: 2 × 2\n",
       "\\begin{tabular}{ll}\n",
       " Diagnosis & mean(Neutrophil\\_Percentage)\\\\\n",
       " <fct> & <dbl>\\\\\n",
       "\\hline\n",
       "\t 0 & 65\\\\\n",
       "\t 1 & 76\\\\\n",
       "\\end{tabular}\n"
      ],
      "text/markdown": [
       "\n",
       "A tibble: 2 × 2\n",
       "\n",
       "| Diagnosis &lt;fct&gt; | mean(Neutrophil_Percentage) &lt;dbl&gt; |\n",
       "|---|---|\n",
       "| 0 | 65 |\n",
       "| 1 | 76 |\n",
       "\n"
      ],
      "text/plain": [
       "  Diagnosis mean(Neutrophil_Percentage)\n",
       "1 0         65                         \n",
       "2 1         76                         "
      ]
     },
     "metadata": {},
     "output_type": "display_data"
    },
    {
     "data": {
      "text/html": [
       "<table class=\"dataframe\">\n",
       "<caption>A tibble: 2 × 2</caption>\n",
       "<thead>\n",
       "\t<tr><th scope=col>Diagnosis</th><th scope=col>mean(CRP)</th></tr>\n",
       "\t<tr><th scope=col>&lt;fct&gt;</th><th scope=col>&lt;dbl&gt;</th></tr>\n",
       "</thead>\n",
       "<tbody>\n",
       "\t<tr><td>0</td><td>11</td></tr>\n",
       "\t<tr><td>1</td><td>37</td></tr>\n",
       "</tbody>\n",
       "</table>\n"
      ],
      "text/latex": [
       "A tibble: 2 × 2\n",
       "\\begin{tabular}{ll}\n",
       " Diagnosis & mean(CRP)\\\\\n",
       " <fct> & <dbl>\\\\\n",
       "\\hline\n",
       "\t 0 & 11\\\\\n",
       "\t 1 & 37\\\\\n",
       "\\end{tabular}\n"
      ],
      "text/markdown": [
       "\n",
       "A tibble: 2 × 2\n",
       "\n",
       "| Diagnosis &lt;fct&gt; | mean(CRP) &lt;dbl&gt; |\n",
       "|---|---|\n",
       "| 0 | 11 |\n",
       "| 1 | 37 |\n",
       "\n"
      ],
      "text/plain": [
       "  Diagnosis mean(CRP)\n",
       "1 0         11       \n",
       "2 1         37       "
      ]
     },
     "metadata": {},
     "output_type": "display_data"
    },
    {
     "data": {
      "text/html": [
       "<table class=\"dataframe\">\n",
       "<caption>A tibble: 2 × 2</caption>\n",
       "<thead>\n",
       "\t<tr><th scope=col>Diagnosis</th><th scope=col>mean(WBC_Count)</th></tr>\n",
       "\t<tr><th scope=col>&lt;fct&gt;</th><th scope=col>&lt;dbl&gt;</th></tr>\n",
       "</thead>\n",
       "<tbody>\n",
       "\t<tr><td>0</td><td>10</td></tr>\n",
       "\t<tr><td>1</td><td>14</td></tr>\n",
       "</tbody>\n",
       "</table>\n"
      ],
      "text/latex": [
       "A tibble: 2 × 2\n",
       "\\begin{tabular}{ll}\n",
       " Diagnosis & mean(WBC\\_Count)\\\\\n",
       " <fct> & <dbl>\\\\\n",
       "\\hline\n",
       "\t 0 & 10\\\\\n",
       "\t 1 & 14\\\\\n",
       "\\end{tabular}\n"
      ],
      "text/markdown": [
       "\n",
       "A tibble: 2 × 2\n",
       "\n",
       "| Diagnosis &lt;fct&gt; | mean(WBC_Count) &lt;dbl&gt; |\n",
       "|---|---|\n",
       "| 0 | 10 |\n",
       "| 1 | 14 |\n",
       "\n"
      ],
      "text/plain": [
       "  Diagnosis mean(WBC_Count)\n",
       "1 0         10             \n",
       "2 1         14             "
      ]
     },
     "metadata": {},
     "output_type": "display_data"
    },
    {
     "name": "stderr",
     "output_type": "stream",
     "text": [
      "\u001b[1m\u001b[22m`summarise()` has grouped output by 'Diagnosis'. You can override using the `.groups` argument.\n"
     ]
    },
    {
     "data": {
      "text/html": [
       "<table class=\"dataframe\">\n",
       "<caption>A grouped_df: 4 × 4</caption>\n",
       "<thead>\n",
       "\t<tr><th scope=col>Diagnosis</th><th scope=col>Peritonitis</th><th scope=col>count</th><th scope=col>perc</th></tr>\n",
       "\t<tr><th scope=col>&lt;fct&gt;</th><th scope=col>&lt;fct&gt;</th><th scope=col>&lt;int&gt;</th><th scope=col>&lt;chr&gt;</th></tr>\n",
       "</thead>\n",
       "<tbody>\n",
       "\t<tr><td>0</td><td>no </td><td>213</td><td>90%</td></tr>\n",
       "\t<tr><td>0</td><td>yes</td><td> 24</td><td>10%</td></tr>\n",
       "\t<tr><td>1</td><td>no </td><td>186</td><td>59%</td></tr>\n",
       "\t<tr><td>1</td><td>yes</td><td>131</td><td>41%</td></tr>\n",
       "</tbody>\n",
       "</table>\n"
      ],
      "text/latex": [
       "A grouped\\_df: 4 × 4\n",
       "\\begin{tabular}{llll}\n",
       " Diagnosis & Peritonitis & count & perc\\\\\n",
       " <fct> & <fct> & <int> & <chr>\\\\\n",
       "\\hline\n",
       "\t 0 & no  & 213 & 90\\%\\\\\n",
       "\t 0 & yes &  24 & 10\\%\\\\\n",
       "\t 1 & no  & 186 & 59\\%\\\\\n",
       "\t 1 & yes & 131 & 41\\%\\\\\n",
       "\\end{tabular}\n"
      ],
      "text/markdown": [
       "\n",
       "A grouped_df: 4 × 4\n",
       "\n",
       "| Diagnosis &lt;fct&gt; | Peritonitis &lt;fct&gt; | count &lt;int&gt; | perc &lt;chr&gt; |\n",
       "|---|---|---|---|\n",
       "| 0 | no  | 213 | 90% |\n",
       "| 0 | yes |  24 | 10% |\n",
       "| 1 | no  | 186 | 59% |\n",
       "| 1 | yes | 131 | 41% |\n",
       "\n"
      ],
      "text/plain": [
       "  Diagnosis Peritonitis count perc\n",
       "1 0         no          213   90% \n",
       "2 0         yes          24   10% \n",
       "3 1         no          186   59% \n",
       "4 1         yes         131   41% "
      ]
     },
     "metadata": {},
     "output_type": "display_data"
    }
   ],
   "source": [
    "df %>% group_by(Diagnosis) %>% summarize(mean(Neutrophil_Percentage))\n",
    "df %>% group_by(Diagnosis) %>% summarize(mean(CRP))\n",
    "df %>% group_by(Diagnosis) %>% summarize(mean(WBC_Count))\n",
    "df %>% group_by(Diagnosis, Peritonitis) %>% summarize(count = n()) %>% mutate(perc = round(count *100/sum(count))) %>% mutate(perc = paste0(perc, \"%\"))"
   ]
  },
  {
   "cell_type": "markdown",
   "id": "3cd498df-c944-4684-91f9-4252fcafd360",
   "metadata": {},
   "source": []
  },
  {
   "cell_type": "code",
   "execution_count": 101,
   "id": "743c6e34-2701-4579-932c-6a379f345987",
   "metadata": {},
   "outputs": [
    {
     "data": {
      "text/html": [
       "<table class=\"dataframe\">\n",
       "<caption>A tibble: 2 × 2</caption>\n",
       "<thead>\n",
       "\t<tr><th scope=col>Peritonitis</th><th scope=col>mean(Length_of_Stay)</th></tr>\n",
       "\t<tr><th scope=col>&lt;fct&gt;</th><th scope=col>&lt;dbl&gt;</th></tr>\n",
       "</thead>\n",
       "<tbody>\n",
       "\t<tr><td>no </td><td>3.5</td></tr>\n",
       "\t<tr><td>yes</td><td>5.3</td></tr>\n",
       "</tbody>\n",
       "</table>\n"
      ],
      "text/latex": [
       "A tibble: 2 × 2\n",
       "\\begin{tabular}{ll}\n",
       " Peritonitis & mean(Length\\_of\\_Stay)\\\\\n",
       " <fct> & <dbl>\\\\\n",
       "\\hline\n",
       "\t no  & 3.5\\\\\n",
       "\t yes & 5.3\\\\\n",
       "\\end{tabular}\n"
      ],
      "text/markdown": [
       "\n",
       "A tibble: 2 × 2\n",
       "\n",
       "| Peritonitis &lt;fct&gt; | mean(Length_of_Stay) &lt;dbl&gt; |\n",
       "|---|---|\n",
       "| no  | 3.5 |\n",
       "| yes | 5.3 |\n",
       "\n"
      ],
      "text/plain": [
       "  Peritonitis mean(Length_of_Stay)\n",
       "1 no          3.5                 \n",
       "2 yes         5.3                 "
      ]
     },
     "metadata": {},
     "output_type": "display_data"
    }
   ],
   "source": [
    "df %>% group_by(Peritonitis) %>% summarize(mean(Length_of_Stay))"
   ]
  },
  {
   "cell_type": "markdown",
   "id": "8a50fcef-d583-4b42-9468-3cd98eee081d",
   "metadata": {},
   "source": [
    "Peritonitis, often occurs from a burst appendix, accompanied by severe case of appendicitis. That could be the reason why not more appendicitis cases have that. <br>\n",
    "Also it explains why patients who had Peritonitis, stayed in the hospital longer."
   ]
  },
  {
   "cell_type": "markdown",
   "id": "07796765-acba-4cd9-8a5a-795a9efb8f1d",
   "metadata": {},
   "source": [
    "**CONCLUSION:**\n",
    "\n",
    "Based on our models, boosting is the best model for predicting the appendicitis cases. <br>\n",
    "**\"Length_of_Stay\"**, **\"Neutrophil_Percentage\"**, **\"CRP\"**, **\"WBC_Count\"**, and **\"Peritonitis\"** are the most informative variables in diagnosing appendicitis case. <br>\n",
    "However, total length of stay is not known before diagnosis, therefore as the possible next steps we can exclude **Length_of_Stay** from the models and evaluate them again. <br>\n",
    "\n",
    "**White blood cell counts(CRP, Neutrophil, WBC and Peritonitis)** are **good indicators of inflammation or infection**, and since the dataset is for people experiencing abdominal pain, they could be the best predictors of appendicitis cases."
   ]
  },
  {
   "cell_type": "code",
   "execution_count": null,
   "id": "6f14720f-3b87-4f31-b535-de7918e15b25",
   "metadata": {},
   "outputs": [],
   "source": []
  }
 ],
 "metadata": {
  "kernelspec": {
   "display_name": "R",
   "language": "R",
   "name": "ir"
  },
  "language_info": {
   "codemirror_mode": "r",
   "file_extension": ".r",
   "mimetype": "text/x-r-source",
   "name": "R",
   "pygments_lexer": "r",
   "version": "4.3.2"
  }
 },
 "nbformat": 4,
 "nbformat_minor": 5
}
