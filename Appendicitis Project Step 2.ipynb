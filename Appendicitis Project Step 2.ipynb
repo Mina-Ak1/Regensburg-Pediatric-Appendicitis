{
 "cells": [
  {
   "cell_type": "code",
   "execution_count": 52,
   "id": "e7a11bc6-1586-4db1-8bf1-c6448f3f577f",
   "metadata": {},
   "outputs": [],
   "source": [
    "#load requiered libraries\n",
    "library(tidyverse)\n",
    "library(ggplot2)\n",
    "library(dplyr)\n",
    "library(caret)\n",
    "library(GGally)\n",
    "library(pROC)\n",
    "\n",
    "options(\n",
    "  digits = 2,\n",
    "  scipen = 999\n",
    ")"
   ]
  },
  {
   "cell_type": "markdown",
   "id": "d9a39de8-cae6-4f62-b911-4bd6998c3235",
   "metadata": {},
   "source": [
    "<font size = 6> Form Step 1: Data Cleaning <font>"
   ]
  },
  {
   "cell_type": "markdown",
   "id": "6331be70-eb80-4fd1-98f7-52ba06ca2350",
   "metadata": {},
   "source": [
    "https://archive.ics.uci.edu/dataset/938/regensburg+pediatric+appendicitis\n",
    "\n",
    "This repository holds the data from a cohort of **pediatric patients with suspected appendicitis admitted with abdominal pain to Children’s Hospital St. Hedwig in Regensburg, Germany, between 2016 and 2021**. <br>\n",
    "\n",
    "Each patient has (potentially multiple) ultrasound (US) images, aka views, tabular data comprising laboratory, physical examination, scoring results and ultrasonographic findings extracted manually by the experts, and three target variables, namely, diagnosis, management and severity. <br>\n",
    "\n",
    "This data has 782 rows and 58 columns. There is a combination of binary, categorical, integer and continuous predictor columns. <br>\n",
    "\n",
    "From column 25 onwards there are multiple columns with na values majorly. These columns are also very specialized and we might not be able to interprete them as good as the other columns. Therefore we will make a selection of the features that are good candidates for our model based on the number of NA values and colinearity."
   ]
  },
  {
   "cell_type": "code",
   "execution_count": 2,
   "id": "fae30253-1c51-4ae0-8355-c481d394c3f7",
   "metadata": {},
   "outputs": [
    {
     "data": {
      "text/html": [
       "<table class=\"dataframe\">\n",
       "<caption>A data.frame: 6 × 58</caption>\n",
       "<thead>\n",
       "\t<tr><th></th><th scope=col>Age</th><th scope=col>BMI</th><th scope=col>Sex</th><th scope=col>Height</th><th scope=col>Weight</th><th scope=col>Length_of_Stay</th><th scope=col>Management</th><th scope=col>Severity</th><th scope=col>Diagnosis_Presumptive</th><th scope=col>Diagnosis</th><th scope=col>⋯</th><th scope=col>Abscess_Location</th><th scope=col>Pathological_Lymph_Nodes</th><th scope=col>Lymph_Nodes_Location</th><th scope=col>Bowel_Wall_Thickening</th><th scope=col>Conglomerate_of_Bowel_Loops</th><th scope=col>Ileus</th><th scope=col>Coprostasis</th><th scope=col>Meteorism</th><th scope=col>Enteritis</th><th scope=col>Gynecological_Findings</th></tr>\n",
       "\t<tr><th></th><th scope=col>&lt;dbl&gt;</th><th scope=col>&lt;chr&gt;</th><th scope=col>&lt;chr&gt;</th><th scope=col>&lt;dbl&gt;</th><th scope=col>&lt;dbl&gt;</th><th scope=col>&lt;dbl&gt;</th><th scope=col>&lt;chr&gt;</th><th scope=col>&lt;chr&gt;</th><th scope=col>&lt;chr&gt;</th><th scope=col>&lt;chr&gt;</th><th scope=col>⋯</th><th scope=col>&lt;chr&gt;</th><th scope=col>&lt;chr&gt;</th><th scope=col>&lt;chr&gt;</th><th scope=col>&lt;chr&gt;</th><th scope=col>&lt;chr&gt;</th><th scope=col>&lt;chr&gt;</th><th scope=col>&lt;chr&gt;</th><th scope=col>&lt;chr&gt;</th><th scope=col>&lt;chr&gt;</th><th scope=col>&lt;chr&gt;</th></tr>\n",
       "</thead>\n",
       "<tbody>\n",
       "\t<tr><th scope=row>1</th><td>13</td><td>16.899999999999999</td><td>female</td><td>148</td><td>37</td><td>3</td><td>conservative</td><td>uncomplicated</td><td>appendicitis</td><td>appendicitis   </td><td>⋯</td><td>NA</td><td>yes</td><td>reUB</td><td>NA</td><td>NA</td><td>NA</td><td>NA</td><td>NA </td><td>NA </td><td>NA</td></tr>\n",
       "\t<tr><th scope=row>2</th><td>14</td><td>31.9              </td><td>male  </td><td>147</td><td>70</td><td>2</td><td>conservative</td><td>uncomplicated</td><td>appendicitis</td><td>no appendicitis</td><td>⋯</td><td>NA</td><td>NA </td><td>NA  </td><td>NA</td><td>NA</td><td>NA</td><td>NA</td><td>yes</td><td>NA </td><td>NA</td></tr>\n",
       "\t<tr><th scope=row>3</th><td>14</td><td>23.3              </td><td>female</td><td>163</td><td>62</td><td>4</td><td>conservative</td><td>uncomplicated</td><td>appendicitis</td><td>no appendicitis</td><td>⋯</td><td>NA</td><td>NA </td><td>NA  </td><td>NA</td><td>NA</td><td>NA</td><td>NA</td><td>yes</td><td>yes</td><td>NA</td></tr>\n",
       "\t<tr><th scope=row>4</th><td>16</td><td>20.6              </td><td>female</td><td>165</td><td>56</td><td>3</td><td>conservative</td><td>uncomplicated</td><td>appendicitis</td><td>no appendicitis</td><td>⋯</td><td>NA</td><td>yes</td><td>reUB</td><td>NA</td><td>NA</td><td>NA</td><td>NA</td><td>NA </td><td>yes</td><td>NA</td></tr>\n",
       "\t<tr><th scope=row>5</th><td>11</td><td>16.899999999999999</td><td>female</td><td>163</td><td>45</td><td>3</td><td>conservative</td><td>uncomplicated</td><td>appendicitis</td><td>appendicitis   </td><td>⋯</td><td>NA</td><td>yes</td><td>reUB</td><td>NA</td><td>NA</td><td>NA</td><td>NA</td><td>NA </td><td>yes</td><td>NA</td></tr>\n",
       "\t<tr><th scope=row>6</th><td>11</td><td>30.7              </td><td>male  </td><td>121</td><td>45</td><td>3</td><td>conservative</td><td>uncomplicated</td><td>appendicitis</td><td>no appendicitis</td><td>⋯</td><td>NA</td><td>NA </td><td>NA  </td><td>NA</td><td>NA</td><td>NA</td><td>NA</td><td>NA </td><td>NA </td><td>NA</td></tr>\n",
       "</tbody>\n",
       "</table>\n"
      ],
      "text/latex": [
       "A data.frame: 6 × 58\n",
       "\\begin{tabular}{r|lllllllllllllllllllll}\n",
       "  & Age & BMI & Sex & Height & Weight & Length\\_of\\_Stay & Management & Severity & Diagnosis\\_Presumptive & Diagnosis & ⋯ & Abscess\\_Location & Pathological\\_Lymph\\_Nodes & Lymph\\_Nodes\\_Location & Bowel\\_Wall\\_Thickening & Conglomerate\\_of\\_Bowel\\_Loops & Ileus & Coprostasis & Meteorism & Enteritis & Gynecological\\_Findings\\\\\n",
       "  & <dbl> & <chr> & <chr> & <dbl> & <dbl> & <dbl> & <chr> & <chr> & <chr> & <chr> & ⋯ & <chr> & <chr> & <chr> & <chr> & <chr> & <chr> & <chr> & <chr> & <chr> & <chr>\\\\\n",
       "\\hline\n",
       "\t1 & 13 & 16.899999999999999 & female & 148 & 37 & 3 & conservative & uncomplicated & appendicitis & appendicitis    & ⋯ & NA & yes & reUB & NA & NA & NA & NA & NA  & NA  & NA\\\\\n",
       "\t2 & 14 & 31.9               & male   & 147 & 70 & 2 & conservative & uncomplicated & appendicitis & no appendicitis & ⋯ & NA & NA  & NA   & NA & NA & NA & NA & yes & NA  & NA\\\\\n",
       "\t3 & 14 & 23.3               & female & 163 & 62 & 4 & conservative & uncomplicated & appendicitis & no appendicitis & ⋯ & NA & NA  & NA   & NA & NA & NA & NA & yes & yes & NA\\\\\n",
       "\t4 & 16 & 20.6               & female & 165 & 56 & 3 & conservative & uncomplicated & appendicitis & no appendicitis & ⋯ & NA & yes & reUB & NA & NA & NA & NA & NA  & yes & NA\\\\\n",
       "\t5 & 11 & 16.899999999999999 & female & 163 & 45 & 3 & conservative & uncomplicated & appendicitis & appendicitis    & ⋯ & NA & yes & reUB & NA & NA & NA & NA & NA  & yes & NA\\\\\n",
       "\t6 & 11 & 30.7               & male   & 121 & 45 & 3 & conservative & uncomplicated & appendicitis & no appendicitis & ⋯ & NA & NA  & NA   & NA & NA & NA & NA & NA  & NA  & NA\\\\\n",
       "\\end{tabular}\n"
      ],
      "text/markdown": [
       "\n",
       "A data.frame: 6 × 58\n",
       "\n",
       "| <!--/--> | Age &lt;dbl&gt; | BMI &lt;chr&gt; | Sex &lt;chr&gt; | Height &lt;dbl&gt; | Weight &lt;dbl&gt; | Length_of_Stay &lt;dbl&gt; | Management &lt;chr&gt; | Severity &lt;chr&gt; | Diagnosis_Presumptive &lt;chr&gt; | Diagnosis &lt;chr&gt; | ⋯ ⋯ | Abscess_Location &lt;chr&gt; | Pathological_Lymph_Nodes &lt;chr&gt; | Lymph_Nodes_Location &lt;chr&gt; | Bowel_Wall_Thickening &lt;chr&gt; | Conglomerate_of_Bowel_Loops &lt;chr&gt; | Ileus &lt;chr&gt; | Coprostasis &lt;chr&gt; | Meteorism &lt;chr&gt; | Enteritis &lt;chr&gt; | Gynecological_Findings &lt;chr&gt; |\n",
       "|---|---|---|---|---|---|---|---|---|---|---|---|---|---|---|---|---|---|---|---|---|---|\n",
       "| 1 | 13 | 16.899999999999999 | female | 148 | 37 | 3 | conservative | uncomplicated | appendicitis | appendicitis    | ⋯ | NA | yes | reUB | NA | NA | NA | NA | NA  | NA  | NA |\n",
       "| 2 | 14 | 31.9               | male   | 147 | 70 | 2 | conservative | uncomplicated | appendicitis | no appendicitis | ⋯ | NA | NA  | NA   | NA | NA | NA | NA | yes | NA  | NA |\n",
       "| 3 | 14 | 23.3               | female | 163 | 62 | 4 | conservative | uncomplicated | appendicitis | no appendicitis | ⋯ | NA | NA  | NA   | NA | NA | NA | NA | yes | yes | NA |\n",
       "| 4 | 16 | 20.6               | female | 165 | 56 | 3 | conservative | uncomplicated | appendicitis | no appendicitis | ⋯ | NA | yes | reUB | NA | NA | NA | NA | NA  | yes | NA |\n",
       "| 5 | 11 | 16.899999999999999 | female | 163 | 45 | 3 | conservative | uncomplicated | appendicitis | appendicitis    | ⋯ | NA | yes | reUB | NA | NA | NA | NA | NA  | yes | NA |\n",
       "| 6 | 11 | 30.7               | male   | 121 | 45 | 3 | conservative | uncomplicated | appendicitis | no appendicitis | ⋯ | NA | NA  | NA   | NA | NA | NA | NA | NA  | NA  | NA |\n",
       "\n"
      ],
      "text/plain": [
       "  Age BMI                Sex    Height Weight Length_of_Stay Management  \n",
       "1 13  16.899999999999999 female 148    37     3              conservative\n",
       "2 14  31.9               male   147    70     2              conservative\n",
       "3 14  23.3               female 163    62     4              conservative\n",
       "4 16  20.6               female 165    56     3              conservative\n",
       "5 11  16.899999999999999 female 163    45     3              conservative\n",
       "6 11  30.7               male   121    45     3              conservative\n",
       "  Severity      Diagnosis_Presumptive Diagnosis       ⋯ Abscess_Location\n",
       "1 uncomplicated appendicitis          appendicitis    ⋯ NA              \n",
       "2 uncomplicated appendicitis          no appendicitis ⋯ NA              \n",
       "3 uncomplicated appendicitis          no appendicitis ⋯ NA              \n",
       "4 uncomplicated appendicitis          no appendicitis ⋯ NA              \n",
       "5 uncomplicated appendicitis          appendicitis    ⋯ NA              \n",
       "6 uncomplicated appendicitis          no appendicitis ⋯ NA              \n",
       "  Pathological_Lymph_Nodes Lymph_Nodes_Location Bowel_Wall_Thickening\n",
       "1 yes                      reUB                 NA                   \n",
       "2 NA                       NA                   NA                   \n",
       "3 NA                       NA                   NA                   \n",
       "4 yes                      reUB                 NA                   \n",
       "5 yes                      reUB                 NA                   \n",
       "6 NA                       NA                   NA                   \n",
       "  Conglomerate_of_Bowel_Loops Ileus Coprostasis Meteorism Enteritis\n",
       "1 NA                          NA    NA          NA        NA       \n",
       "2 NA                          NA    NA          yes       NA       \n",
       "3 NA                          NA    NA          yes       yes      \n",
       "4 NA                          NA    NA          NA        yes      \n",
       "5 NA                          NA    NA          NA        yes      \n",
       "6 NA                          NA    NA          NA        NA       \n",
       "  Gynecological_Findings\n",
       "1 NA                    \n",
       "2 NA                    \n",
       "3 NA                    \n",
       "4 NA                    \n",
       "5 NA                    \n",
       "6 NA                    "
      ]
     },
     "metadata": {},
     "output_type": "display_data"
    },
    {
     "data": {
      "text/html": [
       "<style>\n",
       ".list-inline {list-style: none; margin:0; padding: 0}\n",
       ".list-inline>li {display: inline-block}\n",
       ".list-inline>li:not(:last-child)::after {content: \"\\00b7\"; padding: 0 .5ex}\n",
       "</style>\n",
       "<ol class=list-inline><li>782</li><li>58</li></ol>\n"
      ],
      "text/latex": [
       "\\begin{enumerate*}\n",
       "\\item 782\n",
       "\\item 58\n",
       "\\end{enumerate*}\n"
      ],
      "text/markdown": [
       "1. 782\n",
       "2. 58\n",
       "\n",
       "\n"
      ],
      "text/plain": [
       "[1] 782  58"
      ]
     },
     "metadata": {},
     "output_type": "display_data"
    }
   ],
   "source": [
    "#Load raw data\n",
    "df <-  readxl::read_excel(\"C:\\\\Users\\\\minaa\\\\Desktop\\\\Statistics\\\\Spring 2024\\\\STA 6714\\\\Term Project\\\\app_data.xlsx\") %>% data.frame()\n",
    "head(df)\n",
    "dim(df)"
   ]
  },
  {
   "cell_type": "markdown",
   "id": "84d6e712-6d39-4f09-abf7-cb7817351142",
   "metadata": {},
   "source": [
    "<font size = 5> Remove Null and irrelavant columns <font>"
   ]
  },
  {
   "cell_type": "code",
   "execution_count": 3,
   "id": "77e7d88e-c2c0-4446-a530-91b1fba7ecf2",
   "metadata": {},
   "outputs": [],
   "source": [
    "#What percentage of each column is NULL value?\n",
    "NA_percentage <- df %>%\n",
    "  summarise_all(~mean(is.na(.)) * 100) %>%\n",
    "  mutate_all(.funs = ~round(., digits = 2))\n",
    "\n",
    "#Only keep columns with less than 20% NA values.\n",
    "selected_features <- NA_percentage %>% \n",
    "                        select_if(~all(. < 20)) %>% \n",
    "                        colnames()\n",
    "\n",
    "#Remove other two target columns and only keep \"Diagnosis\" as our target column. Also put the target column at the end.\n",
    "selected_features <- c(selected_features[-c(7,8, 10)], selected_features[10])\n",
    "\n",
    "df_clean <- df[,selected_features]\n",
    "\n",
    "\n",
    "#Eliminate the two rows that have null values for the target column.\n",
    "df_clean = df_clean[complete.cases(df_clean$Diagnosis),]\n",
    "\n",
    "\n",
    "#Remove Ultra sound number, US_Performed, Diagnosis_Presumptive and drop NA values\n",
    "df_clean <- df_clean %>%\n",
    "            select(-US_Number, , -US_Performed, -Diagnosis_Presumptive) %>%\n",
    "            drop_na()\n",
    "\n",
    "#Convert the target values to 0 and 1\n",
    "df_clean <-   df_clean %>%\n",
    "              mutate(Diagnosis = as.factor(if_else(Diagnosis == \"appendicitis\", 1, 0))) \n"
   ]
  },
  {
   "cell_type": "markdown",
   "id": "a8ee645d-9311-4e12-bdb3-59bcc0c49cee",
   "metadata": {},
   "source": [
    "<font size = 6 > Correlation and Collinearity  <font>"
   ]
  },
  {
   "cell_type": "code",
   "execution_count": 4,
   "id": "3df7997f-1469-434a-a141-9568ee8c0677",
   "metadata": {
    "scrolled": true
   },
   "outputs": [
    {
     "data": {
      "image/png": "[encoded data removed]",
      "text/plain": [
       "plot without title"
      ]
     },
     "metadata": {
      "image/png": {
       "height": 480,
       "width": 480
      }
     },
     "output_type": "display_data"
    }
   ],
   "source": [
    "options(repr.plot.width = 8, repr.plot.height = 8)\n",
    "\n",
    "#Check the correlation between the variables\n",
    "\n",
    "df_clean %>% \n",
    "select(where(is.numeric)) %>%\n",
    "cor() %>%\n",
    "ggcorrplot::ggcorrplot()"
   ]
  },
  {
   "cell_type": "markdown",
   "id": "78794b17-3b6d-45f4-bf30-5932fbceb952",
   "metadata": {},
   "source": [
    "Weight and Height have high correlation. We can remove **Height** without loosing much information from our data. <br>\n",
    "\n",
    "\n",
    "Paedriatic_Appendicitis_Score and Alvarado_Score are highly correlated too. Let's look at their relationship with the target value and their definitions.\n",
    "\n",
    "**Paedriatic_Appendicitis_Score:** <br>\n",
    "*Definition:* It is a clinical score that helps determine the risk of appendicitis in children. A score of 6 or more makes the true case of appendicitis very likely. <br>\n",
    "*Components:* Abdominal pain, Anorexia, Nausea, Fever and altered bowel habits.\n",
    "\n",
    "**Alvarado_Score:** <br>\n",
    "*Definition:* It is an older scoring system used to help diagnose appendicitis. <br>\n",
    "*Components:* Nausea, Anorexia, Migration of pain, Reound pain, Elevated temperature."
   ]
  },
  {
   "cell_type": "code",
   "execution_count": 5,
   "id": "7716e7f6-9a2d-4f19-a8b1-0a727b6a4d37",
   "metadata": {},
   "outputs": [
    {
     "data": {
      "image/png": "[encoded data removed]",
      "text/plain": [
       "plot without title"
      ]
     },
     "metadata": {
      "image/png": {
       "height": 240,
       "width": 720
      }
     },
     "output_type": "display_data"
    }
   ],
   "source": [
    "options(repr.plot.width = 12, repr.plot.height = 4)\n",
    "\n",
    "#Exploring the relationship between Paedriatic_Appendicitis_Score, Alvarado_Score and the target variable\n",
    "plot_1<-  ggplot(df_clean) +\n",
    "            aes(x=Age, y=Paedriatic_Appendicitis_Score, color = Diagnosis) +\n",
    "            geom_point(size = 3) +\n",
    "            scale_color_manual(values = c(\"0\" = \"green\", \"1\" = \"red\")) +\n",
    "            theme_bw() +\n",
    "            labs(title = \"Paedriatic_Appendicitis_Score vs Diagnosis\") +\n",
    "            theme(plot.title = element_text(size=20))\n",
    "\n",
    "plot_2<-  ggplot(df_clean) +\n",
    "            aes(x=Age, y=Alvarado_Score, color = Diagnosis) +\n",
    "            geom_point(size = 3) +\n",
    "            scale_color_manual(values = c(\"0\" = \"green\", \"1\" = \"red\")) +\n",
    "            theme_bw() +\n",
    "            labs(title = \"Alvarado_Score vs Diagnosis\") +\n",
    "            theme(plot.title = element_text(size=20))\n",
    "\n",
    "gridExtra::grid.arrange(plot_1, plot_2, ncol =2)"
   ]
  },
  {
   "cell_type": "markdown",
   "id": "b9e8a2e1-104d-43e8-adc8-2ccce382d9c3",
   "metadata": {},
   "source": [
    "As we expected the higher the Paedriatic_Appendicitis_Score or the Alvarado_Score the higher the chance of appendicitis diagnosis. <br>\n",
    "Since the components of these two scoring systems are approximately covered by the other predictors, it is better to drop these two columns and avoid any collinearity."
   ]
  },
  {
   "cell_type": "code",
   "execution_count": 6,
   "id": "33a2f054-8737-4101-b57d-b85ddead55bc",
   "metadata": {},
   "outputs": [],
   "source": [
    "#drop columns\n",
    "df_clean <- df_clean %>%\n",
    "select(-Height, -Alvarado_Score, -Paedriatic_Appendicitis_Score)"
   ]
  },
  {
   "cell_type": "code",
   "execution_count": 7,
   "id": "1ef8f660-8800-4471-97ef-e9de1ab9adff",
   "metadata": {},
   "outputs": [
    {
     "name": "stderr",
     "output_type": "stream",
     "text": [
      "\u001b[1m\u001b[22m`summarise()` has grouped output by 'Appendix_on_US'. You can override using the `.groups` argument.\n"
     ]
    },
    {
     "data": {
      "text/html": [
       "<table class=\"dataframe\">\n",
       "<caption>A grouped_df: 4 × 4</caption>\n",
       "<thead>\n",
       "\t<tr><th scope=col>Appendix_on_US</th><th scope=col>Diagnosis</th><th scope=col>count</th><th scope=col>percentage</th></tr>\n",
       "\t<tr><th scope=col>&lt;chr&gt;</th><th scope=col>&lt;fct&gt;</th><th scope=col>&lt;int&gt;</th><th scope=col>&lt;chr&gt;</th></tr>\n",
       "</thead>\n",
       "<tbody>\n",
       "\t<tr><td>no </td><td>0</td><td>138</td><td>138\n",
       "77%</td></tr>\n",
       "\t<tr><td>no </td><td>1</td><td> 42</td><td>42\n",
       "23% </td></tr>\n",
       "\t<tr><td>yes</td><td>0</td><td> 99</td><td>99\n",
       "26% </td></tr>\n",
       "\t<tr><td>yes</td><td>1</td><td>275</td><td>275\n",
       "74%</td></tr>\n",
       "</tbody>\n",
       "</table>\n"
      ],
      "text/latex": [
       "A grouped\\_df: 4 × 4\n",
       "\\begin{tabular}{llll}\n",
       " Appendix\\_on\\_US & Diagnosis & count & percentage\\\\\n",
       " <chr> & <fct> & <int> & <chr>\\\\\n",
       "\\hline\n",
       "\t no  & 0 & 138 & 138\n",
       "77\\%\\\\\n",
       "\t no  & 1 &  42 & 42\n",
       "23\\% \\\\\n",
       "\t yes & 0 &  99 & 99\n",
       "26\\% \\\\\n",
       "\t yes & 1 & 275 & 275\n",
       "74\\%\\\\\n",
       "\\end{tabular}\n"
      ],
      "text/markdown": [
       "\n",
       "A grouped_df: 4 × 4\n",
       "\n",
       "| Appendix_on_US &lt;chr&gt; | Diagnosis &lt;fct&gt; | count &lt;int&gt; | percentage &lt;chr&gt; |\n",
       "|---|---|---|---|\n",
       "| no  | 0 | 138 | 138\n",
       "77% |\n",
       "| no  | 1 |  42 | 42\n",
       "23%  |\n",
       "| yes | 0 |  99 | 99\n",
       "26%  |\n",
       "| yes | 1 | 275 | 275\n",
       "74% |\n",
       "\n"
      ],
      "text/plain": [
       "  Appendix_on_US Diagnosis count percentage\n",
       "1 no             0         138   138\\n77%  \n",
       "2 no             1          42   42\\n23%   \n",
       "3 yes            0          99   99\\n26%   \n",
       "4 yes            1         275   275\\n74%  "
      ]
     },
     "metadata": {},
     "output_type": "display_data"
    }
   ],
   "source": [
    "#exploring the Appendix_on_US vs. target variable\n",
    "M_plot  <-   df_clean %>% \n",
    "                            group_by(Appendix_on_US, Diagnosis) %>% \n",
    "                            summarise(count = n()) %>% \n",
    "                            mutate(percentage = round(count *100 /sum(count))) %>%\n",
    "                            mutate(percentage = paste0(count, \"\\n\", percentage, \"%\"))\n",
    "M_plot"
   ]
  },
  {
   "cell_type": "code",
   "execution_count": 8,
   "id": "5f583db7-54fa-49c6-95d0-e212f9a73586",
   "metadata": {},
   "outputs": [
    {
     "data": {
      "image/png": "[encoded data removed]",
      "text/plain": [
       "plot without title"
      ]
     },
     "metadata": {
      "image/png": {
       "height": 300,
       "width": 420
      }
     },
     "output_type": "display_data"
    }
   ],
   "source": [
    "options(repr.plot.width = 7, repr.plot.height = 5)\n",
    "\n",
    "#Stacked bar plot for Appendix_on_US and Diagnosis\n",
    "ggplot(M_plot) +\n",
    "aes(x=Appendix_on_US, y=count, fill = Diagnosis, label = percentage) +\n",
    "geom_col() +\n",
    "theme_bw() +\n",
    "scale_fill_manual(values = c(\"0\" = \"green\", \"1\" = \"red\")) +\n",
    "geom_text(position = position_stack(0.5)) +\n",
    "labs(title = \"Frequency of Diagnosis (target) vs Appendix_on_US (predictor)\") +\n",
    "theme(plot.title = element_text(size=15))"
   ]
  },
  {
   "cell_type": "markdown",
   "id": "a8084eb1-4c0f-4da7-b95a-ca4f33e04f0a",
   "metadata": {},
   "source": [
    "**Appendix_on_US** is \"Detectability of the vermiform appendix during sonographic examination\" which is almost the indicator of the target value. <br>\n",
    "We will not eliminate this column for now. "
   ]
  },
  {
   "cell_type": "code",
   "execution_count": 9,
   "id": "54767583-7436-4ed1-ad78-093dc5c902b6",
   "metadata": {},
   "outputs": [],
   "source": [
    "#save the clean data for future steps\n",
    "write.csv(df_clean, \"C:\\\\Users\\\\minaa\\\\Desktop\\\\Statistics\\\\Spring 2024\\\\STA 6714\\\\Term Project\\\\clean_data.csv\")"
   ]
  },
  {
   "cell_type": "code",
   "execution_count": 10,
   "id": "9ce8a7e9-48ca-444a-8891-805a3e411914",
   "metadata": {},
   "outputs": [
    {
     "data": {
      "text/html": [
       "<table class=\"dataframe\">\n",
       "<caption>A data.frame: 6 × 27</caption>\n",
       "<thead>\n",
       "\t<tr><th></th><th scope=col>Age</th><th scope=col>BMI</th><th scope=col>Sex</th><th scope=col>Weight</th><th scope=col>Length_of_Stay</th><th scope=col>Appendix_on_US</th><th scope=col>Migratory_Pain</th><th scope=col>Lower_Right_Abd_Pain</th><th scope=col>Contralateral_Rebound_Tenderness</th><th scope=col>Coughing_Pain</th><th scope=col>⋯</th><th scope=col>Hemoglobin</th><th scope=col>RDW</th><th scope=col>Thrombocyte_Count</th><th scope=col>CRP</th><th scope=col>Dysuria</th><th scope=col>Stool</th><th scope=col>Peritonitis</th><th scope=col>Psoas_Sign</th><th scope=col>Free_Fluids</th><th scope=col>Diagnosis</th></tr>\n",
       "\t<tr><th></th><th scope=col>&lt;dbl&gt;</th><th scope=col>&lt;dbl&gt;</th><th scope=col>&lt;fct&gt;</th><th scope=col>&lt;dbl&gt;</th><th scope=col>&lt;int&gt;</th><th scope=col>&lt;fct&gt;</th><th scope=col>&lt;fct&gt;</th><th scope=col>&lt;fct&gt;</th><th scope=col>&lt;fct&gt;</th><th scope=col>&lt;fct&gt;</th><th scope=col>⋯</th><th scope=col>&lt;dbl&gt;</th><th scope=col>&lt;dbl&gt;</th><th scope=col>&lt;int&gt;</th><th scope=col>&lt;dbl&gt;</th><th scope=col>&lt;fct&gt;</th><th scope=col>&lt;fct&gt;</th><th scope=col>&lt;fct&gt;</th><th scope=col>&lt;fct&gt;</th><th scope=col>&lt;fct&gt;</th><th scope=col>&lt;fct&gt;</th></tr>\n",
       "</thead>\n",
       "<tbody>\n",
       "\t<tr><th scope=row>1</th><td>13</td><td>17</td><td>female</td><td>37</td><td>3</td><td>yes</td><td>no </td><td>yes</td><td>yes</td><td>no </td><td>⋯</td><td>15</td><td>12</td><td>254</td><td> 0</td><td>no </td><td>normal      </td><td>no</td><td>yes</td><td>no</td><td>1</td></tr>\n",
       "\t<tr><th scope=row>2</th><td>14</td><td>32</td><td>male  </td><td>70</td><td>2</td><td>no </td><td>yes</td><td>yes</td><td>yes</td><td>no </td><td>⋯</td><td>16</td><td>13</td><td>151</td><td> 3</td><td>yes</td><td>normal      </td><td>no</td><td>yes</td><td>no</td><td>0</td></tr>\n",
       "\t<tr><th scope=row>3</th><td>14</td><td>23</td><td>female</td><td>62</td><td>4</td><td>no </td><td>no </td><td>yes</td><td>yes</td><td>no </td><td>⋯</td><td>11</td><td>12</td><td>300</td><td> 3</td><td>no </td><td>constipation</td><td>no</td><td>yes</td><td>no</td><td>0</td></tr>\n",
       "\t<tr><th scope=row>4</th><td>16</td><td>21</td><td>female</td><td>56</td><td>3</td><td>no </td><td>yes</td><td>yes</td><td>no </td><td>no </td><td>⋯</td><td>14</td><td>13</td><td>258</td><td> 0</td><td>yes</td><td>normal      </td><td>no</td><td>yes</td><td>no</td><td>0</td></tr>\n",
       "\t<tr><th scope=row>5</th><td>11</td><td>17</td><td>female</td><td>45</td><td>3</td><td>yes</td><td>no </td><td>yes</td><td>yes</td><td>yes</td><td>⋯</td><td>13</td><td>14</td><td>311</td><td> 0</td><td>no </td><td>constipation</td><td>no</td><td>yes</td><td>no</td><td>1</td></tr>\n",
       "\t<tr><th scope=row>6</th><td>11</td><td>31</td><td>male  </td><td>45</td><td>3</td><td>no </td><td>yes</td><td>yes</td><td>yes</td><td>yes</td><td>⋯</td><td>12</td><td>13</td><td>249</td><td>63</td><td>no </td><td>diarrhea    </td><td>no</td><td>yes</td><td>no</td><td>0</td></tr>\n",
       "</tbody>\n",
       "</table>\n"
      ],
      "text/latex": [
       "A data.frame: 6 × 27\n",
       "\\begin{tabular}{r|lllllllllllllllllllll}\n",
       "  & Age & BMI & Sex & Weight & Length\\_of\\_Stay & Appendix\\_on\\_US & Migratory\\_Pain & Lower\\_Right\\_Abd\\_Pain & Contralateral\\_Rebound\\_Tenderness & Coughing\\_Pain & ⋯ & Hemoglobin & RDW & Thrombocyte\\_Count & CRP & Dysuria & Stool & Peritonitis & Psoas\\_Sign & Free\\_Fluids & Diagnosis\\\\\n",
       "  & <dbl> & <dbl> & <fct> & <dbl> & <int> & <fct> & <fct> & <fct> & <fct> & <fct> & ⋯ & <dbl> & <dbl> & <int> & <dbl> & <fct> & <fct> & <fct> & <fct> & <fct> & <fct>\\\\\n",
       "\\hline\n",
       "\t1 & 13 & 17 & female & 37 & 3 & yes & no  & yes & yes & no  & ⋯ & 15 & 12 & 254 &  0 & no  & normal       & no & yes & no & 1\\\\\n",
       "\t2 & 14 & 32 & male   & 70 & 2 & no  & yes & yes & yes & no  & ⋯ & 16 & 13 & 151 &  3 & yes & normal       & no & yes & no & 0\\\\\n",
       "\t3 & 14 & 23 & female & 62 & 4 & no  & no  & yes & yes & no  & ⋯ & 11 & 12 & 300 &  3 & no  & constipation & no & yes & no & 0\\\\\n",
       "\t4 & 16 & 21 & female & 56 & 3 & no  & yes & yes & no  & no  & ⋯ & 14 & 13 & 258 &  0 & yes & normal       & no & yes & no & 0\\\\\n",
       "\t5 & 11 & 17 & female & 45 & 3 & yes & no  & yes & yes & yes & ⋯ & 13 & 14 & 311 &  0 & no  & constipation & no & yes & no & 1\\\\\n",
       "\t6 & 11 & 31 & male   & 45 & 3 & no  & yes & yes & yes & yes & ⋯ & 12 & 13 & 249 & 63 & no  & diarrhea     & no & yes & no & 0\\\\\n",
       "\\end{tabular}\n"
      ],
      "text/markdown": [
       "\n",
       "A data.frame: 6 × 27\n",
       "\n",
       "| <!--/--> | Age &lt;dbl&gt; | BMI &lt;dbl&gt; | Sex &lt;fct&gt; | Weight &lt;dbl&gt; | Length_of_Stay &lt;int&gt; | Appendix_on_US &lt;fct&gt; | Migratory_Pain &lt;fct&gt; | Lower_Right_Abd_Pain &lt;fct&gt; | Contralateral_Rebound_Tenderness &lt;fct&gt; | Coughing_Pain &lt;fct&gt; | ⋯ ⋯ | Hemoglobin &lt;dbl&gt; | RDW &lt;dbl&gt; | Thrombocyte_Count &lt;int&gt; | CRP &lt;dbl&gt; | Dysuria &lt;fct&gt; | Stool &lt;fct&gt; | Peritonitis &lt;fct&gt; | Psoas_Sign &lt;fct&gt; | Free_Fluids &lt;fct&gt; | Diagnosis &lt;fct&gt; |\n",
       "|---|---|---|---|---|---|---|---|---|---|---|---|---|---|---|---|---|---|---|---|---|---|\n",
       "| 1 | 13 | 17 | female | 37 | 3 | yes | no  | yes | yes | no  | ⋯ | 15 | 12 | 254 |  0 | no  | normal       | no | yes | no | 1 |\n",
       "| 2 | 14 | 32 | male   | 70 | 2 | no  | yes | yes | yes | no  | ⋯ | 16 | 13 | 151 |  3 | yes | normal       | no | yes | no | 0 |\n",
       "| 3 | 14 | 23 | female | 62 | 4 | no  | no  | yes | yes | no  | ⋯ | 11 | 12 | 300 |  3 | no  | constipation | no | yes | no | 0 |\n",
       "| 4 | 16 | 21 | female | 56 | 3 | no  | yes | yes | no  | no  | ⋯ | 14 | 13 | 258 |  0 | yes | normal       | no | yes | no | 0 |\n",
       "| 5 | 11 | 17 | female | 45 | 3 | yes | no  | yes | yes | yes | ⋯ | 13 | 14 | 311 |  0 | no  | constipation | no | yes | no | 1 |\n",
       "| 6 | 11 | 31 | male   | 45 | 3 | no  | yes | yes | yes | yes | ⋯ | 12 | 13 | 249 | 63 | no  | diarrhea     | no | yes | no | 0 |\n",
       "\n"
      ],
      "text/plain": [
       "  Age BMI Sex    Weight Length_of_Stay Appendix_on_US Migratory_Pain\n",
       "1 13  17  female 37     3              yes            no            \n",
       "2 14  32  male   70     2              no             yes           \n",
       "3 14  23  female 62     4              no             no            \n",
       "4 16  21  female 56     3              no             yes           \n",
       "5 11  17  female 45     3              yes            no            \n",
       "6 11  31  male   45     3              no             yes           \n",
       "  Lower_Right_Abd_Pain Contralateral_Rebound_Tenderness Coughing_Pain ⋯\n",
       "1 yes                  yes                              no            ⋯\n",
       "2 yes                  yes                              no            ⋯\n",
       "3 yes                  yes                              no            ⋯\n",
       "4 yes                  no                               no            ⋯\n",
       "5 yes                  yes                              yes           ⋯\n",
       "6 yes                  yes                              yes           ⋯\n",
       "  Hemoglobin RDW Thrombocyte_Count CRP Dysuria Stool        Peritonitis\n",
       "1 15         12  254                0  no      normal       no         \n",
       "2 16         13  151                3  yes     normal       no         \n",
       "3 11         12  300                3  no      constipation no         \n",
       "4 14         13  258                0  yes     normal       no         \n",
       "5 13         14  311                0  no      constipation no         \n",
       "6 12         13  249               63  no      diarrhea     no         \n",
       "  Psoas_Sign Free_Fluids Diagnosis\n",
       "1 yes        no          1        \n",
       "2 yes        no          0        \n",
       "3 yes        no          0        \n",
       "4 yes        no          0        \n",
       "5 yes        no          1        \n",
       "6 yes        no          0        "
      ]
     },
     "metadata": {},
     "output_type": "display_data"
    }
   ],
   "source": [
    "#Read in the clean data set from the 1st step\n",
    "df <- read.csv(\"C:\\\\Users\\\\minaa\\\\Desktop\\\\Statistics\\\\Spring 2024\\\\STA 6714\\\\Term Project\\\\clean_data.csv\",\n",
    "               stringsAsFactors = TRUE,\n",
    "               row.names = 1)\n",
    "\n",
    "#convert Diagnosis and Appendix_on_US to factors\n",
    "df  <-  df %>% \n",
    "            mutate(\n",
    "                Diagnosis = as.factor(Diagnosis),\n",
    "                Appendix_on_US = as.factor(Appendix_on_US)\n",
    "                )\n",
    "\n",
    "head(df)"
   ]
  },
  {
   "cell_type": "markdown",
   "id": "57ac9766-3731-407d-96c1-d083327f1f01",
   "metadata": {},
   "source": [
    "<font size = 6> Data Exploratory Analysis <font>"
   ]
  },
  {
   "cell_type": "markdown",
   "id": "1444c27e-4444-4647-b8f6-5ed3ac520245",
   "metadata": {},
   "source": [
    "<font size = 5> Explore numerical predictors <font>"
   ]
  },
  {
   "cell_type": "code",
   "execution_count": 11,
   "id": "dd435f3d-9b29-4193-908e-55112db2eb33",
   "metadata": {},
   "outputs": [
    {
     "data": {
      "text/plain": [
       "      Age            BMI         Weight    Length_of_Stay Body_Temperature\n",
       " Min.   : 0.5   Min.   : 8   Min.   : 12   Min.   : 1     Min.   :27      \n",
       " 1st Qu.: 9.4   1st Qu.:16   1st Qu.: 31   1st Qu.: 3     1st Qu.:37      \n",
       " Median :11.5   Median :18   Median : 42   Median : 3     Median :37      \n",
       " Mean   :11.5   Mean   :19   Mean   : 44   Mean   : 4     Mean   :37      \n",
       " 3rd Qu.:14.2   3rd Qu.:21   3rd Qu.: 55   3rd Qu.: 4     3rd Qu.:38      \n",
       " Max.   :17.9   Max.   :38   Max.   :103   Max.   :28     Max.   :40      \n",
       "   WBC_Count  Neutrophil_Percentage   RBC_Count      Hemoglobin        RDW    \n",
       " Min.   : 4   Min.   :27            Min.   : 3.6   Min.   : 8.2   Min.   :11  \n",
       " 1st Qu.: 8   1st Qu.:60            1st Qu.: 4.6   1st Qu.:12.7   1st Qu.:12  \n",
       " Median :12   Median :74            Median : 4.8   Median :13.4   Median :13  \n",
       " Mean   :12   Mean   :71            Mean   : 4.8   Mean   :13.4   Mean   :13  \n",
       " 3rd Qu.:16   3rd Qu.:83            3rd Qu.: 5.0   3rd Qu.:14.0   3rd Qu.:13  \n",
       " Max.   :38   Max.   :98            Max.   :14.0   Max.   :17.5   Max.   :87  \n",
       " Thrombocyte_Count      CRP     \n",
       " Min.   : 91       Min.   :  0  \n",
       " 1st Qu.:236       1st Qu.:  1  \n",
       " Median :275       Median :  6  \n",
       " Mean   :282       Mean   : 26  \n",
       " 3rd Qu.:325       3rd Qu.: 26  \n",
       " Max.   :542       Max.   :353  "
      ]
     },
     "metadata": {},
     "output_type": "display_data"
    }
   ],
   "source": [
    "summary(df %>% select(where(is.numeric)))"
   ]
  },
  {
   "cell_type": "markdown",
   "id": "d8a36870-efd9-422a-ac31-10b4d484d206",
   "metadata": {},
   "source": [
    "<font size =5> Handeling Outliers <font>"
   ]
  },
  {
   "cell_type": "code",
   "execution_count": 12,
   "id": "3bdf6369-36bb-4819-bc71-4a93c4b96f7a",
   "metadata": {},
   "outputs": [
    {
     "data": {
      "text/html": [
       "<table class=\"dataframe\">\n",
       "<caption>A data.frame: 1 × 20</caption>\n",
       "<thead>\n",
       "\t<tr><th scope=col>Age</th><th scope=col>BMI</th><th scope=col>Sex</th><th scope=col>Weight</th><th scope=col>Length_of_Stay</th><th scope=col>Appendix_on_US</th><th scope=col>Migratory_Pain</th><th scope=col>Lower_Right_Abd_Pain</th><th scope=col>Contralateral_Rebound_Tenderness</th><th scope=col>Coughing_Pain</th><th scope=col>Nausea</th><th scope=col>Loss_of_Appetite</th><th scope=col>Body_Temperature</th><th scope=col>WBC_Count</th><th scope=col>Neutrophil_Percentage</th><th scope=col>Neutrophilia</th><th scope=col>RBC_Count</th><th scope=col>Hemoglobin</th><th scope=col>RDW</th><th scope=col>Thrombocyte_Count</th></tr>\n",
       "\t<tr><th scope=col>&lt;dbl&gt;</th><th scope=col>&lt;dbl&gt;</th><th scope=col>&lt;fct&gt;</th><th scope=col>&lt;dbl&gt;</th><th scope=col>&lt;int&gt;</th><th scope=col>&lt;fct&gt;</th><th scope=col>&lt;fct&gt;</th><th scope=col>&lt;fct&gt;</th><th scope=col>&lt;fct&gt;</th><th scope=col>&lt;fct&gt;</th><th scope=col>&lt;fct&gt;</th><th scope=col>&lt;fct&gt;</th><th scope=col>&lt;dbl&gt;</th><th scope=col>&lt;dbl&gt;</th><th scope=col>&lt;dbl&gt;</th><th scope=col>&lt;fct&gt;</th><th scope=col>&lt;dbl&gt;</th><th scope=col>&lt;dbl&gt;</th><th scope=col>&lt;dbl&gt;</th><th scope=col>&lt;int&gt;</th></tr>\n",
       "</thead>\n",
       "<tbody>\n",
       "\t<tr><td>17</td><td>18</td><td>female</td><td>48</td><td>3</td><td>no</td><td>no</td><td>yes</td><td>no</td><td>no</td><td>no</td><td>no</td><td>27</td><td>5.8</td><td>63</td><td>no</td><td>4.4</td><td>14</td><td>12</td><td>205</td></tr>\n",
       "</tbody>\n",
       "</table>\n"
      ],
      "text/latex": [
       "A data.frame: 1 × 20\n",
       "\\begin{tabular}{llllllllllllllllllll}\n",
       " Age & BMI & Sex & Weight & Length\\_of\\_Stay & Appendix\\_on\\_US & Migratory\\_Pain & Lower\\_Right\\_Abd\\_Pain & Contralateral\\_Rebound\\_Tenderness & Coughing\\_Pain & Nausea & Loss\\_of\\_Appetite & Body\\_Temperature & WBC\\_Count & Neutrophil\\_Percentage & Neutrophilia & RBC\\_Count & Hemoglobin & RDW & Thrombocyte\\_Count\\\\\n",
       " <dbl> & <dbl> & <fct> & <dbl> & <int> & <fct> & <fct> & <fct> & <fct> & <fct> & <fct> & <fct> & <dbl> & <dbl> & <dbl> & <fct> & <dbl> & <dbl> & <dbl> & <int>\\\\\n",
       "\\hline\n",
       "\t 17 & 18 & female & 48 & 3 & no & no & yes & no & no & no & no & 27 & 5.8 & 63 & no & 4.4 & 14 & 12 & 205\\\\\n",
       "\\end{tabular}\n"
      ],
      "text/markdown": [
       "\n",
       "A data.frame: 1 × 20\n",
       "\n",
       "| Age &lt;dbl&gt; | BMI &lt;dbl&gt; | Sex &lt;fct&gt; | Weight &lt;dbl&gt; | Length_of_Stay &lt;int&gt; | Appendix_on_US &lt;fct&gt; | Migratory_Pain &lt;fct&gt; | Lower_Right_Abd_Pain &lt;fct&gt; | Contralateral_Rebound_Tenderness &lt;fct&gt; | Coughing_Pain &lt;fct&gt; | Nausea &lt;fct&gt; | Loss_of_Appetite &lt;fct&gt; | Body_Temperature &lt;dbl&gt; | WBC_Count &lt;dbl&gt; | Neutrophil_Percentage &lt;dbl&gt; | Neutrophilia &lt;fct&gt; | RBC_Count &lt;dbl&gt; | Hemoglobin &lt;dbl&gt; | RDW &lt;dbl&gt; | Thrombocyte_Count &lt;int&gt; |\n",
       "|---|---|---|---|---|---|---|---|---|---|---|---|---|---|---|---|---|---|---|---|\n",
       "| 17 | 18 | female | 48 | 3 | no | no | yes | no | no | no | no | 27 | 5.8 | 63 | no | 4.4 | 14 | 12 | 205 |\n",
       "\n"
      ],
      "text/plain": [
       "  Age BMI Sex    Weight Length_of_Stay Appendix_on_US Migratory_Pain\n",
       "1 17  18  female 48     3              no             no            \n",
       "  Lower_Right_Abd_Pain Contralateral_Rebound_Tenderness Coughing_Pain Nausea\n",
       "1 yes                  no                               no            no    \n",
       "  Loss_of_Appetite Body_Temperature WBC_Count Neutrophil_Percentage\n",
       "1 no               27               5.8       63                   \n",
       "  Neutrophilia RBC_Count Hemoglobin RDW Thrombocyte_Count\n",
       "1 no           4.4       14         12  205              "
      ]
     },
     "metadata": {},
     "output_type": "display_data"
    }
   ],
   "source": [
    "df %>% filter(Body_Temperature <30)  %>% select(1:20)"
   ]
  },
  {
   "cell_type": "markdown",
   "id": "f745952a-f5b2-4896-823d-16b554947152",
   "metadata": {},
   "source": [
    "There is a case with the **Body_Temperature** of 27 Celcius Degree. This amount is life threatening and since this is the only case with such a low amount, it could be a typo. We will adjust it to 37."
   ]
  },
  {
   "cell_type": "code",
   "execution_count": 13,
   "id": "00b2275d-8ecc-437f-9a24-7d53b07d4b1c",
   "metadata": {},
   "outputs": [],
   "source": [
    "#Adjust the outlier for Body_Temperature\n",
    "df <- df %>% \n",
    "            mutate(Body_Temperature = ifelse(Body_Temperature <30, 37, Body_Temperature)\n",
    "                  )"
   ]
  },
  {
   "cell_type": "code",
   "execution_count": 14,
   "id": "3e98fadd-cc1b-41e3-b171-9ae7c526b4cf",
   "metadata": {},
   "outputs": [
    {
     "data": {
      "image/png": "[encoded data removed]",
      "text/plain": [
       "plot without title"
      ]
     },
     "metadata": {
      "image/png": {
       "height": 300,
       "width": 1080
      }
     },
     "output_type": "display_data"
    }
   ],
   "source": [
    "options(repr.plot.width = 18, repr.plot.heigth = 10)\n",
    "\n",
    "#Average of Weight column\n",
    "avg_mean = mean(na.omit(df_clean$Weight))\n",
    "\n",
    "M_plot <- df %>%\n",
    "        group_by(Diagnosis) %>%\n",
    "        summarise(count = n()) %>%\n",
    "        mutate(percentage = count * 100 / sum(count),\n",
    "               label = paste0(count, \", \", round(percentage), \"%\"))\n",
    "\n",
    "#Diagnsis Barplot\n",
    "plot1 <-     ggplot(M_plot) +\n",
    "                aes(x=Diagnosis, y=count, label=label, fill=Diagnosis) +\n",
    "                geom_col() +\n",
    "                geom_text(position = position_stack(0.5)) +\n",
    "                scale_fill_manual(values = c(\"green\", \"red\")) +\n",
    "                theme_bw() +\n",
    "                labs(title = \"Bar plot of Appendices Diagnosis (target variable)\") +\n",
    "                theme(plot.title = element_text(size=15))\n",
    "\n",
    "\n",
    "#Weight Histogram\n",
    "plot2   <-     ggplot(df) +\n",
    "                aes(x = Weight) +\n",
    "                theme_bw() +\n",
    "                geom_histogram(bins = 9, color = \"darkblue\", fill = \"lightblue\") +\n",
    "                geom_vline(xintercept=avg_mean, color = \"red\", linetype = \"dashed\", linewidth = 1) +\n",
    "                labs(title = \"Histogram of Weigth\") +\n",
    "                theme(plot.title = element_text(size=15))\n",
    "\n",
    "\n",
    "#WBC_Count Box plot vs Diagnosis\n",
    "plot3 <-   ggplot(df) + \n",
    "                  aes(x = Diagnosis,y = WBC_Count, fill = Diagnosis) +\n",
    "                  geom_boxplot() + \n",
    "                  theme_bw() + \n",
    "                  labs(title = \"Box-plot of WBC_Count(predictor) by Diagnosis(target)\") +\n",
    "                  scale_fill_manual(values = c(\"0\" = \"green\", \"1\" = \"red\"))+\n",
    "                  theme(plot.title = element_text(size=15))\n",
    "\n",
    "#Box plot of Diagnosis vs Neutrophil_Percentage\n",
    "plot4 <-   ggplot(df) +\n",
    "                aes(x=Diagnosis, y=Neutrophil_Percentage , fill=Diagnosis) +\n",
    "                scale_fill_manual(values=c(\"green\", \"red\")) +\n",
    "                geom_boxplot() +\n",
    "                theme_bw() +\n",
    "                labs(title = \"Box plot of Diagnosis vs Neutrophil_Percentage\") +\n",
    "                theme(plot.title = element_text(size=12))\n",
    "\n",
    "\n",
    "gridExtra::grid.arrange(plot1, plot2, plot3, plot4, ncol = 4)"
   ]
  },
  {
   "cell_type": "markdown",
   "id": "b4056a24-1a6e-499b-a9f0-b5da6ad2fb0e",
   "metadata": {},
   "source": [
    "We see that our data is not imbalanced and it has enough data points for each class. <br>\n",
    "The weight variable has an approximately normal distribution with average around 40. Note that the weigth is in kg and not lb. <br>\n",
    "Positive cases of Appendicitus have a higher interquartile range and median for WBC_Count, this difference in the distribution shows us that WBC_Count could be an appropriate predictor. The same argument holds for Box plot of Diagnosis vs Neutrophil_Percentage."
   ]
  },
  {
   "cell_type": "markdown",
   "id": "680765f0-9953-4bfc-b9df-fffb2406efaf",
   "metadata": {},
   "source": [
    "<font size = 5> Explore categorical predictors <font>"
   ]
  },
  {
   "cell_type": "code",
   "execution_count": 15,
   "id": "930d2147-de7b-4df7-8c36-179d1295eaef",
   "metadata": {},
   "outputs": [
    {
     "data": {
      "text/html": [
       "<dl>\n",
       "\t<dt>$Sex</dt>\n",
       "\t\t<dd><style>\n",
       ".list-inline {list-style: none; margin:0; padding: 0}\n",
       ".list-inline>li {display: inline-block}\n",
       ".list-inline>li:not(:last-child)::after {content: \"\\00b7\"; padding: 0 .5ex}\n",
       "</style>\n",
       "<ol class=list-inline><li>female</li><li>male</li></ol>\n",
       "\n",
       "<details>\n",
       "\t<summary style=display:list-item;cursor:pointer>\n",
       "\t\t<strong>Levels</strong>:\n",
       "\t</summary>\n",
       "\t<style>\n",
       "\t.list-inline {list-style: none; margin:0; padding: 0}\n",
       "\t.list-inline>li {display: inline-block}\n",
       "\t.list-inline>li:not(:last-child)::after {content: \"\\00b7\"; padding: 0 .5ex}\n",
       "\t</style>\n",
       "\t<ol class=list-inline><li>'female'</li><li>'male'</li></ol>\n",
       "</details></dd>\n",
       "\t<dt>$Appendix_on_US</dt>\n",
       "\t\t<dd><style>\n",
       ".list-inline {list-style: none; margin:0; padding: 0}\n",
       ".list-inline>li {display: inline-block}\n",
       ".list-inline>li:not(:last-child)::after {content: \"\\00b7\"; padding: 0 .5ex}\n",
       "</style>\n",
       "<ol class=list-inline><li>yes</li><li>no</li></ol>\n",
       "\n",
       "<details>\n",
       "\t<summary style=display:list-item;cursor:pointer>\n",
       "\t\t<strong>Levels</strong>:\n",
       "\t</summary>\n",
       "\t<style>\n",
       "\t.list-inline {list-style: none; margin:0; padding: 0}\n",
       "\t.list-inline>li {display: inline-block}\n",
       "\t.list-inline>li:not(:last-child)::after {content: \"\\00b7\"; padding: 0 .5ex}\n",
       "\t</style>\n",
       "\t<ol class=list-inline><li>'no'</li><li>'yes'</li></ol>\n",
       "</details></dd>\n",
       "\t<dt>$Migratory_Pain</dt>\n",
       "\t\t<dd><style>\n",
       ".list-inline {list-style: none; margin:0; padding: 0}\n",
       ".list-inline>li {display: inline-block}\n",
       ".list-inline>li:not(:last-child)::after {content: \"\\00b7\"; padding: 0 .5ex}\n",
       "</style>\n",
       "<ol class=list-inline><li>no</li><li>yes</li></ol>\n",
       "\n",
       "<details>\n",
       "\t<summary style=display:list-item;cursor:pointer>\n",
       "\t\t<strong>Levels</strong>:\n",
       "\t</summary>\n",
       "\t<style>\n",
       "\t.list-inline {list-style: none; margin:0; padding: 0}\n",
       "\t.list-inline>li {display: inline-block}\n",
       "\t.list-inline>li:not(:last-child)::after {content: \"\\00b7\"; padding: 0 .5ex}\n",
       "\t</style>\n",
       "\t<ol class=list-inline><li>'no'</li><li>'yes'</li></ol>\n",
       "</details></dd>\n",
       "\t<dt>$Lower_Right_Abd_Pain</dt>\n",
       "\t\t<dd><style>\n",
       ".list-inline {list-style: none; margin:0; padding: 0}\n",
       ".list-inline>li {display: inline-block}\n",
       ".list-inline>li:not(:last-child)::after {content: \"\\00b7\"; padding: 0 .5ex}\n",
       "</style>\n",
       "<ol class=list-inline><li>yes</li><li>no</li></ol>\n",
       "\n",
       "<details>\n",
       "\t<summary style=display:list-item;cursor:pointer>\n",
       "\t\t<strong>Levels</strong>:\n",
       "\t</summary>\n",
       "\t<style>\n",
       "\t.list-inline {list-style: none; margin:0; padding: 0}\n",
       "\t.list-inline>li {display: inline-block}\n",
       "\t.list-inline>li:not(:last-child)::after {content: \"\\00b7\"; padding: 0 .5ex}\n",
       "\t</style>\n",
       "\t<ol class=list-inline><li>'no'</li><li>'yes'</li></ol>\n",
       "</details></dd>\n",
       "\t<dt>$Contralateral_Rebound_Tenderness</dt>\n",
       "\t\t<dd><style>\n",
       ".list-inline {list-style: none; margin:0; padding: 0}\n",
       ".list-inline>li {display: inline-block}\n",
       ".list-inline>li:not(:last-child)::after {content: \"\\00b7\"; padding: 0 .5ex}\n",
       "</style>\n",
       "<ol class=list-inline><li>yes</li><li>no</li></ol>\n",
       "\n",
       "<details>\n",
       "\t<summary style=display:list-item;cursor:pointer>\n",
       "\t\t<strong>Levels</strong>:\n",
       "\t</summary>\n",
       "\t<style>\n",
       "\t.list-inline {list-style: none; margin:0; padding: 0}\n",
       "\t.list-inline>li {display: inline-block}\n",
       "\t.list-inline>li:not(:last-child)::after {content: \"\\00b7\"; padding: 0 .5ex}\n",
       "\t</style>\n",
       "\t<ol class=list-inline><li>'no'</li><li>'yes'</li></ol>\n",
       "</details></dd>\n",
       "\t<dt>$Coughing_Pain</dt>\n",
       "\t\t<dd><style>\n",
       ".list-inline {list-style: none; margin:0; padding: 0}\n",
       ".list-inline>li {display: inline-block}\n",
       ".list-inline>li:not(:last-child)::after {content: \"\\00b7\"; padding: 0 .5ex}\n",
       "</style>\n",
       "<ol class=list-inline><li>no</li><li>yes</li></ol>\n",
       "\n",
       "<details>\n",
       "\t<summary style=display:list-item;cursor:pointer>\n",
       "\t\t<strong>Levels</strong>:\n",
       "\t</summary>\n",
       "\t<style>\n",
       "\t.list-inline {list-style: none; margin:0; padding: 0}\n",
       "\t.list-inline>li {display: inline-block}\n",
       "\t.list-inline>li:not(:last-child)::after {content: \"\\00b7\"; padding: 0 .5ex}\n",
       "\t</style>\n",
       "\t<ol class=list-inline><li>'no'</li><li>'yes'</li></ol>\n",
       "</details></dd>\n",
       "\t<dt>$Nausea</dt>\n",
       "\t\t<dd><style>\n",
       ".list-inline {list-style: none; margin:0; padding: 0}\n",
       ".list-inline>li {display: inline-block}\n",
       ".list-inline>li:not(:last-child)::after {content: \"\\00b7\"; padding: 0 .5ex}\n",
       "</style>\n",
       "<ol class=list-inline><li>no</li><li>yes</li></ol>\n",
       "\n",
       "<details>\n",
       "\t<summary style=display:list-item;cursor:pointer>\n",
       "\t\t<strong>Levels</strong>:\n",
       "\t</summary>\n",
       "\t<style>\n",
       "\t.list-inline {list-style: none; margin:0; padding: 0}\n",
       "\t.list-inline>li {display: inline-block}\n",
       "\t.list-inline>li:not(:last-child)::after {content: \"\\00b7\"; padding: 0 .5ex}\n",
       "\t</style>\n",
       "\t<ol class=list-inline><li>'no'</li><li>'yes'</li></ol>\n",
       "</details></dd>\n",
       "\t<dt>$Loss_of_Appetite</dt>\n",
       "\t\t<dd><style>\n",
       ".list-inline {list-style: none; margin:0; padding: 0}\n",
       ".list-inline>li {display: inline-block}\n",
       ".list-inline>li:not(:last-child)::after {content: \"\\00b7\"; padding: 0 .5ex}\n",
       "</style>\n",
       "<ol class=list-inline><li>yes</li><li>no</li></ol>\n",
       "\n",
       "<details>\n",
       "\t<summary style=display:list-item;cursor:pointer>\n",
       "\t\t<strong>Levels</strong>:\n",
       "\t</summary>\n",
       "\t<style>\n",
       "\t.list-inline {list-style: none; margin:0; padding: 0}\n",
       "\t.list-inline>li {display: inline-block}\n",
       "\t.list-inline>li:not(:last-child)::after {content: \"\\00b7\"; padding: 0 .5ex}\n",
       "\t</style>\n",
       "\t<ol class=list-inline><li>'no'</li><li>'yes'</li></ol>\n",
       "</details></dd>\n",
       "\t<dt>$Neutrophilia</dt>\n",
       "\t\t<dd><style>\n",
       ".list-inline {list-style: none; margin:0; padding: 0}\n",
       ".list-inline>li {display: inline-block}\n",
       ".list-inline>li:not(:last-child)::after {content: \"\\00b7\"; padding: 0 .5ex}\n",
       "</style>\n",
       "<ol class=list-inline><li>no</li><li>yes</li></ol>\n",
       "\n",
       "<details>\n",
       "\t<summary style=display:list-item;cursor:pointer>\n",
       "\t\t<strong>Levels</strong>:\n",
       "\t</summary>\n",
       "\t<style>\n",
       "\t.list-inline {list-style: none; margin:0; padding: 0}\n",
       "\t.list-inline>li {display: inline-block}\n",
       "\t.list-inline>li:not(:last-child)::after {content: \"\\00b7\"; padding: 0 .5ex}\n",
       "\t</style>\n",
       "\t<ol class=list-inline><li>'no'</li><li>'yes'</li></ol>\n",
       "</details></dd>\n",
       "\t<dt>$Dysuria</dt>\n",
       "\t\t<dd><style>\n",
       ".list-inline {list-style: none; margin:0; padding: 0}\n",
       ".list-inline>li {display: inline-block}\n",
       ".list-inline>li:not(:last-child)::after {content: \"\\00b7\"; padding: 0 .5ex}\n",
       "</style>\n",
       "<ol class=list-inline><li>no</li><li>yes</li></ol>\n",
       "\n",
       "<details>\n",
       "\t<summary style=display:list-item;cursor:pointer>\n",
       "\t\t<strong>Levels</strong>:\n",
       "\t</summary>\n",
       "\t<style>\n",
       "\t.list-inline {list-style: none; margin:0; padding: 0}\n",
       "\t.list-inline>li {display: inline-block}\n",
       "\t.list-inline>li:not(:last-child)::after {content: \"\\00b7\"; padding: 0 .5ex}\n",
       "\t</style>\n",
       "\t<ol class=list-inline><li>'no'</li><li>'yes'</li></ol>\n",
       "</details></dd>\n",
       "\t<dt>$Stool</dt>\n",
       "\t\t<dd><style>\n",
       ".list-inline {list-style: none; margin:0; padding: 0}\n",
       ".list-inline>li {display: inline-block}\n",
       ".list-inline>li:not(:last-child)::after {content: \"\\00b7\"; padding: 0 .5ex}\n",
       "</style>\n",
       "<ol class=list-inline><li>normal</li><li>constipation</li><li>diarrhea</li><li>constipation, diarrhea</li></ol>\n",
       "\n",
       "<details>\n",
       "\t<summary style=display:list-item;cursor:pointer>\n",
       "\t\t<strong>Levels</strong>:\n",
       "\t</summary>\n",
       "\t<style>\n",
       "\t.list-inline {list-style: none; margin:0; padding: 0}\n",
       "\t.list-inline>li {display: inline-block}\n",
       "\t.list-inline>li:not(:last-child)::after {content: \"\\00b7\"; padding: 0 .5ex}\n",
       "\t</style>\n",
       "\t<ol class=list-inline><li>'constipation'</li><li>'constipation, diarrhea'</li><li>'diarrhea'</li><li>'normal'</li></ol>\n",
       "</details></dd>\n",
       "\t<dt>$Peritonitis</dt>\n",
       "\t\t<dd><style>\n",
       ".list-inline {list-style: none; margin:0; padding: 0}\n",
       ".list-inline>li {display: inline-block}\n",
       ".list-inline>li:not(:last-child)::after {content: \"\\00b7\"; padding: 0 .5ex}\n",
       "</style>\n",
       "<ol class=list-inline><li>no</li><li>local</li><li>generalized</li></ol>\n",
       "\n",
       "<details>\n",
       "\t<summary style=display:list-item;cursor:pointer>\n",
       "\t\t<strong>Levels</strong>:\n",
       "\t</summary>\n",
       "\t<style>\n",
       "\t.list-inline {list-style: none; margin:0; padding: 0}\n",
       "\t.list-inline>li {display: inline-block}\n",
       "\t.list-inline>li:not(:last-child)::after {content: \"\\00b7\"; padding: 0 .5ex}\n",
       "\t</style>\n",
       "\t<ol class=list-inline><li>'generalized'</li><li>'local'</li><li>'no'</li></ol>\n",
       "</details></dd>\n",
       "\t<dt>$Psoas_Sign</dt>\n",
       "\t\t<dd><style>\n",
       ".list-inline {list-style: none; margin:0; padding: 0}\n",
       ".list-inline>li {display: inline-block}\n",
       ".list-inline>li:not(:last-child)::after {content: \"\\00b7\"; padding: 0 .5ex}\n",
       "</style>\n",
       "<ol class=list-inline><li>yes</li><li>no</li></ol>\n",
       "\n",
       "<details>\n",
       "\t<summary style=display:list-item;cursor:pointer>\n",
       "\t\t<strong>Levels</strong>:\n",
       "\t</summary>\n",
       "\t<style>\n",
       "\t.list-inline {list-style: none; margin:0; padding: 0}\n",
       "\t.list-inline>li {display: inline-block}\n",
       "\t.list-inline>li:not(:last-child)::after {content: \"\\00b7\"; padding: 0 .5ex}\n",
       "\t</style>\n",
       "\t<ol class=list-inline><li>'no'</li><li>'yes'</li></ol>\n",
       "</details></dd>\n",
       "\t<dt>$Free_Fluids</dt>\n",
       "\t\t<dd><style>\n",
       ".list-inline {list-style: none; margin:0; padding: 0}\n",
       ".list-inline>li {display: inline-block}\n",
       ".list-inline>li:not(:last-child)::after {content: \"\\00b7\"; padding: 0 .5ex}\n",
       "</style>\n",
       "<ol class=list-inline><li>no</li><li>yes</li></ol>\n",
       "\n",
       "<details>\n",
       "\t<summary style=display:list-item;cursor:pointer>\n",
       "\t\t<strong>Levels</strong>:\n",
       "\t</summary>\n",
       "\t<style>\n",
       "\t.list-inline {list-style: none; margin:0; padding: 0}\n",
       "\t.list-inline>li {display: inline-block}\n",
       "\t.list-inline>li:not(:last-child)::after {content: \"\\00b7\"; padding: 0 .5ex}\n",
       "\t</style>\n",
       "\t<ol class=list-inline><li>'no'</li><li>'yes'</li></ol>\n",
       "</details></dd>\n",
       "\t<dt>$Diagnosis</dt>\n",
       "\t\t<dd><style>\n",
       ".list-inline {list-style: none; margin:0; padding: 0}\n",
       ".list-inline>li {display: inline-block}\n",
       ".list-inline>li:not(:last-child)::after {content: \"\\00b7\"; padding: 0 .5ex}\n",
       "</style>\n",
       "<ol class=list-inline><li>1</li><li>0</li></ol>\n",
       "\n",
       "<details>\n",
       "\t<summary style=display:list-item;cursor:pointer>\n",
       "\t\t<strong>Levels</strong>:\n",
       "\t</summary>\n",
       "\t<style>\n",
       "\t.list-inline {list-style: none; margin:0; padding: 0}\n",
       "\t.list-inline>li {display: inline-block}\n",
       "\t.list-inline>li:not(:last-child)::after {content: \"\\00b7\"; padding: 0 .5ex}\n",
       "\t</style>\n",
       "\t<ol class=list-inline><li>'0'</li><li>'1'</li></ol>\n",
       "</details></dd>\n",
       "</dl>\n"
      ],
      "text/latex": [
       "\\begin{description}\n",
       "\\item[\\$Sex] \\begin{enumerate*}\n",
       "\\item female\n",
       "\\item male\n",
       "\\end{enumerate*}\n",
       "\n",
       "\\emph{Levels}: \\begin{enumerate*}\n",
       "\\item 'female'\n",
       "\\item 'male'\n",
       "\\end{enumerate*}\n",
       "\n",
       "\\item[\\$Appendix\\_on\\_US] \\begin{enumerate*}\n",
       "\\item yes\n",
       "\\item no\n",
       "\\end{enumerate*}\n",
       "\n",
       "\\emph{Levels}: \\begin{enumerate*}\n",
       "\\item 'no'\n",
       "\\item 'yes'\n",
       "\\end{enumerate*}\n",
       "\n",
       "\\item[\\$Migratory\\_Pain] \\begin{enumerate*}\n",
       "\\item no\n",
       "\\item yes\n",
       "\\end{enumerate*}\n",
       "\n",
       "\\emph{Levels}: \\begin{enumerate*}\n",
       "\\item 'no'\n",
       "\\item 'yes'\n",
       "\\end{enumerate*}\n",
       "\n",
       "\\item[\\$Lower\\_Right\\_Abd\\_Pain] \\begin{enumerate*}\n",
       "\\item yes\n",
       "\\item no\n",
       "\\end{enumerate*}\n",
       "\n",
       "\\emph{Levels}: \\begin{enumerate*}\n",
       "\\item 'no'\n",
       "\\item 'yes'\n",
       "\\end{enumerate*}\n",
       "\n",
       "\\item[\\$Contralateral\\_Rebound\\_Tenderness] \\begin{enumerate*}\n",
       "\\item yes\n",
       "\\item no\n",
       "\\end{enumerate*}\n",
       "\n",
       "\\emph{Levels}: \\begin{enumerate*}\n",
       "\\item 'no'\n",
       "\\item 'yes'\n",
       "\\end{enumerate*}\n",
       "\n",
       "\\item[\\$Coughing\\_Pain] \\begin{enumerate*}\n",
       "\\item no\n",
       "\\item yes\n",
       "\\end{enumerate*}\n",
       "\n",
       "\\emph{Levels}: \\begin{enumerate*}\n",
       "\\item 'no'\n",
       "\\item 'yes'\n",
       "\\end{enumerate*}\n",
       "\n",
       "\\item[\\$Nausea] \\begin{enumerate*}\n",
       "\\item no\n",
       "\\item yes\n",
       "\\end{enumerate*}\n",
       "\n",
       "\\emph{Levels}: \\begin{enumerate*}\n",
       "\\item 'no'\n",
       "\\item 'yes'\n",
       "\\end{enumerate*}\n",
       "\n",
       "\\item[\\$Loss\\_of\\_Appetite] \\begin{enumerate*}\n",
       "\\item yes\n",
       "\\item no\n",
       "\\end{enumerate*}\n",
       "\n",
       "\\emph{Levels}: \\begin{enumerate*}\n",
       "\\item 'no'\n",
       "\\item 'yes'\n",
       "\\end{enumerate*}\n",
       "\n",
       "\\item[\\$Neutrophilia] \\begin{enumerate*}\n",
       "\\item no\n",
       "\\item yes\n",
       "\\end{enumerate*}\n",
       "\n",
       "\\emph{Levels}: \\begin{enumerate*}\n",
       "\\item 'no'\n",
       "\\item 'yes'\n",
       "\\end{enumerate*}\n",
       "\n",
       "\\item[\\$Dysuria] \\begin{enumerate*}\n",
       "\\item no\n",
       "\\item yes\n",
       "\\end{enumerate*}\n",
       "\n",
       "\\emph{Levels}: \\begin{enumerate*}\n",
       "\\item 'no'\n",
       "\\item 'yes'\n",
       "\\end{enumerate*}\n",
       "\n",
       "\\item[\\$Stool] \\begin{enumerate*}\n",
       "\\item normal\n",
       "\\item constipation\n",
       "\\item diarrhea\n",
       "\\item constipation, diarrhea\n",
       "\\end{enumerate*}\n",
       "\n",
       "\\emph{Levels}: \\begin{enumerate*}\n",
       "\\item 'constipation'\n",
       "\\item 'constipation, diarrhea'\n",
       "\\item 'diarrhea'\n",
       "\\item 'normal'\n",
       "\\end{enumerate*}\n",
       "\n",
       "\\item[\\$Peritonitis] \\begin{enumerate*}\n",
       "\\item no\n",
       "\\item local\n",
       "\\item generalized\n",
       "\\end{enumerate*}\n",
       "\n",
       "\\emph{Levels}: \\begin{enumerate*}\n",
       "\\item 'generalized'\n",
       "\\item 'local'\n",
       "\\item 'no'\n",
       "\\end{enumerate*}\n",
       "\n",
       "\\item[\\$Psoas\\_Sign] \\begin{enumerate*}\n",
       "\\item yes\n",
       "\\item no\n",
       "\\end{enumerate*}\n",
       "\n",
       "\\emph{Levels}: \\begin{enumerate*}\n",
       "\\item 'no'\n",
       "\\item 'yes'\n",
       "\\end{enumerate*}\n",
       "\n",
       "\\item[\\$Free\\_Fluids] \\begin{enumerate*}\n",
       "\\item no\n",
       "\\item yes\n",
       "\\end{enumerate*}\n",
       "\n",
       "\\emph{Levels}: \\begin{enumerate*}\n",
       "\\item 'no'\n",
       "\\item 'yes'\n",
       "\\end{enumerate*}\n",
       "\n",
       "\\item[\\$Diagnosis] \\begin{enumerate*}\n",
       "\\item 1\n",
       "\\item 0\n",
       "\\end{enumerate*}\n",
       "\n",
       "\\emph{Levels}: \\begin{enumerate*}\n",
       "\\item '0'\n",
       "\\item '1'\n",
       "\\end{enumerate*}\n",
       "\n",
       "\\end{description}\n"
      ],
      "text/markdown": [
       "$Sex\n",
       ":   1. female\n",
       "2. male\n",
       "\n",
       "\n",
       "\n",
       "**Levels**: 1. 'female'\n",
       "2. 'male'\n",
       "\n",
       "\n",
       "\n",
       "$Appendix_on_US\n",
       ":   1. yes\n",
       "2. no\n",
       "\n",
       "\n",
       "\n",
       "**Levels**: 1. 'no'\n",
       "2. 'yes'\n",
       "\n",
       "\n",
       "\n",
       "$Migratory_Pain\n",
       ":   1. no\n",
       "2. yes\n",
       "\n",
       "\n",
       "\n",
       "**Levels**: 1. 'no'\n",
       "2. 'yes'\n",
       "\n",
       "\n",
       "\n",
       "$Lower_Right_Abd_Pain\n",
       ":   1. yes\n",
       "2. no\n",
       "\n",
       "\n",
       "\n",
       "**Levels**: 1. 'no'\n",
       "2. 'yes'\n",
       "\n",
       "\n",
       "\n",
       "$Contralateral_Rebound_Tenderness\n",
       ":   1. yes\n",
       "2. no\n",
       "\n",
       "\n",
       "\n",
       "**Levels**: 1. 'no'\n",
       "2. 'yes'\n",
       "\n",
       "\n",
       "\n",
       "$Coughing_Pain\n",
       ":   1. no\n",
       "2. yes\n",
       "\n",
       "\n",
       "\n",
       "**Levels**: 1. 'no'\n",
       "2. 'yes'\n",
       "\n",
       "\n",
       "\n",
       "$Nausea\n",
       ":   1. no\n",
       "2. yes\n",
       "\n",
       "\n",
       "\n",
       "**Levels**: 1. 'no'\n",
       "2. 'yes'\n",
       "\n",
       "\n",
       "\n",
       "$Loss_of_Appetite\n",
       ":   1. yes\n",
       "2. no\n",
       "\n",
       "\n",
       "\n",
       "**Levels**: 1. 'no'\n",
       "2. 'yes'\n",
       "\n",
       "\n",
       "\n",
       "$Neutrophilia\n",
       ":   1. no\n",
       "2. yes\n",
       "\n",
       "\n",
       "\n",
       "**Levels**: 1. 'no'\n",
       "2. 'yes'\n",
       "\n",
       "\n",
       "\n",
       "$Dysuria\n",
       ":   1. no\n",
       "2. yes\n",
       "\n",
       "\n",
       "\n",
       "**Levels**: 1. 'no'\n",
       "2. 'yes'\n",
       "\n",
       "\n",
       "\n",
       "$Stool\n",
       ":   1. normal\n",
       "2. constipation\n",
       "3. diarrhea\n",
       "4. constipation, diarrhea\n",
       "\n",
       "\n",
       "\n",
       "**Levels**: 1. 'constipation'\n",
       "2. 'constipation, diarrhea'\n",
       "3. 'diarrhea'\n",
       "4. 'normal'\n",
       "\n",
       "\n",
       "\n",
       "$Peritonitis\n",
       ":   1. no\n",
       "2. local\n",
       "3. generalized\n",
       "\n",
       "\n",
       "\n",
       "**Levels**: 1. 'generalized'\n",
       "2. 'local'\n",
       "3. 'no'\n",
       "\n",
       "\n",
       "\n",
       "$Psoas_Sign\n",
       ":   1. yes\n",
       "2. no\n",
       "\n",
       "\n",
       "\n",
       "**Levels**: 1. 'no'\n",
       "2. 'yes'\n",
       "\n",
       "\n",
       "\n",
       "$Free_Fluids\n",
       ":   1. no\n",
       "2. yes\n",
       "\n",
       "\n",
       "\n",
       "**Levels**: 1. 'no'\n",
       "2. 'yes'\n",
       "\n",
       "\n",
       "\n",
       "$Diagnosis\n",
       ":   1. 1\n",
       "2. 0\n",
       "\n",
       "\n",
       "\n",
       "**Levels**: 1. '0'\n",
       "2. '1'\n",
       "\n",
       "\n",
       "\n",
       "\n",
       "\n"
      ],
      "text/plain": [
       "$Sex\n",
       "[1] female male  \n",
       "Levels: female male\n",
       "\n",
       "$Appendix_on_US\n",
       "[1] yes no \n",
       "Levels: no yes\n",
       "\n",
       "$Migratory_Pain\n",
       "[1] no  yes\n",
       "Levels: no yes\n",
       "\n",
       "$Lower_Right_Abd_Pain\n",
       "[1] yes no \n",
       "Levels: no yes\n",
       "\n",
       "$Contralateral_Rebound_Tenderness\n",
       "[1] yes no \n",
       "Levels: no yes\n",
       "\n",
       "$Coughing_Pain\n",
       "[1] no  yes\n",
       "Levels: no yes\n",
       "\n",
       "$Nausea\n",
       "[1] no  yes\n",
       "Levels: no yes\n",
       "\n",
       "$Loss_of_Appetite\n",
       "[1] yes no \n",
       "Levels: no yes\n",
       "\n",
       "$Neutrophilia\n",
       "[1] no  yes\n",
       "Levels: no yes\n",
       "\n",
       "$Dysuria\n",
       "[1] no  yes\n",
       "Levels: no yes\n",
       "\n",
       "$Stool\n",
       "[1] normal                 constipation           diarrhea              \n",
       "[4] constipation, diarrhea\n",
       "Levels: constipation constipation, diarrhea diarrhea normal\n",
       "\n",
       "$Peritonitis\n",
       "[1] no          local       generalized\n",
       "Levels: generalized local no\n",
       "\n",
       "$Psoas_Sign\n",
       "[1] yes no \n",
       "Levels: no yes\n",
       "\n",
       "$Free_Fluids\n",
       "[1] no  yes\n",
       "Levels: no yes\n",
       "\n",
       "$Diagnosis\n",
       "[1] 1 0\n",
       "Levels: 0 1\n"
      ]
     },
     "metadata": {},
     "output_type": "display_data"
    }
   ],
   "source": [
    "#check different categories of the predictors\n",
    "df %>% select(!where(is.numeric)) %>% lapply(unique) "
   ]
  },
  {
   "cell_type": "code",
   "execution_count": 16,
   "id": "bb31c22a-a644-4623-b72e-2c79059a0e03",
   "metadata": {},
   "outputs": [
    {
     "data": {
      "text/plain": [
       "\n",
       "          constipation constipation, diarrhea               diarrhea \n",
       "                    70                      1                     80 \n",
       "                normal \n",
       "                   403 "
      ]
     },
     "metadata": {},
     "output_type": "display_data"
    }
   ],
   "source": [
    "#categories of predictor \"Stool\"\n",
    "table(df$Stool)\n",
    "\n",
    "#merge the only data point in which Stool = \"constipation, diarrhea\" to \"diarrhea\" category which has a higher frequency compared to \"constipation\"\n",
    "df <- df %>% mutate(Stool = if_else(Stool == \"constipation, diarrhea\", \"diarrhea\", Stool))"
   ]
  },
  {
   "cell_type": "code",
   "execution_count": 17,
   "id": "591c76c6-92c9-4b02-ba68-23b919877e04",
   "metadata": {},
   "outputs": [
    {
     "name": "stderr",
     "output_type": "stream",
     "text": [
      "\u001b[1m\u001b[22m`summarise()` has grouped output by 'Stool'. You can override using the `.groups` argument.\n"
     ]
    },
    {
     "data": {
      "text/html": [
       "<table class=\"dataframe\">\n",
       "<caption>A grouped_df: 6 × 4</caption>\n",
       "<thead>\n",
       "\t<tr><th scope=col>Stool</th><th scope=col>Diagnosis</th><th scope=col>count</th><th scope=col>percentage</th></tr>\n",
       "\t<tr><th scope=col>&lt;chr&gt;</th><th scope=col>&lt;fct&gt;</th><th scope=col>&lt;int&gt;</th><th scope=col>&lt;chr&gt;</th></tr>\n",
       "</thead>\n",
       "<tbody>\n",
       "\t<tr><td>constipation</td><td>0</td><td> 28</td><td>28\n",
       "40% </td></tr>\n",
       "\t<tr><td>constipation</td><td>1</td><td> 42</td><td>42\n",
       "60% </td></tr>\n",
       "\t<tr><td>diarrhea    </td><td>0</td><td> 30</td><td>30\n",
       "37% </td></tr>\n",
       "\t<tr><td>diarrhea    </td><td>1</td><td> 51</td><td>51\n",
       "63% </td></tr>\n",
       "\t<tr><td>normal      </td><td>0</td><td>179</td><td>179\n",
       "44%</td></tr>\n",
       "\t<tr><td>normal      </td><td>1</td><td>224</td><td>224\n",
       "56%</td></tr>\n",
       "</tbody>\n",
       "</table>\n"
      ],
      "text/latex": [
       "A grouped\\_df: 6 × 4\n",
       "\\begin{tabular}{llll}\n",
       " Stool & Diagnosis & count & percentage\\\\\n",
       " <chr> & <fct> & <int> & <chr>\\\\\n",
       "\\hline\n",
       "\t constipation & 0 &  28 & 28\n",
       "40\\% \\\\\n",
       "\t constipation & 1 &  42 & 42\n",
       "60\\% \\\\\n",
       "\t diarrhea     & 0 &  30 & 30\n",
       "37\\% \\\\\n",
       "\t diarrhea     & 1 &  51 & 51\n",
       "63\\% \\\\\n",
       "\t normal       & 0 & 179 & 179\n",
       "44\\%\\\\\n",
       "\t normal       & 1 & 224 & 224\n",
       "56\\%\\\\\n",
       "\\end{tabular}\n"
      ],
      "text/markdown": [
       "\n",
       "A grouped_df: 6 × 4\n",
       "\n",
       "| Stool &lt;chr&gt; | Diagnosis &lt;fct&gt; | count &lt;int&gt; | percentage &lt;chr&gt; |\n",
       "|---|---|---|---|\n",
       "| constipation | 0 |  28 | 28\n",
       "40%  |\n",
       "| constipation | 1 |  42 | 42\n",
       "60%  |\n",
       "| diarrhea     | 0 |  30 | 30\n",
       "37%  |\n",
       "| diarrhea     | 1 |  51 | 51\n",
       "63%  |\n",
       "| normal       | 0 | 179 | 179\n",
       "44% |\n",
       "| normal       | 1 | 224 | 224\n",
       "56% |\n",
       "\n"
      ],
      "text/plain": [
       "  Stool        Diagnosis count percentage\n",
       "1 constipation 0          28   28\\n40%   \n",
       "2 constipation 1          42   42\\n60%   \n",
       "3 diarrhea     0          30   30\\n37%   \n",
       "4 diarrhea     1          51   51\\n63%   \n",
       "5 normal       0         179   179\\n44%  \n",
       "6 normal       1         224   224\\n56%  "
      ]
     },
     "metadata": {},
     "output_type": "display_data"
    }
   ],
   "source": [
    "#frequency of Diagnosis 0 and 1 in each category of Stool\n",
    "M_plot <-  df %>% \n",
    "                 group_by(\n",
    "                           Stool, Diagnosis\n",
    "                          ) %>%\n",
    "                  summarise(\n",
    "                           count = n()\n",
    "                           ) %>%\n",
    "                  mutate(\n",
    "                         percentage = count*100 / sum(count)\n",
    "                        ) %>%\n",
    "                  mutate(\n",
    "                         percentage = paste0(count, \"\\n\", round(percentage), \"%\")\n",
    "                        )\n",
    "M_plot"
   ]
  },
  {
   "cell_type": "code",
   "execution_count": 18,
   "id": "082484fc-de4a-4093-96f0-35b6d634871e",
   "metadata": {},
   "outputs": [
    {
     "data": {
      "image/png": "[encoded data removed]",
      "text/plain": [
       "plot without title"
      ]
     },
     "metadata": {
      "image/png": {
       "height": 300,
       "width": 360
      }
     },
     "output_type": "display_data"
    }
   ],
   "source": [
    "options(repr.plot.width = 6, repr.plot.heigth = 4)\n",
    "\n",
    "#Stacked bar plot of Stool vs Diagnosis\n",
    "ggplot(M_plot) +\n",
    "aes(x=Stool, y = count, fill = Diagnosis, label = percentage) +\n",
    "geom_col() +\n",
    "theme_bw() +\n",
    "scale_fill_manual(values = c(\"0\" = \"green\", \"1\" = \"red\")) +\n",
    "geom_text(position = position_stack(0.5)) +\n",
    "labs(title = \"Stacked bar plot of Stool vs Diagnosis\")+\n",
    "theme(plot.title = element_text(size=20))"
   ]
  },
  {
   "cell_type": "markdown",
   "id": "220e8caa-e001-4f70-adb3-6d5e95e6ec51",
   "metadata": {},
   "source": [
    "We do not see a great difference in \"constipation\" and \"diarrhea\" in terms of the binary values of the target variable so we can merge them together as \"not_normal\" category. <br>\n",
    "We observe a limited distinction between the occurrence of \"constipation\" and \"diarrhea\" concerning values of Diagnosis(target). Therefore combining these categories into one single category named \"not_normal\" seems appropriate."
   ]
  },
  {
   "cell_type": "code",
   "execution_count": 19,
   "id": "b7327a58-14f2-44e5-9fe7-3b2652821388",
   "metadata": {},
   "outputs": [],
   "source": [
    "#combine categories of Stool\n",
    "df <- df %>% \n",
    "            mutate(Stool = if_else(Stool != \"normal\", \"not_normal\", Stool))"
   ]
  },
  {
   "cell_type": "code",
   "execution_count": 20,
   "id": "793299b0-e4cb-453a-a56a-2beb5e328eb8",
   "metadata": {},
   "outputs": [
    {
     "data": {
      "text/plain": [
       "\n",
       "generalized       local          no \n",
       "         26         129         399 "
      ]
     },
     "metadata": {},
     "output_type": "display_data"
    }
   ],
   "source": [
    "#data points in each category of Peritonitis\n",
    "table(df$Peritonitis)"
   ]
  },
  {
   "cell_type": "markdown",
   "id": "72dc7ea2-9cdd-42de-b58b-aecff993d7fa",
   "metadata": {},
   "source": [
    "Since the number of data points for categories \"generalized\" and \"local\" are minimal and they both convey that spasm of abdominal wall muscels were detected, we can combine them to one single category names \"yes\". \n",
    "Given the minimal number of data points for both \"generalized\" and \"local\" categories, which both indicate the detection of spasms in abdominal wall muscles, combining them into a single category named \"yes\" seems appropriate.\""
   ]
  },
  {
   "cell_type": "code",
   "execution_count": 21,
   "id": "9a5c7819-4d56-4b72-b119-bad02563842c",
   "metadata": {},
   "outputs": [],
   "source": [
    "#combine categories of \"Peritonitis\"\n",
    "df <- df %>% \n",
    "            mutate(Peritonitis = if_else(Peritonitis != \"no\", \"yes\", Peritonitis))"
   ]
  },
  {
   "cell_type": "markdown",
   "id": "dc79e4ee-5576-413f-8e64-c22247111d98",
   "metadata": {},
   "source": [
    "<font size = 6> Feature Selection <font>"
   ]
  },
  {
   "cell_type": "markdown",
   "id": "61fc6c08-f175-41cb-b9be-afdf1bbf28cd",
   "metadata": {},
   "source": [
    "Before starting our feature selection let's run a glm on the full model and analyze the result."
   ]
  },
  {
   "cell_type": "code",
   "execution_count": 22,
   "id": "1de14b83-2781-45c6-89b4-aff646380ef3",
   "metadata": {},
   "outputs": [
    {
     "data": {
      "text/html": [
       "<style>\n",
       ".dl-inline {width: auto; margin:0; padding: 0}\n",
       ".dl-inline>dt, .dl-inline>dd {float: none; width: auto; display: inline-block}\n",
       ".dl-inline>dt::after {content: \":\\0020\"; padding-right: .5ex}\n",
       ".dl-inline>dt:not(:first-of-type) {padding-left: .5ex}\n",
       "</style><dl class=dl-inline><dt>(Intercept)</dt><dd>3.81401020172197</dd><dt>Age</dt><dd>0.0182337318696768</dd><dt>BMI</dt><dd>-0.127005506626544</dd><dt>Sexmale</dt><dd>0.0117387714348687</dd><dt>Weight</dt><dd>0.0330975637298591</dd><dt>Length_of_Stay</dt><dd>0.640571892923777</dd><dt>Appendix_on_USyes</dt><dd>3.71510484937525</dd><dt>Migratory_Painyes</dt><dd>0.455024982562161</dd><dt>Lower_Right_Abd_Painyes</dt><dd>1.17966638111118</dd><dt>Contralateral_Rebound_Tendernessyes</dt><dd>0.306168285899582</dd><dt>Coughing_Painyes</dt><dd>0.686942136997285</dd><dt>Nauseayes</dt><dd>0.684083783144269</dd><dt>Loss_of_Appetiteyes</dt><dd>-0.0547805451445062</dd><dt>Body_Temperature</dt><dd>-0.299361808166367</dd><dt>WBC_Count</dt><dd>0.142573741669206</dd><dt>Neutrophil_Percentage</dt><dd>0.0295201091716728</dd><dt>Neutrophiliayes</dt><dd>-0.761345211567841</dd><dt>RBC_Count</dt><dd>-0.275256145289987</dd><dt>Hemoglobin</dt><dd>-0.0862488214404051</dd><dt>RDW</dt><dd>0.00137598998074184</dd><dt>Thrombocyte_Count</dt><dd>0.000140812560389217</dd><dt>CRP</dt><dd>0.0168874525637613</dd><dt>Dysuriayes</dt><dd>-0.0805358804757447</dd><dt>Stoolnot_normal</dt><dd>0.556657471843343</dd><dt>Peritonitisyes</dt><dd>1.73254740844343</dd><dt>Psoas_Signyes</dt><dd>-1.02104565850962</dd><dt>Free_Fluidsyes</dt><dd>0.324047924560063</dd></dl>\n"
      ],
      "text/latex": [
       "\\begin{description*}\n",
       "\\item[(Intercept)] 3.81401020172197\n",
       "\\item[Age] 0.0182337318696768\n",
       "\\item[BMI] -0.127005506626544\n",
       "\\item[Sexmale] 0.0117387714348687\n",
       "\\item[Weight] 0.0330975637298591\n",
       "\\item[Length\\textbackslash{}\\_of\\textbackslash{}\\_Stay] 0.640571892923777\n",
       "\\item[Appendix\\textbackslash{}\\_on\\textbackslash{}\\_USyes] 3.71510484937525\n",
       "\\item[Migratory\\textbackslash{}\\_Painyes] 0.455024982562161\n",
       "\\item[Lower\\textbackslash{}\\_Right\\textbackslash{}\\_Abd\\textbackslash{}\\_Painyes] 1.17966638111118\n",
       "\\item[Contralateral\\textbackslash{}\\_Rebound\\textbackslash{}\\_Tendernessyes] 0.306168285899582\n",
       "\\item[Coughing\\textbackslash{}\\_Painyes] 0.686942136997285\n",
       "\\item[Nauseayes] 0.684083783144269\n",
       "\\item[Loss\\textbackslash{}\\_of\\textbackslash{}\\_Appetiteyes] -0.0547805451445062\n",
       "\\item[Body\\textbackslash{}\\_Temperature] -0.299361808166367\n",
       "\\item[WBC\\textbackslash{}\\_Count] 0.142573741669206\n",
       "\\item[Neutrophil\\textbackslash{}\\_Percentage] 0.0295201091716728\n",
       "\\item[Neutrophiliayes] -0.761345211567841\n",
       "\\item[RBC\\textbackslash{}\\_Count] -0.275256145289987\n",
       "\\item[Hemoglobin] -0.0862488214404051\n",
       "\\item[RDW] 0.00137598998074184\n",
       "\\item[Thrombocyte\\textbackslash{}\\_Count] 0.000140812560389217\n",
       "\\item[CRP] 0.0168874525637613\n",
       "\\item[Dysuriayes] -0.0805358804757447\n",
       "\\item[Stoolnot\\textbackslash{}\\_normal] 0.556657471843343\n",
       "\\item[Peritonitisyes] 1.73254740844343\n",
       "\\item[Psoas\\textbackslash{}\\_Signyes] -1.02104565850962\n",
       "\\item[Free\\textbackslash{}\\_Fluidsyes] 0.324047924560063\n",
       "\\end{description*}\n"
      ],
      "text/markdown": [
       "(Intercept)\n",
       ":   3.81401020172197Age\n",
       ":   0.0182337318696768BMI\n",
       ":   -0.127005506626544Sexmale\n",
       ":   0.0117387714348687Weight\n",
       ":   0.0330975637298591Length_of_Stay\n",
       ":   0.640571892923777Appendix_on_USyes\n",
       ":   3.71510484937525Migratory_Painyes\n",
       ":   0.455024982562161Lower_Right_Abd_Painyes\n",
       ":   1.17966638111118Contralateral_Rebound_Tendernessyes\n",
       ":   0.306168285899582Coughing_Painyes\n",
       ":   0.686942136997285Nauseayes\n",
       ":   0.684083783144269Loss_of_Appetiteyes\n",
       ":   -0.0547805451445062Body_Temperature\n",
       ":   -0.299361808166367WBC_Count\n",
       ":   0.142573741669206Neutrophil_Percentage\n",
       ":   0.0295201091716728Neutrophiliayes\n",
       ":   -0.761345211567841RBC_Count\n",
       ":   -0.275256145289987Hemoglobin\n",
       ":   -0.0862488214404051RDW\n",
       ":   0.00137598998074184Thrombocyte_Count\n",
       ":   0.000140812560389217CRP\n",
       ":   0.0168874525637613Dysuriayes\n",
       ":   -0.0805358804757447Stoolnot_normal\n",
       ":   0.556657471843343Peritonitisyes\n",
       ":   1.73254740844343Psoas_Signyes\n",
       ":   -1.02104565850962Free_Fluidsyes\n",
       ":   0.324047924560063\n",
       "\n"
      ],
      "text/plain": [
       "                        (Intercept)                                 Age \n",
       "                            3.81401                             0.01823 \n",
       "                                BMI                             Sexmale \n",
       "                           -0.12701                             0.01174 \n",
       "                             Weight                      Length_of_Stay \n",
       "                            0.03310                             0.64057 \n",
       "                  Appendix_on_USyes                   Migratory_Painyes \n",
       "                            3.71510                             0.45502 \n",
       "            Lower_Right_Abd_Painyes Contralateral_Rebound_Tendernessyes \n",
       "                            1.17967                             0.30617 \n",
       "                   Coughing_Painyes                           Nauseayes \n",
       "                            0.68694                             0.68408 \n",
       "                Loss_of_Appetiteyes                    Body_Temperature \n",
       "                           -0.05478                            -0.29936 \n",
       "                          WBC_Count               Neutrophil_Percentage \n",
       "                            0.14257                             0.02952 \n",
       "                    Neutrophiliayes                           RBC_Count \n",
       "                           -0.76135                            -0.27526 \n",
       "                         Hemoglobin                                 RDW \n",
       "                           -0.08625                             0.00138 \n",
       "                  Thrombocyte_Count                                 CRP \n",
       "                            0.00014                             0.01689 \n",
       "                         Dysuriayes                     Stoolnot_normal \n",
       "                           -0.08054                             0.55666 \n",
       "                     Peritonitisyes                       Psoas_Signyes \n",
       "                            1.73255                            -1.02105 \n",
       "                     Free_Fluidsyes \n",
       "                            0.32405 "
      ]
     },
     "metadata": {},
     "output_type": "display_data"
    }
   ],
   "source": [
    "#Full model\n",
    "full_model <-   glm(Diagnosis ~ .,\n",
    "                data = df,\n",
    "                family = binomial()\n",
    "                )\n",
    "\n",
    "coef(full_model)"
   ]
  },
  {
   "cell_type": "markdown",
   "id": "8f1bd81f-b7f5-4aaf-be2f-3674e8b67456",
   "metadata": {},
   "source": [
    "**Information Leakage of predicotrs:** <br>\n",
    "Magnitude of the \"Appendix_on_US\" coefficient is different than the other coefficients. <br> \n",
    "A normal Appendix is typically small and may be challenging to detect on an ultrasound. <br>\n",
    "The ability to detect the appendix on the ultrasound increases the likelihood of diagnosing appendicitis. <br>\n",
    "\n",
    "Therefore **Appendix_on_US** might be leaking information about the target variable and hence is not a suitable predictor. We will remove this column from the model. "
   ]
  },
  {
   "cell_type": "code",
   "execution_count": 23,
   "id": "705b2120-7bf7-448f-bd5a-a79cb2c27fb9",
   "metadata": {},
   "outputs": [],
   "source": [
    "#Drop Appendix_on_US \n",
    "df <- df %>% select(-Appendix_on_US)"
   ]
  },
  {
   "cell_type": "code",
   "execution_count": 24,
   "id": "afa2f1e2-6dc5-4ba3-a435-c4801fd0fd66",
   "metadata": {},
   "outputs": [
    {
     "data": {
      "text/html": [
       "<table class=\"dataframe\">\n",
       "<caption>A data.frame: 6 × 26</caption>\n",
       "<thead>\n",
       "\t<tr><th></th><th scope=col>Age</th><th scope=col>BMI</th><th scope=col>Sex</th><th scope=col>Weight</th><th scope=col>Length_of_Stay</th><th scope=col>Migratory_Pain</th><th scope=col>Lower_Right_Abd_Pain</th><th scope=col>Contralateral_Rebound_Tenderness</th><th scope=col>Coughing_Pain</th><th scope=col>Nausea</th><th scope=col>⋯</th><th scope=col>Hemoglobin</th><th scope=col>RDW</th><th scope=col>Thrombocyte_Count</th><th scope=col>CRP</th><th scope=col>Dysuria</th><th scope=col>Stool</th><th scope=col>Peritonitis</th><th scope=col>Psoas_Sign</th><th scope=col>Free_Fluids</th><th scope=col>Diagnosis</th></tr>\n",
       "\t<tr><th></th><th scope=col>&lt;dbl&gt;</th><th scope=col>&lt;dbl&gt;</th><th scope=col>&lt;fct&gt;</th><th scope=col>&lt;dbl&gt;</th><th scope=col>&lt;int&gt;</th><th scope=col>&lt;fct&gt;</th><th scope=col>&lt;fct&gt;</th><th scope=col>&lt;fct&gt;</th><th scope=col>&lt;fct&gt;</th><th scope=col>&lt;fct&gt;</th><th scope=col>⋯</th><th scope=col>&lt;dbl&gt;</th><th scope=col>&lt;dbl&gt;</th><th scope=col>&lt;int&gt;</th><th scope=col>&lt;dbl&gt;</th><th scope=col>&lt;fct&gt;</th><th scope=col>&lt;chr&gt;</th><th scope=col>&lt;chr&gt;</th><th scope=col>&lt;fct&gt;</th><th scope=col>&lt;fct&gt;</th><th scope=col>&lt;fct&gt;</th></tr>\n",
       "</thead>\n",
       "<tbody>\n",
       "\t<tr><th scope=row>1</th><td>13</td><td>17</td><td>female</td><td>37</td><td>3</td><td>no </td><td>yes</td><td>yes</td><td>no </td><td>no </td><td>⋯</td><td>15</td><td>12</td><td>254</td><td> 0</td><td>no </td><td>normal    </td><td>no</td><td>yes</td><td>no</td><td>1</td></tr>\n",
       "\t<tr><th scope=row>2</th><td>14</td><td>32</td><td>male  </td><td>70</td><td>2</td><td>yes</td><td>yes</td><td>yes</td><td>no </td><td>no </td><td>⋯</td><td>16</td><td>13</td><td>151</td><td> 3</td><td>yes</td><td>normal    </td><td>no</td><td>yes</td><td>no</td><td>0</td></tr>\n",
       "\t<tr><th scope=row>3</th><td>14</td><td>23</td><td>female</td><td>62</td><td>4</td><td>no </td><td>yes</td><td>yes</td><td>no </td><td>no </td><td>⋯</td><td>11</td><td>12</td><td>300</td><td> 3</td><td>no </td><td>not_normal</td><td>no</td><td>yes</td><td>no</td><td>0</td></tr>\n",
       "\t<tr><th scope=row>4</th><td>16</td><td>21</td><td>female</td><td>56</td><td>3</td><td>yes</td><td>yes</td><td>no </td><td>no </td><td>yes</td><td>⋯</td><td>14</td><td>13</td><td>258</td><td> 0</td><td>yes</td><td>normal    </td><td>no</td><td>yes</td><td>no</td><td>0</td></tr>\n",
       "\t<tr><th scope=row>5</th><td>11</td><td>17</td><td>female</td><td>45</td><td>3</td><td>no </td><td>yes</td><td>yes</td><td>yes</td><td>yes</td><td>⋯</td><td>13</td><td>14</td><td>311</td><td> 0</td><td>no </td><td>not_normal</td><td>no</td><td>yes</td><td>no</td><td>1</td></tr>\n",
       "\t<tr><th scope=row>6</th><td>11</td><td>31</td><td>male  </td><td>45</td><td>3</td><td>yes</td><td>yes</td><td>yes</td><td>yes</td><td>yes</td><td>⋯</td><td>12</td><td>13</td><td>249</td><td>63</td><td>no </td><td>not_normal</td><td>no</td><td>yes</td><td>no</td><td>0</td></tr>\n",
       "</tbody>\n",
       "</table>\n"
      ],
      "text/latex": [
       "A data.frame: 6 × 26\n",
       "\\begin{tabular}{r|lllllllllllllllllllll}\n",
       "  & Age & BMI & Sex & Weight & Length\\_of\\_Stay & Migratory\\_Pain & Lower\\_Right\\_Abd\\_Pain & Contralateral\\_Rebound\\_Tenderness & Coughing\\_Pain & Nausea & ⋯ & Hemoglobin & RDW & Thrombocyte\\_Count & CRP & Dysuria & Stool & Peritonitis & Psoas\\_Sign & Free\\_Fluids & Diagnosis\\\\\n",
       "  & <dbl> & <dbl> & <fct> & <dbl> & <int> & <fct> & <fct> & <fct> & <fct> & <fct> & ⋯ & <dbl> & <dbl> & <int> & <dbl> & <fct> & <chr> & <chr> & <fct> & <fct> & <fct>\\\\\n",
       "\\hline\n",
       "\t1 & 13 & 17 & female & 37 & 3 & no  & yes & yes & no  & no  & ⋯ & 15 & 12 & 254 &  0 & no  & normal     & no & yes & no & 1\\\\\n",
       "\t2 & 14 & 32 & male   & 70 & 2 & yes & yes & yes & no  & no  & ⋯ & 16 & 13 & 151 &  3 & yes & normal     & no & yes & no & 0\\\\\n",
       "\t3 & 14 & 23 & female & 62 & 4 & no  & yes & yes & no  & no  & ⋯ & 11 & 12 & 300 &  3 & no  & not\\_normal & no & yes & no & 0\\\\\n",
       "\t4 & 16 & 21 & female & 56 & 3 & yes & yes & no  & no  & yes & ⋯ & 14 & 13 & 258 &  0 & yes & normal     & no & yes & no & 0\\\\\n",
       "\t5 & 11 & 17 & female & 45 & 3 & no  & yes & yes & yes & yes & ⋯ & 13 & 14 & 311 &  0 & no  & not\\_normal & no & yes & no & 1\\\\\n",
       "\t6 & 11 & 31 & male   & 45 & 3 & yes & yes & yes & yes & yes & ⋯ & 12 & 13 & 249 & 63 & no  & not\\_normal & no & yes & no & 0\\\\\n",
       "\\end{tabular}\n"
      ],
      "text/markdown": [
       "\n",
       "A data.frame: 6 × 26\n",
       "\n",
       "| <!--/--> | Age &lt;dbl&gt; | BMI &lt;dbl&gt; | Sex &lt;fct&gt; | Weight &lt;dbl&gt; | Length_of_Stay &lt;int&gt; | Migratory_Pain &lt;fct&gt; | Lower_Right_Abd_Pain &lt;fct&gt; | Contralateral_Rebound_Tenderness &lt;fct&gt; | Coughing_Pain &lt;fct&gt; | Nausea &lt;fct&gt; | ⋯ ⋯ | Hemoglobin &lt;dbl&gt; | RDW &lt;dbl&gt; | Thrombocyte_Count &lt;int&gt; | CRP &lt;dbl&gt; | Dysuria &lt;fct&gt; | Stool &lt;chr&gt; | Peritonitis &lt;chr&gt; | Psoas_Sign &lt;fct&gt; | Free_Fluids &lt;fct&gt; | Diagnosis &lt;fct&gt; |\n",
       "|---|---|---|---|---|---|---|---|---|---|---|---|---|---|---|---|---|---|---|---|---|---|\n",
       "| 1 | 13 | 17 | female | 37 | 3 | no  | yes | yes | no  | no  | ⋯ | 15 | 12 | 254 |  0 | no  | normal     | no | yes | no | 1 |\n",
       "| 2 | 14 | 32 | male   | 70 | 2 | yes | yes | yes | no  | no  | ⋯ | 16 | 13 | 151 |  3 | yes | normal     | no | yes | no | 0 |\n",
       "| 3 | 14 | 23 | female | 62 | 4 | no  | yes | yes | no  | no  | ⋯ | 11 | 12 | 300 |  3 | no  | not_normal | no | yes | no | 0 |\n",
       "| 4 | 16 | 21 | female | 56 | 3 | yes | yes | no  | no  | yes | ⋯ | 14 | 13 | 258 |  0 | yes | normal     | no | yes | no | 0 |\n",
       "| 5 | 11 | 17 | female | 45 | 3 | no  | yes | yes | yes | yes | ⋯ | 13 | 14 | 311 |  0 | no  | not_normal | no | yes | no | 1 |\n",
       "| 6 | 11 | 31 | male   | 45 | 3 | yes | yes | yes | yes | yes | ⋯ | 12 | 13 | 249 | 63 | no  | not_normal | no | yes | no | 0 |\n",
       "\n"
      ],
      "text/plain": [
       "  Age BMI Sex    Weight Length_of_Stay Migratory_Pain Lower_Right_Abd_Pain\n",
       "1 13  17  female 37     3              no             yes                 \n",
       "2 14  32  male   70     2              yes            yes                 \n",
       "3 14  23  female 62     4              no             yes                 \n",
       "4 16  21  female 56     3              yes            yes                 \n",
       "5 11  17  female 45     3              no             yes                 \n",
       "6 11  31  male   45     3              yes            yes                 \n",
       "  Contralateral_Rebound_Tenderness Coughing_Pain Nausea ⋯ Hemoglobin RDW\n",
       "1 yes                              no            no     ⋯ 15         12 \n",
       "2 yes                              no            no     ⋯ 16         13 \n",
       "3 yes                              no            no     ⋯ 11         12 \n",
       "4 no                               no            yes    ⋯ 14         13 \n",
       "5 yes                              yes           yes    ⋯ 13         14 \n",
       "6 yes                              yes           yes    ⋯ 12         13 \n",
       "  Thrombocyte_Count CRP Dysuria Stool      Peritonitis Psoas_Sign Free_Fluids\n",
       "1 254                0  no      normal     no          yes        no         \n",
       "2 151                3  yes     normal     no          yes        no         \n",
       "3 300                3  no      not_normal no          yes        no         \n",
       "4 258                0  yes     normal     no          yes        no         \n",
       "5 311                0  no      not_normal no          yes        no         \n",
       "6 249               63  no      not_normal no          yes        no         \n",
       "  Diagnosis\n",
       "1 1        \n",
       "2 0        \n",
       "3 0        \n",
       "4 0        \n",
       "5 1        \n",
       "6 0        "
      ]
     },
     "metadata": {},
     "output_type": "display_data"
    }
   ],
   "source": [
    "#build full model again now that we dropped \"Appendix_on_US\"\n",
    "full_model <-   glm(Diagnosis ~ .,\n",
    "                data = df,\n",
    "                family = binomial()\n",
    "                )\n",
    "head(df)"
   ]
  },
  {
   "cell_type": "markdown",
   "id": "f6e232bb-6581-4435-b255-07ab3f30b724",
   "metadata": {},
   "source": [
    "<font size = 5> Train and Test sets <font>"
   ]
  },
  {
   "cell_type": "code",
   "execution_count": 25,
   "id": "40f04a4c-435b-4e4d-9aa2-3916f2fc070e",
   "metadata": {},
   "outputs": [],
   "source": [
    "#Partition data into train and test (60/40)\n",
    "set.seed(22)\n",
    "train_ind <- sample(1:nrow(df), size = nrow(df)* 0.6, replace = FALSE)\n",
    "\n",
    "train_set <- df[train_ind, ]\n",
    "test_set  <- df[-train_ind, ]"
   ]
  },
  {
   "cell_type": "markdown",
   "id": "4c155908-1e63-4b70-ad3f-e7e785964dac",
   "metadata": {},
   "source": [
    "<font size = 5> Stepwise Selection <font>"
   ]
  },
  {
   "cell_type": "code",
   "execution_count": 26,
   "id": "d6e3ce52-30e5-4348-9b77-5b277b68731c",
   "metadata": {},
   "outputs": [
    {
     "name": "stdout",
     "output_type": "stream",
     "text": [
      "Start:  AIC=570\n",
      "Diagnosis ~ Age + BMI + Sex + Weight + Length_of_Stay + Migratory_Pain + \n",
      "    Lower_Right_Abd_Pain + Contralateral_Rebound_Tenderness + \n",
      "    Coughing_Pain + Nausea + Loss_of_Appetite + Body_Temperature + \n",
      "    WBC_Count + Neutrophil_Percentage + Neutrophilia + RBC_Count + \n",
      "    Hemoglobin + RDW + Thrombocyte_Count + CRP + Dysuria + Stool + \n",
      "    Peritonitis + Psoas_Sign + Free_Fluids\n",
      "\n"
     ]
    }
   ],
   "source": [
    "#forward selection\n",
    "step_forward  <-    MASS::stepAIC(\n",
    "                        object = full_model,\n",
    "                        direction = \"forward\"\n",
    "                        )"
   ]
  },
  {
   "cell_type": "code",
   "execution_count": 27,
   "id": "a15c5797-b307-440d-9ec8-99107a4bd3cc",
   "metadata": {
    "scrolled": true
   },
   "outputs": [
    {
     "name": "stdout",
     "output_type": "stream",
     "text": [
      "Start:  AIC=570\n",
      "Diagnosis ~ Age + BMI + Sex + Weight + Length_of_Stay + Migratory_Pain + \n",
      "    Lower_Right_Abd_Pain + Contralateral_Rebound_Tenderness + \n",
      "    Coughing_Pain + Nausea + Loss_of_Appetite + Body_Temperature + \n",
      "    WBC_Count + Neutrophil_Percentage + Neutrophilia + RBC_Count + \n",
      "    Hemoglobin + RDW + Thrombocyte_Count + CRP + Dysuria + Stool + \n",
      "    Peritonitis + Psoas_Sign + Free_Fluids\n",
      "\n",
      "                                   Df Deviance AIC\n",
      "- Loss_of_Appetite                  1      518 568\n",
      "- RDW                               1      518 568\n",
      "- Hemoglobin                        1      518 568\n",
      "- Dysuria                           1      519 569\n",
      "- Thrombocyte_Count                 1      519 569\n",
      "- Age                               1      519 569\n",
      "- Weight                            1      519 569\n",
      "- RBC_Count                         1      519 569\n",
      "- Nausea                            1      520 570\n",
      "- Sex                               1      520 570\n",
      "- Neutrophilia                      1      520 570\n",
      "- Free_Fluids                       1      520 570\n",
      "- Contralateral_Rebound_Tenderness  1      520 570\n",
      "<none>                                     518 570\n",
      "- Stool                             1      521 571\n",
      "- CRP                               1      522 572\n",
      "- BMI                               1      522 572\n",
      "- Lower_Right_Abd_Pain              1      522 572\n",
      "- Migratory_Pain                    1      522 572\n",
      "- Neutrophil_Percentage             1      523 573\n",
      "- Body_Temperature                  1      525 575\n",
      "- WBC_Count                         1      525 575\n",
      "- Coughing_Pain                     1      525 575\n",
      "- Peritonitis                       1      529 579\n",
      "- Psoas_Sign                        1      530 580\n",
      "- Length_of_Stay                    1      561 611\n",
      "\n",
      "Step:  AIC=568\n",
      "Diagnosis ~ Age + BMI + Sex + Weight + Length_of_Stay + Migratory_Pain + \n",
      "    Lower_Right_Abd_Pain + Contralateral_Rebound_Tenderness + \n",
      "    Coughing_Pain + Nausea + Body_Temperature + WBC_Count + Neutrophil_Percentage + \n",
      "    Neutrophilia + RBC_Count + Hemoglobin + RDW + Thrombocyte_Count + \n",
      "    CRP + Dysuria + Stool + Peritonitis + Psoas_Sign + Free_Fluids\n",
      "\n",
      "                                   Df Deviance AIC\n",
      "- RDW                               1      518 566\n",
      "- Hemoglobin                        1      518 566\n",
      "- Dysuria                           1      519 567\n",
      "- Thrombocyte_Count                 1      519 567\n",
      "- Age                               1      519 567\n",
      "- Weight                            1      519 567\n",
      "- RBC_Count                         1      519 567\n",
      "- Nausea                            1      520 568\n",
      "- Sex                               1      520 568\n",
      "- Neutrophilia                      1      520 568\n",
      "- Free_Fluids                       1      520 568\n",
      "- Contralateral_Rebound_Tenderness  1      520 568\n",
      "<none>                                     518 568\n",
      "- Stool                             1      521 569\n",
      "- CRP                               1      522 570\n",
      "- BMI                               1      522 570\n",
      "- Lower_Right_Abd_Pain              1      522 570\n",
      "- Migratory_Pain                    1      522 570\n",
      "+ Loss_of_Appetite                  1      518 570\n",
      "- Neutrophil_Percentage             1      523 571\n",
      "- WBC_Count                         1      525 573\n",
      "- Body_Temperature                  1      525 573\n",
      "- Coughing_Pain                     1      526 574\n",
      "- Peritonitis                       1      529 577\n",
      "- Psoas_Sign                        1      530 578\n",
      "- Length_of_Stay                    1      562 610\n",
      "\n",
      "Step:  AIC=566\n",
      "Diagnosis ~ Age + BMI + Sex + Weight + Length_of_Stay + Migratory_Pain + \n",
      "    Lower_Right_Abd_Pain + Contralateral_Rebound_Tenderness + \n",
      "    Coughing_Pain + Nausea + Body_Temperature + WBC_Count + Neutrophil_Percentage + \n",
      "    Neutrophilia + RBC_Count + Hemoglobin + Thrombocyte_Count + \n",
      "    CRP + Dysuria + Stool + Peritonitis + Psoas_Sign + Free_Fluids\n",
      "\n",
      "                                   Df Deviance AIC\n",
      "- Hemoglobin                        1      519 565\n",
      "- Dysuria                           1      519 565\n",
      "- Thrombocyte_Count                 1      519 565\n",
      "- Weight                            1      519 565\n",
      "- Age                               1      519 565\n",
      "- RBC_Count                         1      519 565\n",
      "- Nausea                            1      520 566\n",
      "- Sex                               1      520 566\n",
      "- Neutrophilia                      1      520 566\n",
      "- Free_Fluids                       1      520 566\n",
      "- Contralateral_Rebound_Tenderness  1      520 566\n",
      "<none>                                     518 566\n",
      "- Stool                             1      521 567\n",
      "- CRP                               1      522 568\n",
      "- BMI                               1      522 568\n",
      "- Lower_Right_Abd_Pain              1      522 568\n",
      "- Migratory_Pain                    1      522 568\n",
      "+ RDW                               1      518 568\n",
      "+ Loss_of_Appetite                  1      518 568\n",
      "- Neutrophil_Percentage             1      523 569\n",
      "- WBC_Count                         1      525 571\n",
      "- Body_Temperature                  1      525 571\n",
      "- Coughing_Pain                     1      526 572\n",
      "- Peritonitis                       1      529 575\n",
      "- Psoas_Sign                        1      530 576\n",
      "- Length_of_Stay                    1      562 608\n",
      "\n",
      "Step:  AIC=565\n",
      "Diagnosis ~ Age + BMI + Sex + Weight + Length_of_Stay + Migratory_Pain + \n",
      "    Lower_Right_Abd_Pain + Contralateral_Rebound_Tenderness + \n",
      "    Coughing_Pain + Nausea + Body_Temperature + WBC_Count + Neutrophil_Percentage + \n",
      "    Neutrophilia + RBC_Count + Thrombocyte_Count + CRP + Dysuria + \n",
      "    Stool + Peritonitis + Psoas_Sign + Free_Fluids\n",
      "\n",
      "                                   Df Deviance AIC\n",
      "- Dysuria                           1      519 563\n",
      "- Thrombocyte_Count                 1      519 563\n",
      "- Age                               1      519 563\n",
      "- Weight                            1      519 563\n",
      "- RBC_Count                         1      519 563\n",
      "- Nausea                            1      520 564\n",
      "- Sex                               1      520 564\n",
      "- Neutrophilia                      1      520 564\n",
      "- Free_Fluids                       1      520 564\n",
      "- Contralateral_Rebound_Tenderness  1      520 564\n",
      "<none>                                     519 565\n",
      "- Stool                             1      521 565\n",
      "- CRP                               1      522 566\n",
      "- Lower_Right_Abd_Pain              1      522 566\n",
      "- BMI                               1      522 566\n",
      "+ Hemoglobin                        1      518 566\n",
      "- Migratory_Pain                    1      522 566\n",
      "+ RDW                               1      518 566\n",
      "+ Loss_of_Appetite                  1      519 567\n",
      "- Neutrophil_Percentage             1      523 567\n",
      "- WBC_Count                         1      525 569\n",
      "- Body_Temperature                  1      525 569\n",
      "- Coughing_Pain                     1      526 570\n",
      "- Peritonitis                       1      530 574\n",
      "- Psoas_Sign                        1      530 574\n",
      "- Length_of_Stay                    1      562 606\n",
      "\n",
      "Step:  AIC=563\n",
      "Diagnosis ~ Age + BMI + Sex + Weight + Length_of_Stay + Migratory_Pain + \n",
      "    Lower_Right_Abd_Pain + Contralateral_Rebound_Tenderness + \n",
      "    Coughing_Pain + Nausea + Body_Temperature + WBC_Count + Neutrophil_Percentage + \n",
      "    Neutrophilia + RBC_Count + Thrombocyte_Count + CRP + Stool + \n",
      "    Peritonitis + Psoas_Sign + Free_Fluids\n",
      "\n",
      "                                   Df Deviance AIC\n",
      "- Age                               1      519 561\n",
      "- Thrombocyte_Count                 1      519 561\n",
      "- Weight                            1      519 561\n",
      "- RBC_Count                         1      520 562\n",
      "- Nausea                            1      520 562\n",
      "- Neutrophilia                      1      521 563\n",
      "- Free_Fluids                       1      521 563\n",
      "- Sex                               1      521 563\n",
      "- Contralateral_Rebound_Tenderness  1      521 563\n",
      "<none>                                     519 563\n",
      "- Stool                             1      521 563\n",
      "- CRP                               1      522 564\n",
      "+ Dysuria                           1      519 565\n",
      "- BMI                               1      523 565\n",
      "- Migratory_Pain                    1      523 565\n",
      "+ Hemoglobin                        1      519 565\n",
      "- Lower_Right_Abd_Pain              1      523 565\n",
      "+ RDW                               1      519 565\n",
      "+ Loss_of_Appetite                  1      519 565\n",
      "- Neutrophil_Percentage             1      524 566\n",
      "- WBC_Count                         1      525 567\n",
      "- Body_Temperature                  1      525 567\n",
      "- Coughing_Pain                     1      526 568\n",
      "- Peritonitis                       1      530 572\n",
      "- Psoas_Sign                        1      530 572\n",
      "- Length_of_Stay                    1      562 604\n",
      "\n",
      "Step:  AIC=561\n",
      "Diagnosis ~ BMI + Sex + Weight + Length_of_Stay + Migratory_Pain + \n",
      "    Lower_Right_Abd_Pain + Contralateral_Rebound_Tenderness + \n",
      "    Coughing_Pain + Nausea + Body_Temperature + WBC_Count + Neutrophil_Percentage + \n",
      "    Neutrophilia + RBC_Count + Thrombocyte_Count + CRP + Stool + \n",
      "    Peritonitis + Psoas_Sign + Free_Fluids\n",
      "\n",
      "                                   Df Deviance AIC\n",
      "- Thrombocyte_Count                 1      520 560\n",
      "- RBC_Count                         1      520 560\n",
      "- Nausea                            1      521 561\n",
      "- Sex                               1      521 561\n",
      "- Free_Fluids                       1      521 561\n",
      "- Neutrophilia                      1      521 561\n",
      "- Contralateral_Rebound_Tenderness  1      521 561\n",
      "<none>                                     519 561\n",
      "- Stool                             1      522 562\n",
      "- Weight                            1      522 562\n",
      "+ Age                               1      519 563\n",
      "+ Dysuria                           1      519 563\n",
      "- CRP                               1      523 563\n",
      "+ Hemoglobin                        1      519 563\n",
      "- Migratory_Pain                    1      523 563\n",
      "+ Loss_of_Appetite                  1      519 563\n",
      "+ RDW                               1      519 563\n",
      "- Lower_Right_Abd_Pain              1      523 563\n",
      "- Neutrophil_Percentage             1      525 565\n",
      "- WBC_Count                         1      525 565\n",
      "- BMI                               1      526 566\n",
      "- Body_Temperature                  1      527 567\n",
      "- Coughing_Pain                     1      527 567\n",
      "- Psoas_Sign                        1      531 571\n",
      "- Peritonitis                       1      531 571\n",
      "- Length_of_Stay                    1      563 603\n",
      "\n",
      "Step:  AIC=560\n",
      "Diagnosis ~ BMI + Sex + Weight + Length_of_Stay + Migratory_Pain + \n",
      "    Lower_Right_Abd_Pain + Contralateral_Rebound_Tenderness + \n",
      "    Coughing_Pain + Nausea + Body_Temperature + WBC_Count + Neutrophil_Percentage + \n",
      "    Neutrophilia + RBC_Count + CRP + Stool + Peritonitis + Psoas_Sign + \n",
      "    Free_Fluids\n",
      "\n",
      "                                   Df Deviance AIC\n",
      "- RBC_Count                         1      521 559\n",
      "- Nausea                            1      521 559\n",
      "- Sex                               1      522 560\n",
      "- Neutrophilia                      1      522 560\n",
      "- Free_Fluids                       1      522 560\n",
      "- Contralateral_Rebound_Tenderness  1      522 560\n",
      "<none>                                     520 560\n",
      "- Stool                             1      522 560\n",
      "+ Thrombocyte_Count                 1      519 561\n",
      "+ Age                               1      519 561\n",
      "+ Dysuria                           1      520 562\n",
      "+ Hemoglobin                        1      520 562\n",
      "- CRP                               1      524 562\n",
      "+ Loss_of_Appetite                  1      520 562\n",
      "+ RDW                               1      520 562\n",
      "- Migratory_Pain                    1      524 562\n",
      "- Weight                            1      524 562\n",
      "- Lower_Right_Abd_Pain              1      524 562\n",
      "- WBC_Count                         1      525 563\n",
      "- Neutrophil_Percentage             1      526 564\n",
      "- Body_Temperature                  1      527 565\n",
      "- Coughing_Pain                     1      527 565\n",
      "- BMI                               1      528 566\n",
      "- Psoas_Sign                        1      531 569\n",
      "- Peritonitis                       1      532 570\n",
      "- Length_of_Stay                    1      563 601\n",
      "\n",
      "Step:  AIC=559\n",
      "Diagnosis ~ BMI + Sex + Weight + Length_of_Stay + Migratory_Pain + \n",
      "    Lower_Right_Abd_Pain + Contralateral_Rebound_Tenderness + \n",
      "    Coughing_Pain + Nausea + Body_Temperature + WBC_Count + Neutrophil_Percentage + \n",
      "    Neutrophilia + CRP + Stool + Peritonitis + Psoas_Sign + Free_Fluids\n",
      "\n",
      "                                   Df Deviance AIC\n",
      "- Sex                               1      522 558\n",
      "- Nausea                            1      523 559\n",
      "- Neutrophilia                      1      523 559\n",
      "<none>                                     521 559\n",
      "- Free_Fluids                       1      523 559\n",
      "- Stool                             1      523 559\n",
      "- Contralateral_Rebound_Tenderness  1      523 559\n",
      "+ RBC_Count                         1      520 560\n",
      "+ Thrombocyte_Count                 1      520 560\n",
      "+ Age                               1      520 560\n",
      "+ Dysuria                           1      521 561\n",
      "- CRP                               1      525 561\n",
      "+ Loss_of_Appetite                  1      521 561\n",
      "+ Hemoglobin                        1      521 561\n",
      "+ RDW                               1      521 561\n",
      "- Migratory_Pain                    1      525 561\n",
      "- Weight                            1      525 561\n",
      "- Lower_Right_Abd_Pain              1      525 561\n",
      "- Neutrophil_Percentage             1      527 563\n",
      "- WBC_Count                         1      527 563\n",
      "- Body_Temperature                  1      528 564\n",
      "- Coughing_Pain                     1      528 564\n",
      "- BMI                               1      529 565\n",
      "- Psoas_Sign                        1      532 568\n",
      "- Peritonitis                       1      533 569\n",
      "- Length_of_Stay                    1      564 600\n",
      "\n",
      "Step:  AIC=558\n",
      "Diagnosis ~ BMI + Weight + Length_of_Stay + Migratory_Pain + \n",
      "    Lower_Right_Abd_Pain + Contralateral_Rebound_Tenderness + \n",
      "    Coughing_Pain + Nausea + Body_Temperature + WBC_Count + Neutrophil_Percentage + \n",
      "    Neutrophilia + CRP + Stool + Peritonitis + Psoas_Sign + Free_Fluids\n",
      "\n",
      "                                   Df Deviance AIC\n",
      "- Nausea                            1      524 558\n",
      "- Neutrophilia                      1      524 558\n",
      "- Free_Fluids                       1      524 558\n",
      "<none>                                     522 558\n",
      "- Contralateral_Rebound_Tenderness  1      524 558\n",
      "- Stool                             1      524 558\n",
      "+ Sex                               1      521 559\n",
      "+ Thrombocyte_Count                 1      521 559\n",
      "+ RBC_Count                         1      522 560\n",
      "+ Dysuria                           1      522 560\n",
      "+ Age                               1      522 560\n",
      "- CRP                               1      526 560\n",
      "- Migratory_Pain                    1      526 560\n",
      "+ RDW                               1      522 560\n",
      "+ Loss_of_Appetite                  1      522 560\n",
      "+ Hemoglobin                        1      522 560\n",
      "- Weight                            1      526 560\n",
      "- Lower_Right_Abd_Pain              1      527 561\n",
      "- WBC_Count                         1      528 562\n",
      "- Neutrophil_Percentage             1      528 562\n",
      "- Body_Temperature                  1      529 563\n",
      "- Coughing_Pain                     1      530 564\n",
      "- BMI                               1      531 565\n",
      "- Psoas_Sign                        1      535 569\n",
      "- Peritonitis                       1      535 569\n",
      "- Length_of_Stay                    1      566 600\n",
      "\n",
      "Step:  AIC=558\n",
      "Diagnosis ~ BMI + Weight + Length_of_Stay + Migratory_Pain + \n",
      "    Lower_Right_Abd_Pain + Contralateral_Rebound_Tenderness + \n",
      "    Coughing_Pain + Body_Temperature + WBC_Count + Neutrophil_Percentage + \n",
      "    Neutrophilia + CRP + Stool + Peritonitis + Psoas_Sign + Free_Fluids\n",
      "\n",
      "                                   Df Deviance AIC\n",
      "- Neutrophilia                      1      525 557\n",
      "- Free_Fluids                       1      526 558\n",
      "<none>                                     524 558\n",
      "- Contralateral_Rebound_Tenderness  1      526 558\n",
      "- Stool                             1      526 558\n",
      "+ Nausea                            1      522 558\n",
      "+ Sex                               1      523 559\n",
      "+ Thrombocyte_Count                 1      523 559\n",
      "+ RBC_Count                         1      523 559\n",
      "+ Dysuria                           1      523 559\n",
      "+ Age                               1      523 559\n",
      "- Lower_Right_Abd_Pain              1      527 559\n",
      "- CRP                               1      527 559\n",
      "+ Loss_of_Appetite                  1      524 560\n",
      "+ RDW                               1      524 560\n",
      "+ Hemoglobin                        1      524 560\n",
      "- Weight                            1      528 560\n",
      "- Migratory_Pain                    1      528 560\n",
      "- WBC_Count                         1      529 561\n",
      "- Neutrophil_Percentage             1      530 562\n",
      "- Body_Temperature                  1      531 563\n",
      "- Coughing_Pain                     1      531 563\n",
      "- BMI                               1      532 564\n",
      "- Psoas_Sign                        1      536 568\n",
      "- Peritonitis                       1      536 568\n",
      "- Length_of_Stay                    1      570 602\n",
      "\n",
      "Step:  AIC=557\n",
      "Diagnosis ~ BMI + Weight + Length_of_Stay + Migratory_Pain + \n",
      "    Lower_Right_Abd_Pain + Contralateral_Rebound_Tenderness + \n",
      "    Coughing_Pain + Body_Temperature + WBC_Count + Neutrophil_Percentage + \n",
      "    CRP + Stool + Peritonitis + Psoas_Sign + Free_Fluids\n",
      "\n",
      "                                   Df Deviance AIC\n",
      "- Free_Fluids                       1      527 557\n",
      "<none>                                     525 557\n",
      "- Contralateral_Rebound_Tenderness  1      527 557\n",
      "- Stool                             1      527 557\n",
      "+ Neutrophilia                      1      524 558\n",
      "+ Sex                               1      524 558\n",
      "+ Nausea                            1      524 558\n",
      "+ Thrombocyte_Count                 1      524 558\n",
      "+ RBC_Count                         1      524 558\n",
      "+ Dysuria                           1      525 559\n",
      "+ Age                               1      525 559\n",
      "+ Loss_of_Appetite                  1      525 559\n",
      "+ RDW                               1      525 559\n",
      "+ Hemoglobin                        1      525 559\n",
      "- CRP                               1      529 559\n",
      "- Weight                            1      529 559\n",
      "- Lower_Right_Abd_Pain              1      529 559\n",
      "- Migratory_Pain                    1      529 559\n",
      "- WBC_Count                         1      530 560\n",
      "- Neutrophil_Percentage             1      530 560\n",
      "- Coughing_Pain                     1      533 563\n",
      "- Body_Temperature                  1      533 563\n",
      "- BMI                               1      533 563\n",
      "- Psoas_Sign                        1      537 567\n",
      "- Peritonitis                       1      537 567\n",
      "- Length_of_Stay                    1      571 601\n",
      "\n",
      "Step:  AIC=557\n",
      "Diagnosis ~ BMI + Weight + Length_of_Stay + Migratory_Pain + \n",
      "    Lower_Right_Abd_Pain + Contralateral_Rebound_Tenderness + \n",
      "    Coughing_Pain + Body_Temperature + WBC_Count + Neutrophil_Percentage + \n",
      "    CRP + Stool + Peritonitis + Psoas_Sign\n",
      "\n",
      "                                   Df Deviance AIC\n",
      "- Stool                             1      529 557\n",
      "<none>                                     527 557\n",
      "- Contralateral_Rebound_Tenderness  1      529 557\n",
      "+ Free_Fluids                       1      525 557\n",
      "+ Neutrophilia                      1      526 558\n",
      "+ Sex                               1      526 558\n",
      "+ Nausea                            1      526 558\n",
      "+ Thrombocyte_Count                 1      526 558\n",
      "+ RBC_Count                         1      526 558\n",
      "+ Dysuria                           1      526 558\n",
      "- Lower_Right_Abd_Pain              1      530 558\n",
      "+ Age                               1      526 558\n",
      "+ RDW                               1      527 559\n",
      "- CRP                               1      531 559\n",
      "+ Loss_of_Appetite                  1      527 559\n",
      "+ Hemoglobin                        1      527 559\n",
      "- Weight                            1      531 559\n",
      "- WBC_Count                         1      531 559\n",
      "- Migratory_Pain                    1      531 559\n",
      "- Neutrophil_Percentage             1      532 560\n",
      "- Coughing_Pain                     1      534 562\n",
      "- Body_Temperature                  1      534 562\n",
      "- BMI                               1      535 563\n",
      "- Psoas_Sign                        1      539 567\n",
      "- Peritonitis                       1      539 567\n",
      "- Length_of_Stay                    1      578 606\n",
      "\n",
      "Step:  AIC=557\n",
      "Diagnosis ~ BMI + Weight + Length_of_Stay + Migratory_Pain + \n",
      "    Lower_Right_Abd_Pain + Contralateral_Rebound_Tenderness + \n",
      "    Coughing_Pain + Body_Temperature + WBC_Count + Neutrophil_Percentage + \n",
      "    CRP + Peritonitis + Psoas_Sign\n",
      "\n",
      "                                   Df Deviance AIC\n",
      "<none>                                     529 557\n",
      "+ Stool                             1      527 557\n",
      "- Contralateral_Rebound_Tenderness  1      531 557\n",
      "+ Free_Fluids                       1      527 557\n",
      "+ Sex                               1      527 557\n",
      "+ Nausea                            1      528 558\n",
      "+ Neutrophilia                      1      528 558\n",
      "- Lower_Right_Abd_Pain              1      532 558\n",
      "+ Thrombocyte_Count                 1      528 558\n",
      "+ RBC_Count                         1      528 558\n",
      "+ Dysuria                           1      528 558\n",
      "+ Age                               1      529 559\n",
      "+ RDW                               1      529 559\n",
      "+ Loss_of_Appetite                  1      529 559\n",
      "- WBC_Count                         1      533 559\n",
      "+ Hemoglobin                        1      529 559\n",
      "- Weight                            1      533 559\n",
      "- CRP                               1      533 559\n",
      "- Migratory_Pain                    1      534 560\n",
      "- Neutrophil_Percentage             1      534 560\n",
      "- Body_Temperature                  1      536 562\n",
      "- Coughing_Pain                     1      536 562\n",
      "- BMI                               1      537 563\n",
      "- Psoas_Sign                        1      541 567\n",
      "- Peritonitis                       1      542 568\n",
      "- Length_of_Stay                    1      579 605\n"
     ]
    }
   ],
   "source": [
    "#forward-backward selection\n",
    "step_both  <- MASS::stepAIC(\n",
    "                object = full_model,\n",
    "                direction = \"both\"\n",
    "                )"
   ]
  },
  {
   "cell_type": "markdown",
   "id": "dd258ad4-fafe-48fd-919c-20c1d69a55df",
   "metadata": {},
   "source": [
    "Unlike the forward selection, the forward-backward selection dropped some predictors, this could be because the forward-backward can go through ALL the predictors and drop the predictors that do not contribute significantly to the model fit. <br>\n",
    "Once a predictor is added to the forward selection method, it cannot be dropped in the further steps. Therefore, the result of forward-backard selection method could be more reliable."
   ]
  },
  {
   "cell_type": "code",
   "execution_count": 28,
   "id": "2cc45fb5-e805-4847-84ae-e2197c9ac512",
   "metadata": {},
   "outputs": [],
   "source": [
    "#add all AIC scores to comparison dataframe\n",
    "comparison <-  data.frame(Model = c(\"full\", \"forward\", \"forward-backward\"),\n",
    "                              AIC = c(full_model %>% \n",
    "                                      AIC() %>% round(2), \n",
    "                                      step_forward %>% \n",
    "                                      AIC() %>% round(2), \n",
    "                                      step_both %>% \n",
    "                                      AIC() %>% round(2)\n",
    "                                     )\n",
    "                             )"
   ]
  },
  {
   "cell_type": "markdown",
   "id": "8afefd9b-514c-4275-82ca-8c484e52f747",
   "metadata": {},
   "source": [
    "AIC of forward-backward selection model is the lowest. The full model and forward model all identical because nothing was dropped after forward selection method.\n",
    "\n",
    "The forward-backward selection reduced the number of predictors from 25 to 13."
   ]
  },
  {
   "cell_type": "code",
   "execution_count": 29,
   "id": "32ba1c87-7296-42d6-86d0-8f1a4182d565",
   "metadata": {},
   "outputs": [
    {
     "data": {
      "text/html": [
       "<table class=\"dataframe\">\n",
       "<caption>A data.frame: 3 × 3</caption>\n",
       "<thead>\n",
       "\t<tr><th scope=col>Model</th><th scope=col>AIC</th><th scope=col>Accuracy</th></tr>\n",
       "\t<tr><th scope=col>&lt;chr&gt;</th><th scope=col>&lt;dbl&gt;</th><th scope=col>&lt;dbl&gt;</th></tr>\n",
       "</thead>\n",
       "<tbody>\n",
       "\t<tr><td>full            </td><td>570</td><td>0.77</td></tr>\n",
       "\t<tr><td>forward         </td><td>570</td><td>0.77</td></tr>\n",
       "\t<tr><td>forward-backward</td><td>557</td><td>0.75</td></tr>\n",
       "</tbody>\n",
       "</table>\n"
      ],
      "text/latex": [
       "A data.frame: 3 × 3\n",
       "\\begin{tabular}{lll}\n",
       " Model & AIC & Accuracy\\\\\n",
       " <chr> & <dbl> & <dbl>\\\\\n",
       "\\hline\n",
       "\t full             & 570 & 0.77\\\\\n",
       "\t forward          & 570 & 0.77\\\\\n",
       "\t forward-backward & 557 & 0.75\\\\\n",
       "\\end{tabular}\n"
      ],
      "text/markdown": [
       "\n",
       "A data.frame: 3 × 3\n",
       "\n",
       "| Model &lt;chr&gt; | AIC &lt;dbl&gt; | Accuracy &lt;dbl&gt; |\n",
       "|---|---|---|\n",
       "| full             | 570 | 0.77 |\n",
       "| forward          | 570 | 0.77 |\n",
       "| forward-backward | 557 | 0.75 |\n",
       "\n"
      ],
      "text/plain": [
       "  Model            AIC Accuracy\n",
       "1 full             570 0.77    \n",
       "2 forward          570 0.77    \n",
       "3 forward-backward 557 0.75    "
      ]
     },
     "metadata": {},
     "output_type": "display_data"
    }
   ],
   "source": [
    "#Prediction using full model on test data\n",
    "predict_test_full <- factor(predict(object = full_model,\n",
    "                         newdata = test_set,\n",
    "                         type = \"response\") \n",
    "                 %>%\n",
    "                 round())\n",
    "\n",
    "#Prediction using forward selection model on test data\n",
    "predict_test_forward <- factor(predict(object = step_forward,\n",
    "                         newdata = test_set,\n",
    "                         type = \"response\") \n",
    "                 %>%\n",
    "                 round())\n",
    "\n",
    "\n",
    "#Prediction using forward-backward selection model on test data\n",
    "predict_test_both <- factor(predict(object = step_both,\n",
    "                         newdata = test_set,\n",
    "                         type = \"response\") \n",
    "                 %>%\n",
    "                 round())\n",
    "\n",
    "\n",
    "#reference values\n",
    "actual_values <- test_set$Diagnosis\n",
    "\n",
    "#create confusion matrix for each prediction and extract the accuracy value\n",
    "cm_full <- confusionMatrix(\n",
    "                           predict_test_full, \n",
    "                           reference = actual_values\n",
    "                          )$overall[\"Accuracy\"][[1]] %>% round(2)\n",
    "\n",
    "cm_forward <- confusionMatrix(\n",
    "                             predict_test_forward, \n",
    "                             reference = actual_values\n",
    "                             )$overall[\"Accuracy\"][[1]] %>% round(2)\n",
    "\n",
    "cm_both <- confusionMatrix(\n",
    "                           predict_test_both, \n",
    "                           reference = actual_values\n",
    "                           )$overall[\"Accuracy\"][[1]] %>% round(2)\n",
    "\n",
    "comparison <-   comparison %>%\n",
    "                               mutate(Accuracy = c(cm_full, cm_forward, cm_both))\n",
    "comparison"
   ]
  },
  {
   "cell_type": "markdown",
   "id": "3593d843-2508-413d-8605-fcc7ab512974",
   "metadata": {},
   "source": [
    "We ran all three models (full model, forward method final model, and forward-backward method final model). <br>\n",
    "Although the forward-backward model has the best AIC, its accuracy is not the largest. The AIC score of forward-backward is better than the other ones because of the penalty factor for number of predictors. <br>"
   ]
  },
  {
   "cell_type": "markdown",
   "id": "cc819e6c-e1d2-4bb2-ba6e-aaa5a2f9e1af",
   "metadata": {},
   "source": [
    "<font size = 5> Selected Features: <font>"
   ]
  },
  {
   "cell_type": "code",
   "execution_count": 30,
   "id": "4cae7b68-ee7c-4229-9196-e13f414f3ac3",
   "metadata": {},
   "outputs": [
    {
     "data": {
      "text/html": [
       "<style>\n",
       ".list-inline {list-style: none; margin:0; padding: 0}\n",
       ".list-inline>li {display: inline-block}\n",
       ".list-inline>li:not(:last-child)::after {content: \"\\00b7\"; padding: 0 .5ex}\n",
       "</style>\n",
       "<ol class=list-inline><li>'BMI'</li><li>'Weight'</li><li>'Length_of_Stay'</li><li>'Migratory_Painyes'</li><li>'Lower_Right_Abd_Painyes'</li><li>'Contralateral_Rebound_Tendernessyes'</li><li>'Coughing_Painyes'</li><li>'Body_Temperature'</li><li>'WBC_Count'</li><li>'Neutrophil_Percentage'</li><li>'CRP'</li><li>'Peritonitisyes'</li><li>'Psoas_Signyes'</li></ol>\n"
      ],
      "text/latex": [
       "\\begin{enumerate*}\n",
       "\\item 'BMI'\n",
       "\\item 'Weight'\n",
       "\\item 'Length\\_of\\_Stay'\n",
       "\\item 'Migratory\\_Painyes'\n",
       "\\item 'Lower\\_Right\\_Abd\\_Painyes'\n",
       "\\item 'Contralateral\\_Rebound\\_Tendernessyes'\n",
       "\\item 'Coughing\\_Painyes'\n",
       "\\item 'Body\\_Temperature'\n",
       "\\item 'WBC\\_Count'\n",
       "\\item 'Neutrophil\\_Percentage'\n",
       "\\item 'CRP'\n",
       "\\item 'Peritonitisyes'\n",
       "\\item 'Psoas\\_Signyes'\n",
       "\\end{enumerate*}\n"
      ],
      "text/markdown": [
       "1. 'BMI'\n",
       "2. 'Weight'\n",
       "3. 'Length_of_Stay'\n",
       "4. 'Migratory_Painyes'\n",
       "5. 'Lower_Right_Abd_Painyes'\n",
       "6. 'Contralateral_Rebound_Tendernessyes'\n",
       "7. 'Coughing_Painyes'\n",
       "8. 'Body_Temperature'\n",
       "9. 'WBC_Count'\n",
       "10. 'Neutrophil_Percentage'\n",
       "11. 'CRP'\n",
       "12. 'Peritonitisyes'\n",
       "13. 'Psoas_Signyes'\n",
       "\n",
       "\n"
      ],
      "text/plain": [
       " [1] \"BMI\"                                 \"Weight\"                             \n",
       " [3] \"Length_of_Stay\"                      \"Migratory_Painyes\"                  \n",
       " [5] \"Lower_Right_Abd_Painyes\"             \"Contralateral_Rebound_Tendernessyes\"\n",
       " [7] \"Coughing_Painyes\"                    \"Body_Temperature\"                   \n",
       " [9] \"WBC_Count\"                           \"Neutrophil_Percentage\"              \n",
       "[11] \"CRP\"                                 \"Peritonitisyes\"                     \n",
       "[13] \"Psoas_Signyes\"                      "
      ]
     },
     "metadata": {},
     "output_type": "display_data"
    }
   ],
   "source": [
    "#Names of the features selected by forward-backward selection method\n",
    "names(coefficients(step_both))[-1] "
   ]
  },
  {
   "cell_type": "code",
   "execution_count": 31,
   "id": "ee051b56-7289-44e7-bbd0-f56116db7dfe",
   "metadata": {
    "scrolled": true
   },
   "outputs": [
    {
     "data": {
      "text/html": [
       "<table class=\"dataframe\">\n",
       "<caption>A data.frame: 6 × 14</caption>\n",
       "<thead>\n",
       "\t<tr><th></th><th scope=col>BMI</th><th scope=col>Weight</th><th scope=col>Length_of_Stay</th><th scope=col>Migratory_Pain</th><th scope=col>Lower_Right_Abd_Pain</th><th scope=col>Contralateral_Rebound_Tenderness</th><th scope=col>Coughing_Pain</th><th scope=col>Body_Temperature</th><th scope=col>WBC_Count</th><th scope=col>Neutrophil_Percentage</th><th scope=col>CRP</th><th scope=col>Peritonitis</th><th scope=col>Psoas_Sign</th><th scope=col>Diagnosis</th></tr>\n",
       "\t<tr><th></th><th scope=col>&lt;dbl&gt;</th><th scope=col>&lt;dbl&gt;</th><th scope=col>&lt;int&gt;</th><th scope=col>&lt;fct&gt;</th><th scope=col>&lt;fct&gt;</th><th scope=col>&lt;fct&gt;</th><th scope=col>&lt;fct&gt;</th><th scope=col>&lt;dbl&gt;</th><th scope=col>&lt;dbl&gt;</th><th scope=col>&lt;dbl&gt;</th><th scope=col>&lt;dbl&gt;</th><th scope=col>&lt;chr&gt;</th><th scope=col>&lt;fct&gt;</th><th scope=col>&lt;fct&gt;</th></tr>\n",
       "</thead>\n",
       "<tbody>\n",
       "\t<tr><th scope=row>1</th><td>17</td><td>37</td><td>3</td><td>no </td><td>yes</td><td>yes</td><td>no </td><td>37</td><td> 7.7</td><td>68</td><td> 0</td><td>no</td><td>yes</td><td>1</td></tr>\n",
       "\t<tr><th scope=row>2</th><td>32</td><td>70</td><td>2</td><td>yes</td><td>yes</td><td>yes</td><td>no </td><td>37</td><td> 8.1</td><td>65</td><td> 3</td><td>no</td><td>yes</td><td>0</td></tr>\n",
       "\t<tr><th scope=row>3</th><td>23</td><td>62</td><td>4</td><td>no </td><td>yes</td><td>yes</td><td>no </td><td>37</td><td>13.2</td><td>75</td><td> 3</td><td>no</td><td>yes</td><td>0</td></tr>\n",
       "\t<tr><th scope=row>4</th><td>21</td><td>56</td><td>3</td><td>yes</td><td>yes</td><td>no </td><td>no </td><td>36</td><td>11.4</td><td>63</td><td> 0</td><td>no</td><td>yes</td><td>0</td></tr>\n",
       "\t<tr><th scope=row>5</th><td>17</td><td>45</td><td>3</td><td>no </td><td>yes</td><td>yes</td><td>yes</td><td>37</td><td> 8.1</td><td>44</td><td> 0</td><td>no</td><td>yes</td><td>1</td></tr>\n",
       "\t<tr><th scope=row>6</th><td>31</td><td>45</td><td>3</td><td>yes</td><td>yes</td><td>yes</td><td>yes</td><td>37</td><td> 9.5</td><td>71</td><td>63</td><td>no</td><td>yes</td><td>0</td></tr>\n",
       "</tbody>\n",
       "</table>\n"
      ],
      "text/latex": [
       "A data.frame: 6 × 14\n",
       "\\begin{tabular}{r|llllllllllllll}\n",
       "  & BMI & Weight & Length\\_of\\_Stay & Migratory\\_Pain & Lower\\_Right\\_Abd\\_Pain & Contralateral\\_Rebound\\_Tenderness & Coughing\\_Pain & Body\\_Temperature & WBC\\_Count & Neutrophil\\_Percentage & CRP & Peritonitis & Psoas\\_Sign & Diagnosis\\\\\n",
       "  & <dbl> & <dbl> & <int> & <fct> & <fct> & <fct> & <fct> & <dbl> & <dbl> & <dbl> & <dbl> & <chr> & <fct> & <fct>\\\\\n",
       "\\hline\n",
       "\t1 & 17 & 37 & 3 & no  & yes & yes & no  & 37 &  7.7 & 68 &  0 & no & yes & 1\\\\\n",
       "\t2 & 32 & 70 & 2 & yes & yes & yes & no  & 37 &  8.1 & 65 &  3 & no & yes & 0\\\\\n",
       "\t3 & 23 & 62 & 4 & no  & yes & yes & no  & 37 & 13.2 & 75 &  3 & no & yes & 0\\\\\n",
       "\t4 & 21 & 56 & 3 & yes & yes & no  & no  & 36 & 11.4 & 63 &  0 & no & yes & 0\\\\\n",
       "\t5 & 17 & 45 & 3 & no  & yes & yes & yes & 37 &  8.1 & 44 &  0 & no & yes & 1\\\\\n",
       "\t6 & 31 & 45 & 3 & yes & yes & yes & yes & 37 &  9.5 & 71 & 63 & no & yes & 0\\\\\n",
       "\\end{tabular}\n"
      ],
      "text/markdown": [
       "\n",
       "A data.frame: 6 × 14\n",
       "\n",
       "| <!--/--> | BMI &lt;dbl&gt; | Weight &lt;dbl&gt; | Length_of_Stay &lt;int&gt; | Migratory_Pain &lt;fct&gt; | Lower_Right_Abd_Pain &lt;fct&gt; | Contralateral_Rebound_Tenderness &lt;fct&gt; | Coughing_Pain &lt;fct&gt; | Body_Temperature &lt;dbl&gt; | WBC_Count &lt;dbl&gt; | Neutrophil_Percentage &lt;dbl&gt; | CRP &lt;dbl&gt; | Peritonitis &lt;chr&gt; | Psoas_Sign &lt;fct&gt; | Diagnosis &lt;fct&gt; |\n",
       "|---|---|---|---|---|---|---|---|---|---|---|---|---|---|---|\n",
       "| 1 | 17 | 37 | 3 | no  | yes | yes | no  | 37 |  7.7 | 68 |  0 | no | yes | 1 |\n",
       "| 2 | 32 | 70 | 2 | yes | yes | yes | no  | 37 |  8.1 | 65 |  3 | no | yes | 0 |\n",
       "| 3 | 23 | 62 | 4 | no  | yes | yes | no  | 37 | 13.2 | 75 |  3 | no | yes | 0 |\n",
       "| 4 | 21 | 56 | 3 | yes | yes | no  | no  | 36 | 11.4 | 63 |  0 | no | yes | 0 |\n",
       "| 5 | 17 | 45 | 3 | no  | yes | yes | yes | 37 |  8.1 | 44 |  0 | no | yes | 1 |\n",
       "| 6 | 31 | 45 | 3 | yes | yes | yes | yes | 37 |  9.5 | 71 | 63 | no | yes | 0 |\n",
       "\n"
      ],
      "text/plain": [
       "  BMI Weight Length_of_Stay Migratory_Pain Lower_Right_Abd_Pain\n",
       "1 17  37     3              no             yes                 \n",
       "2 32  70     2              yes            yes                 \n",
       "3 23  62     4              no             yes                 \n",
       "4 21  56     3              yes            yes                 \n",
       "5 17  45     3              no             yes                 \n",
       "6 31  45     3              yes            yes                 \n",
       "  Contralateral_Rebound_Tenderness Coughing_Pain Body_Temperature WBC_Count\n",
       "1 yes                              no            37                7.7     \n",
       "2 yes                              no            37                8.1     \n",
       "3 yes                              no            37               13.2     \n",
       "4 no                               no            36               11.4     \n",
       "5 yes                              yes           37                8.1     \n",
       "6 yes                              yes           37                9.5     \n",
       "  Neutrophil_Percentage CRP Peritonitis Psoas_Sign Diagnosis\n",
       "1 68                     0  no          yes        1        \n",
       "2 65                     3  no          yes        0        \n",
       "3 75                     3  no          yes        0        \n",
       "4 63                     0  no          yes        0        \n",
       "5 44                     0  no          yes        1        \n",
       "6 71                    63  no          yes        0        "
      ]
     },
     "metadata": {},
     "output_type": "display_data"
    }
   ],
   "source": [
    "selected_features <- c('BMI','Weight','Length_of_Stay','Migratory_Pain','Lower_Right_Abd_Pain',\n",
    "                       'Contralateral_Rebound_Tenderness','Coughing_Pain','Body_Temperature',\n",
    "                       'WBC_Count','Neutrophil_Percentage','CRP','Peritonitis','Psoas_Sign')\n",
    "\n",
    "#The dataset after feature selection\n",
    "fs_df <- df %>% select(all_of(selected_features), Diagnosis)\n",
    "head(fs_df)"
   ]
  },
  {
   "cell_type": "markdown",
   "id": "e407ae9b-90a0-425d-8ac5-ec715bfa991f",
   "metadata": {},
   "source": [
    "<font size =5> Train and test sets using only selected features <font>"
   ]
  },
  {
   "cell_type": "code",
   "execution_count": 32,
   "id": "42eeeedb-9bef-4a56-8f3a-8bd75c22997f",
   "metadata": {},
   "outputs": [],
   "source": [
    "#Partition data into train and test (60/40)\n",
    "train_set <- fs_df[train_ind, ]\n",
    "test_set  <- fs_df[-train_ind, ]"
   ]
  },
  {
   "cell_type": "markdown",
   "id": "92e84df4-fa9e-4036-9c22-c23f7a8405c4",
   "metadata": {},
   "source": [
    "<font size =5 > Interactions between the selected features? <font>"
   ]
  },
  {
   "cell_type": "markdown",
   "id": "c815fcc7-8685-4ff7-b5c3-4c2c39306a6b",
   "metadata": {},
   "source": [
    "Since our target value is binary, we cannot easily detect the possibility of any interaction from the scatterplot. <br>\n",
    "Also having the field knowledge would have helped us better understand the relationship between different predictors. <br>\n",
    "We can add the interaction between two pairs of categorical-numerical predictors and check to see if the forward-backward selection would drop those from the model."
   ]
  },
  {
   "cell_type": "code",
   "execution_count": 33,
   "id": "4dc9ff57-8061-4ba6-ae3f-151912dd1dc3",
   "metadata": {},
   "outputs": [
    {
     "name": "stdout",
     "output_type": "stream",
     "text": [
      "Start:  AIC=333\n",
      "Diagnosis ~ BMI + Weight + Length_of_Stay + Migratory_Pain + \n",
      "    Lower_Right_Abd_Pain + Contralateral_Rebound_Tenderness + \n",
      "    Coughing_Pain + Body_Temperature + WBC_Count + Neutrophil_Percentage + \n",
      "    CRP + Peritonitis + Psoas_Sign + Neutrophil_Percentage:Psoas_Sign + \n",
      "    WBC_Count:Migratory_Pain\n",
      "\n",
      "                                   Df Deviance AIC\n",
      "- Body_Temperature                  1      302 332\n",
      "- Lower_Right_Abd_Pain              1      302 332\n",
      "- Migratory_Pain:WBC_Count          1      302 332\n",
      "- Neutrophil_Percentage:Psoas_Sign  1      302 332\n",
      "- Contralateral_Rebound_Tenderness  1      303 333\n",
      "- CRP                               1      303 333\n",
      "<none>                                     301 333\n",
      "- Coughing_Pain                     1      305 335\n",
      "- Peritonitis                       1      305 335\n",
      "- Weight                            1      306 336\n",
      "- BMI                               1      308 338\n",
      "- Length_of_Stay                    1      344 374\n",
      "\n",
      "Step:  AIC=332\n",
      "Diagnosis ~ BMI + Weight + Length_of_Stay + Migratory_Pain + \n",
      "    Lower_Right_Abd_Pain + Contralateral_Rebound_Tenderness + \n",
      "    Coughing_Pain + WBC_Count + Neutrophil_Percentage + CRP + \n",
      "    Peritonitis + Psoas_Sign + Neutrophil_Percentage:Psoas_Sign + \n",
      "    Migratory_Pain:WBC_Count\n",
      "\n",
      "                                   Df Deviance AIC\n",
      "- Migratory_Pain:WBC_Count          1      302 330\n",
      "- Lower_Right_Abd_Pain              1      302 330\n",
      "- Neutrophil_Percentage:Psoas_Sign  1      303 331\n",
      "- CRP                               1      303 331\n",
      "- Contralateral_Rebound_Tenderness  1      304 332\n",
      "<none>                                     302 332\n",
      "- Coughing_Pain                     1      305 333\n",
      "- Peritonitis                       1      305 333\n",
      "+ Body_Temperature                  1      301 333\n",
      "- Weight                            1      307 335\n",
      "- BMI                               1      309 337\n",
      "- Length_of_Stay                    1      344 372\n",
      "\n",
      "Step:  AIC=330\n",
      "Diagnosis ~ BMI + Weight + Length_of_Stay + Migratory_Pain + \n",
      "    Lower_Right_Abd_Pain + Contralateral_Rebound_Tenderness + \n",
      "    Coughing_Pain + WBC_Count + Neutrophil_Percentage + CRP + \n",
      "    Peritonitis + Psoas_Sign + Neutrophil_Percentage:Psoas_Sign\n",
      "\n",
      "                                   Df Deviance AIC\n",
      "- Lower_Right_Abd_Pain              1      303 329\n",
      "- Neutrophil_Percentage:Psoas_Sign  1      303 329\n",
      "- CRP                               1      304 330\n",
      "- Contralateral_Rebound_Tenderness  1      304 330\n",
      "<none>                                     302 330\n",
      "- WBC_Count                         1      305 331\n",
      "+ Migratory_Pain:WBC_Count          1      302 332\n",
      "- Migratory_Pain                    1      306 332\n",
      "- Coughing_Pain                     1      306 332\n",
      "+ Body_Temperature                  1      302 332\n",
      "- Peritonitis                       1      306 332\n",
      "- Weight                            1      308 334\n",
      "- BMI                               1      309 335\n",
      "- Length_of_Stay                    1      345 371\n",
      "\n",
      "Step:  AIC=329\n",
      "Diagnosis ~ BMI + Weight + Length_of_Stay + Migratory_Pain + \n",
      "    Contralateral_Rebound_Tenderness + Coughing_Pain + WBC_Count + \n",
      "    Neutrophil_Percentage + CRP + Peritonitis + Psoas_Sign + \n",
      "    Neutrophil_Percentage:Psoas_Sign\n",
      "\n",
      "                                   Df Deviance AIC\n",
      "- Neutrophil_Percentage:Psoas_Sign  1      304 328\n",
      "- CRP                               1      305 329\n",
      "<none>                                     303 329\n",
      "- Contralateral_Rebound_Tenderness  1      305 329\n",
      "- WBC_Count                         1      306 330\n",
      "+ Lower_Right_Abd_Pain              1      302 330\n",
      "+ Migratory_Pain:WBC_Count          1      302 330\n",
      "- Coughing_Pain                     1      307 331\n",
      "- Peritonitis                       1      307 331\n",
      "- Migratory_Pain                    1      307 331\n",
      "+ Body_Temperature                  1      303 331\n",
      "- Weight                            1      309 333\n",
      "- BMI                               1      311 335\n",
      "- Length_of_Stay                    1      347 371\n",
      "\n",
      "Step:  AIC=328\n",
      "Diagnosis ~ BMI + Weight + Length_of_Stay + Migratory_Pain + \n",
      "    Contralateral_Rebound_Tenderness + Coughing_Pain + WBC_Count + \n",
      "    Neutrophil_Percentage + CRP + Peritonitis + Psoas_Sign\n",
      "\n",
      "                                   Df Deviance AIC\n",
      "- CRP                               1      306 328\n",
      "- Contralateral_Rebound_Tenderness  1      306 328\n",
      "<none>                                     304 328\n",
      "- Neutrophil_Percentage             1      307 329\n",
      "- WBC_Count                         1      307 329\n",
      "+ Neutrophil_Percentage:Psoas_Sign  1      303 329\n",
      "+ Migratory_Pain:WBC_Count          1      303 329\n",
      "+ Lower_Right_Abd_Pain              1      303 329\n",
      "- Coughing_Pain                     1      308 330\n",
      "- Migratory_Pain                    1      308 330\n",
      "+ Body_Temperature                  1      304 330\n",
      "- Peritonitis                       1      308 330\n",
      "- Weight                            1      310 332\n",
      "- BMI                               1      312 334\n",
      "- Psoas_Sign                        1      319 341\n",
      "- Length_of_Stay                    1      347 369\n",
      "\n",
      "Step:  AIC=328\n",
      "Diagnosis ~ BMI + Weight + Length_of_Stay + Migratory_Pain + \n",
      "    Contralateral_Rebound_Tenderness + Coughing_Pain + WBC_Count + \n",
      "    Neutrophil_Percentage + Peritonitis + Psoas_Sign\n",
      "\n",
      "                                   Df Deviance AIC\n",
      "<none>                                     306 328\n",
      "- Contralateral_Rebound_Tenderness  1      308 328\n",
      "+ CRP                               1      304 328\n",
      "- WBC_Count                         1      308 328\n",
      "- Coughing_Pain                     1      309 329\n",
      "+ Lower_Right_Abd_Pain              1      305 329\n",
      "+ Neutrophil_Percentage:Psoas_Sign  1      305 329\n",
      "+ Migratory_Pain:WBC_Count          1      305 329\n",
      "- Migratory_Pain                    1      309 329\n",
      "- Neutrophil_Percentage             1      309 329\n",
      "+ Body_Temperature                  1      306 330\n",
      "- Peritonitis                       1      310 330\n",
      "- Weight                            1      312 332\n",
      "- BMI                               1      313 333\n",
      "- Psoas_Sign                        1      321 341\n",
      "- Length_of_Stay                    1      357 377\n"
     ]
    }
   ],
   "source": [
    "#fit the full model with the interaction between (Neutrophil_Percentage and Psoas_Sign) and (WBC_Count and Migratory_Pain)\n",
    "full_model_fs <- glm(Diagnosis ~. +Neutrophil_Percentage:Psoas_Sign + WBC_Count:Migratory_Pain,\n",
    "                     data = train_set,\n",
    "                     family = binomial()\n",
    "                     )\n",
    "#forward-backward selection on the full model\n",
    "step_both  <- MASS::stepAIC(\n",
    "                object = full_model_fs,\n",
    "                direction = \"both\"\n",
    "                )"
   ]
  },
  {
   "cell_type": "markdown",
   "id": "5051f350-f18e-41c9-898f-c05495bed23b",
   "metadata": {},
   "source": [
    "We can see that forward-backward selection dropped the interaction terms for both pairs and did not consider them significant for the fit of the model. <br>\n",
    "Therefore we will not consider them for our model."
   ]
  },
  {
   "cell_type": "markdown",
   "id": "bfab23ea-074a-431b-b794-e2eed8993f55",
   "metadata": {},
   "source": [
    "<font size =5> Confusion matrices for different thresholds using selected features from stepwise selection method<font>"
   ]
  },
  {
   "cell_type": "markdown",
   "id": "ab27c36d-0f36-46fc-bc95-9b88f6478e19",
   "metadata": {},
   "source": [
    "<font size =5> Prediction of test set <font>"
   ]
  },
  {
   "cell_type": "code",
   "execution_count": 34,
   "id": "10661291-8419-40b0-8ef5-bf4fc2d28fdb",
   "metadata": {},
   "outputs": [],
   "source": [
    "#Fit full model using selected features\n",
    "full_model_fs <- glm(Diagnosis ~.,\n",
    "                     data = fs_df,\n",
    "                     family = binomial()\n",
    "                     )\n",
    "\n",
    "#predict probabilities of test set\n",
    "pred_prob_fs <- predict(full_model_fs,\n",
    "                       newdata = test_set, \n",
    "                       type = \"response\")\n"
   ]
  },
  {
   "cell_type": "markdown",
   "id": "0b6f026e-3bae-4060-9180-a2d473fd4112",
   "metadata": {},
   "source": [
    "<font size = 5> Threshold = 0.5 <font>"
   ]
  },
  {
   "cell_type": "code",
   "execution_count": 35,
   "id": "96449619-f82a-4406-8d10-57c8c5f3ae13",
   "metadata": {},
   "outputs": [
    {
     "data": {
      "text/plain": [
       "Confusion Matrix and Statistics\n",
       "\n",
       "          Reference\n",
       "Prediction  0  1\n",
       "         0 70 32\n",
       "         1 24 96\n",
       "                                        \n",
       "               Accuracy : 0.748         \n",
       "                 95% CI : (0.685, 0.803)\n",
       "    No Information Rate : 0.577         \n",
       "    P-Value [Acc > NIR] : 0.00000008    \n",
       "                                        \n",
       "                  Kappa : 0.489         \n",
       "                                        \n",
       " Mcnemar's Test P-Value : 0.35          \n",
       "                                        \n",
       "            Sensitivity : 0.745         \n",
       "            Specificity : 0.750         \n",
       "         Pos Pred Value : 0.686         \n",
       "         Neg Pred Value : 0.800         \n",
       "             Prevalence : 0.423         \n",
       "         Detection Rate : 0.315         \n",
       "   Detection Prevalence : 0.459         \n",
       "      Balanced Accuracy : 0.747         \n",
       "                                        \n",
       "       'Positive' Class : 0             \n",
       "                                        "
      ]
     },
     "metadata": {},
     "output_type": "display_data"
    }
   ],
   "source": [
    "#Threshold = 0.5 for classification\n",
    "threshold <- 0.5\n",
    "\n",
    "#Predict classes and convert to factors\n",
    "pred_class_fs <- if_else(pred_prob_fs>threshold, 1, 0) %>% as.factor()\n",
    "confusionMatrix(pred_class_fs, reference = test_set$Diagnosis)"
   ]
  },
  {
   "cell_type": "markdown",
   "id": "75872466-a0d7-4549-9774-ac82b3b6b54b",
   "metadata": {},
   "source": [
    "<font size = 5> Threshold = 0.55 <font>"
   ]
  },
  {
   "cell_type": "code",
   "execution_count": 36,
   "id": "02d3afb8-81f2-4e03-b391-2e260d4905ed",
   "metadata": {},
   "outputs": [
    {
     "data": {
      "text/plain": [
       "Confusion Matrix and Statistics\n",
       "\n",
       "          Reference\n",
       "Prediction  0  1\n",
       "         0 78 36\n",
       "         1 16 92\n",
       "                                       \n",
       "               Accuracy : 0.766        \n",
       "                 95% CI : (0.704, 0.82)\n",
       "    No Information Rate : 0.577        \n",
       "    P-Value [Acc > NIR] : 0.0000000028 \n",
       "                                       \n",
       "                  Kappa : 0.533        \n",
       "                                       \n",
       " Mcnemar's Test P-Value : 0.00842      \n",
       "                                       \n",
       "            Sensitivity : 0.830        \n",
       "            Specificity : 0.719        \n",
       "         Pos Pred Value : 0.684        \n",
       "         Neg Pred Value : 0.852        \n",
       "             Prevalence : 0.423        \n",
       "         Detection Rate : 0.351        \n",
       "   Detection Prevalence : 0.514        \n",
       "      Balanced Accuracy : 0.774        \n",
       "                                       \n",
       "       'Positive' Class : 0            \n",
       "                                       "
      ]
     },
     "metadata": {},
     "output_type": "display_data"
    }
   ],
   "source": [
    "#Threshold = 0.55 for classification\n",
    "threshold <- 0.55\n",
    "\n",
    "#Predict classes and convert to factors\n",
    "pred_class_fs <- if_else(pred_prob_fs>threshold, 1, 0) %>% as.factor()\n",
    "cm <- confusionMatrix(pred_class_fs, reference = test_set$Diagnosis)\n",
    "cm_both_0.55 <- cm$overall[\"Accuracy\"][[1]] %>% round(2)\n",
    "cm"
   ]
  },
  {
   "cell_type": "markdown",
   "id": "8430862e-c95c-45ad-8cc9-c456205fac04",
   "metadata": {},
   "source": [
    "In diagnosing appendicitis, both sensitivity and specificity are important, but their relative importance depends on various factors, including the consequences of false positives and false negatives. <br>\n",
    "\n",
    "**High sensitivity** is usually prioritized to ensure that the test can effectively **detect patients who have appendicitis** and high specificity helps minimize unnecessary surgeries or treatments. Since this test would not be the only test for detecting the disease, we would prefer to have a higher sensitivity rather than having a higher specificity.\n",
    " **Threshold of 0.55** is maintaining an **optimal balance between sensitivity and specificity**."
   ]
  },
  {
   "cell_type": "markdown",
   "id": "dad9a7c4-ada3-4f0b-ac8f-b8a4d2959b1c",
   "metadata": {},
   "source": [
    "<font size = 6> Ridge and Lasso <font>"
   ]
  },
  {
   "cell_type": "markdown",
   "id": "a73d8561-559f-47d9-86f6-eedc7f9eebff",
   "metadata": {},
   "source": [
    "**Ridge Regression:**"
   ]
  },
  {
   "cell_type": "code",
   "execution_count": 37,
   "id": "77893f80-5f51-4aeb-b2ef-471915f49f7c",
   "metadata": {},
   "outputs": [
    {
     "data": {
      "image/png": "[encoded data removed]",
      "text/plain": [
       "plot without title"
      ]
     },
     "metadata": {
      "image/png": {
       "height": 300,
       "width": 360
      }
     },
     "output_type": "display_data"
    }
   ],
   "source": [
    "set.seed(22)\n",
    "\n",
    "#Set up the control parameter for cross validation-process with 5 folds\n",
    "trControl <- caret::trainControl(method = \"cv\", number = 5, allowParallel = TRUE)\n",
    "\n",
    "#Create a grid of tunning parameter for Ridge model\n",
    "tuneGrid <- expand.grid(lambda = 10^seq(5, 0, by=-0.1), alpha =0)\n",
    "ridge_model <- caret::train(Diagnosis ~.,\n",
    "                      data = train_set,\n",
    "                      method = \"glmnet\",\n",
    "                      family = \"binomial\",\n",
    "                      trControl = trControl,\n",
    "                      tuneGrid=tuneGrid)\n",
    "\n",
    "#visualize the cross-validation accuracy value as a function of the tuning parameter \n",
    "ggplot(ridge_model) +scale_x_log10()"
   ]
  },
  {
   "cell_type": "code",
   "execution_count": 38,
   "id": "fb2d7296-451f-481a-9a62-26c577c32a7f",
   "metadata": {},
   "outputs": [
    {
     "data": {
      "text/html": [
       "<table class=\"dataframe\">\n",
       "<caption>A data.frame: 1 × 2</caption>\n",
       "<thead>\n",
       "\t<tr><th></th><th scope=col>alpha</th><th scope=col>lambda</th></tr>\n",
       "\t<tr><th></th><th scope=col>&lt;dbl&gt;</th><th scope=col>&lt;dbl&gt;</th></tr>\n",
       "</thead>\n",
       "<tbody>\n",
       "\t<tr><th scope=row>1</th><td>0</td><td>1</td></tr>\n",
       "</tbody>\n",
       "</table>\n"
      ],
      "text/latex": [
       "A data.frame: 1 × 2\n",
       "\\begin{tabular}{r|ll}\n",
       "  & alpha & lambda\\\\\n",
       "  & <dbl> & <dbl>\\\\\n",
       "\\hline\n",
       "\t1 & 0 & 1\\\\\n",
       "\\end{tabular}\n"
      ],
      "text/markdown": [
       "\n",
       "A data.frame: 1 × 2\n",
       "\n",
       "| <!--/--> | alpha &lt;dbl&gt; | lambda &lt;dbl&gt; |\n",
       "|---|---|---|\n",
       "| 1 | 0 | 1 |\n",
       "\n"
      ],
      "text/plain": [
       "  alpha lambda\n",
       "1 0     1     "
      ]
     },
     "metadata": {},
     "output_type": "display_data"
    },
    {
     "data": {
      "text/plain": [
       "14 x 1 sparse Matrix of class \"dgCMatrix\"\n",
       "                                          s1\n",
       "(Intercept)                         -2.81168\n",
       "BMI                                 -0.00900\n",
       "Weight                              -0.00079\n",
       "Length_of_Stay                       0.04693\n",
       "Migratory_Painyes                    0.09257\n",
       "Lower_Right_Abd_Painyes              0.14061\n",
       "Contralateral_Rebound_Tendernessyes  0.11335\n",
       "Coughing_Painyes                     0.08645\n",
       "Body_Temperature                     0.05409\n",
       "WBC_Count                            0.01849\n",
       "Neutrophil_Percentage                0.00810\n",
       "CRP                                  0.00178\n",
       "Peritonitisyes                       0.21018\n",
       "Psoas_Signyes                       -0.13852"
      ]
     },
     "metadata": {},
     "output_type": "display_data"
    }
   ],
   "source": [
    "#The best tunning parameters selected during cross-validation\n",
    "ridge_model$bestTune\n",
    "\n",
    "#Coefficients of the final LASSO model using best Lambda value\n",
    "coef(ridge_model$finalModel, s=ridge_model$bestTune$lambda)"
   ]
  },
  {
   "cell_type": "code",
   "execution_count": 39,
   "id": "929f520f-4481-4868-bbfd-a20aac3b203d",
   "metadata": {},
   "outputs": [],
   "source": [
    "#Make predictions on the test set\n",
    "predict_test_ridge <- predict(ridge_model, test_set) %>% as.factor()\n",
    "\n",
    "cm_ridge <-    confusionMatrix(\n",
    "                                 predict_test_ridge, \n",
    "                                 reference = test_set$Diagnosis\n",
    "                                 )$overall[\"Accuracy\"][[1]] %>% round(2)"
   ]
  },
  {
   "cell_type": "markdown",
   "id": "cdad9698-9e9d-46a1-96ea-060dc56e68cb",
   "metadata": {},
   "source": [
    "**LASSO Regression**"
   ]
  },
  {
   "cell_type": "code",
   "execution_count": 40,
   "id": "840ae36d-c4ef-46b9-8665-2235df0cff64",
   "metadata": {},
   "outputs": [
    {
     "data": {
      "image/png": "[encoded data removed]",
      "text/plain": [
       "plot without title"
      ]
     },
     "metadata": {
      "image/png": {
       "height": 300,
       "width": 360
      }
     },
     "output_type": "display_data"
    }
   ],
   "source": [
    "set.seed(22)\n",
    "\n",
    "#Create a grid of tunning parameter for Lasso model\n",
    "tuneGrid <- expand.grid(lambda = 10^seq(4, -1, by=-0.1), alpha = 1)\n",
    "lasso_model <- caret::train(Diagnosis ~.,\n",
    "                      data = train_set,\n",
    "                      method = \"glmnet\",\n",
    "                      family = \"binomial\",\n",
    "                      trControl = trControl,\n",
    "                      tuneGrid=tuneGrid)\n",
    "\n",
    "#visualize the cross-validation accuracy value as a function of the tuning parameter \n",
    "ggplot(lasso_model) +scale_x_log10()"
   ]
  },
  {
   "cell_type": "code",
   "execution_count": 41,
   "id": "40e7d9e4-7d47-49d5-adba-412c58517c19",
   "metadata": {},
   "outputs": [
    {
     "data": {
      "text/html": [
       "<table class=\"dataframe\">\n",
       "<caption>A data.frame: 1 × 2</caption>\n",
       "<thead>\n",
       "\t<tr><th></th><th scope=col>alpha</th><th scope=col>lambda</th></tr>\n",
       "\t<tr><th></th><th scope=col>&lt;dbl&gt;</th><th scope=col>&lt;dbl&gt;</th></tr>\n",
       "</thead>\n",
       "<tbody>\n",
       "\t<tr><th scope=row>1</th><td>1</td><td>0.1</td></tr>\n",
       "</tbody>\n",
       "</table>\n"
      ],
      "text/latex": [
       "A data.frame: 1 × 2\n",
       "\\begin{tabular}{r|ll}\n",
       "  & alpha & lambda\\\\\n",
       "  & <dbl> & <dbl>\\\\\n",
       "\\hline\n",
       "\t1 & 1 & 0.1\\\\\n",
       "\\end{tabular}\n"
      ],
      "text/markdown": [
       "\n",
       "A data.frame: 1 × 2\n",
       "\n",
       "| <!--/--> | alpha &lt;dbl&gt; | lambda &lt;dbl&gt; |\n",
       "|---|---|---|\n",
       "| 1 | 1 | 0.1 |\n",
       "\n"
      ],
      "text/plain": [
       "  alpha lambda\n",
       "1 1     0.1   "
      ]
     },
     "metadata": {},
     "output_type": "display_data"
    },
    {
     "data": {
      "text/plain": [
       "14 x 1 sparse Matrix of class \"dgCMatrix\"\n",
       "                                        s1\n",
       "(Intercept)                         -1.725\n",
       "BMI                                  .    \n",
       "Weight                               .    \n",
       "Length_of_Stay                       0.125\n",
       "Migratory_Painyes                    .    \n",
       "Lower_Right_Abd_Painyes              .    \n",
       "Contralateral_Rebound_Tendernessyes  .    \n",
       "Coughing_Painyes                     .    \n",
       "Body_Temperature                     .    \n",
       "WBC_Count                            .    \n",
       "Neutrophil_Percentage                0.021\n",
       "CRP                                  .    \n",
       "Peritonitisyes                       0.103\n",
       "Psoas_Signyes                        .    "
      ]
     },
     "metadata": {},
     "output_type": "display_data"
    }
   ],
   "source": [
    "#The best tunning parameters selected during cross-validation\n",
    "lasso_model$bestTune\n",
    "\n",
    "#Coefficients of the final LASSO model using best Lambda value\n",
    "lasso_finalModel <- lasso_model$finalModel\n",
    "coef(lasso_finalModel, s=lasso_model$bestTune$lambda)"
   ]
  },
  {
   "cell_type": "code",
   "execution_count": 42,
   "id": "9b9375a5-786c-4f2a-b005-66e072ea49c8",
   "metadata": {},
   "outputs": [],
   "source": [
    "#Make predictions on the test set\n",
    "predict_test_lasso <- predict(lasso_model, test_set) %>% as.factor()\n",
    "\n",
    "cm_lasso <-    confusionMatrix(\n",
    "                                 predict_test_lasso, \n",
    "                                 reference = test_set$Diagnosis\n",
    "                                 )$overall[\"Accuracy\"][[1]] %>% round(2)"
   ]
  },
  {
   "cell_type": "markdown",
   "id": "e18b5477-2821-4fcc-8a40-f3170ee5c5c1",
   "metadata": {},
   "source": [
    "<font size = 6> PCA for numerical variables <font>"
   ]
  },
  {
   "cell_type": "markdown",
   "id": "ec327e4c-8947-4a87-979f-0231e48a6c9a",
   "metadata": {},
   "source": [
    "We would like to run PCA on the numerical columns of our cleaned data and then merge the pca components to the categorical columns and fit the logistic model."
   ]
  },
  {
   "cell_type": "code",
   "execution_count": 43,
   "id": "dff326af-a957-4ddd-86ed-81f8649743c2",
   "metadata": {},
   "outputs": [],
   "source": [
    "numeric_colnames  <-    df %>% \n",
    "                        select(where(is.numeric)) %>%\n",
    "                        colnames()"
   ]
  },
  {
   "cell_type": "code",
   "execution_count": 44,
   "id": "fcb9cab2-635d-489c-903c-8f067e1b1a93",
   "metadata": {
    "scrolled": true
   },
   "outputs": [
    {
     "data": {
      "text/plain": [
       "Importance of components:\n",
       "                          PC1    PC2    PC3     PC4     PC5     PC6     PC7\n",
       "Standard deviation     67.635 50.594 17.757 13.7666 5.13597 3.47645 2.67663\n",
       "Proportion of Variance  0.595  0.333  0.041  0.0246 0.00343 0.00157 0.00093\n",
       "Cumulative Proportion   0.595  0.927  0.968  0.9930 0.99642 0.99799 0.99892\n",
       "                           PC8    PC9    PC10    PC11    PC12\n",
       "Standard deviation     2.05707 1.5201 1.05131 0.70061 0.42501\n",
       "Proportion of Variance 0.00055 0.0003 0.00014 0.00006 0.00002\n",
       "Cumulative Proportion  0.99947 0.9998 0.99991 0.99998 1.00000"
      ]
     },
     "metadata": {},
     "output_type": "display_data"
    }
   ],
   "source": [
    "#PCA without normalizing\n",
    "pcs <- prcomp(df[,numeric_colnames], scale = FALSE)\n",
    " summary(pcs)"
   ]
  },
  {
   "cell_type": "markdown",
   "id": "6aa31ba4-0a76-4eb8-8971-80ec80e2c6d2",
   "metadata": {},
   "source": [
    "Without normalizing the data, largest values will dominate the principal components.\n",
    "Similar to what we observe from results above that only the first two components account for more than 92% of total variability."
   ]
  },
  {
   "cell_type": "code",
   "execution_count": 45,
   "id": "b9143c8f-6095-4d97-8a9d-d0924d6d9877",
   "metadata": {},
   "outputs": [
    {
     "data": {
      "text/plain": [
       "Importance of components:\n",
       "                         PC1   PC2   PC3    PC4    PC5    PC6    PC7    PC8\n",
       "Standard deviation     1.783 1.406 1.194 1.0437 1.0246 0.9411 0.8640 0.6932\n",
       "Proportion of Variance 0.265 0.165 0.119 0.0908 0.0875 0.0738 0.0622 0.0401\n",
       "Cumulative Proportion  0.265 0.430 0.548 0.6391 0.7266 0.8004 0.8627 0.9027\n",
       "                          PC9   PC10   PC11    PC12\n",
       "Standard deviation     0.6849 0.6072 0.5167 0.25066\n",
       "Proportion of Variance 0.0391 0.0307 0.0222 0.00524\n",
       "Cumulative Proportion  0.9418 0.9725 0.9948 1.00000"
      ]
     },
     "metadata": {},
     "output_type": "display_data"
    },
    {
     "data": {
      "text/html": [
       "<table class=\"dataframe\">\n",
       "<caption>A matrix: 12 × 8 of type dbl</caption>\n",
       "<thead>\n",
       "\t<tr><th></th><th scope=col>PC1</th><th scope=col>PC2</th><th scope=col>PC3</th><th scope=col>PC4</th><th scope=col>PC5</th><th scope=col>PC6</th><th scope=col>PC7</th><th scope=col>PC8</th></tr>\n",
       "</thead>\n",
       "<tbody>\n",
       "\t<tr><th scope=row>Age</th><td>-0.406</td><td>-0.282</td><td> 0.082</td><td> 0.061</td><td> 0.143</td><td> 0.195</td><td>-0.2084</td><td> 0.34768</td></tr>\n",
       "\t<tr><th scope=row>BMI</th><td>-0.354</td><td>-0.345</td><td> 0.221</td><td>-0.302</td><td>-0.053</td><td>-0.170</td><td> 0.2964</td><td>-0.31412</td></tr>\n",
       "\t<tr><th scope=row>Weight</th><td>-0.430</td><td>-0.387</td><td> 0.160</td><td>-0.157</td><td> 0.060</td><td>-0.025</td><td> 0.1070</td><td>-0.05053</td></tr>\n",
       "\t<tr><th scope=row>Length_of_Stay</th><td> 0.210</td><td>-0.354</td><td> 0.216</td><td> 0.206</td><td>-0.094</td><td>-0.426</td><td>-0.5082</td><td> 0.11047</td></tr>\n",
       "\t<tr><th scope=row>Body_Temperature</th><td> 0.299</td><td>-0.181</td><td>-0.036</td><td> 0.144</td><td> 0.348</td><td>-0.228</td><td> 0.6996</td><td> 0.32285</td></tr>\n",
       "\t<tr><th scope=row>WBC_Count</th><td> 0.337</td><td>-0.363</td><td>-0.106</td><td>-0.321</td><td> 0.107</td><td> 0.284</td><td>-0.1522</td><td> 0.00028</td></tr>\n",
       "\t<tr><th scope=row>Neutrophil_Percentage</th><td> 0.314</td><td>-0.345</td><td>-0.152</td><td>-0.148</td><td> 0.289</td><td> 0.432</td><td>-0.0783</td><td>-0.22288</td></tr>\n",
       "\t<tr><th scope=row>RBC_Count</th><td>-0.084</td><td>-0.121</td><td>-0.687</td><td> 0.040</td><td>-0.241</td><td>-0.222</td><td> 0.0438</td><td>-0.44389</td></tr>\n",
       "\t<tr><th scope=row>Hemoglobin</th><td>-0.240</td><td>-0.221</td><td>-0.577</td><td> 0.136</td><td> 0.014</td><td>-0.052</td><td>-0.0708</td><td> 0.48419</td></tr>\n",
       "\t<tr><th scope=row>RDW</th><td> 0.062</td><td>-0.186</td><td> 0.101</td><td> 0.246</td><td>-0.724</td><td> 0.482</td><td> 0.2690</td><td> 0.14875</td></tr>\n",
       "\t<tr><th scope=row>Thrombocyte_Count</th><td> 0.201</td><td> 0.022</td><td>-0.042</td><td>-0.715</td><td>-0.374</td><td>-0.269</td><td> 0.0072</td><td> 0.36028</td></tr>\n",
       "\t<tr><th scope=row>CRP</th><td> 0.264</td><td>-0.379</td><td> 0.135</td><td> 0.315</td><td>-0.161</td><td>-0.274</td><td> 0.0301</td><td>-0.16842</td></tr>\n",
       "</tbody>\n",
       "</table>\n"
      ],
      "text/latex": [
       "A matrix: 12 × 8 of type dbl\n",
       "\\begin{tabular}{r|llllllll}\n",
       "  & PC1 & PC2 & PC3 & PC4 & PC5 & PC6 & PC7 & PC8\\\\\n",
       "\\hline\n",
       "\tAge & -0.406 & -0.282 &  0.082 &  0.061 &  0.143 &  0.195 & -0.2084 &  0.34768\\\\\n",
       "\tBMI & -0.354 & -0.345 &  0.221 & -0.302 & -0.053 & -0.170 &  0.2964 & -0.31412\\\\\n",
       "\tWeight & -0.430 & -0.387 &  0.160 & -0.157 &  0.060 & -0.025 &  0.1070 & -0.05053\\\\\n",
       "\tLength\\_of\\_Stay &  0.210 & -0.354 &  0.216 &  0.206 & -0.094 & -0.426 & -0.5082 &  0.11047\\\\\n",
       "\tBody\\_Temperature &  0.299 & -0.181 & -0.036 &  0.144 &  0.348 & -0.228 &  0.6996 &  0.32285\\\\\n",
       "\tWBC\\_Count &  0.337 & -0.363 & -0.106 & -0.321 &  0.107 &  0.284 & -0.1522 &  0.00028\\\\\n",
       "\tNeutrophil\\_Percentage &  0.314 & -0.345 & -0.152 & -0.148 &  0.289 &  0.432 & -0.0783 & -0.22288\\\\\n",
       "\tRBC\\_Count & -0.084 & -0.121 & -0.687 &  0.040 & -0.241 & -0.222 &  0.0438 & -0.44389\\\\\n",
       "\tHemoglobin & -0.240 & -0.221 & -0.577 &  0.136 &  0.014 & -0.052 & -0.0708 &  0.48419\\\\\n",
       "\tRDW &  0.062 & -0.186 &  0.101 &  0.246 & -0.724 &  0.482 &  0.2690 &  0.14875\\\\\n",
       "\tThrombocyte\\_Count &  0.201 &  0.022 & -0.042 & -0.715 & -0.374 & -0.269 &  0.0072 &  0.36028\\\\\n",
       "\tCRP &  0.264 & -0.379 &  0.135 &  0.315 & -0.161 & -0.274 &  0.0301 & -0.16842\\\\\n",
       "\\end{tabular}\n"
      ],
      "text/markdown": [
       "\n",
       "A matrix: 12 × 8 of type dbl\n",
       "\n",
       "| <!--/--> | PC1 | PC2 | PC3 | PC4 | PC5 | PC6 | PC7 | PC8 |\n",
       "|---|---|---|---|---|---|---|---|---|\n",
       "| Age | -0.406 | -0.282 |  0.082 |  0.061 |  0.143 |  0.195 | -0.2084 |  0.34768 |\n",
       "| BMI | -0.354 | -0.345 |  0.221 | -0.302 | -0.053 | -0.170 |  0.2964 | -0.31412 |\n",
       "| Weight | -0.430 | -0.387 |  0.160 | -0.157 |  0.060 | -0.025 |  0.1070 | -0.05053 |\n",
       "| Length_of_Stay |  0.210 | -0.354 |  0.216 |  0.206 | -0.094 | -0.426 | -0.5082 |  0.11047 |\n",
       "| Body_Temperature |  0.299 | -0.181 | -0.036 |  0.144 |  0.348 | -0.228 |  0.6996 |  0.32285 |\n",
       "| WBC_Count |  0.337 | -0.363 | -0.106 | -0.321 |  0.107 |  0.284 | -0.1522 |  0.00028 |\n",
       "| Neutrophil_Percentage |  0.314 | -0.345 | -0.152 | -0.148 |  0.289 |  0.432 | -0.0783 | -0.22288 |\n",
       "| RBC_Count | -0.084 | -0.121 | -0.687 |  0.040 | -0.241 | -0.222 |  0.0438 | -0.44389 |\n",
       "| Hemoglobin | -0.240 | -0.221 | -0.577 |  0.136 |  0.014 | -0.052 | -0.0708 |  0.48419 |\n",
       "| RDW |  0.062 | -0.186 |  0.101 |  0.246 | -0.724 |  0.482 |  0.2690 |  0.14875 |\n",
       "| Thrombocyte_Count |  0.201 |  0.022 | -0.042 | -0.715 | -0.374 | -0.269 |  0.0072 |  0.36028 |\n",
       "| CRP |  0.264 | -0.379 |  0.135 |  0.315 | -0.161 | -0.274 |  0.0301 | -0.16842 |\n",
       "\n"
      ],
      "text/plain": [
       "                      PC1    PC2    PC3    PC4    PC5    PC6    PC7    \n",
       "Age                   -0.406 -0.282  0.082  0.061  0.143  0.195 -0.2084\n",
       "BMI                   -0.354 -0.345  0.221 -0.302 -0.053 -0.170  0.2964\n",
       "Weight                -0.430 -0.387  0.160 -0.157  0.060 -0.025  0.1070\n",
       "Length_of_Stay         0.210 -0.354  0.216  0.206 -0.094 -0.426 -0.5082\n",
       "Body_Temperature       0.299 -0.181 -0.036  0.144  0.348 -0.228  0.6996\n",
       "WBC_Count              0.337 -0.363 -0.106 -0.321  0.107  0.284 -0.1522\n",
       "Neutrophil_Percentage  0.314 -0.345 -0.152 -0.148  0.289  0.432 -0.0783\n",
       "RBC_Count             -0.084 -0.121 -0.687  0.040 -0.241 -0.222  0.0438\n",
       "Hemoglobin            -0.240 -0.221 -0.577  0.136  0.014 -0.052 -0.0708\n",
       "RDW                    0.062 -0.186  0.101  0.246 -0.724  0.482  0.2690\n",
       "Thrombocyte_Count      0.201  0.022 -0.042 -0.715 -0.374 -0.269  0.0072\n",
       "CRP                    0.264 -0.379  0.135  0.315 -0.161 -0.274  0.0301\n",
       "                      PC8     \n",
       "Age                    0.34768\n",
       "BMI                   -0.31412\n",
       "Weight                -0.05053\n",
       "Length_of_Stay         0.11047\n",
       "Body_Temperature       0.32285\n",
       "WBC_Count              0.00028\n",
       "Neutrophil_Percentage -0.22288\n",
       "RBC_Count             -0.44389\n",
       "Hemoglobin             0.48419\n",
       "RDW                    0.14875\n",
       "Thrombocyte_Count      0.36028\n",
       "CRP                   -0.16842"
      ]
     },
     "metadata": {},
     "output_type": "display_data"
    }
   ],
   "source": [
    "#PCA with normalized data\n",
    "pcs <- prcomp(df[,numeric_colnames], scale = TRUE)\n",
    "summary(pcs)\n",
    "pcs$rotation[,1:8]"
   ]
  },
  {
   "cell_type": "markdown",
   "id": "b7334468-8a19-46c8-9961-88f16d656496",
   "metadata": {},
   "source": [
    "Interesting to see that after scaling the data we need the **first 8 components** to **account for 90% of total variability**. <br>\n",
    "1st component captures Age and Weight. <br>\n",
    "2nd component captures CRP, Weight and WBC_Count. <br>\n",
    "3rd component is about blood characteristics such as RBC_Count and Hemoglobin. <br>\n",
    "the first 4 components account for 64% of total variability, and the first 5 components account for 73%. <br>\n",
    "This relatively big jump shows that the **RDW** is explaining the total variability very well. "
   ]
  },
  {
   "cell_type": "markdown",
   "id": "557b9492-eeb8-4a4b-8cbd-7f1c8e12937d",
   "metadata": {},
   "source": [
    "Instead of 12 numerical predictors PCA gave us 8 components to use along with categorical predictors."
   ]
  },
  {
   "cell_type": "code",
   "execution_count": 46,
   "id": "d0d76f21-1b8e-4679-87b6-ccd335a1f86b",
   "metadata": {},
   "outputs": [],
   "source": [
    "categorical_df <- df %>% select(!all_of(numeric_colnames))\n",
    "PCA_combined_data <- cbind(pcs$x[,1:9], categorical_df)"
   ]
  },
  {
   "cell_type": "markdown",
   "id": "0c1768e0-a653-44a8-a5d2-bf96e4c4d4c7",
   "metadata": {},
   "source": [
    "<font size = 5> Train and Test set for PCA combined data <font>"
   ]
  },
  {
   "cell_type": "code",
   "execution_count": 47,
   "id": "18141708-72d3-47c4-83b2-f0f331bdc6fc",
   "metadata": {},
   "outputs": [],
   "source": [
    "#Partition data into train and test (60/40)\n",
    "train_set_pca <- PCA_combined_data[train_ind, ]\n",
    "test_set_pca  <- PCA_combined_data[-train_ind, ]"
   ]
  },
  {
   "cell_type": "code",
   "execution_count": 48,
   "id": "2c3b6cbf-6e8d-414f-b03a-f70255f1cdaa",
   "metadata": {},
   "outputs": [],
   "source": [
    "#fit logistic regression model on the combined pca data\n",
    "PCA_model <-   glm(Diagnosis ~ . ,\n",
    "                    data = train_set_pca,\n",
    "                    family = binomial()\n",
    "                    )"
   ]
  },
  {
   "cell_type": "code",
   "execution_count": 49,
   "id": "4c533693-83fa-4ab8-8c5d-15bd9b729aae",
   "metadata": {},
   "outputs": [],
   "source": [
    "#make predictions on the test set\n",
    "pca_pred_probabilities <- predict(PCA_model,\n",
    "                            newdata = test_set_pca[,-23],\n",
    "                            type = \"response\")\n",
    "\n",
    "#prediction classes\n",
    "pca_pred_classes <- if_else(\n",
    "                            pca_pred_probabilities >0.5, 1, 0) %>% \n",
    "                            as.factor()\n",
    "\n",
    "#Confusion matrix for pca model predictions\n",
    "cm_pca <-    confusionMatrix(\n",
    "                                 pca_pred_classes, \n",
    "                                 reference = test_set_pca$Diagnosis\n",
    "                                 )$overall[\"Accuracy\"][[1]] %>% round(2)"
   ]
  },
  {
   "cell_type": "markdown",
   "id": "105c9b68-0ea9-4e78-863d-83871e82534b",
   "metadata": {},
   "source": [
    "<font size=6> Final Comparison of the models predicting the test set <font>"
   ]
  },
  {
   "cell_type": "code",
   "execution_count": 50,
   "id": "bed2b092-98f5-49fc-8a87-d09f3396c9be",
   "metadata": {},
   "outputs": [
    {
     "data": {
      "text/html": [
       "<table class=\"dataframe\">\n",
       "<caption>A data.frame: 5 × 3</caption>\n",
       "<thead>\n",
       "\t<tr><th scope=col>model</th><th scope=col>Threshold</th><th scope=col>Accuracy</th></tr>\n",
       "\t<tr><th scope=col>&lt;chr&gt;</th><th scope=col>&lt;dbl&gt;</th><th scope=col>&lt;dbl&gt;</th></tr>\n",
       "</thead>\n",
       "<tbody>\n",
       "\t<tr><td>Forward-Backward-0.55</td><td>0.55</td><td>0.77</td></tr>\n",
       "\t<tr><td>Forward-Backward     </td><td>0.50</td><td>0.75</td></tr>\n",
       "\t<tr><td>PCA                  </td><td>0.50</td><td>0.74</td></tr>\n",
       "\t<tr><td>Ridge                </td><td>0.50</td><td>0.70</td></tr>\n",
       "\t<tr><td>Lasso                </td><td>0.50</td><td>0.67</td></tr>\n",
       "</tbody>\n",
       "</table>\n"
      ],
      "text/latex": [
       "A data.frame: 5 × 3\n",
       "\\begin{tabular}{lll}\n",
       " model & Threshold & Accuracy\\\\\n",
       " <chr> & <dbl> & <dbl>\\\\\n",
       "\\hline\n",
       "\t Forward-Backward-0.55 & 0.55 & 0.77\\\\\n",
       "\t Forward-Backward      & 0.50 & 0.75\\\\\n",
       "\t PCA                   & 0.50 & 0.74\\\\\n",
       "\t Ridge                 & 0.50 & 0.70\\\\\n",
       "\t Lasso                 & 0.50 & 0.67\\\\\n",
       "\\end{tabular}\n"
      ],
      "text/markdown": [
       "\n",
       "A data.frame: 5 × 3\n",
       "\n",
       "| model &lt;chr&gt; | Threshold &lt;dbl&gt; | Accuracy &lt;dbl&gt; |\n",
       "|---|---|---|\n",
       "| Forward-Backward-0.55 | 0.55 | 0.77 |\n",
       "| Forward-Backward      | 0.50 | 0.75 |\n",
       "| PCA                   | 0.50 | 0.74 |\n",
       "| Ridge                 | 0.50 | 0.70 |\n",
       "| Lasso                 | 0.50 | 0.67 |\n",
       "\n"
      ],
      "text/plain": [
       "  model                 Threshold Accuracy\n",
       "1 Forward-Backward-0.55 0.55      0.77    \n",
       "2 Forward-Backward      0.50      0.75    \n",
       "3 PCA                   0.50      0.74    \n",
       "4 Ridge                 0.50      0.70    \n",
       "5 Lasso                 0.50      0.67    "
      ]
     },
     "metadata": {},
     "output_type": "display_data"
    }
   ],
   "source": [
    "#Forward-Backward, RIDGE, LASSO, PCA\n",
    "final_comparison <- data.frame(model = c(\"Forward-Backward\", \"Forward-Backward-0.55\", \"Ridge\", \"Lasso\", \"PCA\"),\n",
    "                               Threshold = c(0.5, 0.55, 0.5, 0.5, 0.5),\n",
    "                               Accuracy = c(cm_both, cm_both_0.55, cm_ridge, cm_lasso, cm_pca)) %>%\n",
    "                              arrange(desc(Accuracy))\n",
    "final_comparison"
   ]
  },
  {
   "cell_type": "markdown",
   "id": "b738f9cb-7bf7-4dfe-8f12-3591fbf4613c",
   "metadata": {},
   "source": [
    "Looking at the results, the forward-backward feature selection has done a good job finding the most significant predictors for our model. <br>\n",
    "However, Ridge and Lasso did not do very well on the accuracy. This could be because of the penalizing factors. <br>\n",
    "Also PCA was able to fit a good model using the first 8 components which where linear combinations of the numerical predictors. <br>\n",
    "By setting the threshold to 0.55 we got a better acuuracy, higher sensitivity and lower specificity for our forward-backward feature selection model."
   ]
  },
  {
   "cell_type": "markdown",
   "id": "c012ada9-1824-46c9-b1ad-585e4131f7b4",
   "metadata": {},
   "source": [
    "<font size = 6> ROC <font>"
   ]
  },
  {
   "cell_type": "markdown",
   "id": "eb8344b5-1291-4834-b441-ccf306f256a4",
   "metadata": {},
   "source": [
    "**Comparison of ROC curves for different models**"
   ]
  },
  {
   "cell_type": "code",
   "execution_count": 51,
   "id": "0e8dd52d-21aa-46fc-aa35-aeec6047402f",
   "metadata": {},
   "outputs": [
    {
     "name": "stderr",
     "output_type": "stream",
     "text": [
      "Setting levels: control = 0, case = 1\n",
      "\n",
      "Setting direction: controls < cases\n",
      "\n",
      "Setting levels: control = 0, case = 1\n",
      "\n",
      "Setting direction: controls < cases\n",
      "\n",
      "Setting levels: control = 0, case = 1\n",
      "\n",
      "Setting direction: controls < cases\n",
      "\n",
      "Setting levels: control = 0, case = 1\n",
      "\n",
      "Setting direction: controls < cases\n",
      "\n"
     ]
    },
    {
     "data": {
      "image/png": "[encoded data removed]",
      "text/plain": [
       "Plot with title \"ROC Curves for Multiple Models\""
      ]
     },
     "metadata": {
      "image/png": {
       "height": 480,
       "width": 480
      }
     },
     "output_type": "display_data"
    }
   ],
   "source": [
    "options(repr.plot.width = 8, repr.plot.height = 8)\n",
    "\n",
    "plot(roc(test_set$Diagnosis, pred_prob_fs), main = \"ROC Curves for Multiple Models\", col = \"green\", lwd = 3)\n",
    "plot(roc(test_set$Diagnosis, predict(lasso_model, test_set, type = \"prob\")[[2]]), col = \"blue\", lwd = 3, add=TRUE)\n",
    "plot(roc(test_set$Diagnosis, predict(ridge_model, test_set, type = \"prob\")[[2]]), col = \"orange\", lwd = 3, add=TRUE)\n",
    "plot(roc(test_set$Diagnosis,as.numeric(pca_pred_probabilities)), col = \"red\", lwd = 3, add=TRUE)\n",
    "legend(\"bottomright\", \n",
    "       legend = c(\"Forward-Backward\", \"Lasso\", \"Ridge\", \"PCA\"), \n",
    "       col = c(\"green\", \"blue\", \"orange\", \"red\"), \n",
    "       lty = 1, \n",
    "       cex = 1,\n",
    "      lwd = 6)"
   ]
  },
  {
   "cell_type": "markdown",
   "id": "861a8118-d99b-4916-8aeb-28f167356f3f",
   "metadata": {},
   "source": [
    "<font size = 6> Conclusion <font>"
   ]
  },
  {
   "cell_type": "markdown",
   "id": "2d810865-fecb-4327-bcc8-54cf4889f198",
   "metadata": {},
   "source": [
    "**Forward-backward feature selection model** stands out for its ability to identify the most significant predictors for our model. <br>\n",
    "\n",
    "**PCA** was able to fit a good model using the first 8 components derived from linear combinations of our numerical predictors. However it lacks the interpretability factor. In contexts such as clinical applications, where understanding the individual impact of predictors is crucial for decision-making, this lack of interpretability could be a significant limitation.\n",
    "\n",
    "**Ridge** and **Lasso** models did not have better performances compared to forward-backward and PCA models."
   ]
  },
  {
   "cell_type": "markdown",
   "id": "02c62dfc-0c95-42f9-a3a5-a024f7d4e24e",
   "metadata": {},
   "source": [
    "Comparing the ROC curves of different models, for a given specificity above 0.6, forward-backward feature selection model sensitivity is greater. <br>\n",
    "\n",
    "Considering the balance between **performance** and **interpretability**, the **forward-backward feature selection model** is the preferred model."
   ]
  },
  {
   "cell_type": "code",
   "execution_count": null,
   "id": "c039c149-f385-4590-8a71-6245c7b1cac8",
   "metadata": {},
   "outputs": [],
   "source": []
  }
 ],
 "metadata": {
  "kernelspec": {
   "display_name": "R",
   "language": "R",
   "name": "ir"
  },
  "language_info": {
   "codemirror_mode": "r",
   "file_extension": ".r",
   "mimetype": "text/x-r-source",
   "name": "R",
   "pygments_lexer": "r",
   "version": "4.3.2"
  }
 },
 "nbformat": 4,
 "nbformat_minor": 5
}
