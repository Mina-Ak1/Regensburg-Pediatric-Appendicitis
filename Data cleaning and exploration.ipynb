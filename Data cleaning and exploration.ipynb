{
 "cells": [
  {
   "cell_type": "markdown",
   "id": "facc6af0-e993-4643-ab31-73aec04dfb64",
   "metadata": {},
   "source": [
    "<font size=\"5\"> Term Project Step 1 -  STA 6714</font> <br>\\\n",
    "<font size=\"5\"> Mina Akhondzadeh</font>\r\n",
    "\n"
   ]
  },
  {
   "cell_type": "markdown",
   "id": "0d2f822a-e6da-4567-adb2-e3705e349e21",
   "metadata": {},
   "source": [
    "**1. The description of variables and the target problems you will answer.**"
   ]
  },
  {
   "cell_type": "markdown",
   "id": "5cde4c42-9bad-4272-8c13-dcee2a5ee551",
   "metadata": {},
   "source": [
    "https://archive.ics.uci.edu/dataset/938/regensburg+pediatric+appendicitis\n",
    "\n",
    "This repository holds the data from a cohort of **pediatric patients with suspected appendicitis admitted with abdominal pain to Children’s Hospital St. Hedwig in Regensburg, Germany, between 2016 and 2021**. <br>\n",
    "\n",
    "Each patient has (potentially multiple) ultrasound (US) images, aka views, tabular data comprising laboratory, physical examination, scoring results and ultrasonographic findings extracted manually by the experts, and three target variables, namely, diagnosis, management and severity. <br>\n",
    "\n",
    "This data has 782 rows and 58 columns. There is a combination of binary, categorical, integer and continuous predictor columns. <br>\n",
    "\n",
    "From column 25 onwards there are multiple columns with na values majorly. These columns are also very specialized and we might not be able to interprete them as good as the other columns. Therefore we will make a selection of the features that are good candidates for our model based on the number of NA values and colinearity."
   ]
  },
  {
   "cell_type": "code",
   "execution_count": 1,
   "id": "452bd91f-a970-40dc-af6b-fddb79f59882",
   "metadata": {},
   "outputs": [
    {
     "name": "stderr",
     "output_type": "stream",
     "text": [
      "── \u001b[1mAttaching core tidyverse packages\u001b[22m ──────────────────────────────────────────────────────────────── tidyverse 2.0.0 ──\n",
      "\u001b[32m✔\u001b[39m \u001b[34mdplyr    \u001b[39m 1.1.4     \u001b[32m✔\u001b[39m \u001b[34mreadr    \u001b[39m 2.1.5\n",
      "\u001b[32m✔\u001b[39m \u001b[34mforcats  \u001b[39m 1.0.0     \u001b[32m✔\u001b[39m \u001b[34mstringr  \u001b[39m 1.5.1\n",
      "\u001b[32m✔\u001b[39m \u001b[34mggplot2  \u001b[39m 3.4.4     \u001b[32m✔\u001b[39m \u001b[34mtibble   \u001b[39m 3.2.1\n",
      "\u001b[32m✔\u001b[39m \u001b[34mlubridate\u001b[39m 1.9.3     \u001b[32m✔\u001b[39m \u001b[34mtidyr    \u001b[39m 1.3.1\n",
      "\u001b[32m✔\u001b[39m \u001b[34mpurrr    \u001b[39m 1.0.2     \n",
      "── \u001b[1mConflicts\u001b[22m ────────────────────────────────────────────────────────────────────────────────── tidyverse_conflicts() ──\n",
      "\u001b[31m✖\u001b[39m \u001b[34mdplyr\u001b[39m::\u001b[32mfilter()\u001b[39m masks \u001b[34mstats\u001b[39m::filter()\n",
      "\u001b[31m✖\u001b[39m \u001b[34mdplyr\u001b[39m::\u001b[32mlag()\u001b[39m    masks \u001b[34mstats\u001b[39m::lag()\n",
      "\u001b[36mℹ\u001b[39m Use the conflicted package (\u001b[3m\u001b[34m<http://conflicted.r-lib.org/>\u001b[39m\u001b[23m) to force all conflicts to become errors\n"
     ]
    }
   ],
   "source": [
    "#load requiered libraries\n",
    "library(tidyverse)\n",
    "library(dplyr)\n",
    "library(ggplot2)"
   ]
  },
  {
   "cell_type": "code",
   "execution_count": 2,
   "id": "3f58c87f-53ff-4f3f-8df9-f733f9a8f5ee",
   "metadata": {},
   "outputs": [
    {
     "data": {
      "text/html": [
       "<table class=\"dataframe\">\n",
       "<caption>A tibble: 6 × 58</caption>\n",
       "<thead>\n",
       "\t<tr><th scope=col>Age</th><th scope=col>BMI</th><th scope=col>Sex</th><th scope=col>Height</th><th scope=col>Weight</th><th scope=col>Length_of_Stay</th><th scope=col>Management</th><th scope=col>Severity</th><th scope=col>Diagnosis_Presumptive</th><th scope=col>Diagnosis</th><th scope=col>⋯</th><th scope=col>Abscess_Location</th><th scope=col>Pathological_Lymph_Nodes</th><th scope=col>Lymph_Nodes_Location</th><th scope=col>Bowel_Wall_Thickening</th><th scope=col>Conglomerate_of_Bowel_Loops</th><th scope=col>Ileus</th><th scope=col>Coprostasis</th><th scope=col>Meteorism</th><th scope=col>Enteritis</th><th scope=col>Gynecological_Findings</th></tr>\n",
       "\t<tr><th scope=col>&lt;dbl&gt;</th><th scope=col>&lt;chr&gt;</th><th scope=col>&lt;chr&gt;</th><th scope=col>&lt;dbl&gt;</th><th scope=col>&lt;dbl&gt;</th><th scope=col>&lt;dbl&gt;</th><th scope=col>&lt;chr&gt;</th><th scope=col>&lt;chr&gt;</th><th scope=col>&lt;chr&gt;</th><th scope=col>&lt;chr&gt;</th><th scope=col>⋯</th><th scope=col>&lt;chr&gt;</th><th scope=col>&lt;chr&gt;</th><th scope=col>&lt;chr&gt;</th><th scope=col>&lt;chr&gt;</th><th scope=col>&lt;chr&gt;</th><th scope=col>&lt;chr&gt;</th><th scope=col>&lt;chr&gt;</th><th scope=col>&lt;chr&gt;</th><th scope=col>&lt;chr&gt;</th><th scope=col>&lt;chr&gt;</th></tr>\n",
       "</thead>\n",
       "<tbody>\n",
       "\t<tr><td>12.68</td><td>16.899999999999999</td><td>female</td><td>148</td><td>37.0</td><td>3</td><td>conservative</td><td>uncomplicated</td><td>appendicitis</td><td>appendicitis   </td><td>⋯</td><td>NA</td><td>yes</td><td>reUB</td><td>NA</td><td>NA</td><td>NA</td><td>NA</td><td>NA </td><td>NA </td><td>NA</td></tr>\n",
       "\t<tr><td>14.10</td><td>31.9              </td><td>male  </td><td>147</td><td>69.5</td><td>2</td><td>conservative</td><td>uncomplicated</td><td>appendicitis</td><td>no appendicitis</td><td>⋯</td><td>NA</td><td>NA </td><td>NA  </td><td>NA</td><td>NA</td><td>NA</td><td>NA</td><td>yes</td><td>NA </td><td>NA</td></tr>\n",
       "\t<tr><td>14.14</td><td>23.3              </td><td>female</td><td>163</td><td>62.0</td><td>4</td><td>conservative</td><td>uncomplicated</td><td>appendicitis</td><td>no appendicitis</td><td>⋯</td><td>NA</td><td>NA </td><td>NA  </td><td>NA</td><td>NA</td><td>NA</td><td>NA</td><td>yes</td><td>yes</td><td>NA</td></tr>\n",
       "\t<tr><td>16.37</td><td>20.6              </td><td>female</td><td>165</td><td>56.0</td><td>3</td><td>conservative</td><td>uncomplicated</td><td>appendicitis</td><td>no appendicitis</td><td>⋯</td><td>NA</td><td>yes</td><td>reUB</td><td>NA</td><td>NA</td><td>NA</td><td>NA</td><td>NA </td><td>yes</td><td>NA</td></tr>\n",
       "\t<tr><td>11.08</td><td>16.899999999999999</td><td>female</td><td>163</td><td>45.0</td><td>3</td><td>conservative</td><td>uncomplicated</td><td>appendicitis</td><td>appendicitis   </td><td>⋯</td><td>NA</td><td>yes</td><td>reUB</td><td>NA</td><td>NA</td><td>NA</td><td>NA</td><td>NA </td><td>yes</td><td>NA</td></tr>\n",
       "\t<tr><td>11.05</td><td>30.7              </td><td>male  </td><td>121</td><td>45.0</td><td>3</td><td>conservative</td><td>uncomplicated</td><td>appendicitis</td><td>no appendicitis</td><td>⋯</td><td>NA</td><td>NA </td><td>NA  </td><td>NA</td><td>NA</td><td>NA</td><td>NA</td><td>NA </td><td>NA </td><td>NA</td></tr>\n",
       "</tbody>\n",
       "</table>\n"
      ],
      "text/latex": [
       "A tibble: 6 × 58\n",
       "\\begin{tabular}{lllllllllllllllllllll}\n",
       " Age & BMI & Sex & Height & Weight & Length\\_of\\_Stay & Management & Severity & Diagnosis\\_Presumptive & Diagnosis & ⋯ & Abscess\\_Location & Pathological\\_Lymph\\_Nodes & Lymph\\_Nodes\\_Location & Bowel\\_Wall\\_Thickening & Conglomerate\\_of\\_Bowel\\_Loops & Ileus & Coprostasis & Meteorism & Enteritis & Gynecological\\_Findings\\\\\n",
       " <dbl> & <chr> & <chr> & <dbl> & <dbl> & <dbl> & <chr> & <chr> & <chr> & <chr> & ⋯ & <chr> & <chr> & <chr> & <chr> & <chr> & <chr> & <chr> & <chr> & <chr> & <chr>\\\\\n",
       "\\hline\n",
       "\t 12.68 & 16.899999999999999 & female & 148 & 37.0 & 3 & conservative & uncomplicated & appendicitis & appendicitis    & ⋯ & NA & yes & reUB & NA & NA & NA & NA & NA  & NA  & NA\\\\\n",
       "\t 14.10 & 31.9               & male   & 147 & 69.5 & 2 & conservative & uncomplicated & appendicitis & no appendicitis & ⋯ & NA & NA  & NA   & NA & NA & NA & NA & yes & NA  & NA\\\\\n",
       "\t 14.14 & 23.3               & female & 163 & 62.0 & 4 & conservative & uncomplicated & appendicitis & no appendicitis & ⋯ & NA & NA  & NA   & NA & NA & NA & NA & yes & yes & NA\\\\\n",
       "\t 16.37 & 20.6               & female & 165 & 56.0 & 3 & conservative & uncomplicated & appendicitis & no appendicitis & ⋯ & NA & yes & reUB & NA & NA & NA & NA & NA  & yes & NA\\\\\n",
       "\t 11.08 & 16.899999999999999 & female & 163 & 45.0 & 3 & conservative & uncomplicated & appendicitis & appendicitis    & ⋯ & NA & yes & reUB & NA & NA & NA & NA & NA  & yes & NA\\\\\n",
       "\t 11.05 & 30.7               & male   & 121 & 45.0 & 3 & conservative & uncomplicated & appendicitis & no appendicitis & ⋯ & NA & NA  & NA   & NA & NA & NA & NA & NA  & NA  & NA\\\\\n",
       "\\end{tabular}\n"
      ],
      "text/markdown": [
       "\n",
       "A tibble: 6 × 58\n",
       "\n",
       "| Age &lt;dbl&gt; | BMI &lt;chr&gt; | Sex &lt;chr&gt; | Height &lt;dbl&gt; | Weight &lt;dbl&gt; | Length_of_Stay &lt;dbl&gt; | Management &lt;chr&gt; | Severity &lt;chr&gt; | Diagnosis_Presumptive &lt;chr&gt; | Diagnosis &lt;chr&gt; | ⋯ ⋯ | Abscess_Location &lt;chr&gt; | Pathological_Lymph_Nodes &lt;chr&gt; | Lymph_Nodes_Location &lt;chr&gt; | Bowel_Wall_Thickening &lt;chr&gt; | Conglomerate_of_Bowel_Loops &lt;chr&gt; | Ileus &lt;chr&gt; | Coprostasis &lt;chr&gt; | Meteorism &lt;chr&gt; | Enteritis &lt;chr&gt; | Gynecological_Findings &lt;chr&gt; |\n",
       "|---|---|---|---|---|---|---|---|---|---|---|---|---|---|---|---|---|---|---|---|---|\n",
       "| 12.68 | 16.899999999999999 | female | 148 | 37.0 | 3 | conservative | uncomplicated | appendicitis | appendicitis    | ⋯ | NA | yes | reUB | NA | NA | NA | NA | NA  | NA  | NA |\n",
       "| 14.10 | 31.9               | male   | 147 | 69.5 | 2 | conservative | uncomplicated | appendicitis | no appendicitis | ⋯ | NA | NA  | NA   | NA | NA | NA | NA | yes | NA  | NA |\n",
       "| 14.14 | 23.3               | female | 163 | 62.0 | 4 | conservative | uncomplicated | appendicitis | no appendicitis | ⋯ | NA | NA  | NA   | NA | NA | NA | NA | yes | yes | NA |\n",
       "| 16.37 | 20.6               | female | 165 | 56.0 | 3 | conservative | uncomplicated | appendicitis | no appendicitis | ⋯ | NA | yes | reUB | NA | NA | NA | NA | NA  | yes | NA |\n",
       "| 11.08 | 16.899999999999999 | female | 163 | 45.0 | 3 | conservative | uncomplicated | appendicitis | appendicitis    | ⋯ | NA | yes | reUB | NA | NA | NA | NA | NA  | yes | NA |\n",
       "| 11.05 | 30.7               | male   | 121 | 45.0 | 3 | conservative | uncomplicated | appendicitis | no appendicitis | ⋯ | NA | NA  | NA   | NA | NA | NA | NA | NA  | NA  | NA |\n",
       "\n"
      ],
      "text/plain": [
       "  Age   BMI                Sex    Height Weight Length_of_Stay Management  \n",
       "1 12.68 16.899999999999999 female 148    37.0   3              conservative\n",
       "2 14.10 31.9               male   147    69.5   2              conservative\n",
       "3 14.14 23.3               female 163    62.0   4              conservative\n",
       "4 16.37 20.6               female 165    56.0   3              conservative\n",
       "5 11.08 16.899999999999999 female 163    45.0   3              conservative\n",
       "6 11.05 30.7               male   121    45.0   3              conservative\n",
       "  Severity      Diagnosis_Presumptive Diagnosis       ⋯ Abscess_Location\n",
       "1 uncomplicated appendicitis          appendicitis    ⋯ NA              \n",
       "2 uncomplicated appendicitis          no appendicitis ⋯ NA              \n",
       "3 uncomplicated appendicitis          no appendicitis ⋯ NA              \n",
       "4 uncomplicated appendicitis          no appendicitis ⋯ NA              \n",
       "5 uncomplicated appendicitis          appendicitis    ⋯ NA              \n",
       "6 uncomplicated appendicitis          no appendicitis ⋯ NA              \n",
       "  Pathological_Lymph_Nodes Lymph_Nodes_Location Bowel_Wall_Thickening\n",
       "1 yes                      reUB                 NA                   \n",
       "2 NA                       NA                   NA                   \n",
       "3 NA                       NA                   NA                   \n",
       "4 yes                      reUB                 NA                   \n",
       "5 yes                      reUB                 NA                   \n",
       "6 NA                       NA                   NA                   \n",
       "  Conglomerate_of_Bowel_Loops Ileus Coprostasis Meteorism Enteritis\n",
       "1 NA                          NA    NA          NA        NA       \n",
       "2 NA                          NA    NA          yes       NA       \n",
       "3 NA                          NA    NA          yes       yes      \n",
       "4 NA                          NA    NA          NA        yes      \n",
       "5 NA                          NA    NA          NA        yes      \n",
       "6 NA                          NA    NA          NA        NA       \n",
       "  Gynecological_Findings\n",
       "1 NA                    \n",
       "2 NA                    \n",
       "3 NA                    \n",
       "4 NA                    \n",
       "5 NA                    \n",
       "6 NA                    "
      ]
     },
     "metadata": {},
     "output_type": "display_data"
    },
    {
     "data": {
      "text/html": [
       "<style>\n",
       ".list-inline {list-style: none; margin:0; padding: 0}\n",
       ".list-inline>li {display: inline-block}\n",
       ".list-inline>li:not(:last-child)::after {content: \"\\00b7\"; padding: 0 .5ex}\n",
       "</style>\n",
       "<ol class=list-inline><li>782</li><li>58</li></ol>\n"
      ],
      "text/latex": [
       "\\begin{enumerate*}\n",
       "\\item 782\n",
       "\\item 58\n",
       "\\end{enumerate*}\n"
      ],
      "text/markdown": [
       "1. 782\n",
       "2. 58\n",
       "\n",
       "\n"
      ],
      "text/plain": [
       "[1] 782  58"
      ]
     },
     "metadata": {},
     "output_type": "display_data"
    }
   ],
   "source": [
    "df = readxl::read_excel(\"C:\\\\Users\\\\minaa\\\\Desktop\\\\Statistics\\\\Spring 2024\\\\STA 6714\\\\Term Project\\\\app_data.xlsx\")\n",
    "head(df)\n",
    "dim(df)"
   ]
  },
  {
   "cell_type": "markdown",
   "id": "7513e189-4e97-4337-bce1-526f7e6b5c48",
   "metadata": {},
   "source": [
    "Let's see what percentage of each column is NULL value."
   ]
  },
  {
   "cell_type": "code",
   "execution_count": 3,
   "id": "ea634b97-4ee3-4f61-baaa-f29963c7ac60",
   "metadata": {},
   "outputs": [
    {
     "data": {
      "text/html": [
       "<table class=\"dataframe\">\n",
       "<caption>A tibble: 1 × 58</caption>\n",
       "<thead>\n",
       "\t<tr><th scope=col>Age</th><th scope=col>BMI</th><th scope=col>Sex</th><th scope=col>Height</th><th scope=col>Weight</th><th scope=col>Length_of_Stay</th><th scope=col>Management</th><th scope=col>Severity</th><th scope=col>Diagnosis_Presumptive</th><th scope=col>Diagnosis</th><th scope=col>⋯</th><th scope=col>Abscess_Location</th><th scope=col>Pathological_Lymph_Nodes</th><th scope=col>Lymph_Nodes_Location</th><th scope=col>Bowel_Wall_Thickening</th><th scope=col>Conglomerate_of_Bowel_Loops</th><th scope=col>Ileus</th><th scope=col>Coprostasis</th><th scope=col>Meteorism</th><th scope=col>Enteritis</th><th scope=col>Gynecological_Findings</th></tr>\n",
       "\t<tr><th scope=col>&lt;dbl&gt;</th><th scope=col>&lt;dbl&gt;</th><th scope=col>&lt;dbl&gt;</th><th scope=col>&lt;dbl&gt;</th><th scope=col>&lt;dbl&gt;</th><th scope=col>&lt;dbl&gt;</th><th scope=col>&lt;dbl&gt;</th><th scope=col>&lt;dbl&gt;</th><th scope=col>&lt;dbl&gt;</th><th scope=col>&lt;dbl&gt;</th><th scope=col>⋯</th><th scope=col>&lt;dbl&gt;</th><th scope=col>&lt;dbl&gt;</th><th scope=col>&lt;dbl&gt;</th><th scope=col>&lt;dbl&gt;</th><th scope=col>&lt;dbl&gt;</th><th scope=col>&lt;dbl&gt;</th><th scope=col>&lt;dbl&gt;</th><th scope=col>&lt;dbl&gt;</th><th scope=col>&lt;dbl&gt;</th><th scope=col>&lt;dbl&gt;</th></tr>\n",
       "</thead>\n",
       "<tbody>\n",
       "\t<tr><td>0.13</td><td>3.45</td><td>0.26</td><td>3.32</td><td>0.38</td><td>0.51</td><td>0.13</td><td>0.13</td><td>0.26</td><td>0.26</td><td>⋯</td><td>98.34</td><td>74.04</td><td>84.53</td><td>87.34</td><td>94.5</td><td>92.33</td><td>90.92</td><td>82.1</td><td>91.56</td><td>96.68</td></tr>\n",
       "</tbody>\n",
       "</table>\n"
      ],
      "text/latex": [
       "A tibble: 1 × 58\n",
       "\\begin{tabular}{lllllllllllllllllllll}\n",
       " Age & BMI & Sex & Height & Weight & Length\\_of\\_Stay & Management & Severity & Diagnosis\\_Presumptive & Diagnosis & ⋯ & Abscess\\_Location & Pathological\\_Lymph\\_Nodes & Lymph\\_Nodes\\_Location & Bowel\\_Wall\\_Thickening & Conglomerate\\_of\\_Bowel\\_Loops & Ileus & Coprostasis & Meteorism & Enteritis & Gynecological\\_Findings\\\\\n",
       " <dbl> & <dbl> & <dbl> & <dbl> & <dbl> & <dbl> & <dbl> & <dbl> & <dbl> & <dbl> & ⋯ & <dbl> & <dbl> & <dbl> & <dbl> & <dbl> & <dbl> & <dbl> & <dbl> & <dbl> & <dbl>\\\\\n",
       "\\hline\n",
       "\t 0.13 & 3.45 & 0.26 & 3.32 & 0.38 & 0.51 & 0.13 & 0.13 & 0.26 & 0.26 & ⋯ & 98.34 & 74.04 & 84.53 & 87.34 & 94.5 & 92.33 & 90.92 & 82.1 & 91.56 & 96.68\\\\\n",
       "\\end{tabular}\n"
      ],
      "text/markdown": [
       "\n",
       "A tibble: 1 × 58\n",
       "\n",
       "| Age &lt;dbl&gt; | BMI &lt;dbl&gt; | Sex &lt;dbl&gt; | Height &lt;dbl&gt; | Weight &lt;dbl&gt; | Length_of_Stay &lt;dbl&gt; | Management &lt;dbl&gt; | Severity &lt;dbl&gt; | Diagnosis_Presumptive &lt;dbl&gt; | Diagnosis &lt;dbl&gt; | ⋯ ⋯ | Abscess_Location &lt;dbl&gt; | Pathological_Lymph_Nodes &lt;dbl&gt; | Lymph_Nodes_Location &lt;dbl&gt; | Bowel_Wall_Thickening &lt;dbl&gt; | Conglomerate_of_Bowel_Loops &lt;dbl&gt; | Ileus &lt;dbl&gt; | Coprostasis &lt;dbl&gt; | Meteorism &lt;dbl&gt; | Enteritis &lt;dbl&gt; | Gynecological_Findings &lt;dbl&gt; |\n",
       "|---|---|---|---|---|---|---|---|---|---|---|---|---|---|---|---|---|---|---|---|---|\n",
       "| 0.13 | 3.45 | 0.26 | 3.32 | 0.38 | 0.51 | 0.13 | 0.13 | 0.26 | 0.26 | ⋯ | 98.34 | 74.04 | 84.53 | 87.34 | 94.5 | 92.33 | 90.92 | 82.1 | 91.56 | 96.68 |\n",
       "\n"
      ],
      "text/plain": [
       "  Age  BMI  Sex  Height Weight Length_of_Stay Management Severity\n",
       "1 0.13 3.45 0.26 3.32   0.38   0.51           0.13       0.13    \n",
       "  Diagnosis_Presumptive Diagnosis ⋯ Abscess_Location Pathological_Lymph_Nodes\n",
       "1 0.26                  0.26      ⋯ 98.34            74.04                   \n",
       "  Lymph_Nodes_Location Bowel_Wall_Thickening Conglomerate_of_Bowel_Loops Ileus\n",
       "1 84.53                87.34                 94.5                        92.33\n",
       "  Coprostasis Meteorism Enteritis Gynecological_Findings\n",
       "1 90.92       82.1      91.56     96.68                 "
      ]
     },
     "metadata": {},
     "output_type": "display_data"
    }
   ],
   "source": [
    "NA_percentage <- df %>%\n",
    "  summarise_all(~mean(is.na(.)) * 100) %>%\n",
    "  mutate_all(.funs = ~round(., digits = 2))\n",
    "NA_percentage"
   ]
  },
  {
   "cell_type": "markdown",
   "id": "b6f5ff9e-5ae9-45b6-b1df-1ec41841f9a2",
   "metadata": {},
   "source": [
    "We can eliminate the features which have more than 20% NULL values, because they are not giving us enough information to train a model on them. <br>\n",
    "\n",
    "Among 3 target variables (diagnosis, management and severity), we are going to pick \"Diagnosis\" as our only target valuable and try to find the best model for predicting this column."
   ]
  },
  {
   "cell_type": "code",
   "execution_count": 4,
   "id": "73ab03e4-a763-45cc-92f8-a48eddff4cb1",
   "metadata": {},
   "outputs": [
    {
     "data": {
      "text/html": [
       "<style>\n",
       ".list-inline {list-style: none; margin:0; padding: 0}\n",
       ".list-inline>li {display: inline-block}\n",
       ".list-inline>li:not(:last-child)::after {content: \"\\00b7\"; padding: 0 .5ex}\n",
       "</style>\n",
       "<ol class=list-inline><li>'Age'</li><li>'BMI'</li><li>'Sex'</li><li>'Height'</li><li>'Weight'</li><li>'Length_of_Stay'</li><li>'Diagnosis_Presumptive'</li><li>'Alvarado_Score'</li><li>'Paedriatic_Appendicitis_Score'</li><li>'Appendix_on_US'</li><li>'Migratory_Pain'</li><li>'Lower_Right_Abd_Pain'</li><li>'Contralateral_Rebound_Tenderness'</li><li>'Coughing_Pain'</li><li>'Nausea'</li><li>'Loss_of_Appetite'</li><li>'Body_Temperature'</li><li>'WBC_Count'</li><li>'Neutrophil_Percentage'</li><li>'Neutrophilia'</li><li>'RBC_Count'</li><li>'Hemoglobin'</li><li>'RDW'</li><li>'Thrombocyte_Count'</li><li>'CRP'</li><li>'Dysuria'</li><li>'Stool'</li><li>'Peritonitis'</li><li>'Psoas_Sign'</li><li>'US_Performed'</li><li>'US_Number'</li><li>'Free_Fluids'</li><li>'Diagnosis'</li></ol>\n"
      ],
      "text/latex": [
       "\\begin{enumerate*}\n",
       "\\item 'Age'\n",
       "\\item 'BMI'\n",
       "\\item 'Sex'\n",
       "\\item 'Height'\n",
       "\\item 'Weight'\n",
       "\\item 'Length\\_of\\_Stay'\n",
       "\\item 'Diagnosis\\_Presumptive'\n",
       "\\item 'Alvarado\\_Score'\n",
       "\\item 'Paedriatic\\_Appendicitis\\_Score'\n",
       "\\item 'Appendix\\_on\\_US'\n",
       "\\item 'Migratory\\_Pain'\n",
       "\\item 'Lower\\_Right\\_Abd\\_Pain'\n",
       "\\item 'Contralateral\\_Rebound\\_Tenderness'\n",
       "\\item 'Coughing\\_Pain'\n",
       "\\item 'Nausea'\n",
       "\\item 'Loss\\_of\\_Appetite'\n",
       "\\item 'Body\\_Temperature'\n",
       "\\item 'WBC\\_Count'\n",
       "\\item 'Neutrophil\\_Percentage'\n",
       "\\item 'Neutrophilia'\n",
       "\\item 'RBC\\_Count'\n",
       "\\item 'Hemoglobin'\n",
       "\\item 'RDW'\n",
       "\\item 'Thrombocyte\\_Count'\n",
       "\\item 'CRP'\n",
       "\\item 'Dysuria'\n",
       "\\item 'Stool'\n",
       "\\item 'Peritonitis'\n",
       "\\item 'Psoas\\_Sign'\n",
       "\\item 'US\\_Performed'\n",
       "\\item 'US\\_Number'\n",
       "\\item 'Free\\_Fluids'\n",
       "\\item 'Diagnosis'\n",
       "\\end{enumerate*}\n"
      ],
      "text/markdown": [
       "1. 'Age'\n",
       "2. 'BMI'\n",
       "3. 'Sex'\n",
       "4. 'Height'\n",
       "5. 'Weight'\n",
       "6. 'Length_of_Stay'\n",
       "7. 'Diagnosis_Presumptive'\n",
       "8. 'Alvarado_Score'\n",
       "9. 'Paedriatic_Appendicitis_Score'\n",
       "10. 'Appendix_on_US'\n",
       "11. 'Migratory_Pain'\n",
       "12. 'Lower_Right_Abd_Pain'\n",
       "13. 'Contralateral_Rebound_Tenderness'\n",
       "14. 'Coughing_Pain'\n",
       "15. 'Nausea'\n",
       "16. 'Loss_of_Appetite'\n",
       "17. 'Body_Temperature'\n",
       "18. 'WBC_Count'\n",
       "19. 'Neutrophil_Percentage'\n",
       "20. 'Neutrophilia'\n",
       "21. 'RBC_Count'\n",
       "22. 'Hemoglobin'\n",
       "23. 'RDW'\n",
       "24. 'Thrombocyte_Count'\n",
       "25. 'CRP'\n",
       "26. 'Dysuria'\n",
       "27. 'Stool'\n",
       "28. 'Peritonitis'\n",
       "29. 'Psoas_Sign'\n",
       "30. 'US_Performed'\n",
       "31. 'US_Number'\n",
       "32. 'Free_Fluids'\n",
       "33. 'Diagnosis'\n",
       "\n",
       "\n"
      ],
      "text/plain": [
       " [1] \"Age\"                              \"BMI\"                             \n",
       " [3] \"Sex\"                              \"Height\"                          \n",
       " [5] \"Weight\"                           \"Length_of_Stay\"                  \n",
       " [7] \"Diagnosis_Presumptive\"            \"Alvarado_Score\"                  \n",
       " [9] \"Paedriatic_Appendicitis_Score\"    \"Appendix_on_US\"                  \n",
       "[11] \"Migratory_Pain\"                   \"Lower_Right_Abd_Pain\"            \n",
       "[13] \"Contralateral_Rebound_Tenderness\" \"Coughing_Pain\"                   \n",
       "[15] \"Nausea\"                           \"Loss_of_Appetite\"                \n",
       "[17] \"Body_Temperature\"                 \"WBC_Count\"                       \n",
       "[19] \"Neutrophil_Percentage\"            \"Neutrophilia\"                    \n",
       "[21] \"RBC_Count\"                        \"Hemoglobin\"                      \n",
       "[23] \"RDW\"                              \"Thrombocyte_Count\"               \n",
       "[25] \"CRP\"                              \"Dysuria\"                         \n",
       "[27] \"Stool\"                            \"Peritonitis\"                     \n",
       "[29] \"Psoas_Sign\"                       \"US_Performed\"                    \n",
       "[31] \"US_Number\"                        \"Free_Fluids\"                     \n",
       "[33] \"Diagnosis\"                       "
      ]
     },
     "metadata": {},
     "output_type": "display_data"
    },
    {
     "data": {
      "text/html": [
       "<table class=\"dataframe\">\n",
       "<caption>A tibble: 6 × 33</caption>\n",
       "<thead>\n",
       "\t<tr><th scope=col>Age</th><th scope=col>BMI</th><th scope=col>Sex</th><th scope=col>Height</th><th scope=col>Weight</th><th scope=col>Length_of_Stay</th><th scope=col>Diagnosis_Presumptive</th><th scope=col>Alvarado_Score</th><th scope=col>Paedriatic_Appendicitis_Score</th><th scope=col>Appendix_on_US</th><th scope=col>⋯</th><th scope=col>Thrombocyte_Count</th><th scope=col>CRP</th><th scope=col>Dysuria</th><th scope=col>Stool</th><th scope=col>Peritonitis</th><th scope=col>Psoas_Sign</th><th scope=col>US_Performed</th><th scope=col>US_Number</th><th scope=col>Free_Fluids</th><th scope=col>Diagnosis</th></tr>\n",
       "\t<tr><th scope=col>&lt;dbl&gt;</th><th scope=col>&lt;chr&gt;</th><th scope=col>&lt;chr&gt;</th><th scope=col>&lt;dbl&gt;</th><th scope=col>&lt;dbl&gt;</th><th scope=col>&lt;dbl&gt;</th><th scope=col>&lt;chr&gt;</th><th scope=col>&lt;dbl&gt;</th><th scope=col>&lt;dbl&gt;</th><th scope=col>&lt;chr&gt;</th><th scope=col>⋯</th><th scope=col>&lt;dbl&gt;</th><th scope=col>&lt;dbl&gt;</th><th scope=col>&lt;chr&gt;</th><th scope=col>&lt;chr&gt;</th><th scope=col>&lt;chr&gt;</th><th scope=col>&lt;chr&gt;</th><th scope=col>&lt;chr&gt;</th><th scope=col>&lt;dbl&gt;</th><th scope=col>&lt;chr&gt;</th><th scope=col>&lt;chr&gt;</th></tr>\n",
       "</thead>\n",
       "<tbody>\n",
       "\t<tr><td>12.68</td><td>16.899999999999999</td><td>female</td><td>148</td><td>37.0</td><td>3</td><td>appendicitis</td><td>4</td><td>3</td><td>yes</td><td>⋯</td><td>254</td><td> 0</td><td>no </td><td>normal      </td><td>no</td><td>yes</td><td>yes</td><td>882</td><td>no</td><td>appendicitis   </td></tr>\n",
       "\t<tr><td>14.10</td><td>31.9              </td><td>male  </td><td>147</td><td>69.5</td><td>2</td><td>appendicitis</td><td>5</td><td>4</td><td>no </td><td>⋯</td><td>151</td><td> 3</td><td>yes</td><td>normal      </td><td>no</td><td>yes</td><td>yes</td><td>883</td><td>no</td><td>no appendicitis</td></tr>\n",
       "\t<tr><td>14.14</td><td>23.3              </td><td>female</td><td>163</td><td>62.0</td><td>4</td><td>appendicitis</td><td>5</td><td>3</td><td>no </td><td>⋯</td><td>300</td><td> 3</td><td>no </td><td>constipation</td><td>no</td><td>yes</td><td>yes</td><td>884</td><td>no</td><td>no appendicitis</td></tr>\n",
       "\t<tr><td>16.37</td><td>20.6              </td><td>female</td><td>165</td><td>56.0</td><td>3</td><td>appendicitis</td><td>7</td><td>6</td><td>no </td><td>⋯</td><td>258</td><td> 0</td><td>yes</td><td>normal      </td><td>no</td><td>yes</td><td>yes</td><td>886</td><td>no</td><td>no appendicitis</td></tr>\n",
       "\t<tr><td>11.08</td><td>16.899999999999999</td><td>female</td><td>163</td><td>45.0</td><td>3</td><td>appendicitis</td><td>5</td><td>6</td><td>yes</td><td>⋯</td><td>311</td><td> 0</td><td>no </td><td>constipation</td><td>no</td><td>yes</td><td>yes</td><td>887</td><td>no</td><td>appendicitis   </td></tr>\n",
       "\t<tr><td>11.05</td><td>30.7              </td><td>male  </td><td>121</td><td>45.0</td><td>3</td><td>appendicitis</td><td>6</td><td>7</td><td>no </td><td>⋯</td><td>249</td><td>63</td><td>no </td><td>diarrhea    </td><td>no</td><td>yes</td><td>yes</td><td>888</td><td>no</td><td>no appendicitis</td></tr>\n",
       "</tbody>\n",
       "</table>\n"
      ],
      "text/latex": [
       "A tibble: 6 × 33\n",
       "\\begin{tabular}{lllllllllllllllllllll}\n",
       " Age & BMI & Sex & Height & Weight & Length\\_of\\_Stay & Diagnosis\\_Presumptive & Alvarado\\_Score & Paedriatic\\_Appendicitis\\_Score & Appendix\\_on\\_US & ⋯ & Thrombocyte\\_Count & CRP & Dysuria & Stool & Peritonitis & Psoas\\_Sign & US\\_Performed & US\\_Number & Free\\_Fluids & Diagnosis\\\\\n",
       " <dbl> & <chr> & <chr> & <dbl> & <dbl> & <dbl> & <chr> & <dbl> & <dbl> & <chr> & ⋯ & <dbl> & <dbl> & <chr> & <chr> & <chr> & <chr> & <chr> & <dbl> & <chr> & <chr>\\\\\n",
       "\\hline\n",
       "\t 12.68 & 16.899999999999999 & female & 148 & 37.0 & 3 & appendicitis & 4 & 3 & yes & ⋯ & 254 &  0 & no  & normal       & no & yes & yes & 882 & no & appendicitis   \\\\\n",
       "\t 14.10 & 31.9               & male   & 147 & 69.5 & 2 & appendicitis & 5 & 4 & no  & ⋯ & 151 &  3 & yes & normal       & no & yes & yes & 883 & no & no appendicitis\\\\\n",
       "\t 14.14 & 23.3               & female & 163 & 62.0 & 4 & appendicitis & 5 & 3 & no  & ⋯ & 300 &  3 & no  & constipation & no & yes & yes & 884 & no & no appendicitis\\\\\n",
       "\t 16.37 & 20.6               & female & 165 & 56.0 & 3 & appendicitis & 7 & 6 & no  & ⋯ & 258 &  0 & yes & normal       & no & yes & yes & 886 & no & no appendicitis\\\\\n",
       "\t 11.08 & 16.899999999999999 & female & 163 & 45.0 & 3 & appendicitis & 5 & 6 & yes & ⋯ & 311 &  0 & no  & constipation & no & yes & yes & 887 & no & appendicitis   \\\\\n",
       "\t 11.05 & 30.7               & male   & 121 & 45.0 & 3 & appendicitis & 6 & 7 & no  & ⋯ & 249 & 63 & no  & diarrhea     & no & yes & yes & 888 & no & no appendicitis\\\\\n",
       "\\end{tabular}\n"
      ],
      "text/markdown": [
       "\n",
       "A tibble: 6 × 33\n",
       "\n",
       "| Age &lt;dbl&gt; | BMI &lt;chr&gt; | Sex &lt;chr&gt; | Height &lt;dbl&gt; | Weight &lt;dbl&gt; | Length_of_Stay &lt;dbl&gt; | Diagnosis_Presumptive &lt;chr&gt; | Alvarado_Score &lt;dbl&gt; | Paedriatic_Appendicitis_Score &lt;dbl&gt; | Appendix_on_US &lt;chr&gt; | ⋯ ⋯ | Thrombocyte_Count &lt;dbl&gt; | CRP &lt;dbl&gt; | Dysuria &lt;chr&gt; | Stool &lt;chr&gt; | Peritonitis &lt;chr&gt; | Psoas_Sign &lt;chr&gt; | US_Performed &lt;chr&gt; | US_Number &lt;dbl&gt; | Free_Fluids &lt;chr&gt; | Diagnosis &lt;chr&gt; |\n",
       "|---|---|---|---|---|---|---|---|---|---|---|---|---|---|---|---|---|---|---|---|---|\n",
       "| 12.68 | 16.899999999999999 | female | 148 | 37.0 | 3 | appendicitis | 4 | 3 | yes | ⋯ | 254 |  0 | no  | normal       | no | yes | yes | 882 | no | appendicitis    |\n",
       "| 14.10 | 31.9               | male   | 147 | 69.5 | 2 | appendicitis | 5 | 4 | no  | ⋯ | 151 |  3 | yes | normal       | no | yes | yes | 883 | no | no appendicitis |\n",
       "| 14.14 | 23.3               | female | 163 | 62.0 | 4 | appendicitis | 5 | 3 | no  | ⋯ | 300 |  3 | no  | constipation | no | yes | yes | 884 | no | no appendicitis |\n",
       "| 16.37 | 20.6               | female | 165 | 56.0 | 3 | appendicitis | 7 | 6 | no  | ⋯ | 258 |  0 | yes | normal       | no | yes | yes | 886 | no | no appendicitis |\n",
       "| 11.08 | 16.899999999999999 | female | 163 | 45.0 | 3 | appendicitis | 5 | 6 | yes | ⋯ | 311 |  0 | no  | constipation | no | yes | yes | 887 | no | appendicitis    |\n",
       "| 11.05 | 30.7               | male   | 121 | 45.0 | 3 | appendicitis | 6 | 7 | no  | ⋯ | 249 | 63 | no  | diarrhea     | no | yes | yes | 888 | no | no appendicitis |\n",
       "\n"
      ],
      "text/plain": [
       "  Age   BMI                Sex    Height Weight Length_of_Stay\n",
       "1 12.68 16.899999999999999 female 148    37.0   3             \n",
       "2 14.10 31.9               male   147    69.5   2             \n",
       "3 14.14 23.3               female 163    62.0   4             \n",
       "4 16.37 20.6               female 165    56.0   3             \n",
       "5 11.08 16.899999999999999 female 163    45.0   3             \n",
       "6 11.05 30.7               male   121    45.0   3             \n",
       "  Diagnosis_Presumptive Alvarado_Score Paedriatic_Appendicitis_Score\n",
       "1 appendicitis          4              3                            \n",
       "2 appendicitis          5              4                            \n",
       "3 appendicitis          5              3                            \n",
       "4 appendicitis          7              6                            \n",
       "5 appendicitis          5              6                            \n",
       "6 appendicitis          6              7                            \n",
       "  Appendix_on_US ⋯ Thrombocyte_Count CRP Dysuria Stool        Peritonitis\n",
       "1 yes            ⋯ 254                0  no      normal       no         \n",
       "2 no             ⋯ 151                3  yes     normal       no         \n",
       "3 no             ⋯ 300                3  no      constipation no         \n",
       "4 no             ⋯ 258                0  yes     normal       no         \n",
       "5 yes            ⋯ 311                0  no      constipation no         \n",
       "6 no             ⋯ 249               63  no      diarrhea     no         \n",
       "  Psoas_Sign US_Performed US_Number Free_Fluids Diagnosis      \n",
       "1 yes        yes          882       no          appendicitis   \n",
       "2 yes        yes          883       no          no appendicitis\n",
       "3 yes        yes          884       no          no appendicitis\n",
       "4 yes        yes          886       no          no appendicitis\n",
       "5 yes        yes          887       no          appendicitis   \n",
       "6 yes        yes          888       no          no appendicitis"
      ]
     },
     "metadata": {},
     "output_type": "display_data"
    }
   ],
   "source": [
    "#Only keep columns with less than 20% NA values.\n",
    "selected_features <- NA_percentage %>% \n",
    "                        select_if(~all(. < 20)) %>% \n",
    "                        colnames()\n",
    "\n",
    "#Remove other two target columns and only keep \"Diagnosis\" as our target column. Also put the target column at the end.\n",
    "selected_features <- c(selected_features[-c(7,8, 10)], selected_features[10])\n",
    "selected_features\n",
    "\n",
    "df_clean <- df[,selected_features]\n",
    "head(df_clean)"
   ]
  },
  {
   "cell_type": "markdown",
   "id": "fde03493-978f-443e-a9e3-d8540318d7b1",
   "metadata": {},
   "source": [
    "Checking out the entire dataframe value types in one glance."
   ]
  },
  {
   "cell_type": "code",
   "execution_count": 5,
   "id": "f8b98871-e2d8-4a3f-898e-299537cf6a7f",
   "metadata": {},
   "outputs": [
    {
     "name": "stdout",
     "output_type": "stream",
     "text": [
      "tibble [782 × 33] (S3: tbl_df/tbl/data.frame)\n",
      " $ Age                             : num [1:782] 12.7 14.1 14.1 16.4 11.1 ...\n",
      " $ BMI                             : chr [1:782] \"16.899999999999999\" \"31.9\" \"23.3\" \"20.6\" ...\n",
      " $ Sex                             : chr [1:782] \"female\" \"male\" \"female\" \"female\" ...\n",
      " $ Height                          : num [1:782] 148 147 163 165 163 121 140 NA 131 174 ...\n",
      " $ Weight                          : num [1:782] 37 69.5 62 56 45 45 38.5 21.5 26.7 45.5 ...\n",
      " $ Length_of_Stay                  : num [1:782] 3 2 4 3 3 3 3 2 3 3 ...\n",
      " $ Diagnosis_Presumptive           : chr [1:782] \"appendicitis\" \"appendicitis\" \"appendicitis\" \"appendicitis\" ...\n",
      " $ Alvarado_Score                  : num [1:782] 4 5 5 7 5 6 5 3 7 4 ...\n",
      " $ Paedriatic_Appendicitis_Score   : num [1:782] 3 4 3 6 6 7 6 3 6 4 ...\n",
      " $ Appendix_on_US                  : chr [1:782] \"yes\" \"no\" \"no\" \"no\" ...\n",
      " $ Migratory_Pain                  : chr [1:782] \"no\" \"yes\" \"no\" \"yes\" ...\n",
      " $ Lower_Right_Abd_Pain            : chr [1:782] \"yes\" \"yes\" \"yes\" \"yes\" ...\n",
      " $ Contralateral_Rebound_Tenderness: chr [1:782] \"yes\" \"yes\" \"yes\" \"no\" ...\n",
      " $ Coughing_Pain                   : chr [1:782] \"no\" \"no\" \"no\" \"no\" ...\n",
      " $ Nausea                          : chr [1:782] \"no\" \"no\" \"no\" \"yes\" ...\n",
      " $ Loss_of_Appetite                : chr [1:782] \"yes\" \"yes\" \"no\" \"yes\" ...\n",
      " $ Body_Temperature                : num [1:782] 37 36.9 36.6 36 36.9 36.9 36.7 36.8 37.3 37.1 ...\n",
      " $ WBC_Count                       : num [1:782] 7.7 8.1 13.2 11.4 8.1 9.5 10 8 20.9 5.8 ...\n",
      " $ Neutrophil_Percentage           : num [1:782] 68.2 64.8 74.8 63 44 71.4 69.1 79.6 76 47.2 ...\n",
      " $ Neutrophilia                    : chr [1:782] \"no\" \"no\" \"no\" \"no\" ...\n",
      " $ RBC_Count                       : num [1:782] 5.27 5.26 3.98 4.64 4.44 4.96 4.77 4.89 4.61 4.78 ...\n",
      " $ Hemoglobin                      : num [1:782] 14.8 15.7 11.4 13.6 12.6 12.5 12.7 12 13.4 12.9 ...\n",
      " $ RDW                             : num [1:782] 12.2 12.7 12.2 13.2 13.6 13.3 12.6 13.9 12 12.6 ...\n",
      " $ Thrombocyte_Count               : num [1:782] 254 151 300 258 311 249 337 412 350 220 ...\n",
      " $ CRP                             : num [1:782] 0 3 3 0 0 63 9 0 20 0 ...\n",
      " $ Dysuria                         : chr [1:782] \"no\" \"yes\" \"no\" \"yes\" ...\n",
      " $ Stool                           : chr [1:782] \"normal\" \"normal\" \"constipation\" \"normal\" ...\n",
      " $ Peritonitis                     : chr [1:782] \"no\" \"no\" \"no\" \"no\" ...\n",
      " $ Psoas_Sign                      : chr [1:782] \"yes\" \"yes\" \"yes\" \"yes\" ...\n",
      " $ US_Performed                    : chr [1:782] \"yes\" \"yes\" \"yes\" \"yes\" ...\n",
      " $ US_Number                       : num [1:782] 882 883 884 886 887 888 889 890 891 893 ...\n",
      " $ Free_Fluids                     : chr [1:782] \"no\" \"no\" \"no\" \"no\" ...\n",
      " $ Diagnosis                       : chr [1:782] \"appendicitis\" \"no appendicitis\" \"no appendicitis\" \"no appendicitis\" ...\n"
     ]
    }
   ],
   "source": [
    "str(df_clean)"
   ]
  },
  {
   "cell_type": "markdown",
   "id": "cbc8138b-c63b-4f53-a958-36465b769142",
   "metadata": {},
   "source": [
    "<font size=\"5\"> **Description of variables**</font>"
   ]
  },
  {
   "cell_type": "code",
   "execution_count": 6,
   "id": "4f6d272e-4155-45dc-a07b-6967fa4ca87b",
   "metadata": {},
   "outputs": [],
   "source": [
    "#Create a table of variables and their description.\n",
    "var_description = data.frame(Description = character(33), row.names = colnames(df_clean))\n",
    "var_description$Description= c(\"Obtained from the date of birth\", \n",
    "\"Measures body fat\",\n",
    "  \"Registered gender\", \n",
    "  \"Patient's height\",\n",
    "   \"Patient's weight\", \n",
    "   \"Length of the stay in the hospital\",\n",
    "  \"Patient's suspected diagnosis\",\n",
    "  \"Patient's score according to the scoring system\",\n",
    "  \"Patient's score according to the scoring system\",\n",
    "  \"Detectability of the vermiform appendix during sonographic examination\",\n",
    "  \"Abdominal pain; usually starts in epigastrium and moves to the right lower quadrant\",\n",
    "  \"Right iliac fossa pain detected on palpation\", \n",
    "   \"A state in which pain of the contralateral side (usually, the right lower quadrant) is felt on the release of pressure (usually, in the left lower quadrant) over the abdomen\",\n",
    "  \"Abdominal pain by forced cough\", \n",
    "  \"Feeling of sickness/ejection of contents from stomach through the mouth\", \n",
    "  \"\", \n",
    "  \"Measured by a thermometer placed in the rectum or in the auditory canal\",\n",
    "  \"The number of leucocytes in a unit volume of blood; inflammation parameter\",\n",
    "  \"Mature WBC in the granulocytic series\", \n",
    "  \"Relative neutrophilic leucocytosis, often a result of a bacterial infection\", \n",
    "  \"The number of erythrocytes in a unit volume of blood\",\n",
    "  \"Hemoglobin level; a red protein in the red blood cells that contains iron and is responsible for transporting oxygen\", \n",
    "  \"A blood test that measures the differences in the volume and size of the erythrocytes\", \n",
    "  \"The number of platelets in a unit volume of blood\", \n",
    "\"Protein produced by the liver, elevated in case of inflammation, infection, or injury\", \n",
    "\"Pain or other difficulty during urination\",\n",
    " \"Characteristics of bowel movements\", \n",
    "\"Spasm of abdominal wall muscles detected on palpation, usually a result of inflammation\", \n",
    "\"Abdominal pain produced by extension of the hip\", \n",
    "\"If an abdominal ultrasonography was performed or not\",\n",
    "\"\", \n",
    "\"Free fluids inside the abdomen\",\n",
    "\"(TARGET)Patient's diagnosis, histologically confirmed for operated patients. Conservatively managed patients were labelled as having appendicitis if they had an AS or PAS of ≥ 4 and an appendix diameter of ≥ 6 mm\")\n"
   ]
  },
  {
   "cell_type": "code",
   "execution_count": 7,
   "id": "81668f8f-e95d-4505-8158-ff1f66df1531",
   "metadata": {},
   "outputs": [
    {
     "data": {
      "text/html": [
       "<table class=\"dataframe\">\n",
       "<caption>A data.frame: 33 × 1</caption>\n",
       "<thead>\n",
       "\t<tr><th></th><th scope=col>Description</th></tr>\n",
       "\t<tr><th></th><th scope=col>&lt;chr&gt;</th></tr>\n",
       "</thead>\n",
       "<tbody>\n",
       "\t<tr><th scope=row>Age</th><td>Obtained from the date of birth                                                                                                                                                                                     </td></tr>\n",
       "\t<tr><th scope=row>BMI</th><td>Measures body fat                                                                                                                                                                                                   </td></tr>\n",
       "\t<tr><th scope=row>Sex</th><td>Registered gender                                                                                                                                                                                                   </td></tr>\n",
       "\t<tr><th scope=row>Height</th><td>Patient's height                                                                                                                                                                                                    </td></tr>\n",
       "\t<tr><th scope=row>Weight</th><td>Patient's weight                                                                                                                                                                                                    </td></tr>\n",
       "\t<tr><th scope=row>Length_of_Stay</th><td>Length of the stay in the hospital                                                                                                                                                                                  </td></tr>\n",
       "\t<tr><th scope=row>Diagnosis_Presumptive</th><td>Patient's suspected diagnosis                                                                                                                                                                                       </td></tr>\n",
       "\t<tr><th scope=row>Alvarado_Score</th><td>Patient's score according to the scoring system                                                                                                                                                                     </td></tr>\n",
       "\t<tr><th scope=row>Paedriatic_Appendicitis_Score</th><td>Patient's score according to the scoring system                                                                                                                                                                     </td></tr>\n",
       "\t<tr><th scope=row>Appendix_on_US</th><td>Detectability of the vermiform appendix during sonographic examination                                                                                                                                              </td></tr>\n",
       "\t<tr><th scope=row>Migratory_Pain</th><td>Abdominal pain; usually starts in epigastrium and moves to the right lower quadrant                                                                                                                                 </td></tr>\n",
       "\t<tr><th scope=row>Lower_Right_Abd_Pain</th><td>Right iliac fossa pain detected on palpation                                                                                                                                                                        </td></tr>\n",
       "\t<tr><th scope=row>Contralateral_Rebound_Tenderness</th><td>A state in which pain of the contralateral side (usually, the right lower quadrant) is felt on the release of pressure (usually, in the left lower quadrant) over the abdomen                                       </td></tr>\n",
       "\t<tr><th scope=row>Coughing_Pain</th><td>Abdominal pain by forced cough                                                                                                                                                                                      </td></tr>\n",
       "\t<tr><th scope=row>Nausea</th><td>Feeling of sickness/ejection of contents from stomach through the mouth                                                                                                                                             </td></tr>\n",
       "\t<tr><th scope=row>Loss_of_Appetite</th><td>                                                                                                                                                                                                                    </td></tr>\n",
       "\t<tr><th scope=row>Body_Temperature</th><td>Measured by a thermometer placed in the rectum or in the auditory canal                                                                                                                                             </td></tr>\n",
       "\t<tr><th scope=row>WBC_Count</th><td>The number of leucocytes in a unit volume of blood; inflammation parameter                                                                                                                                          </td></tr>\n",
       "\t<tr><th scope=row>Neutrophil_Percentage</th><td>Mature WBC in the granulocytic series                                                                                                                                                                               </td></tr>\n",
       "\t<tr><th scope=row>Neutrophilia</th><td>Relative neutrophilic leucocytosis, often a result of a bacterial infection                                                                                                                                         </td></tr>\n",
       "\t<tr><th scope=row>RBC_Count</th><td>The number of erythrocytes in a unit volume of blood                                                                                                                                                                </td></tr>\n",
       "\t<tr><th scope=row>Hemoglobin</th><td>Hemoglobin level; a red protein in the red blood cells that contains iron and is responsible for transporting oxygen                                                                                                </td></tr>\n",
       "\t<tr><th scope=row>RDW</th><td>A blood test that measures the differences in the volume and size of the erythrocytes                                                                                                                               </td></tr>\n",
       "\t<tr><th scope=row>Thrombocyte_Count</th><td>The number of platelets in a unit volume of blood                                                                                                                                                                   </td></tr>\n",
       "\t<tr><th scope=row>CRP</th><td>Protein produced by the liver, elevated in case of inflammation, infection, or injury                                                                                                                               </td></tr>\n",
       "\t<tr><th scope=row>Dysuria</th><td>Pain or other difficulty during urination                                                                                                                                                                           </td></tr>\n",
       "\t<tr><th scope=row>Stool</th><td>Characteristics of bowel movements                                                                                                                                                                                  </td></tr>\n",
       "\t<tr><th scope=row>Peritonitis</th><td>Spasm of abdominal wall muscles detected on palpation, usually a result of inflammation                                                                                                                             </td></tr>\n",
       "\t<tr><th scope=row>Psoas_Sign</th><td>Abdominal pain produced by extension of the hip                                                                                                                                                                     </td></tr>\n",
       "\t<tr><th scope=row>US_Performed</th><td>If an abdominal ultrasonography was performed or not                                                                                                                                                                </td></tr>\n",
       "\t<tr><th scope=row>US_Number</th><td>                                                                                                                                                                                                                    </td></tr>\n",
       "\t<tr><th scope=row>Free_Fluids</th><td>Free fluids inside the abdomen                                                                                                                                                                                      </td></tr>\n",
       "\t<tr><th scope=row>Diagnosis</th><td>(TARGET)Patient's diagnosis, histologically confirmed for operated patients. Conservatively managed patients were labelled as having appendicitis if they had an AS or PAS of ≥ 4 and an appendix diameter of ≥ 6 mm</td></tr>\n",
       "</tbody>\n",
       "</table>\n"
      ],
      "text/latex": [
       "A data.frame: 33 × 1\n",
       "\\begin{tabular}{r|l}\n",
       "  & Description\\\\\n",
       "  & <chr>\\\\\n",
       "\\hline\n",
       "\tAge & Obtained from the date of birth                                                                                                                                                                                     \\\\\n",
       "\tBMI & Measures body fat                                                                                                                                                                                                   \\\\\n",
       "\tSex & Registered gender                                                                                                                                                                                                   \\\\\n",
       "\tHeight & Patient's height                                                                                                                                                                                                    \\\\\n",
       "\tWeight & Patient's weight                                                                                                                                                                                                    \\\\\n",
       "\tLength\\_of\\_Stay & Length of the stay in the hospital                                                                                                                                                                                  \\\\\n",
       "\tDiagnosis\\_Presumptive & Patient's suspected diagnosis                                                                                                                                                                                       \\\\\n",
       "\tAlvarado\\_Score & Patient's score according to the scoring system                                                                                                                                                                     \\\\\n",
       "\tPaedriatic\\_Appendicitis\\_Score & Patient's score according to the scoring system                                                                                                                                                                     \\\\\n",
       "\tAppendix\\_on\\_US & Detectability of the vermiform appendix during sonographic examination                                                                                                                                              \\\\\n",
       "\tMigratory\\_Pain & Abdominal pain; usually starts in epigastrium and moves to the right lower quadrant                                                                                                                                 \\\\\n",
       "\tLower\\_Right\\_Abd\\_Pain & Right iliac fossa pain detected on palpation                                                                                                                                                                        \\\\\n",
       "\tContralateral\\_Rebound\\_Tenderness & A state in which pain of the contralateral side (usually, the right lower quadrant) is felt on the release of pressure (usually, in the left lower quadrant) over the abdomen                                       \\\\\n",
       "\tCoughing\\_Pain & Abdominal pain by forced cough                                                                                                                                                                                      \\\\\n",
       "\tNausea & Feeling of sickness/ejection of contents from stomach through the mouth                                                                                                                                             \\\\\n",
       "\tLoss\\_of\\_Appetite &                                                                                                                                                                                                                     \\\\\n",
       "\tBody\\_Temperature & Measured by a thermometer placed in the rectum or in the auditory canal                                                                                                                                             \\\\\n",
       "\tWBC\\_Count & The number of leucocytes in a unit volume of blood; inflammation parameter                                                                                                                                          \\\\\n",
       "\tNeutrophil\\_Percentage & Mature WBC in the granulocytic series                                                                                                                                                                               \\\\\n",
       "\tNeutrophilia & Relative neutrophilic leucocytosis, often a result of a bacterial infection                                                                                                                                         \\\\\n",
       "\tRBC\\_Count & The number of erythrocytes in a unit volume of blood                                                                                                                                                                \\\\\n",
       "\tHemoglobin & Hemoglobin level; a red protein in the red blood cells that contains iron and is responsible for transporting oxygen                                                                                                \\\\\n",
       "\tRDW & A blood test that measures the differences in the volume and size of the erythrocytes                                                                                                                               \\\\\n",
       "\tThrombocyte\\_Count & The number of platelets in a unit volume of blood                                                                                                                                                                   \\\\\n",
       "\tCRP & Protein produced by the liver, elevated in case of inflammation, infection, or injury                                                                                                                               \\\\\n",
       "\tDysuria & Pain or other difficulty during urination                                                                                                                                                                           \\\\\n",
       "\tStool & Characteristics of bowel movements                                                                                                                                                                                  \\\\\n",
       "\tPeritonitis & Spasm of abdominal wall muscles detected on palpation, usually a result of inflammation                                                                                                                             \\\\\n",
       "\tPsoas\\_Sign & Abdominal pain produced by extension of the hip                                                                                                                                                                     \\\\\n",
       "\tUS\\_Performed & If an abdominal ultrasonography was performed or not                                                                                                                                                                \\\\\n",
       "\tUS\\_Number &                                                                                                                                                                                                                     \\\\\n",
       "\tFree\\_Fluids & Free fluids inside the abdomen                                                                                                                                                                                      \\\\\n",
       "\tDiagnosis & (TARGET)Patient's diagnosis, histologically confirmed for operated patients. Conservatively managed patients were labelled as having appendicitis if they had an AS or PAS of ≥ 4 and an appendix diameter of ≥ 6 mm\\\\\n",
       "\\end{tabular}\n"
      ],
      "text/markdown": [
       "\n",
       "A data.frame: 33 × 1\n",
       "\n",
       "| <!--/--> | Description &lt;chr&gt; |\n",
       "|---|---|\n",
       "| Age | Obtained from the date of birth                                                                                                                                                                                      |\n",
       "| BMI | Measures body fat                                                                                                                                                                                                    |\n",
       "| Sex | Registered gender                                                                                                                                                                                                    |\n",
       "| Height | Patient's height                                                                                                                                                                                                     |\n",
       "| Weight | Patient's weight                                                                                                                                                                                                     |\n",
       "| Length_of_Stay | Length of the stay in the hospital                                                                                                                                                                                   |\n",
       "| Diagnosis_Presumptive | Patient's suspected diagnosis                                                                                                                                                                                        |\n",
       "| Alvarado_Score | Patient's score according to the scoring system                                                                                                                                                                      |\n",
       "| Paedriatic_Appendicitis_Score | Patient's score according to the scoring system                                                                                                                                                                      |\n",
       "| Appendix_on_US | Detectability of the vermiform appendix during sonographic examination                                                                                                                                               |\n",
       "| Migratory_Pain | Abdominal pain; usually starts in epigastrium and moves to the right lower quadrant                                                                                                                                  |\n",
       "| Lower_Right_Abd_Pain | Right iliac fossa pain detected on palpation                                                                                                                                                                         |\n",
       "| Contralateral_Rebound_Tenderness | A state in which pain of the contralateral side (usually, the right lower quadrant) is felt on the release of pressure (usually, in the left lower quadrant) over the abdomen                                        |\n",
       "| Coughing_Pain | Abdominal pain by forced cough                                                                                                                                                                                       |\n",
       "| Nausea | Feeling of sickness/ejection of contents from stomach through the mouth                                                                                                                                              |\n",
       "| Loss_of_Appetite | <!----> |\n",
       "| Body_Temperature | Measured by a thermometer placed in the rectum or in the auditory canal                                                                                                                                              |\n",
       "| WBC_Count | The number of leucocytes in a unit volume of blood; inflammation parameter                                                                                                                                           |\n",
       "| Neutrophil_Percentage | Mature WBC in the granulocytic series                                                                                                                                                                                |\n",
       "| Neutrophilia | Relative neutrophilic leucocytosis, often a result of a bacterial infection                                                                                                                                          |\n",
       "| RBC_Count | The number of erythrocytes in a unit volume of blood                                                                                                                                                                 |\n",
       "| Hemoglobin | Hemoglobin level; a red protein in the red blood cells that contains iron and is responsible for transporting oxygen                                                                                                 |\n",
       "| RDW | A blood test that measures the differences in the volume and size of the erythrocytes                                                                                                                                |\n",
       "| Thrombocyte_Count | The number of platelets in a unit volume of blood                                                                                                                                                                    |\n",
       "| CRP | Protein produced by the liver, elevated in case of inflammation, infection, or injury                                                                                                                                |\n",
       "| Dysuria | Pain or other difficulty during urination                                                                                                                                                                            |\n",
       "| Stool | Characteristics of bowel movements                                                                                                                                                                                   |\n",
       "| Peritonitis | Spasm of abdominal wall muscles detected on palpation, usually a result of inflammation                                                                                                                              |\n",
       "| Psoas_Sign | Abdominal pain produced by extension of the hip                                                                                                                                                                      |\n",
       "| US_Performed | If an abdominal ultrasonography was performed or not                                                                                                                                                                 |\n",
       "| US_Number | <!----> |\n",
       "| Free_Fluids | Free fluids inside the abdomen                                                                                                                                                                                       |\n",
       "| Diagnosis | (TARGET)Patient's diagnosis, histologically confirmed for operated patients. Conservatively managed patients were labelled as having appendicitis if they had an AS or PAS of ≥ 4 and an appendix diameter of ≥ 6 mm |\n",
       "\n"
      ],
      "text/plain": [
       "                                 Description                                                                                                                                                                                                         \n",
       "Age                              Obtained from the date of birth                                                                                                                                                                                     \n",
       "BMI                              Measures body fat                                                                                                                                                                                                   \n",
       "Sex                              Registered gender                                                                                                                                                                                                   \n",
       "Height                           Patient's height                                                                                                                                                                                                    \n",
       "Weight                           Patient's weight                                                                                                                                                                                                    \n",
       "Length_of_Stay                   Length of the stay in the hospital                                                                                                                                                                                  \n",
       "Diagnosis_Presumptive            Patient's suspected diagnosis                                                                                                                                                                                       \n",
       "Alvarado_Score                   Patient's score according to the scoring system                                                                                                                                                                     \n",
       "Paedriatic_Appendicitis_Score    Patient's score according to the scoring system                                                                                                                                                                     \n",
       "Appendix_on_US                   Detectability of the vermiform appendix during sonographic examination                                                                                                                                              \n",
       "Migratory_Pain                   Abdominal pain; usually starts in epigastrium and moves to the right lower quadrant                                                                                                                                 \n",
       "Lower_Right_Abd_Pain             Right iliac fossa pain detected on palpation                                                                                                                                                                        \n",
       "Contralateral_Rebound_Tenderness A state in which pain of the contralateral side (usually, the right lower quadrant) is felt on the release of pressure (usually, in the left lower quadrant) over the abdomen                                       \n",
       "Coughing_Pain                    Abdominal pain by forced cough                                                                                                                                                                                      \n",
       "Nausea                           Feeling of sickness/ejection of contents from stomach through the mouth                                                                                                                                             \n",
       "Loss_of_Appetite                                                                                                                                                                                                                                     \n",
       "Body_Temperature                 Measured by a thermometer placed in the rectum or in the auditory canal                                                                                                                                             \n",
       "WBC_Count                        The number of leucocytes in a unit volume of blood; inflammation parameter                                                                                                                                          \n",
       "Neutrophil_Percentage            Mature WBC in the granulocytic series                                                                                                                                                                               \n",
       "Neutrophilia                     Relative neutrophilic leucocytosis, often a result of a bacterial infection                                                                                                                                         \n",
       "RBC_Count                        The number of erythrocytes in a unit volume of blood                                                                                                                                                                \n",
       "Hemoglobin                       Hemoglobin level; a red protein in the red blood cells that contains iron and is responsible for transporting oxygen                                                                                                \n",
       "RDW                              A blood test that measures the differences in the volume and size of the erythrocytes                                                                                                                               \n",
       "Thrombocyte_Count                The number of platelets in a unit volume of blood                                                                                                                                                                   \n",
       "CRP                              Protein produced by the liver, elevated in case of inflammation, infection, or injury                                                                                                                               \n",
       "Dysuria                          Pain or other difficulty during urination                                                                                                                                                                           \n",
       "Stool                            Characteristics of bowel movements                                                                                                                                                                                  \n",
       "Peritonitis                      Spasm of abdominal wall muscles detected on palpation, usually a result of inflammation                                                                                                                             \n",
       "Psoas_Sign                       Abdominal pain produced by extension of the hip                                                                                                                                                                     \n",
       "US_Performed                     If an abdominal ultrasonography was performed or not                                                                                                                                                                \n",
       "US_Number                                                                                                                                                                                                                                            \n",
       "Free_Fluids                      Free fluids inside the abdomen                                                                                                                                                                                      \n",
       "Diagnosis                        (TARGET)Patient's diagnosis, histologically confirmed for operated patients. Conservatively managed patients were labelled as having appendicitis if they had an AS or PAS of ≥ 4 and an appendix diameter of ≥ 6 mm"
      ]
     },
     "metadata": {},
     "output_type": "display_data"
    }
   ],
   "source": [
    "var_description"
   ]
  },
  {
   "cell_type": "code",
   "execution_count": 8,
   "id": "ce2574ae-03c3-4a0f-aae8-f97076da6964",
   "metadata": {},
   "outputs": [],
   "source": [
    "#Eliminate the two rows that have null values for the target column.\n",
    "df_clean = df_clean[complete.cases(df_clean$Diagnosis),]"
   ]
  },
  {
   "cell_type": "markdown",
   "id": "e9c64188-27da-4cd3-9393-b906389f5cc5",
   "metadata": {},
   "source": [
    "<font size = \"5\"> **Some Data Exploratory Analysis** </font>"
   ]
  },
  {
   "cell_type": "code",
   "execution_count": 9,
   "id": "98788d07-341b-45d2-9145-63a308f98afb",
   "metadata": {},
   "outputs": [
    {
     "data": {
      "text/html": [
       "<table class=\"dataframe\">\n",
       "<caption>A tibble: 2 × 4</caption>\n",
       "<thead>\n",
       "\t<tr><th scope=col>Diagnosis</th><th scope=col>count</th><th scope=col>percentage</th><th scope=col>label</th></tr>\n",
       "\t<tr><th scope=col>&lt;chr&gt;</th><th scope=col>&lt;int&gt;</th><th scope=col>&lt;dbl&gt;</th><th scope=col>&lt;chr&gt;</th></tr>\n",
       "</thead>\n",
       "<tbody>\n",
       "\t<tr><td>appendicitis   </td><td>463</td><td>59.35897</td><td>463, 59%</td></tr>\n",
       "\t<tr><td>no appendicitis</td><td>317</td><td>40.64103</td><td>317, 41%</td></tr>\n",
       "</tbody>\n",
       "</table>\n"
      ],
      "text/latex": [
       "A tibble: 2 × 4\n",
       "\\begin{tabular}{llll}\n",
       " Diagnosis & count & percentage & label\\\\\n",
       " <chr> & <int> & <dbl> & <chr>\\\\\n",
       "\\hline\n",
       "\t appendicitis    & 463 & 59.35897 & 463, 59\\%\\\\\n",
       "\t no appendicitis & 317 & 40.64103 & 317, 41\\%\\\\\n",
       "\\end{tabular}\n"
      ],
      "text/markdown": [
       "\n",
       "A tibble: 2 × 4\n",
       "\n",
       "| Diagnosis &lt;chr&gt; | count &lt;int&gt; | percentage &lt;dbl&gt; | label &lt;chr&gt; |\n",
       "|---|---|---|---|\n",
       "| appendicitis    | 463 | 59.35897 | 463, 59% |\n",
       "| no appendicitis | 317 | 40.64103 | 317, 41% |\n",
       "\n"
      ],
      "text/plain": [
       "  Diagnosis       count percentage label   \n",
       "1 appendicitis    463   59.35897   463, 59%\n",
       "2 no appendicitis 317   40.64103   317, 41%"
      ]
     },
     "metadata": {},
     "output_type": "display_data"
    }
   ],
   "source": [
    "M_plot <- df_clean %>%\n",
    "        group_by(Diagnosis) %>%\n",
    "        summarise(count = n()) %>%\n",
    "        mutate(percentage = count * 100 / sum(count),\n",
    "               label = paste0(count, \", \", round(percentage), \"%\"))\n",
    "M_plot"
   ]
  },
  {
   "cell_type": "markdown",
   "id": "86890d54-8cc2-44d2-8d5b-312e9ec8ac40",
   "metadata": {},
   "source": [
    "**Distribution of the target variable classes**"
   ]
  },
  {
   "cell_type": "code",
   "execution_count": 10,
   "id": "aa7742ba-73c3-4e6a-aaf6-c05f7a24506b",
   "metadata": {},
   "outputs": [
    {
     "data": {
      "image/png": "[encoded data removed]",
      "text/plain": [
       "plot without title"
      ]
     },
     "metadata": {
      "image/png": {
       "height": 420,
       "width": 420
      }
     },
     "output_type": "display_data"
    }
   ],
   "source": [
    "ggplot(M_plot) +\n",
    "aes(x=Diagnosis, y=count, label=label, fill=Diagnosis) +\n",
    "geom_col() +\n",
    "geom_text(position = position_stack(0.5)) +\n",
    "scale_fill_manual(values = c(\"red\", \"green\")) +\n",
    "theme_bw() +\n",
    "labs(title = \"Bar plot of Appendices Diagnosis (target variable)\")"
   ]
  },
  {
   "cell_type": "markdown",
   "id": "c6127712-02cb-4dca-9d7e-9e5dba5c1c00",
   "metadata": {},
   "source": [
    "We see that our data is not unbalanced and it has enough data points for each class."
   ]
  },
  {
   "cell_type": "markdown",
   "id": "564d04d3-9922-45a3-b0a0-e214f8e054b1",
   "metadata": {},
   "source": [
    "**Histogram of Weigth**"
   ]
  },
  {
   "cell_type": "code",
   "execution_count": 11,
   "id": "3dd70bdf-e77c-4c6f-84c0-69900e98a188",
   "metadata": {},
   "outputs": [],
   "source": [
    "#Average of Weigth column\n",
    "avg_mean = mean(na.omit(df_clean$Weight))"
   ]
  },
  {
   "cell_type": "code",
   "execution_count": 12,
   "id": "74cbc8f6-7598-4342-80c7-25d790ec6842",
   "metadata": {},
   "outputs": [
    {
     "name": "stderr",
     "output_type": "stream",
     "text": [
      "Warning message:\n",
      "\"\u001b[1m\u001b[22mUsing `size` aesthetic for lines was deprecated in ggplot2 3.4.0.\n",
      "\u001b[36mℹ\u001b[39m Please use `linewidth` instead.\"\n",
      "Warning message:\n",
      "\"\u001b[1m\u001b[22mRemoved 2 rows containing non-finite values (`stat_bin()`).\"\n"
     ]
    },
    {
     "data": {
      "image/png": "[encoded data removed]",
      "text/plain": [
       "plot without title"
      ]
     },
     "metadata": {
      "image/png": {
       "height": 420,
       "width": 420
      }
     },
     "output_type": "display_data"
    }
   ],
   "source": [
    "ggplot(df_clean) +\n",
    "aes(x = Weight) +\n",
    "geom_histogram(bins = 9, color = \"darkblue\", fill = \"lightblue\") +\n",
    "geom_vline(xintercept=avg_mean, color = \"red\", linetype = \"dashed\", size = 1) +\n",
    "labs(title = \"Histogram of Weigth\") "
   ]
  },
  {
   "cell_type": "markdown",
   "id": "1f154fab-511e-4917-bbed-e302f90525a7",
   "metadata": {},
   "source": [
    "The weight variable has an approximately normal distribution with average around 40. Note that the weigth is in kg and not lb."
   ]
  },
  {
   "cell_type": "markdown",
   "id": "b7d49a78-ca1b-43cf-a295-05cf8a92a88b",
   "metadata": {},
   "source": [
    "**Distribution of Age in two classes of Diagnosis variable**"
   ]
  },
  {
   "cell_type": "code",
   "execution_count": 13,
   "id": "0fdacd11-280f-4631-a644-19a7fba89ce1",
   "metadata": {},
   "outputs": [
    {
     "data": {
      "image/png": "[encoded data removed]",
      "text/plain": [
       "plot without title"
      ]
     },
     "metadata": {
      "image/png": {
       "height": 420,
       "width": 420
      }
     },
     "output_type": "display_data"
    }
   ],
   "source": [
    "ggplot(df_clean) + \n",
    "  aes(x = Diagnosis,y = Age, fill = Diagnosis) +\n",
    "  geom_boxplot() + \n",
    "  theme_bw() + \n",
    "  labs(\n",
    "    title = \"Box-plot of Age (predictor) by Diagnosis (target)\",\n",
    "    ) +\n",
    "  scale_fill_manual(\n",
    "    values = c(\n",
    "      \"blue\",\"purple\"\n",
    "    )\n",
    "  )"
   ]
  },
  {
   "cell_type": "markdown",
   "id": "52d81e53-01ab-451b-9c58-08ce97b76e48",
   "metadata": {},
   "source": [
    "The median of \"no appendicitis\" is slightly higher than \"appendicitis\" but overall they have a similar distribution with medians between 10 and 15."
   ]
  },
  {
   "cell_type": "markdown",
   "id": "e3c21f9f-1100-4929-9f7b-1294da38e3a1",
   "metadata": {},
   "source": [
    "**Correlation matrix and the heat map for numerical variables**"
   ]
  },
  {
   "cell_type": "code",
   "execution_count": 14,
   "id": "1a2ecac7-6d78-402a-9de8-1d1a90385050",
   "metadata": {},
   "outputs": [],
   "source": [
    "library(ggcorrplot)"
   ]
  },
  {
   "cell_type": "code",
   "execution_count": 15,
   "id": "dec631c3-367a-40bd-8805-918faf4f9e1f",
   "metadata": {},
   "outputs": [
    {
     "data": {
      "image/png": "[encoded data removed]",
      "text/plain": [
       "plot without title"
      ]
     },
     "metadata": {
      "image/png": {
       "height": 600,
       "width": 900
      }
     },
     "output_type": "display_data"
    }
   ],
   "source": [
    "#Only selecting the numeric variables to get the correlation matrix\n",
    "options(repr.plot.width = 15, repr.plot.height = 10)\n",
    "\n",
    "numeric_df = select_if(df_clean, is.numeric)\n",
    "cor.mat = cor(na.omit(numeric_df))\n",
    "ggcorrplot(cor.mat,\n",
    "           ggtheme = ggplot2::theme_gray,\n",
    "           colors = c(\"blue\", \"white\", \"#E46726\"), title = \"Heatmap of Numerical Variables\")\n"
   ]
  },
  {
   "cell_type": "markdown",
   "id": "28d0684b-ef91-4351-a5b6-7c6e610fa93c",
   "metadata": {},
   "source": [
    "Between the numerical variables, we observe that Age, Weigth and Heigth are highly correlated (positive). <br>\n",
    "Also Alvarado_Score and Paedriatic_Appendicitis_Score are positively correlated. <br>\n",
    "Rest of the numerical variables are less correlated with each other, so in the next steps we might select one variable from each strongly correlated pairs and exclude the other one for our model."
   ]
  },
  {
   "cell_type": "markdown",
   "id": "3ba26474-579d-4a1d-b320-b3e0c3e1cf63",
   "metadata": {},
   "source": [
    "**2. What statistical model will you use (classification or regression or others)?**"
   ]
  },
  {
   "cell_type": "markdown",
   "id": "b09e70e9-7edd-40ac-b04a-c17414f23101",
   "metadata": {},
   "source": [
    "NA (missing) values in the dataset will be taken care of later. Dealing with missing values is a crucial preprocessing step. Common approaches include imputation (replacing missing values with estimated values) or removal of rows or columns with missing values. <br>\n",
    "\n",
    "We will use classification models to predict the target values. <br>\n",
    "Along the road we can use logistic regression, decision tree classification, random forest and xgboost."
   ]
  },
  {
   "cell_type": "code",
   "execution_count": 16,
   "id": "308ad792-f069-4673-b108-c30493efbf12",
   "metadata": {},
   "outputs": [
    {
     "data": {
      "text/html": [
       "<table class=\"dataframe\">\n",
       "<caption>A tibble: 2 × 1</caption>\n",
       "<thead>\n",
       "\t<tr><th scope=col>Diagnosis</th></tr>\n",
       "\t<tr><th scope=col>&lt;chr&gt;</th></tr>\n",
       "</thead>\n",
       "<tbody>\n",
       "\t<tr><td>appendicitis   </td></tr>\n",
       "\t<tr><td>no appendicitis</td></tr>\n",
       "</tbody>\n",
       "</table>\n"
      ],
      "text/latex": [
       "A tibble: 2 × 1\n",
       "\\begin{tabular}{l}\n",
       " Diagnosis\\\\\n",
       " <chr>\\\\\n",
       "\\hline\n",
       "\t appendicitis   \\\\\n",
       "\t no appendicitis\\\\\n",
       "\\end{tabular}\n"
      ],
      "text/markdown": [
       "\n",
       "A tibble: 2 × 1\n",
       "\n",
       "| Diagnosis &lt;chr&gt; |\n",
       "|---|\n",
       "| appendicitis    |\n",
       "| no appendicitis |\n",
       "\n"
      ],
      "text/plain": [
       "  Diagnosis      \n",
       "1 appendicitis   \n",
       "2 no appendicitis"
      ]
     },
     "metadata": {},
     "output_type": "display_data"
    }
   ],
   "source": [
    "#target column unique values\n",
    "unique(df_clean[, \"Diagnosis\"])"
   ]
  },
  {
   "cell_type": "code",
   "execution_count": null,
   "id": "fcccc403-80e9-46eb-a93e-b69ab10c17ac",
   "metadata": {},
   "outputs": [],
   "source": []
  }
 ],
 "metadata": {
  "kernelspec": {
   "display_name": "R",
   "language": "R",
   "name": "ir"
  },
  "language_info": {
   "codemirror_mode": "r",
   "file_extension": ".r",
   "mimetype": "text/x-r-source",
   "name": "R",
   "pygments_lexer": "r",
   "version": "4.3.2"
  }
 },
 "nbformat": 4,
 "nbformat_minor": 5
}
